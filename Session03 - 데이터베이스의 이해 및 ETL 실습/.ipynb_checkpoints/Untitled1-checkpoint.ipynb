{
 "cells": [
  {
   "cell_type": "markdown",
   "metadata": {},
   "source": [
    "## 1. 라이브러리 선언"
   ]
  },
  {
   "cell_type": "code",
   "execution_count": null,
   "metadata": {},
   "outputs": [],
   "source": [
    "#데이터 조작 라이브러리\n",
    "import pandas as pd\n",
    "\n",
    "import psycopg2\n",
    "from sqlalchemy import create_engine \n",
    "\n",
    "## 2. 데이터 불러오기\n",
    "\n",
    "pwd\n",
    "\n",
    "indata = \\\n",
    "    pd.read_csv(\"../dataset/kopo_decision_tree_all_new.csv\")\n",
    "indata\n",
    "\n",
    "indata.shape   ## indata의 행과 열을 보고싶을 때 사용! \n",
    "\n",
    "## 3. 데이터처리(컬럼 소문자로 변환)\n",
    "\n",
    "indata.columns = indata.columns.str.lower()\n",
    "\n",
    "## 4. 데이터 저장하기\n",
    "\n",
    "targetDbIp = \"192.168.110.111\"\n",
    "targetDbPort = \"5432\"\n",
    "targetDbId = \"kopo\"\n",
    "targetDbPw = \"kopo\"\n",
    "targetDbName = \"kopodb\"\n",
    "\n",
    "targetDbPrefix = \"postgresql://\"\n",
    "\n",
    "targetUrl = \"{0}{1}:{2}@{3}/{4}\".format(targetDbPrefix,\n",
    "                                   targetDbId,\n",
    "                                   targetDbPw,\n",
    "                                   targetDbIp,\n",
    "                                   targetDbName)\n",
    "\n",
    "targetUrl\n",
    "\n",
    "pg_kopo_engine = create_engine(targetUrl)\n",
    "\n",
    "tableName = \"pgout_kpop_jyj\"\n",
    "\n",
    "## tableName = \"pg_result_hk\"\n",
    "\n",
    "indata.to_sql(name=tableName,\n",
    "             con = pg_kopo_engine,\n",
    "             if_exists = \"replace\",\n",
    "             index = False)\n",
    "\n",
    "try:\n",
    "    indata.to_sql(name=tableName,\n",
    "           con= pg_kopo_engine, if_exists=\"replace\", index=False)\n",
    "    print(\"적재 성공\")\n",
    "except Exception as e:\n",
    "    print(e)## con : connection, 연결"
   ]
  },
  {
   "cell_type": "code",
   "execution_count": null,
   "metadata": {},
   "outputs": [],
   "source": []
  },
  {
   "cell_type": "code",
   "execution_count": null,
   "metadata": {},
   "outputs": [],
   "source": []
  },
  {
   "cell_type": "code",
   "execution_count": null,
   "metadata": {},
   "outputs": [],
   "source": []
  },
  {
   "cell_type": "code",
   "execution_count": null,
   "metadata": {},
   "outputs": [],
   "source": [
    "#데이터 조작 라이브러리\n",
    "import pandas as pd\n",
    "\n",
    "import psycopg2\n",
    "from sqlalchemy import create_engine \n",
    "\n",
    "## 2. 데이터 불러오기\n",
    "\n",
    "pwd\n",
    "\n",
    "indata = \\\n",
    "    pd.read_csv(\"../dataset/kopo_decision_tree_all_new.csv\")\n",
    "indata\n",
    "\n",
    "indata.shape   ## indata의 행과 열을 보고싶을 때 사용! \n",
    "\n",
    "## 3. 데이터처리(컬럼 소문자로 변환)\n",
    "\n",
    "indata.columns = indata.columns.str.lower()\n",
    "\n",
    "## 4. 데이터 저장하기\n",
    "\n",
    "targetDbIp = \"192.168.110.111\"\n",
    "targetDbPort = \"5432\"\n",
    "targetDbId = \"kopo\"\n",
    "targetDbPw = \"kopo\"\n",
    "targetDbName = \"kopodb\""
   ]
  },
  {
   "cell_type": "code",
   "execution_count": null,
   "metadata": {},
   "outputs": [],
   "source": [
    "targetDbPrefix = \"postgresql+psycopg2://\""
   ]
  },
  {
   "cell_type": "code",
   "execution_count": null,
   "metadata": {},
   "outputs": [],
   "source": [
    "targetUrl = \"{0}{1}:{2}@{3}/{4}\".format(targetDbPrefix,\n",
    "                                   targetDbId,\n",
    "                                   targetDbPw,\n",
    "                                   targetDbIp,\n",
    "                                   targetDbName)\n",
    "\n",
    "targetUrl\n",
    "\n",
    "pg_kopo_engine = create_engine(targetUrl)\n",
    "\n",
    "tableName = \"pgout_kpop_jyj\"\n",
    "\n",
    "## tableName = \"pg_result_hk\"\n",
    "\n",
    "indata.to_sql(name=tableName,\n",
    "             con = pg_kopo_engine,\n",
    "             if_exists = \"replace\",\n",
    "             index = False)\n",
    "\n",
    "try:\n",
    "    indata.to_sql(name=tableName,\n",
    "           con= pg_kopo_engine, if_exists=\"replace\", index=False)\n",
    "    print(\"적재 성공\")\n",
    "except Exception as e:\n",
    "    print(e)## con : connection, 연결"
   ]
  },
  {
   "cell_type": "code",
   "execution_count": null,
   "metadata": {},
   "outputs": [],
   "source": [
    "pg_kopo_engine = create_engine(targetUrl)\n"
   ]
  },
  {
   "cell_type": "code",
   "execution_count": null,
   "metadata": {},
   "outputs": [],
   "source": [
    "import d6tstack"
   ]
  },
  {
   "cell_type": "code",
   "execution_count": null,
   "metadata": {},
   "outputs": [],
   "source": [
    "indata.to_sql(name=tableName, con=pg_kopo_engine, if_exists=\"replace\", index=False)"
   ]
  },
  {
   "cell_type": "code",
   "execution_count": null,
   "metadata": {},
   "outputs": [],
   "source": [
    "d6tstack.utils.pd_to_psql(df=indata,url=taretUrl, table_name=tableName, if_exists=\"replace\")"
   ]
  },
  {
   "cell_type": "code",
   "execution_count": null,
   "metadata": {},
   "outputs": [],
   "source": []
  },
  {
   "cell_type": "code",
   "execution_count": null,
   "metadata": {},
   "outputs": [],
   "source": []
  },
  {
   "cell_type": "code",
   "execution_count": null,
   "metadata": {},
   "outputs": [],
   "source": []
  },
  {
   "cell_type": "code",
   "execution_count": null,
   "metadata": {},
   "outputs": [],
   "source": []
  },
  {
   "cell_type": "code",
   "execution_count": null,
   "metadata": {},
   "outputs": [],
   "source": []
  }
 ],
 "metadata": {
  "kernelspec": {
   "display_name": "Python 3",
   "language": "python",
   "name": "python3"
  },
  "language_info": {
   "codemirror_mode": {
    "name": "ipython",
    "version": 3
   },
   "file_extension": ".py",
   "mimetype": "text/x-python",
   "name": "python",
   "nbconvert_exporter": "python",
   "pygments_lexer": "ipython3",
   "version": "3.8.5"
  }
 },
 "nbformat": 4,
 "nbformat_minor": 4
}

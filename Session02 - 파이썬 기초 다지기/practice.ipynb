{
 "cells": [
  {
   "cell_type": "code",
   "execution_count": 16,
   "metadata": {},
   "outputs": [],
   "source": [
    "# 문자열 생성\n",
    "targetValue = \"Sceyeosijje 203418W216842148 24568456168450\"\n",
    "\n",
    "# 대문자 변환\n",
    "targetValue = targetValue.upper()\n",
    "\n",
    "delimeter = \" \"\n",
    "delchar = \"W\"\n",
    "\n",
    "delimeterIndex = targetValue.index(delimeter)\n",
    "delimeterIndex \n",
    "\n",
    "stock_name = targetValue[:delimeterIndex]\n",
    "stock_name\n",
    "\n",
    "leftedValue = targetValue[delimeterIndex+1:]\n",
    "leftedValue\n",
    "\n",
    "leftedValue = leftedValue.replace(delchar,\"\")\n",
    "leftedValue\n",
    "\n",
    "delimeterIndex2 = leftedValue.index(delimeter)\n",
    "delimeterIndex2\n",
    "\n",
    "date = leftedValue[:delimeterIndex2]\n",
    "date\n",
    "\n",
    "value = leftedValue[delimeterIndex2:]\n",
    "value"
   ]
  },
  {
   "cell_type": "code",
   "execution_count": null,
   "metadata": {},
   "outputs": [],
   "source": []
  },
  {
   "cell_type": "code",
   "execution_count": null,
   "metadata": {},
   "outputs": [],
   "source": []
  },
  {
   "cell_type": "code",
   "execution_count": null,
   "metadata": {},
   "outputs": [],
   "source": []
  },
  {
   "cell_type": "code",
   "execution_count": null,
   "metadata": {},
   "outputs": [],
   "source": []
  },
  {
   "cell_type": "code",
   "execution_count": null,
   "metadata": {},
   "outputs": [],
   "source": []
  },
  {
   "cell_type": "code",
   "execution_count": 1,
   "metadata": {},
   "outputs": [],
   "source": [
    "sumList=[1,2,3,4,5]"
   ]
  },
  {
   "cell_type": "code",
   "execution_count": null,
   "metadata": {},
   "outputs": [],
   "source": [
    "sum = "
   ]
  },
  {
   "cell_type": "code",
   "execution_count": null,
   "metadata": {},
   "outputs": [],
   "source": []
  },
  {
   "cell_type": "code",
   "execution_count": 1,
   "metadata": {},
   "outputs": [],
   "source": [
    "from isoweek import Week"
   ]
  },
  {
   "cell_type": "code",
   "execution_count": 1,
   "metadata": {},
   "outputs": [],
   "source": [
    "def pastWeek2(inputYearWeek,minusWeek):\n",
    "\n",
    "    from isoweek import Week\n",
    "\n",
    "\n",
    "\n",
    "\n",
    "    # # 디버깅 코드.\n",
    "    # inputYear = 2021\n",
    "    # inputWeek = 15\n",
    "    # minusWeek = 67\n",
    "    yearWeek = Week.last_week_of_year(inputYear).week\n",
    "    #print(yearWeek)\n",
    "\n",
    "\n",
    "    if inputWeek<=yearWeek:\n",
    "\n",
    "        # inputWeek < minusWeek 일 때\n",
    "        # 2020년의 15주차에서, 70주차를 빼보자\n",
    "\n",
    "        JudgeWeek = minusWeek - inputWeek\n",
    "\n",
    "        if JudgeWeek < 0:\n",
    "                print(inputYear)\n",
    "                print(inputWeek - minusWeek)\n",
    "\n",
    "        ## judgeWeek = 0 일 때.\n",
    "\n",
    "        elif inputWeek == minusWeek:\n",
    "                print(inputYear-1)\n",
    "                print(Week.last_week_of_year(inputYear-1).week)\n",
    "\n",
    "        elif JudgeWeek > 0:\n",
    "\n",
    "            for i in range (1, inputYear):\n",
    "\n",
    "                calcYear = inputYear - i\n",
    "                calcWeek = Week.last_week_of_year(inputYear-i).week\n",
    "                if JudgeWeek > calcWeek:\n",
    "\n",
    "                    JudgeWeek = JudgeWeek - calcWeek\n",
    "\n",
    "\n",
    "                elif JudgeWeek < calcWeek: \n",
    "\n",
    "                    print(calcWeek - JudgeWeek), print(calcYear)\n",
    "                    break;\n",
    "\n",
    "                elif JudgeWeek == calcWeek:\n",
    "                    print(inputYear-(i+1))\n",
    "                    print(Week.last_week_of_year(inputYear-(i+1)).week)\n",
    "                    break;\n",
    "\n",
    "\n",
    "\n",
    "    else: print('해당 연도의 총 주차 = ', yearWeek,'\\ninputWeek 입력값이 해당 연도의 최대 주차를 넘었습니다')\n",
    "           "
   ]
  },
  {
   "cell_type": "code",
   "execution_count": 14,
   "metadata": {},
   "outputs": [
    {
     "name": "stdout",
     "output_type": "stream",
     "text": [
      "31\n",
      "2015\n"
     ]
    }
   ],
   "source": [
    "pastWeek2(2017,26,100)"
   ]
  },
  {
   "cell_type": "code",
   "execution_count": null,
   "metadata": {},
   "outputs": [],
   "source": []
  }
 ],
 "metadata": {
  "kernelspec": {
   "display_name": "Python 3",
   "language": "python",
   "name": "python3"
  },
  "language_info": {
   "codemirror_mode": {
    "name": "ipython",
    "version": 3
   },
   "file_extension": ".py",
   "mimetype": "text/x-python",
   "name": "python",
   "nbconvert_exporter": "python",
   "pygments_lexer": "ipython3",
   "version": "3.8.5"
  }
 },
 "nbformat": 4,
 "nbformat_minor": 4
}

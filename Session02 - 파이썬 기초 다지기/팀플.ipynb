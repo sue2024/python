{
 "cells": [
  {
   "cell_type": "code",
   "execution_count": null,
   "metadata": {},
   "outputs": [],
   "source": [
    "from isoweek import Week\n",
    "\n",
    "def preWeek(yearWeek, inputWeeks):\n",
    "    yearWeek = str(yearWeek)  \n",
    "    inputWeeks = int(inputWeeks)  \n",
    "\n",
    "    # 문자열 yearWeek를 split (year, week)\n",
    "    year = int(yearWeek[:4])   \n",
    "    week = int(yearWeek[4:])   \n",
    "\n",
    "    # inputWeeks가 week보다 클때 전년도로 넘어가서 전년도 week수를 더함\n",
    "    # (week가 inputWeeks보다 커질때까지 계속 while문 반복)\n",
    "    if week <= inputWeeks:\n",
    "        while (week <= inputWeeks):\n",
    "            week = week +  Week.last_week_of_year(year - 1).week\n",
    "            year = year - 1;\n",
    "        week = week - inputWeeks\n",
    "        \n",
    "    else :\n",
    "        week = week - inputWeeks;\n",
    "\n",
    "    # week값이 10미만일 경우 앞에 문자\"0\"을 추가함    \n",
    "    if (week < 10):\n",
    "        week = str(week)\n",
    "        week = \"0\" + week\n",
    "\n",
    "    print(str(year) + str(week))"
   ]
  }
 ],
 "metadata": {
  "kernelspec": {
   "display_name": "Python 3",
   "language": "python",
   "name": "python3"
  },
  "language_info": {
   "codemirror_mode": {
    "name": "ipython",
    "version": 3
   },
   "file_extension": ".py",
   "mimetype": "text/x-python",
   "name": "python",
   "nbconvert_exporter": "python",
   "pygments_lexer": "ipython3",
   "version": "3.8.5"
  }
 },
 "nbformat": 4,
 "nbformat_minor": 4
}

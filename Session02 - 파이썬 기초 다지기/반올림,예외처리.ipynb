{
 "cells": [
  {
   "cell_type": "code",
   "execution_count": 1,
   "metadata": {},
   "outputs": [],
   "source": [
    "a = 10\n",
    "b = 5.3"
   ]
  },
  {
   "cell_type": "code",
   "execution_count": 2,
   "metadata": {},
   "outputs": [],
   "source": [
    "revenue = a/b"
   ]
  },
  {
   "cell_type": "code",
   "execution_count": 3,
   "metadata": {},
   "outputs": [
    {
     "data": {
      "text/plain": [
       "1.8867924528301887"
      ]
     },
     "execution_count": 3,
     "metadata": {},
     "output_type": "execute_result"
    }
   ],
   "source": [
    "revenue"
   ]
  },
  {
   "cell_type": "markdown",
   "metadata": {},
   "source": [
    "##미션 소수점 둘째자리 반올림"
   ]
  },
  {
   "cell_type": "code",
   "execution_count": 29,
   "metadata": {},
   "outputs": [],
   "source": [
    "def roundFunction(inValue):\n",
    "    #step 1: 입력받은 데이터를 반올림 자리수만큼 곱해준다\n",
    "    #함수를 개발하기위한 디버깅코드\n",
    "    #inValue = 1.893430903490\n",
    "\n",
    "    step1 = inValue * 100\n",
    "\n",
    "    #step 2: 곱해준 결과에 0.5를 더한 후 소수점 이하 버림\n",
    "\n",
    "    step2 = int(step1 + 0.5)\n",
    "\n",
    "    #step 3 : 100으로 나눠준다\n",
    "\n",
    "    step3 = step2 / 100\n",
    "    outValue = step3\n",
    "\n",
    "    return outValue"
   ]
  },
  {
   "cell_type": "code",
   "execution_count": 30,
   "metadata": {},
   "outputs": [
    {
     "data": {
      "text/plain": [
       "1.89"
      ]
     },
     "execution_count": 30,
     "metadata": {},
     "output_type": "execute_result"
    }
   ],
   "source": [
    "outValue"
   ]
  },
  {
   "cell_type": "code",
   "execution_count": 31,
   "metadata": {},
   "outputs": [],
   "source": [
    "revenue = 1.4224334"
   ]
  },
  {
   "cell_type": "code",
   "execution_count": 38,
   "metadata": {},
   "outputs": [],
   "source": [
    "aa =roundFunction(revenue)"
   ]
  },
  {
   "cell_type": "code",
   "execution_count": 33,
   "metadata": {},
   "outputs": [
    {
     "data": {
      "text/plain": [
       "1.42"
      ]
     },
     "execution_count": 33,
     "metadata": {},
     "output_type": "execute_result"
    }
   ],
   "source": []
  },
  {
   "cell_type": "code",
   "execution_count": 35,
   "metadata": {},
   "outputs": [],
   "source": [
    "accuracy = 89.1232423"
   ]
  },
  {
   "cell_type": "code",
   "execution_count": 36,
   "metadata": {},
   "outputs": [
    {
     "data": {
      "text/plain": [
       "89.12"
      ]
     },
     "execution_count": 36,
     "metadata": {},
     "output_type": "execute_result"
    }
   ],
   "source": [
    "bb=roundFunction(accuracy)"
   ]
  },
  {
   "cell_type": "code",
   "execution_count": null,
   "metadata": {},
   "outputs": [],
   "source": []
  },
  {
   "cell_type": "code",
   "execution_count": null,
   "metadata": {},
   "outputs": [],
   "source": []
  },
  {
   "cell_type": "code",
   "execution_count": 39,
   "metadata": {},
   "outputs": [],
   "source": [
    "glovalMeanValue = 0.0\n"
   ]
  },
  {
   "cell_type": "code",
   "execution_count": 41,
   "metadata": {},
   "outputs": [
    {
     "ename": "IndentationError",
     "evalue": "unexpected indent (<ipython-input-41-d924a2cfd0f4>, line 7)",
     "output_type": "error",
     "traceback": [
      "\u001b[1;36m  File \u001b[1;32m\"<ipython-input-41-d924a2cfd0f4>\"\u001b[1;36m, line \u001b[1;32m7\u001b[0m\n\u001b[1;33m    if inValue2 != 0:\u001b[0m\n\u001b[1;37m    ^\u001b[0m\n\u001b[1;31mIndentationError\u001b[0m\u001b[1;31m:\u001b[0m unexpected indent\n"
     ]
    }
   ],
   "source": [
    "def simpleFunction(inValue1,inValue2):\n",
    "    localValue = 0.0\n",
    "#inValue1 = 0.5\n",
    "#inValue2 = 0.3\n",
    "defaultValue = localValue \n",
    "#분모가 0인경우 기본값 1\n",
    "    if inValue2 != 0:\n",
    "        meanValue = inValue1 / inValue2\n",
    "    else:\n",
    "        meanValue = localValue\n",
    "    outValue = meantValue\n",
    "    outValue\n"
   ]
  },
  {
   "cell_type": "code",
   "execution_count": null,
   "metadata": {},
   "outputs": [],
   "source": [
    "simpleFunction(5,0)"
   ]
  },
  {
   "cell_type": "code",
   "execution_count": null,
   "metadata": {},
   "outputs": [],
   "source": []
  },
  {
   "cell_type": "code",
   "execution_count": null,
   "metadata": {},
   "outputs": [],
   "source": []
  },
  {
   "cell_type": "code",
   "execution_count": null,
   "metadata": {},
   "outputs": [],
   "source": []
  },
  {
   "cell_type": "code",
   "execution_count": 23,
   "metadata": {},
   "outputs": [],
   "source": []
  },
  {
   "cell_type": "code",
   "execution_count": null,
   "metadata": {},
   "outputs": [],
   "source": []
  },
  {
   "cell_type": "code",
   "execution_count": 50,
   "metadata": {},
   "outputs": [
    {
     "ename": "SyntaxError",
     "evalue": "unexpected EOF while parsing (<ipython-input-50-5eca7c4cd9ac>, line 1)",
     "output_type": "error",
     "traceback": [
      "\u001b[1;36m  File \u001b[1;32m\"<ipython-input-50-5eca7c4cd9ac>\"\u001b[1;36m, line \u001b[1;32m1\u001b[0m\n\u001b[1;33m    def roundFunction(inValue,option):\u001b[0m\n\u001b[1;37m                                      ^\u001b[0m\n\u001b[1;31mSyntaxError\u001b[0m\u001b[1;31m:\u001b[0m unexpected EOF while parsing\n"
     ]
    }
   ],
   "source": [
    "def roundFunction(inValue,option):"
   ]
  },
  {
   "cell_type": "code",
   "execution_count": 108,
   "metadata": {},
   "outputs": [],
   "source": [
    "inValue = 1.23243"
   ]
  },
  {
   "cell_type": "code",
   "execution_count": 109,
   "metadata": {},
   "outputs": [],
   "source": [
    "#step 1: 입력받은 데이터를 반올림 자리수만큼 곱해준다\n",
    "#사용자가 입력한 만큼 반올림 하기위해 10의 option승만큼 곱함\n",
    "step1 = inValue * (10)"
   ]
  },
  {
   "cell_type": "code",
   "execution_count": 110,
   "metadata": {},
   "outputs": [
    {
     "data": {
      "text/plain": [
       "12.3243"
      ]
     },
     "execution_count": 110,
     "metadata": {},
     "output_type": "execute_result"
    }
   ],
   "source": [
    "step1"
   ]
  },
  {
   "cell_type": "code",
   "execution_count": 111,
   "metadata": {},
   "outputs": [
    {
     "data": {
      "text/plain": [
       "1.2"
      ]
     },
     "execution_count": 111,
     "metadata": {},
     "output_type": "execute_result"
    }
   ],
   "source": [
    "#step 2: 곱해준 결과에 0.5를 더한 후 소수점 이하 버림\n",
    "step2 = int(step1 + 0.5)\n",
    "\n",
    "#step 3 :10의 option승으로 나눠준다승으로 나눠준다\n",
    "step3 = step2 / (10)\n",
    "outValue = step3\n",
    "\n",
    "outValue"
   ]
  },
  {
   "cell_type": "code",
   "execution_count": null,
   "metadata": {},
   "outputs": [],
   "source": []
  },
  {
   "cell_type": "code",
   "execution_count": null,
   "metadata": {},
   "outputs": [],
   "source": []
  },
  {
   "cell_type": "code",
   "execution_count": null,
   "metadata": {},
   "outputs": [],
   "source": [
    "함수 입력변수에 따라 소수점 2자리수, 3자리 등의 반올림\n",
    "이 가능하도록 함수를 구현하세요\n",
    "(예: roundFunction(12.2225,3) -> 3번째자리 반올림)"
   ]
  },
  {
   "cell_type": "code",
   "execution_count": 56,
   "metadata": {},
   "outputs": [
    {
     "data": {
      "text/plain": [
       "1.23"
      ]
     },
     "execution_count": 56,
     "metadata": {},
     "output_type": "execute_result"
    }
   ],
   "source": [
    "\n",
    "def roundOpotion(inValue,optionValue):\n",
    "    #step 1: 입력받은 데이터를 반올림 자리수만큼 곱해준다\n",
    "    #함수를 개발하기위한 디버깅코드\n",
    "    #inValue = 1.893430903490\n",
    "    #optionValue\n",
    "inValue = 1.225\n",
    "optionValue = 1\n",
    "step1 = inValue * 10**optionValue\n",
    "\n",
    "#step 2: 곱해준 결과에 0.5를 더한 후 소수점 이하 버림\n",
    "step2 = int(step1 + 0.5)\n",
    "\n",
    "#step 3 : 100으로 나눠준다\n",
    "step3 = step2 / 10 **optionValue\n",
    "outValue = step3\n",
    "\n",
    "outValue"
   ]
  },
  {
   "cell_type": "code",
   "execution_count": null,
   "metadata": {},
   "outputs": [],
   "source": []
  },
  {
   "cell_type": "code",
   "execution_count": null,
   "metadata": {},
   "outputs": [],
   "source": []
  },
  {
   "cell_type": "code",
   "execution_count": null,
   "metadata": {},
   "outputs": [],
   "source": []
  },
  {
   "cell_type": "code",
   "execution_count": 88,
   "metadata": {},
   "outputs": [],
   "source": [
    "mergedSet = []"
   ]
  },
  {
   "cell_type": "code",
   "execution_count": 89,
   "metadata": {},
   "outputs": [],
   "source": [
    "import pandas as pd"
   ]
  },
  {
   "cell_type": "code",
   "execution_count": 90,
   "metadata": {},
   "outputs": [],
   "source": [
    "for i in range(1,4):\n",
    "    try:  ##예외가 발생가능한 코드\n",
    "        mergedSet.append(pd.read_csv(\"./a\"+str(i)+\".txt\"))  \n",
    "        \n",
    "    except Exception as e:\n",
    "        print(\"./a\"+str(i)+\".txt\") ## 예외가 발생해서 출력된 코드"
   ]
  },
  {
   "cell_type": "code",
   "execution_count": 91,
   "metadata": {},
   "outputs": [
    {
     "data": {
      "text/html": [
       "<div>\n",
       "<style scoped>\n",
       "    .dataframe tbody tr th:only-of-type {\n",
       "        vertical-align: middle;\n",
       "    }\n",
       "\n",
       "    .dataframe tbody tr th {\n",
       "        vertical-align: top;\n",
       "    }\n",
       "\n",
       "    .dataframe thead th {\n",
       "        text-align: right;\n",
       "    }\n",
       "</style>\n",
       "<table border=\"1\" class=\"dataframe\">\n",
       "  <thead>\n",
       "    <tr style=\"text-align: right;\">\n",
       "      <th></th>\n",
       "      <th>a</th>\n",
       "      <th>b</th>\n",
       "      <th>c</th>\n",
       "      <th>5</th>\n",
       "      <th>7</th>\n",
       "    </tr>\n",
       "  </thead>\n",
       "  <tbody>\n",
       "    <tr>\n",
       "      <th>0</th>\n",
       "      <td>1</td>\n",
       "      <td>2</td>\n",
       "      <td>NaN</td>\n",
       "      <td>NaN</td>\n",
       "      <td>NaN</td>\n",
       "    </tr>\n",
       "  </tbody>\n",
       "</table>\n",
       "</div>"
      ],
      "text/plain": [
       "   a  b   c   5   7\n",
       "0  1  2 NaN NaN NaN"
      ]
     },
     "execution_count": 91,
     "metadata": {},
     "output_type": "execute_result"
    }
   ],
   "source": [
    "mergedSet[1]"
   ]
  },
  {
   "cell_type": "code",
   "execution_count": null,
   "metadata": {},
   "outputs": [],
   "source": []
  },
  {
   "cell_type": "code",
   "execution_count": null,
   "metadata": {},
   "outputs": [],
   "source": []
  },
  {
   "cell_type": "code",
   "execution_count": null,
   "metadata": {},
   "outputs": [],
   "source": []
  },
  {
   "cell_type": "code",
   "execution_count": 112,
   "metadata": {},
   "outputs": [],
   "source": [
    "totalList = [\"1\",\"2\",\"3\",\"4\",\"5\"]"
   ]
  },
  {
   "cell_type": "code",
   "execution_count": null,
   "metadata": {},
   "outputs": [],
   "source": [
    "Sum = 0"
   ]
  },
  {
   "cell_type": "code",
   "execution_count": null,
   "metadata": {},
   "outputs": [],
   "source": [
    "for i in range(0,len(tatalList):"
   ]
  },
  {
   "cell_type": "code",
   "execution_count": null,
   "metadata": {},
   "outputs": [],
   "source": []
  },
  {
   "cell_type": "code",
   "execution_count": null,
   "metadata": {},
   "outputs": [],
   "source": []
  },
  {
   "cell_type": "code",
   "execution_count": null,
   "metadata": {},
   "outputs": [],
   "source": []
  },
  {
   "cell_type": "code",
   "execution_count": 125,
   "metadata": {},
   "outputs": [],
   "source": [
    "tvList = [\"LEDTV_UN40EN001\", \"LEDTV_UN40EN002\", \"LEDTV_UN40EN003\"]\n",
    "mobileList = [\"G3_MO001\", \"G3_MO002\",\"G3_MO003\"]\n",
    "speakerList = [\"BL_SP001\", \"BL_SP002\", \"BL_SP003\"]\n",
    "productList = [tvList, mobileList, speakerList]"
   ]
  },
  {
   "cell_type": "markdown",
   "metadata": {},
   "source": [
    "mobileList = [\"G3_MO001\", \"G3_MO002\",\"G3_MO003\"]\n",
    "모바일리스트에서 003이 포함되면 출력하지 않는다~"
   ]
  },
  {
   "cell_type": "code",
   "execution_count": 163,
   "metadata": {},
   "outputs": [
    {
     "name": "stdout",
     "output_type": "stream",
     "text": [
      "G3_MO003\n",
      "G3_MO003\n",
      "G3_MO003\n"
     ]
    }
   ],
   "source": [
    "for i in range(0, len(mobileList)):\n",
    "#     slslsls\n",
    "    print(eachItem)"
   ]
  },
  {
   "cell_type": "code",
   "execution_count": 171,
   "metadata": {},
   "outputs": [
    {
     "name": "stdout",
     "output_type": "stream",
     "text": [
      "LEDTV_UN40EN001\n",
      "LEDTV_UN40EN002\n",
      "G3_MO001\n",
      "G3_MO002\n",
      "BL_SP001\n",
      "BL_SP002\n"
     ]
    }
   ],
   "source": [
    "for eachProduct in range(0, len(productList)):\n",
    "\n",
    "    mobileList = productList[eachProduct]\n",
    "\n",
    "    for i in range(0, len(mobileList)):\n",
    "\n",
    "        eachItem = mobileList[i]\n",
    "        each\n",
    "\n",
    "        exceptTag = \"003\"\n",
    "\n",
    "        if eachItem[-3:]==exceptTag:\n",
    "            pass\n",
    "        else:\n",
    "            print(eachItem)"
   ]
  },
  {
   "cell_type": "code",
   "execution_count": 172,
   "metadata": {},
   "outputs": [],
   "source": [
    "mobileList = productList[0]"
   ]
  },
  {
   "cell_type": "code",
   "execution_count": 173,
   "metadata": {},
   "outputs": [
    {
     "data": {
      "text/plain": [
       "['LEDTV_UN40EN001', 'LEDTV_UN40EN002', 'LEDTV_UN40EN003']"
      ]
     },
     "execution_count": 173,
     "metadata": {},
     "output_type": "execute_result"
    }
   ],
   "source": [
    "mobileList"
   ]
  },
  {
   "cell_type": "code",
   "execution_count": 174,
   "metadata": {},
   "outputs": [
    {
     "name": "stdout",
     "output_type": "stream",
     "text": [
      "LEDTV_UN40EN001\n",
      "LEDTV_UN40EN002\n"
     ]
    }
   ],
   "source": [
    "for i in range(0, len(mobileList)):\n",
    "\n",
    "    # 몹\n",
    "    eachItem = mobileList[i]\n",
    "    eachItem\n",
    "\n",
    "    exceptTag = \"003\"\n",
    "\n",
    "    if eachItem[-3:]==exceptTag:\n",
    "        pass\n",
    "    else:\n",
    "        print(eachItem)"
   ]
  },
  {
   "cell_type": "code",
   "execution_count": 207,
   "metadata": {},
   "outputs": [],
   "source": [
    "eachItem = productList"
   ]
  },
  {
   "cell_type": "code",
   "execution_count": null,
   "metadata": {},
   "outputs": [],
   "source": []
  },
  {
   "cell_type": "code",
   "execution_count": 198,
   "metadata": {},
   "outputs": [
    {
     "name": "stdout",
     "output_type": "stream",
     "text": [
      "LEDTV_UN40EN001\n",
      "LEDTV_UN40EN002\n",
      "LEDTV_UN40EN003\n",
      "G3_MO001\n",
      "G3_MO002\n",
      "BL_SP001\n",
      "BL_SP002\n"
     ]
    }
   ],
   "source": [
    "for j in range(0, len(productList)):\n",
    "\n",
    "    mobileList = productList[j]\n",
    "\n",
    "    for i in range(0, len(mobileList)):\n",
    "\n",
    "        eachItem = mobileList[i]\n",
    "\n",
    "        inTag = \"LEDTV_\"\n",
    "        inTagCount = eachItem.count(inTag)\n",
    "\n",
    "        if inTagCount >= 1:\n",
    "            print(eachItem)\n",
    "            continue\n",
    "\n",
    "        exceptTag = \"003\"\n",
    "        exceptTagCount = eachItem.count(exceptTag)\n",
    "\n",
    "        # except 태그(\"003\") 이 모델코드 안에 1개 이상 존재 시 출력 안함\n",
    "        if exceptTagCount >= 1:\n",
    "            pass\n",
    "        # 그외에는 출력\n",
    "        else:\n",
    "            print(eachItem)"
   ]
  },
  {
   "cell_type": "code",
   "execution_count": null,
   "metadata": {},
   "outputs": [],
   "source": []
  },
  {
   "cell_type": "code",
   "execution_count": 203,
   "metadata": {},
   "outputs": [],
   "source": [
    "mobileList = productList[2]"
   ]
  },
  {
   "cell_type": "code",
   "execution_count": 204,
   "metadata": {},
   "outputs": [
    {
     "name": "stdout",
     "output_type": "stream",
     "text": [
      "BL_SP001\n",
      "BL_SP002\n"
     ]
    }
   ],
   "source": [
    "for i in range(0, len(mobileList)):\n",
    "\n",
    "    eachItem = mobileList[i]\n",
    "\n",
    "    inTag = \"LEDTV_\"\n",
    "    inTagCount = eachItem.count(inTag)\n",
    "\n",
    "    if inTagCount >= 1:\n",
    "        print(eachItem)\n",
    "        continue\n",
    "\n",
    "    exceptTag = \"003\"\n",
    "    exceptTagCount = eachItem.count(exceptTag)\n",
    "\n",
    "    # except 태그(\"003\") 이 모델코드 안에 1개 이상 존재 시 출력 안함\n",
    "    if exceptTagCount >= 1:\n",
    "        pass\n",
    "    # 그외에는 출력\n",
    "    else:\n",
    "        print(eachItem)"
   ]
  },
  {
   "cell_type": "code",
   "execution_count": null,
   "metadata": {},
   "outputs": [],
   "source": []
  },
  {
   "cell_type": "code",
   "execution_count": null,
   "metadata": {},
   "outputs": [],
   "source": []
  },
  {
   "cell_type": "code",
   "execution_count": null,
   "metadata": {},
   "outputs": [],
   "source": []
  },
  {
   "cell_type": "code",
   "execution_count": null,
   "metadata": {},
   "outputs": [],
   "source": []
  },
  {
   "cell_type": "code",
   "execution_count": null,
   "metadata": {},
   "outputs": [],
   "source": []
  },
  {
   "cell_type": "code",
   "execution_count": null,
   "metadata": {},
   "outputs": [],
   "source": []
  },
  {
   "cell_type": "code",
   "execution_count": null,
   "metadata": {},
   "outputs": [],
   "source": []
  },
  {
   "cell_type": "code",
   "execution_count": null,
   "metadata": {},
   "outputs": [],
   "source": []
  },
  {
   "cell_type": "code",
   "execution_count": null,
   "metadata": {},
   "outputs": [],
   "source": [
    "for j in range(0, len(productList)):\n",
    "\n",
    "    totalList = productList[j]\n",
    "\n",
    "    for i in range(0, len(mobileList)):\n",
    "\n",
    "        eachItem = mobileList[i]\n",
    "\n",
    "#         inTag = \"LEDTV_\"\n",
    "#         inTagCount = eachItem.count(inTag)\n",
    "\n",
    "#         if inTagCount >= 1:\n",
    "#             print(eachItem)\n",
    "#             continue\n",
    "\n",
    "        exceptTag = \"003\"\n",
    "        exceptTagCount = eachItem.count(exceptTag)\n",
    "\n",
    "        # except 태그(\"003\") 이 모델코드 안에 1개 이상 존재 시 출력 안함\n",
    "        if exceptTagCount >= 1:\n",
    "            pass\n",
    "        # 그외에는 출력\n",
    "        else:\n",
    "            print(eachItem)"
   ]
  },
  {
   "cell_type": "code",
   "execution_count": null,
   "metadata": {},
   "outputs": [],
   "source": []
  },
  {
   "cell_type": "code",
   "execution_count": null,
   "metadata": {},
   "outputs": [],
   "source": []
  },
  {
   "cell_type": "code",
   "execution_count": null,
   "metadata": {},
   "outputs": [],
   "source": []
  },
  {
   "cell_type": "code",
   "execution_count": null,
   "metadata": {},
   "outputs": [],
   "source": []
  },
  {
   "cell_type": "code",
   "execution_count": null,
   "metadata": {},
   "outputs": [],
   "source": []
  },
  {
   "cell_type": "code",
   "execution_count": null,
   "metadata": {},
   "outputs": [],
   "source": []
  },
  {
   "cell_type": "code",
   "execution_count": null,
   "metadata": {},
   "outputs": [],
   "source": []
  },
  {
   "cell_type": "code",
   "execution_count": null,
   "metadata": {},
   "outputs": [],
   "source": []
  }
 ],
 "metadata": {
  "kernelspec": {
   "display_name": "Python 3",
   "language": "python",
   "name": "python3"
  },
  "language_info": {
   "codemirror_mode": {
    "name": "ipython",
    "version": 3
   },
   "file_extension": ".py",
   "mimetype": "text/x-python",
   "name": "python",
   "nbconvert_exporter": "python",
   "pygments_lexer": "ipython3",
   "version": "3.8.5"
  }
 },
 "nbformat": 4,
 "nbformat_minor": 4
}

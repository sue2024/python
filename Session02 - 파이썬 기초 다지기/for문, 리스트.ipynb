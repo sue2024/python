{
 "cells": [
  {
   "cell_type": "code",
   "execution_count": 75,
   "metadata": {},
   "outputs": [
    {
     "name": "stdout",
     "output_type": "stream",
     "text": [
      "35248.91490376756\n"
     ]
    }
   ],
   "source": [
    "import pandas as pd\n",
    "\n",
    "customerData = pd.read_csv(\"../dataset/kopo_customerdata.csv\")\n",
    "\n",
    "customerTotalList = customerData[\"TOTAL_AMOUNT\"].tolist()\n",
    "\n",
    "#리스트 생성\n",
    "customerTotalList\n",
    "\n",
    "#오름차순 정렬\n",
    "customerTotalList.sort()\n",
    "\n",
    "#최솟값 최댓값 생성\n",
    "minvalue = min(customerTotalList)\n",
    "maxvalue = max(customerTotalList)\n",
    "\n",
    "#최솟값 최댓값 갯수\n",
    "countmin = customerTotalList.count(minvalue)\n",
    "countmax = customerTotalList.count(maxvalue)\n",
    "\n",
    "#새로운리스트생성\n",
    "newList = customerTotalList[countmin:-countmax]\n",
    "\n",
    "#새로운 리스트의 합, 길이 구하기\n",
    "sumvalue = sum(newList)\n",
    "lenvalue = len(newList)\n",
    "\n",
    "#평균 구하기\n",
    "avarage = sumvalue / lenvalue\n",
    "\n",
    "# 평균 출력\n",
    "print(avarage)\n"
   ]
  },
  {
   "cell_type": "code",
   "execution_count": null,
   "metadata": {},
   "outputs": [],
   "source": []
  },
  {
   "cell_type": "code",
   "execution_count": null,
   "metadata": {},
   "outputs": [],
   "source": []
  },
  {
   "cell_type": "code",
   "execution_count": null,
   "metadata": {},
   "outputs": [],
   "source": []
  },
  {
   "cell_type": "code",
   "execution_count": null,
   "metadata": {},
   "outputs": [],
   "source": []
  },
  {
   "cell_type": "markdown",
   "metadata": {},
   "source": [
    "## customer data amout_price 최소 최대값을 뺀 평균을 구한다. "
   ]
  },
  {
   "cell_type": "code",
   "execution_count": 74,
   "metadata": {},
   "outputs": [
    {
     "name": "stdout",
     "output_type": "stream",
     "text": [
      "35248.91490376756\n"
     ]
    }
   ],
   "source": [
    "import pandas as pd\n",
    "\n",
    "customerData = pd.read_csv(\"../dataset/kopo_customerdata.csv\")\n",
    "\n",
    "customerTotalList = customerData[\"TOTAL_AMOUNT\"].tolist()\n",
    "\n",
    "#리스트 생성\n",
    "customerTotalList\n",
    "\n",
    "#오름차순 정렬\n",
    "customerTotalList.sort()\n",
    "\n",
    "#최솟값 최댓값 생성\n",
    "minvalue = min(customerTotalList)\n",
    "maxvalue = max(customerTotalList)\n",
    "\n",
    "#최솟값 최댓값 갯수 산출\n",
    "countmin = customerTotalList.count(minvalue)\n",
    "countmax = customerTotalList.count(maxvalue)\n",
    "\n",
    "\n",
    "#개수 전체 합 구하기\n",
    "lenvalue = len(customerTotalList) - countmin - countmax\n",
    "sumvalue = sum(customerTotalList) - (countmin * minvalue) - (countmax * maxvalue)\n",
    "\n",
    "\n",
    "#평균 구하기\n",
    "avarage = sumvalue / lenvalue\n",
    "\n",
    "#평균 출력\n",
    "print(avarage)"
   ]
  },
  {
   "cell_type": "code",
   "execution_count": null,
   "metadata": {},
   "outputs": [],
   "source": []
  },
  {
   "cell_type": "code",
   "execution_count": null,
   "metadata": {},
   "outputs": [],
   "source": []
  },
  {
   "cell_type": "code",
   "execution_count": 85,
   "metadata": {},
   "outputs": [
    {
     "data": {
      "text/plain": [
       "['LED_TVUN001', 'LED_TVUN002', 'LED_TVUN003', 'LED_TVUN004']"
      ]
     },
     "execution_count": 85,
     "metadata": {},
     "output_type": "execute_result"
    }
   ],
   "source": [
    "#for문 이용\n",
    "\n",
    "##미션1. 모든 데이터에 \"LEDTV\" 집어넣어라\n",
    "\n",
    "targetList = [\"UN001\",\"UN002\",\"UN003\",\"UN004\"]\n",
    "\n",
    "preFix = \"LED_TV\"\n",
    "\n",
    "#list(range(0,4,2))-----> 0부터 4까지 2씩만 선언하겠다 \n",
    "\n",
    "targetListLen = len(targetList)\n",
    "\n",
    "for i in range(0,targetListLen):\n",
    "    targetList[i] = preFix + targetList[i]\n",
    "\n",
    "targetList"
   ]
  },
  {
   "cell_type": "code",
   "execution_count": null,
   "metadata": {},
   "outputs": [],
   "source": [
    "#targetListLen=len(targetList)"
   ]
  },
  {
   "cell_type": "code",
   "execution_count": 60,
   "metadata": {},
   "outputs": [
    {
     "ename": "SyntaxError",
     "evalue": "invalid syntax (<ipython-input-60-fc4982d7d675>, line 4)",
     "output_type": "error",
     "traceback": [
      "\u001b[1;36m  File \u001b[1;32m\"<ipython-input-60-fc4982d7d675>\"\u001b[1;36m, line \u001b[1;32m4\u001b[0m\n\u001b[1;33m    for list(range(0,4,1)):   #for문 헤더\u001b[0m\n\u001b[1;37m                          ^\u001b[0m\n\u001b[1;31mSyntaxError\u001b[0m\u001b[1;31m:\u001b[0m invalid syntax\n"
     ]
    }
   ],
   "source": [
    "# i를 0부터 4까지 1씩 증가시킨다\n",
    "# for문의 헤더가 끝나는 지점엔 \":\"을 써줘야 한다.\n",
    "# 구문은 tab들여쓰기로 컴퓨터가 인식하게 해준다.\n",
    "\n",
    "for i in range(0,4,1):   #for문 헤더\n",
    "    targetList[i] = preFix + targetList[i]"
   ]
  },
  {
   "cell_type": "code",
   "execution_count": 61,
   "metadata": {},
   "outputs": [
    {
     "data": {
      "text/plain": [
       "['LED_TVUN001', 'LED_TVUN002', 'LED_TVUN003', 'LED_TVUN004']"
      ]
     },
     "execution_count": 61,
     "metadata": {},
     "output_type": "execute_result"
    }
   ],
   "source": [
    "targetList"
   ]
  },
  {
   "cell_type": "code",
   "execution_count": null,
   "metadata": {},
   "outputs": [],
   "source": []
  },
  {
   "cell_type": "code",
   "execution_count": null,
   "metadata": {},
   "outputs": [],
   "source": [
    "##while문 이용"
   ]
  },
  {
   "cell_type": "code",
   "execution_count": null,
   "metadata": {},
   "outputs": [],
   "source": [
    "##미션1. 모든 데이터에 \"LEDTV\" 집어넣어라"
   ]
  },
  {
   "cell_type": "code",
   "execution_count": 72,
   "metadata": {},
   "outputs": [],
   "source": [
    "targetList = [\"UN001\",\"UN002\",\"UN003\",\"UN004\"]\n",
    "\n",
    "preFix = \"LED_TV\""
   ]
  },
  {
   "cell_type": "code",
   "execution_count": 73,
   "metadata": {},
   "outputs": [],
   "source": [
    "i = 0"
   ]
  },
  {
   "cell_type": "code",
   "execution_count": 74,
   "metadata": {},
   "outputs": [],
   "source": [
    "#while문의 헤더의 종결점은 \":\" 써줘야한다.\n",
    "# 구문은 탭 들여쓰기를 해야한다.\n",
    "while(i < 4):\n",
    "    targetList[i] = preFix + targetList[i]\n",
    "    #while문은 반복문 마지막에 자동증가 안해줌!\n",
    "    i = i + 1\n",
    "    "
   ]
  },
  {
   "cell_type": "code",
   "execution_count": 75,
   "metadata": {},
   "outputs": [
    {
     "data": {
      "text/plain": [
       "['LED_TVUN001', 'LED_TVUN002', 'LED_TVUN003', 'LED_TVUN004']"
      ]
     },
     "execution_count": 75,
     "metadata": {},
     "output_type": "execute_result"
    }
   ],
   "source": [
    "targetList"
   ]
  },
  {
   "cell_type": "code",
   "execution_count": null,
   "metadata": {},
   "outputs": [],
   "source": []
  },
  {
   "cell_type": "code",
   "execution_count": null,
   "metadata": {},
   "outputs": [],
   "source": []
  },
  {
   "cell_type": "code",
   "execution_count": 81,
   "metadata": {},
   "outputs": [
    {
     "data": {
      "text/plain": [
       "['UN40EN001', 'UN40EN002', 'UN40EN003', 'UN40EN004']"
      ]
     },
     "execution_count": 81,
     "metadata": {},
     "output_type": "execute_result"
    }
   ],
   "source": [
    "#tvList2생성\n",
    "tvList2 = [\"40EN001\",\"40EN002\",\"40EN003\",\"40EN004\"]\n",
    "preFix = \"UN\"\n",
    "\n",
    "#tvList2길이 정하기\n",
    "tvList2Len = len(tvList2)\n",
    "\n",
    "i = 0\n",
    "\n",
    "#while반복문\n",
    "while(i < 4):\n",
    "    tvList2[i] = preFix + tvList2[i]\n",
    "    i = i + 1\n",
    "\n",
    "tvList2"
   ]
  },
  {
   "cell_type": "code",
   "execution_count": null,
   "metadata": {},
   "outputs": [],
   "source": [
    "##실습 (for문이용)\n",
    "\n",
    "\n",
    "#for문\n",
    "tvList2 = [\"40EN001\",\"40EN002\",\"40EN003\",\"40EN004\"]\n",
    "preFix = \"UN\"\n",
    "\n",
    "tvList2Len = len(tvList2)\n",
    "\n",
    "for i in range (0, tvList2Len):\n",
    "    tvList2[i] = preFix + tvList2[i]\n",
    "\n",
    "tvList2"
   ]
  },
  {
   "cell_type": "code",
   "execution_count": null,
   "metadata": {},
   "outputs": [],
   "source": []
  },
  {
   "cell_type": "code",
   "execution_count": 31,
   "metadata": {},
   "outputs": [],
   "source": []
  },
  {
   "cell_type": "code",
   "execution_count": null,
   "metadata": {},
   "outputs": [],
   "source": []
  },
  {
   "cell_type": "code",
   "execution_count": null,
   "metadata": {},
   "outputs": [],
   "source": []
  },
  {
   "cell_type": "code",
   "execution_count": 157,
   "metadata": {},
   "outputs": [],
   "source": [
    "# 라이브러리 사용\n",
    "import pandas as pd\n",
    "\n",
    "# 리스트 생성\n",
    "data = {\"name\":[\"조연주\",\"한주연\",\"김지영\",\"박지영\"],\n",
    "       \"age\":[26,50,17,32],\n",
    "       \"live\":[\"서울\",\"일산\",\"제주\",\"파주\"]}\n",
    "\n",
    "#데이터프레임 변환\n",
    "dataDf = pd.DataFrame(data)\n",
    "\n",
    "\n",
    "dataDf"
   ]
  },
  {
   "cell_type": "code",
   "execution_count": null,
   "metadata": {},
   "outputs": [],
   "source": []
  },
  {
   "cell_type": "code",
   "execution_count": null,
   "metadata": {},
   "outputs": [],
   "source": []
  },
  {
   "cell_type": "code",
   "execution_count": null,
   "metadata": {},
   "outputs": [],
   "source": []
  },
  {
   "cell_type": "code",
   "execution_count": null,
   "metadata": {},
   "outputs": [],
   "source": [
    "#과제1"
   ]
  },
  {
   "cell_type": "code",
   "execution_count": 183,
   "metadata": {},
   "outputs": [],
   "source": [
    "#변수선언\n",
    "score = 80\n",
    "\n",
    "if score >= 90:\n",
    "    grade = \"A\"\n",
    "elif score >= 80 and score < 90:\n",
    "    grade = \"B\"\n",
    "else:\n",
    "    grade = \"C\"\n",
    "    \n",
    "print(grade)"
   ]
  },
  {
   "cell_type": "code",
   "execution_count": null,
   "metadata": {},
   "outputs": [],
   "source": []
  },
  {
   "cell_type": "code",
   "execution_count": 195,
   "metadata": {},
   "outputs": [],
   "source": [
    "testModel = \"LEDTV_LEDTV_UN40EN001\"\n",
    "preFix = \"LEDTV_\""
   ]
  },
  {
   "cell_type": "code",
   "execution_count": 197,
   "metadata": {},
   "outputs": [
    {
     "data": {
      "text/plain": [
       "'UN40EN001'"
      ]
     },
     "execution_count": 197,
     "metadata": {},
     "output_type": "execute_result"
    }
   ],
   "source": [
    "testModel.replace(preFix,\"\")"
   ]
  },
  {
   "cell_type": "code",
   "execution_count": 194,
   "metadata": {},
   "outputs": [],
   "source": [
    "if testModel.count(preFix) >= 2:\n",
    "    testModel = testModel.replace(preFix,\"\")\n",
    "    testModel = preFix + testModel\n",
    "elif testModel.count(preFix) == 1:\n",
    "    pass\n",
    "else:\n",
    "    testModel = preFix + testModel\n",
    "    testModel"
   ]
  },
  {
   "cell_type": "code",
   "execution_count": null,
   "metadata": {},
   "outputs": [],
   "source": []
  },
  {
   "cell_type": "code",
   "execution_count": null,
   "metadata": {},
   "outputs": [],
   "source": []
  },
  {
   "cell_type": "code",
   "execution_count": null,
   "metadata": {},
   "outputs": [],
   "source": []
  },
  {
   "cell_type": "code",
   "execution_count": null,
   "metadata": {},
   "outputs": [],
   "source": []
  },
  {
   "cell_type": "code",
   "execution_count": null,
   "metadata": {},
   "outputs": [],
   "source": [
    "#과제2"
   ]
  },
  {
   "cell_type": "code",
   "execution_count": 239,
   "metadata": {},
   "outputs": [
    {
     "name": "stdout",
     "output_type": "stream",
     "text": [
      "['LEDTV_UN40EN001', 'LEDTV_UN40EN002', 'LEDTV_UN40EN003', 'LEDTV_UN40EN004']\n"
     ]
    }
   ],
   "source": [
    "#리스트 생성\n",
    "tvList2 = [ 'UN40EN001', 'LEDTV_UN40EN002', 'LEDTV_LEDTV_UN40EN003', 'ledtv_UN40EN004']\n",
    "           \n",
    "preFix = \"LEDTV_\"\n",
    "\n",
    "lentvList2 = len(tvList)\n",
    "\n",
    "\n",
    "for i in range(0,lentvList,1):\n",
    "    tvList2[i] = tvList2[i].upper()\n",
    "    \n",
    "    if tvList2[i].count(preFix) >= 2:\n",
    "        tvList2[i] = tvList2[i].replace(preFix,\"\")\n",
    "        tvList2[i] = preFix + tvList2[i]\n",
    "\n",
    "    elif tvList2[i].count(preFix)==1:\n",
    "        pass\n",
    "    else:\n",
    "        tvList2[i] = preFix + tvList2[i]\n",
    "\n",
    "print(tvList)"
   ]
  },
  {
   "cell_type": "code",
   "execution_count": null,
   "metadata": {},
   "outputs": [],
   "source": []
  },
  {
   "cell_type": "code",
   "execution_count": null,
   "metadata": {},
   "outputs": [],
   "source": []
  },
  {
   "cell_type": "code",
   "execution_count": null,
   "metadata": {},
   "outputs": [],
   "source": []
  },
  {
   "cell_type": "code",
   "execution_count": null,
   "metadata": {},
   "outputs": [],
   "source": []
  },
  {
   "cell_type": "code",
   "execution_count": null,
   "metadata": {},
   "outputs": [],
   "source": []
  },
  {
   "cell_type": "code",
   "execution_count": null,
   "metadata": {},
   "outputs": [],
   "source": []
  },
  {
   "cell_type": "code",
   "execution_count": null,
   "metadata": {},
   "outputs": [],
   "source": []
  },
  {
   "cell_type": "code",
   "execution_count": null,
   "metadata": {},
   "outputs": [],
   "source": []
  },
  {
   "cell_type": "code",
   "execution_count": null,
   "metadata": {},
   "outputs": [],
   "source": []
  },
  {
   "cell_type": "code",
   "execution_count": 1,
   "metadata": {},
   "outputs": [],
   "source": [
    "## setp4 : 정상모델 코드를출력한다"
   ]
  },
  {
   "cell_type": "code",
   "execution_count": null,
   "metadata": {},
   "outputs": [],
   "source": [
    "preFix = \"LEDTV_\""
   ]
  },
  {
   "cell_type": "code",
   "execution_count": null,
   "metadata": {},
   "outputs": [],
   "source": [
    "lentvList = len(tvList)"
   ]
  },
  {
   "cell_type": "code",
   "execution_count": null,
   "metadata": {},
   "outputs": [],
   "source": [
    "for i in range(0,lentvList,1):\n",
    "    tvList[i] = tvList[i].upper()\n",
    "    \n",
    "    if tvList[i].count(preFix)>=2:\n",
    "        tvList[i] = tvList[i].replace(preFix,\"\")\n",
    "        tvList[i] = preFix + tvList[i]\n",
    "\n",
    "    elif tvList[i].count(preFix)==1:"
   ]
  },
  {
   "cell_type": "code",
   "execution_count": null,
   "metadata": {},
   "outputs": [],
   "source": []
  },
  {
   "cell_type": "code",
   "execution_count": null,
   "metadata": {},
   "outputs": [],
   "source": []
  },
  {
   "cell_type": "code",
   "execution_count": null,
   "metadata": {},
   "outputs": [],
   "source": []
  },
  {
   "cell_type": "code",
   "execution_count": null,
   "metadata": {},
   "outputs": [],
   "source": []
  },
  {
   "cell_type": "code",
   "execution_count": null,
   "metadata": {},
   "outputs": [],
   "source": []
  },
  {
   "cell_type": "code",
   "execution_count": null,
   "metadata": {},
   "outputs": [],
   "source": []
  },
  {
   "cell_type": "code",
   "execution_count": null,
   "metadata": {},
   "outputs": [],
   "source": []
  },
  {
   "cell_type": "code",
   "execution_count": null,
   "metadata": {},
   "outputs": [],
   "source": []
  },
  {
   "cell_type": "code",
   "execution_count": null,
   "metadata": {},
   "outputs": [],
   "source": []
  },
  {
   "cell_type": "code",
   "execution_count": null,
   "metadata": {},
   "outputs": [],
   "source": []
  },
  {
   "cell_type": "code",
   "execution_count": null,
   "metadata": {},
   "outputs": [],
   "source": []
  },
  {
   "cell_type": "code",
   "execution_count": null,
   "metadata": {},
   "outputs": [],
   "source": []
  },
  {
   "cell_type": "code",
   "execution_count": null,
   "metadata": {},
   "outputs": [],
   "source": []
  },
  {
   "cell_type": "code",
   "execution_count": null,
   "metadata": {},
   "outputs": [],
   "source": []
  },
  {
   "cell_type": "code",
   "execution_count": null,
   "metadata": {},
   "outputs": [],
   "source": []
  },
  {
   "cell_type": "code",
   "execution_count": null,
   "metadata": {},
   "outputs": [],
   "source": [
    "##복습"
   ]
  },
  {
   "cell_type": "code",
   "execution_count": null,
   "metadata": {},
   "outputs": [],
   "source": [
    "#리스트출력\n",
    "tvList2 = ['UN40EN001', 'LEDTV_UN40EN002',\n",
    "'LEDTV_LEDTV_UN40EN003', 'UN40EN004']\n",
    "\n",
    "preFix = LEDTV_"
   ]
  },
  {
   "cell_type": "code",
   "execution_count": null,
   "metadata": {},
   "outputs": [],
   "source": [
    "#for문\n",
    "lentvList2 = len(tvList2)\n",
    "for i in range(0,len(tvList2),1)\n"
   ]
  },
  {
   "cell_type": "code",
   "execution_count": null,
   "metadata": {},
   "outputs": [],
   "source": []
  },
  {
   "cell_type": "code",
   "execution_count": null,
   "metadata": {},
   "outputs": [],
   "source": []
  },
  {
   "cell_type": "code",
   "execution_count": null,
   "metadata": {},
   "outputs": [],
   "source": []
  },
  {
   "cell_type": "code",
   "execution_count": null,
   "metadata": {},
   "outputs": [],
   "source": []
  },
  {
   "cell_type": "code",
   "execution_count": null,
   "metadata": {},
   "outputs": [],
   "source": []
  },
  {
   "cell_type": "code",
   "execution_count": null,
   "metadata": {},
   "outputs": [],
   "source": []
  },
  {
   "cell_type": "code",
   "execution_count": null,
   "metadata": {},
   "outputs": [],
   "source": []
  },
  {
   "cell_type": "code",
   "execution_count": null,
   "metadata": {},
   "outputs": [],
   "source": []
  },
  {
   "cell_type": "code",
   "execution_count": null,
   "metadata": {},
   "outputs": [],
   "source": []
  },
  {
   "cell_type": "code",
   "execution_count": null,
   "metadata": {},
   "outputs": [],
   "source": [
    "## 교수님이 알려주신거 2021.03.23 수업내용 예습"
   ]
  },
  {
   "cell_type": "code",
   "execution_count": 111,
   "metadata": {},
   "outputs": [],
   "source": [
    "scoreList  = [50,60,70,100]"
   ]
  },
  {
   "cell_type": "code",
   "execution_count": 112,
   "metadata": {},
   "outputs": [],
   "source": [
    "# Step1 for 문에서 하나씩 꺼낸다\n",
    "# Step2 score판단 로직을 생성한다."
   ]
  },
  {
   "cell_type": "code",
   "execution_count": 113,
   "metadata": {},
   "outputs": [],
   "source": [
    "scoreListLen = len(scoreList)"
   ]
  },
  {
   "cell_type": "code",
   "execution_count": 118,
   "metadata": {},
   "outputs": [],
   "source": [
    "scoreLableList = []"
   ]
  },
  {
   "cell_type": "code",
   "execution_count": 115,
   "metadata": {},
   "outputs": [],
   "source": [
    "for i in range(0,scoreListLen):\n",
    "    #점수가 50점 미만인 경우\n",
    "    if scoreList[i] < 50:\n",
    "        scoreLable = \"C\"\n",
    "    elif scoreList[i] < 80:\n",
    "        scoreLable = \"B\"\n",
    "    else:\n",
    "        scoreLable = \"A\"\n",
    "    scoreLableList.append(scoreLable)"
   ]
  },
  {
   "cell_type": "code",
   "execution_count": null,
   "metadata": {},
   "outputs": [],
   "source": []
  },
  {
   "cell_type": "code",
   "execution_count": null,
   "metadata": {},
   "outputs": [],
   "source": []
  },
  {
   "cell_type": "code",
   "execution_count": 137,
   "metadata": {},
   "outputs": [],
   "source": [
    "scoreList  = [50,60,70,100]"
   ]
  },
  {
   "cell_type": "code",
   "execution_count": 138,
   "metadata": {},
   "outputs": [],
   "source": [
    "scoreLableList = []"
   ]
  },
  {
   "cell_type": "code",
   "execution_count": 139,
   "metadata": {},
   "outputs": [],
   "source": [
    "for i in range(0, len(scoreList)):\n",
    "\n",
    "    score = scoreList[i]\n",
    "\n",
    "    if score < 50:\n",
    "        scoreLable = \"C\"\n",
    "    elif score < 80:\n",
    "        scoreLable = \"B\"\n",
    "    else:\n",
    "        scoreLable = \"A\"\n",
    "    scoreLableList.append(scoreLable)\n",
    "\n",
    "    scoreLableList"
   ]
  },
  {
   "cell_type": "code",
   "execution_count": 140,
   "metadata": {},
   "outputs": [
    {
     "data": {
      "text/plain": [
       "['B', 'B', 'B', 'A']"
      ]
     },
     "execution_count": 140,
     "metadata": {},
     "output_type": "execute_result"
    }
   ],
   "source": [
    "scoreLableList"
   ]
  },
  {
   "cell_type": "code",
   "execution_count": 49,
   "metadata": {},
   "outputs": [
    {
     "data": {
      "text/plain": [
       "'D'"
      ]
     },
     "execution_count": 49,
     "metadata": {},
     "output_type": "execute_result"
    }
   ],
   "source": [
    "scoreLable"
   ]
  },
  {
   "cell_type": "code",
   "execution_count": null,
   "metadata": {},
   "outputs": [],
   "source": []
  },
  {
   "cell_type": "code",
   "execution_count": null,
   "metadata": {},
   "outputs": [],
   "source": []
  },
  {
   "cell_type": "code",
   "execution_count": 6,
   "metadata": {},
   "outputs": [],
   "source": [
    "testModel= \"UN40EN001\"\n",
    "preFix= \"LEDTV_\"\n",
    "\n",
    "#preFix가 없으면 붙여라\n",
    "if testModel.count(preFix) == 0:\n",
    "    testModel= preFix+ testModel\n",
    "else:\n",
    "    pass"
   ]
  },
  {
   "cell_type": "code",
   "execution_count": 7,
   "metadata": {},
   "outputs": [
    {
     "data": {
      "text/plain": [
       "'LEDTV_UN40EN001'"
      ]
     },
     "execution_count": 7,
     "metadata": {},
     "output_type": "execute_result"
    }
   ],
   "source": [
    "testModel"
   ]
  },
  {
   "cell_type": "code",
   "execution_count": null,
   "metadata": {},
   "outputs": [],
   "source": []
  },
  {
   "cell_type": "code",
   "execution_count": null,
   "metadata": {},
   "outputs": [],
   "source": []
  },
  {
   "cell_type": "code",
   "execution_count": null,
   "metadata": {},
   "outputs": [],
   "source": []
  },
  {
   "cell_type": "code",
   "execution_count": null,
   "metadata": {},
   "outputs": [],
   "source": []
  },
  {
   "cell_type": "code",
   "execution_count": null,
   "metadata": {},
   "outputs": [],
   "source": []
  },
  {
   "cell_type": "code",
   "execution_count": null,
   "metadata": {},
   "outputs": [],
   "source": []
  },
  {
   "cell_type": "code",
   "execution_count": null,
   "metadata": {},
   "outputs": [],
   "source": [
    "#step1 : 리스트에 있는 데이터를 하나씩 확인하자\n",
    "#step2 : 리스트 아이템 별 prefix 갯수를 확인하자\n",
    "#step3 : preFix >= 2 \"LEDTV_LEDTV_UN\" \"LETV_\"\n",
    "#                     LEDTV_를 전부 공백으로 REPLACE(전부 없앤다)\n",
    "#                     앞에다가 preFix를 붙이자\n",
    "#        preFix == 1 -> pass\n",
    "#        preFix < 1 -> prefix를 붙이자"
   ]
  },
  {
   "cell_type": "code",
   "execution_count": null,
   "metadata": {},
   "outputs": [],
   "source": []
  },
  {
   "cell_type": "code",
   "execution_count": null,
   "metadata": {},
   "outputs": [],
   "source": []
  },
  {
   "cell_type": "code",
   "execution_count": null,
   "metadata": {},
   "outputs": [],
   "source": []
  }
 ],
 "metadata": {
  "kernelspec": {
   "display_name": "Python 3",
   "language": "python",
   "name": "python3"
  },
  "language_info": {
   "codemirror_mode": {
    "name": "ipython",
    "version": 3
   },
   "file_extension": ".py",
   "mimetype": "text/x-python",
   "name": "python",
   "nbconvert_exporter": "python",
   "pygments_lexer": "ipython3",
   "version": "3.8.5"
  }
 },
 "nbformat": 4,
 "nbformat_minor": 4
}

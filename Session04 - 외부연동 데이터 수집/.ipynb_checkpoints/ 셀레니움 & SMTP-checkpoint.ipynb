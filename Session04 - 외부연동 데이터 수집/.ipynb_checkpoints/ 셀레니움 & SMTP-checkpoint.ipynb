{
 "cells": [
  {
   "cell_type": "markdown",
   "metadata": {},
   "source": [
    "### 1. 라이브러리 선언"
   ]
  },
  {
   "cell_type": "code",
   "execution_count": 144,
   "metadata": {},
   "outputs": [],
   "source": [
    "import pandas as pd\n",
    "\n",
    "from selenium import webdriver"
   ]
  },
  {
   "cell_type": "markdown",
   "metadata": {},
   "source": [
    "### 2. 웹 브라우저 설정 및 브라우저 ?"
   ]
  },
  {
   "cell_type": "code",
   "execution_count": 139,
   "metadata": {},
   "outputs": [],
   "source": [
    "options = webdriver.ChromeOptions()\n",
    "\n",
    "#헤드리스 옵션 / 일반옵션    # 헤드리스란 ? 브라우저를 띄우지 않고 크롤링을 하는 것 \n",
    "options.add_argument(\"window-size=1920*1080\")\n",
    "\n",
    "driverLoc = \"../addon/chromedriver/chromedriver.exe\"\n",
    "\n",
    "driver = webdriver.Chrome(executable_path=driverLoc, options=options)\n",
    "\n",
    "options.add_argument(\"window-size=1920*1080\")\n",
    "\n",
    "# 웹페이지 파싱 될 때까지 최대 3초 기다림\n",
    "driver.implicitly_wait(3)"
   ]
  },
  {
   "cell_type": "code",
   "execution_count": 140,
   "metadata": {},
   "outputs": [],
   "source": [
    "# import time \n",
    "\n",
    "# time.sleep(3)"
   ]
  },
  {
   "cell_type": "markdown",
   "metadata": {},
   "source": [
    "### 3. 브라우저 열기"
   ]
  },
  {
   "cell_type": "code",
   "execution_count": 148,
   "metadata": {},
   "outputs": [],
   "source": [
    "targetUrl = \"https://www.sparkkorea.com\""
   ]
  },
  {
   "cell_type": "code",
   "execution_count": 149,
   "metadata": {},
   "outputs": [],
   "source": [
    "driver.get(targetUrl)"
   ]
  },
  {
   "cell_type": "code",
   "execution_count": 149,
   "metadata": {},
   "outputs": [],
   "source": [
    "driver.page_source"
   ]
  },
  {
   "cell_type": "markdown",
   "metadata": {},
   "source": [
    "### 4. 브라우저 내 액션(클릭)"
   ]
  },
  {
   "cell_type": "code",
   "execution_count": 149,
   "metadata": {},
   "outputs": [],
   "source": [
    "quizBtnXpath = '//*[@id=\"menu-item-382\"]/a'"
   ]
  },
  {
   "cell_type": "code",
   "execution_count": 149,
   "metadata": {},
   "outputs": [],
   "source": [
    "quizBtn= driver.find_element_by_xpath(quizBtnXpath)"
   ]
  },
  {
   "cell_type": "code",
   "execution_count": 149,
   "metadata": {},
   "outputs": [],
   "source": [
    "quizBtn.click()"
   ]
  },
  {
   "cell_type": "code",
   "execution_count": 149,
   "metadata": {},
   "outputs": [],
   "source": [
    "driver.current_url"
   ]
  },
  {
   "cell_type": "code",
   "execution_count": 149,
   "metadata": {},
   "outputs": [],
   "source": [
    "quiz_source=driver.page_source"
   ]
  },
  {
   "cell_type": "code",
   "execution_count": 149,
   "metadata": {},
   "outputs": [],
   "source": [
    "quiz_source"
   ]
  },
  {
   "cell_type": "code",
   "execution_count": null,
   "metadata": {},
   "outputs": [],
   "source": []
  },
  {
   "cell_type": "markdown",
   "metadata": {},
   "source": [
    "### 5. 브라우저 내 액션(텍스트 입력)"
   ]
  },
  {
   "cell_type": "code",
   "execution_count": 103,
   "metadata": {},
   "outputs": [],
   "source": [
    "from selenium.webdriver.common.keys import Keys"
   ]
  },
  {
   "cell_type": "code",
   "execution_count": 104,
   "metadata": {},
   "outputs": [
    {
     "data": {
      "text/plain": [
       "'\\ue007'"
      ]
     },
     "execution_count": 104,
     "metadata": {},
     "output_type": "execute_result"
    }
   ],
   "source": [
    "Keys.ENTER"
   ]
  },
  {
   "cell_type": "code",
   "execution_count": 105,
   "metadata": {},
   "outputs": [],
   "source": [
    "googleUrl = \"https://www.google.com\""
   ]
  },
  {
   "cell_type": "code",
   "execution_count": 106,
   "metadata": {},
   "outputs": [],
   "source": [
    "driver.get(googleUrl)"
   ]
  },
  {
   "cell_type": "code",
   "execution_count": 107,
   "metadata": {},
   "outputs": [],
   "source": [
    "googleSearchXpath = \"/html/body/div[1]/div[3]/form/div[1]/div[1]/div[1]/div/div[2]/input\""
   ]
  },
  {
   "cell_type": "code",
   "execution_count": 108,
   "metadata": {},
   "outputs": [],
   "source": [
    "googleSearchBox=driver.find_element_by_xpath(googleSearchXpath)"
   ]
  },
  {
   "cell_type": "code",
   "execution_count": 109,
   "metadata": {},
   "outputs": [],
   "source": [
    "searchKeyword=\"스마트금융과\""
   ]
  },
  {
   "cell_type": "code",
   "execution_count": 110,
   "metadata": {},
   "outputs": [],
   "source": [
    "googleSearchBox.send_keys(searchKeyword)"
   ]
  },
  {
   "cell_type": "code",
   "execution_count": 111,
   "metadata": {},
   "outputs": [],
   "source": [
    "googleSearchBox.send_keys(Keys.ENTER)"
   ]
  },
  {
   "cell_type": "code",
   "execution_count": null,
   "metadata": {},
   "outputs": [],
   "source": []
  },
  {
   "cell_type": "markdown",
   "metadata": {},
   "source": [
    "## 6. 페이지 URL및 소스 가져오기"
   ]
  },
  {
   "cell_type": "code",
   "execution_count": 112,
   "metadata": {},
   "outputs": [
    {
     "ename": "AttributeError",
     "evalue": "'WebDriver' object has no attribute 'currnet_url'",
     "output_type": "error",
     "traceback": [
      "\u001b[1;31m---------------------------------------------------------------------------\u001b[0m",
      "\u001b[1;31mAttributeError\u001b[0m                            Traceback (most recent call last)",
      "\u001b[1;32m<ipython-input-112-eb7897f88d51>\u001b[0m in \u001b[0;36m<module>\u001b[1;34m\u001b[0m\n\u001b[1;32m----> 1\u001b[1;33m \u001b[0mfinalUrl\u001b[0m\u001b[1;33m=\u001b[0m\u001b[0mdriver\u001b[0m\u001b[1;33m.\u001b[0m\u001b[0mcurrnet_url\u001b[0m\u001b[1;33m\u001b[0m\u001b[1;33m\u001b[0m\u001b[0m\n\u001b[0m",
      "\u001b[1;31mAttributeError\u001b[0m: 'WebDriver' object has no attribute 'currnet_url'"
     ]
    }
   ],
   "source": [
    "finalUrl=driver.currnet_url"
   ]
  },
  {
   "cell_type": "code",
   "execution_count": null,
   "metadata": {},
   "outputs": [],
   "source": [
    "pgSource=driver.page_source"
   ]
  },
  {
   "cell_type": "markdown",
   "metadata": {},
   "source": [
    "## BS4가 치고 나가야 할 시점"
   ]
  },
  {
   "cell_type": "code",
   "execution_count": null,
   "metadata": {},
   "outputs": [],
   "source": [
    "from bs4 import BeautifulSoup # 태그 이쁘게 뜨기\n",
    "import requests # 웹페이지 접속 요청\n",
    "targetUrl = \"https://sparkkorea.com/\""
   ]
  },
  {
   "cell_type": "code",
   "execution_count": null,
   "metadata": {},
   "outputs": [],
   "source": [
    "bsObj=bs4.BeautifulSoup(pgSource,\"html.parser\")"
   ]
  },
  {
   "cell_type": "code",
   "execution_count": null,
   "metadata": {},
   "outputs": [],
   "source": [
    "bsObj.find"
   ]
  },
  {
   "cell_type": "code",
   "execution_count": null,
   "metadata": {},
   "outputs": [],
   "source": [
    "#menu-item-382 > a"
   ]
  },
  {
   "cell_type": "code",
   "execution_count": null,
   "metadata": {},
   "outputs": [],
   "source": [
    "### # -> id    . -> class다   html에 이해가 필요하다"
   ]
  },
  {
   "cell_type": "code",
   "execution_count": null,
   "metadata": {},
   "outputs": [],
   "source": [
    "quizElementId = \"menu-item-382 > a\" "
   ]
  },
  {
   "cell_type": "code",
   "execution_count": null,
   "metadata": {},
   "outputs": [],
   "source": [
    "driver.find_element_by_id(quizElementId).click()"
   ]
  },
  {
   "cell_type": "code",
   "execution_count": null,
   "metadata": {},
   "outputs": [],
   "source": [
    "driver.get(targetUrl)"
   ]
  },
  {
   "cell_type": "code",
   "execution_count": null,
   "metadata": {},
   "outputs": [],
   "source": [
    "driver.find_element_by_id(quizElementId).click()"
   ]
  },
  {
   "cell_type": "code",
   "execution_count": 22,
   "metadata": {},
   "outputs": [],
   "source": []
  },
  {
   "cell_type": "markdown",
   "metadata": {},
   "source": [
    "# 실습"
   ]
  },
  {
   "cell_type": "raw",
   "metadata": {},
   "source": [
    "### 셀레니움을 활용해서 sparkkorea.quiz에 접근을 한다\n",
    "### 이후 spark관련 퀴즈 타이틀과 링크정보를 수집하여 데이터프레임으로 변환한다"
   ]
  },
  {
   "cell_type": "code",
   "execution_count": 1,
   "metadata": {},
   "outputs": [],
   "source": [
    "import pandas as pd\n",
    "from selenium import webdriver\n",
    "from bs4 import BeautifulSoup # 태그 이쁘게 뜨기\n",
    "import requests # 웹페이지 접속 요청"
   ]
  },
  {
   "cell_type": "code",
   "execution_count": 3,
   "metadata": {},
   "outputs": [],
   "source": [
    "options = webdriver.ChromeOptions()\n",
    "\n",
    "#헤드리스 옵션 / 일반옵션    # 헤드리스란 ? 브라우저를 띄우지 않고 크롤링을 하는 것 \n",
    "options.add_argument(\"window-size=1920*1080\")\n",
    "\n",
    "driverLoc = \"../addon/chromedriver/chromedriver.exe\"\n",
    "\n",
    "driver = webdriver.Chrome(executable_path=driverLoc, options=options)\n",
    "\n",
    "options.add_argument(\"window-size=1920*1080\")\n",
    "\n",
    "# 웹페이지 파싱 될 때까지 최대 3초 기다림\n",
    "driver.implicitly_wait(3)"
   ]
  },
  {
   "cell_type": "code",
   "execution_count": 4,
   "metadata": {
    "collapsed": true,
    "jupyter": {
     "outputs_hidden": true
    }
   },
   "outputs": [
    {
     "data": {
      "text/plain": [
       "'<html lang=\"ko-KR\"><head>\\n<meta charset=\"UTF-8\">\\n<meta name=\"viewport\" content=\"width=device-width, initial-scale=1\">\\n<link rel=\"profile\" href=\"http://gmpg.org/xfn/11\">\\n<link rel=\"pingback\" href=\"https://sparkkorea.com/xmlrpc.php\">\\n\\n<title>스파크 코리아 – 스파크코리아 자료공유</title>\\n<meta name=\"robots\" content=\"max-image-preview:large\">\\n<meta name=\"google-site-verification\" content=\"QRZVgHsoL23RuwmgmXNuXfO-mUaxCkdvhP2rRvLT270\">\\n\\n<!-- Async WordPress.com Remote Login -->\\n\\n<link rel=\"dns-prefetch\" href=\"//s0.wp.com\">\\n<link rel=\"dns-prefetch\" href=\"//sparkkorea.wordpress.com\">\\n<link rel=\"dns-prefetch\" href=\"//wordpress.com\">\\n<link rel=\"dns-prefetch\" href=\"//fonts.googleapis.com\">\\n<link rel=\"alternate\" type=\"application/rss+xml\" title=\"스파크 코리아 » 피드\" href=\"https://sparkkorea.com/feed/\">\\n<link rel=\"alternate\" type=\"application/rss+xml\" title=\"스파크 코리아 » 댓글 피드\" href=\"https://sparkkorea.com/comments/feed/\">\\n\\t<script type=\"text/javascript\">\\n\\t\\t/* <![CDATA[ */\\n\\t\\tfunction addLoadEvent(func) {\\n\\t\\t\\tvar oldonload = window.onload;\\n\\t\\t\\tif (typeof window.onload != \\'function\\') {\\n\\t\\t\\t\\twindow.onload = func;\\n\\t\\t\\t} else {\\n\\t\\t\\t\\twindow.onload = function () {\\n\\t\\t\\t\\t\\toldonload();\\n\\t\\t\\t\\t\\tfunc();\\n\\t\\t\\t\\t}\\n\\t\\t\\t}\\n\\t\\t}\\n\\t\\t/* ]]> */\\n\\t</script>\\n\\t\\t\\t<script type=\"text/javascript\">\\n\\t\\t\\twindow._wpemojiSettings = {\"baseUrl\":\"https:\\\\/\\\\/s0.wp.com\\\\/wp-content\\\\/mu-plugins\\\\/wpcom-smileys\\\\/twemoji\\\\/2\\\\/72x72\\\\/\",\"ext\":\".png\",\"svgUrl\":\"https:\\\\/\\\\/s0.wp.com\\\\/wp-content\\\\/mu-plugins\\\\/wpcom-smileys\\\\/twemoji\\\\/2\\\\/svg\\\\/\",\"svgExt\":\".svg\",\"source\":{\"concatemoji\":\"https:\\\\/\\\\/s0.wp.com\\\\/wp-includes\\\\/js\\\\/wp-emoji-release.min.js?m=1612197847h&ver=5.7.1\"}};\\n\\t\\t\\t!function(e,a,t){var n,r,o,i=a.createElement(\"canvas\"),p=i.getContext&&i.getContext(\"2d\");function s(e,t){var a=String.fromCharCode;p.clearRect(0,0,i.width,i.height),p.fillText(a.apply(this,e),0,0);e=i.toDataURL();return p.clearRect(0,0,i.width,i.height),p.fillText(a.apply(this,t),0,0),e===i.toDataURL()}function c(e){var t=a.createElement(\"script\");t.src=e,t.defer=t.type=\"text/javascript\",a.getElementsByTagName(\"head\")[0].appendChild(t)}for(o=Array(\"flag\",\"emoji\"),t.supports={everything:!0,everythingExceptFlag:!0},r=0;r<o.length;r++)t.supports[o[r]]=function(e){if(!p||!p.fillText)return!1;switch(p.textBaseline=\"top\",p.font=\"600 32px Arial\",e){case\"flag\":return s([127987,65039,8205,9895,65039],[127987,65039,8203,9895,65039])?!1:!s([55356,56826,55356,56819],[55356,56826,8203,55356,56819])&&!s([55356,57332,56128,56423,56128,56418,56128,56421,56128,56430,56128,56423,56128,56447],[55356,57332,8203,56128,56423,8203,56128,56418,8203,56128,56421,8203,56128,56430,8203,56128,56423,8203,56128,56447]);case\"emoji\":return!s([55357,56424,8205,55356,57212],[55357,56424,8203,55356,57212])}return!1}(o[r]),t.supports.everything=t.supports.everything&&t.supports[o[r]],\"flag\"!==o[r]&&(t.supports.everythingExceptFlag=t.supports.everythingExceptFlag&&t.supports[o[r]]);t.supports.everythingExceptFlag=t.supports.everythingExceptFlag&&!t.supports.flag,t.DOMReady=!1,t.readyCallback=function(){t.DOMReady=!0},t.supports.everything||(n=function(){t.readyCallback()},a.addEventListener?(a.addEventListener(\"DOMContentLoaded\",n,!1),e.addEventListener(\"load\",n,!1)):(e.attachEvent(\"onload\",n),a.attachEvent(\"onreadystatechange\",function(){\"complete\"===a.readyState&&t.readyCallback()})),(n=t.source||{}).concatemoji?c(n.concatemoji):n.wpemoji&&n.twemoji&&(c(n.twemoji),c(n.wpemoji)))}(window,document,window._wpemojiSettings);\\n\\t\\t</script><script src=\"https://s0.wp.com/wp-includes/js/wp-emoji-release.min.js?m=1612197847h&amp;ver=5.7.1\" type=\"text/javascript\" defer=\"\"></script>\\n\\t\\t<style type=\"text/css\">\\nimg.wp-smiley,\\nimg.emoji {\\n\\tdisplay: inline !important;\\n\\tborder: none !important;\\n\\tbox-shadow: none !important;\\n\\theight: 1em !important;\\n\\twidth: 1em !important;\\n\\tmargin: 0 .07em !important;\\n\\tvertical-align: -0.1em !important;\\n\\tbackground: none !important;\\n\\tpadding: 0 !important;\\n}\\n</style>\\n\\t<link rel=\"stylesheet\" id=\"all-css-0-1\" href=\"https://s0.wp.com/_static/??-eJytkd9OQyEMxl9ITmUzZl4YnwU4DXbjX2hxOW8vbLrMo9FdeEPoV35faQvHolxOgkkgNlVC85QYjsXlqDhSwGUVTY75Dq6wT8a3Hlqsvmcqwpu+nx4mDbZRmMGG7A4qkK2mLsCyBPwPI3nFeIvRiWLYoxQzcLPkJspXmm/+y8qiGqHk+Q/c5Q9sM/UuNMzEchHVz+zVGkb/XY/FyHgRcSaDobec5DfsvC9rS0Vm1c9ILarTrL6v70u5OKz7dA/YI14pZ5QgZaFO8+UyEi/xWT/q3W6rN9un/TvkJt9E?cssminify=yes\" type=\"text/css\" media=\"all\">\\n<style id=\"wp-block-library-inline-css\">\\n.has-text-align-justify {\\n\\ttext-align:justify;\\n}\\n</style>\\n<link crossorigin=\"anonymous\" rel=\"stylesheet\" id=\"dyad-2-fonts-css\" href=\"https://fonts.googleapis.com/css?family=Lato%3A400%2C400italic%2C700%2C700italic%7CNoto+Serif%3A400%2C400italic%2C700%2C700italic&amp;subset=latin%2Clatin-ext\" media=\"all\">\\n<link rel=\"stylesheet\" id=\"all-css-2-1\" href=\"https://s0.wp.com/_static/??-eJyNj80OgjAQhF/IdSkkxovxWUpZa7XdNv0J4e2pcFBiNNxmsvNNZnEMoDxn4oyuQLBFG06oiSmaevghjyqlA36w+U6OEobS4zDJAVpMebK0I1cT2FuvnntKDau1GMagvPsiNi94qLUyG88bAzcrTfyHRqqDdJV6Wfe2L+jqLuLUdOIsurZ5zCp8dh4=?cssminify=yes\" type=\"text/css\" media=\"all\">\\n<link rel=\"stylesheet\" id=\"print-css-3-1\" href=\"https://s0.wp.com/wp-content/mu-plugins/global-print/global-print.css?m=1465851035h&amp;cssminify=yes\" type=\"text/css\" media=\"print\">\\n<style id=\"jetpack-global-styles-frontend-style-inline-css\">\\n:root { --font-headings: unset; --font-base: unset; --font-headings-default: -apple-system,BlinkMacSystemFont,\"Segoe UI\",Roboto,Oxygen-Sans,Ubuntu,Cantarell,\"Helvetica Neue\",sans-serif; --font-base-default: -apple-system,BlinkMacSystemFont,\"Segoe UI\",Roboto,Oxygen-Sans,Ubuntu,Cantarell,\"Helvetica Neue\",sans-serif;}\\n</style>\\n<link rel=\"stylesheet\" id=\"all-css-6-1\" href=\"https://s0.wp.com/_static/??-eJxti0EKgCAQAD+ULUaJl+gtJqbG6opr9P3o0CHqNAzMwFmEpdxcbpAOUfDwMTMU4iY2NLECB1Nj9g97y9zB/8Vko0GB5Oktn6kFlxxDGMEjrQbvYEmzVHIclNZy2i9lFDfR?cssminify=yes\" type=\"text/css\" media=\"all\">\\n<script id=\"wpcom-actionbar-placeholder-js-extra\">\\nvar actionbardata = {\"siteID\":\"163927570\",\"siteName\":\"\\\\uc2a4\\\\ud30c\\\\ud06c \\\\ucf54\\\\ub9ac\\\\uc544\",\"siteURL\":\"https:\\\\/\\\\/sparkkorea.com\",\"icon\":\"<img alt=\\'\\' src=\\'https:\\\\/\\\\/s0.wp.com\\\\/i\\\\/logo\\\\/wpcom-gray-white.png\\' class=\\'avatar avatar-50\\' height=\\'50\\' width=\\'50\\' \\\\/>\",\"canManageOptions\":\"\",\"canCustomizeSite\":\"\",\"isFollowing\":\"\",\"themeSlug\":\"pub\\\\/dyad-2\",\"signupURL\":\"https:\\\\/\\\\/wordpress.com\\\\/start\\\\/\",\"loginURL\":\"https:\\\\/\\\\/wordpress.com\\\\/log-in?redirect_to=https%3A%2F%2Fsparkkorea.com%2F&signup_flow=account&domain=sparkkorea.com\",\"themeURL\":\"https:\\\\/\\\\/wordpress.com\\\\/theme\\\\/dyad-2\\\\/\",\"xhrURL\":\"https:\\\\/\\\\/sparkkorea.com\\\\/wp-admin\\\\/admin-ajax.php\",\"nonce\":\"86b3a4c7d9\",\"isSingular\":\"1\",\"isFolded\":\"\",\"isLoggedIn\":\"\",\"isMobile\":\"\",\"subscribeNonce\":\"<input type=\\\\\"hidden\\\\\" id=\\\\\"_wpnonce\\\\\" name=\\\\\"_wpnonce\\\\\" value=\\\\\"05058c400c\\\\\" \\\\/>\",\"referer\":\"https:\\\\/\\\\/sparkkorea.com\\\\/\",\"canFollow\":\"\",\"feedID\":\"97558616\",\"statusMessage\":\"\",\"customizeLink\":\"https:\\\\/\\\\/sparkkorea.wordpress.com\\\\/wp-admin\\\\/customize.php?url=https%3A%2F%2Fsparkkorea.wordpress.com%2F\",\"postID\":\"2\",\"shortlink\":\"https:\\\\/\\\\/wp.me\\\\/Pb5P34-2\",\"canEditPost\":\"\",\"editLink\":\"https:\\\\/\\\\/wordpress.com\\\\/page\\\\/sparkkorea.com\\\\/2\",\"statsLink\":\"https:\\\\/\\\\/wordpress.com\\\\/stats\\\\/post\\\\/2\\\\/sparkkorea.com\",\"i18n\":{\"view\":\"\\\\uc0ac\\\\uc774\\\\ud2b8 \\\\ubcf4\\\\uae30\",\"follow\":\"\\\\ud314\\\\ub85c\\\\uc6b0\",\"following\":\"\\\\ud314\\\\ub85c\\\\uc6b0\\\\uc911\",\"edit\":\"\\\\ud3b8\\\\uc9d1\",\"login\":\"\\\\ub85c\\\\uadf8\\\\uc778\",\"signup\":\"\\\\uac00\\\\uc785\",\"customize\":\"\\\\uc0ac\\\\uc6a9\\\\uc790 \\\\uc815\\\\uc758\\\\ud558\\\\uae30\",\"report\":\"\\\\uc774 \\\\ucf58\\\\ud150\\\\uce20 \\\\uc2e0\\\\uace0\\\\ud558\\\\uae30\",\"themeInfo\":\"\\\\ud14c\\\\ub9c8 \\\\uac00\\\\uc838\\\\uc624\\\\uae30: Dyad 2\",\"shortlink\":\"\\\\ub2e8\\\\ucd95 \\\\ub9c1\\\\ud06c \\\\ubcf5\\\\uc0ac\",\"copied\":\"\\\\ubcf5\\\\uc0ac\\\\ub428\",\"followedText\":\"\\\\uc774 \\\\uc0ac\\\\uc774\\\\ud2b8\\\\uc758 \\\\uc0c8 \\\\uae00\\\\uc774 \\\\uc774\\\\uc81c <a href=\\\\\"https:\\\\/\\\\/wordpress.com\\\\/\\\\\">\\\\ub274\\\\uc2a4\\\\ud53c\\\\ub4dc<\\\\/a>\\\\uc5d0 \\\\ud45c\\\\uc2dc\\\\ub429\\\\ub2c8\\\\ub2e4.\",\"foldBar\":\"\\\\uc774 \\\\ud45c\\\\uc2dc\\\\uc904 \\\\ucd95\\\\uc18c\",\"unfoldBar\":\"\\\\uc774 \\\\ud45c\\\\uc2dc\\\\uc904 \\\\ud655\\\\uc7a5\",\"editSubs\":\"\\\\uad6c\\\\ub3c5 \\\\uad00\\\\ub9ac\",\"viewReader\":\"\\\\ub9ac\\\\ub354\\\\uc5d0\\\\uc11c \\\\uc0ac\\\\uc774\\\\ud2b8 \\\\ubcf4\\\\uae30\",\"viewReadPost\":\"View post in Reader\",\"subscribe\":\"\\\\uac00\\\\uc785\\\\ud558\\\\uae30\",\"enterEmail\":\"\\\\uc774\\\\uba54\\\\uc77c \\\\uc8fc\\\\uc18c \\\\uc785\\\\ub825\",\"followers\":\"\",\"alreadyUser\":\"\\\\uc774\\\\ubbf8 \\\\uc6cc\\\\ub4dc\\\\ud504\\\\ub808\\\\uc2a4\\\\ub2f7\\\\ucef4 \\\\uacc4\\\\uc815\\\\uc744 \\\\uac16\\\\uace0 \\\\uacc4\\\\uc138\\\\uc694? <a href=\\\\\"https:\\\\/\\\\/wordpress.com\\\\/log-in?redirect_to=https%3A%2F%2Fsparkkorea.com%2F&signup_flow=account&domain=sparkkorea.com\\\\\">\\\\uc9c0\\\\uae08 \\\\ub85c\\\\uadf8\\\\uc778\\\\ud558\\\\uc138\\\\uc694.<\\\\/a>\",\"stats\":\"\\\\ud1b5\\\\uacc4\"}};\\n</script>\\n<script type=\"text/javascript\" src=\"https://s0.wp.com/_static/??-eJyFysEKwjAMgOEXMitlsOFBfJY540hp0pqkuL29CvMgCJ7+w/+FR4W5iKN4SBZqMWc0mxbskh3C9+VyoYzQDPUFxIHkVn44zQ5Vy7p9Hsmc2xXtPdO9oW57Oib5i4Bp0clxx2c+xSGOfeyH8ZieetdG7A==\"></script>\\n<script type=\"text/javascript\">\\n\\twindow.addEventListener( \\'DOMContentLoaded\\', function() {\\n\\t\\trltInitialize( {\"token\":null,\"iframeOrigins\":[\"https:\\\\/\\\\/widgets.wp.com\"]} );\\n\\t} );\\n</script>\\n<link rel=\"EditURI\" type=\"application/rsd+xml\" title=\"RSD\" href=\"https://sparkkorea.wordpress.com/xmlrpc.php?rsd\">\\n<link rel=\"wlwmanifest\" type=\"application/wlwmanifest+xml\" href=\"https://s0.wp.com/wp-includes/wlwmanifest.xml\"> \\n<meta name=\"generator\" content=\"WordPress.com\">\\n<link rel=\"canonical\" href=\"https://sparkkorea.com/\">\\n<link rel=\"shortlink\" href=\"https://wp.me/Pb5P34-2\">\\n<link rel=\"alternate\" type=\"application/json+oembed\" href=\"https://public-api.wordpress.com/oembed/?format=json&amp;url=https%3A%2F%2Fsparkkorea.com%2F&amp;for=wpcom-auto-discovery\"><link rel=\"alternate\" type=\"application/xml+oembed\" href=\"https://public-api.wordpress.com/oembed/?format=xml&amp;url=https%3A%2F%2Fsparkkorea.com%2F&amp;for=wpcom-auto-discovery\">\\n<!-- Jetpack Open Graph Tags -->\\n<meta property=\"og:type\" content=\"website\">\\n<meta property=\"og:title\" content=\"스파크 코리아\">\\n<meta property=\"og:description\" content=\"스파크코리아 자료공유\">\\n<meta property=\"og:url\" content=\"https://sparkkorea.com/\">\\n<meta property=\"og:site_name\" content=\"스파크 코리아\">\\n<meta property=\"og:image\" content=\"https://sparkkorea.files.wordpress.com/2019/10/ec82aceca784ec9eaceba38c.jpg\">\\n<meta property=\"og:image:width\" content=\"996\">\\n<meta property=\"og:image:height\" content=\"532\">\\n<meta property=\"og:locale\" content=\"ko_KR\">\\n<meta name=\"twitter:site\" content=\"@wordpressdotcom\">\\n<meta name=\"twitter:text:title\" content=\"스파크코리아 소개\">\\n<meta name=\"twitter:image\" content=\"https://sparkkorea.files.wordpress.com/2019/10/ec82aceca784ec9eaceba38c.jpg?w=640\">\\n<meta name=\"twitter:card\" content=\"summary_large_image\">\\n<meta property=\"article:publisher\" content=\"https://www.facebook.com/WordPresscom\">\\n\\n<!-- End Jetpack Open Graph Tags -->\\n<link rel=\"shortcut icon\" type=\"image/x-icon\" href=\"https://s0.wp.com/i/favicon.ico\" sizes=\"16x16 24x24 32x32 48x48\">\\n<link rel=\"icon\" type=\"image/x-icon\" href=\"https://s0.wp.com/i/favicon.ico\" sizes=\"16x16 24x24 32x32 48x48\">\\n<link rel=\"apple-touch-icon\" href=\"https://s0.wp.com/i/webclip.png\">\\n<link rel=\"search\" type=\"application/opensearchdescription+xml\" href=\"https://sparkkorea.com/osd.xml\" title=\"스파크 코리아\">\\n<link rel=\"search\" type=\"application/opensearchdescription+xml\" href=\"https://s1.wp.com/opensearch.xml\" title=\"WordPress.com\">\\n<meta name=\"application-name\" content=\"스파크 코리아\"><meta name=\"msapplication-window\" content=\"width=device-width;height=device-height\"><meta name=\"msapplication-tooltip\" content=\"스파크코리아 자료공유\"><meta name=\"msapplication-task\" content=\"name=구독;action-uri=https://sparkkorea.com/feed/;icon-uri=https://s0.wp.com/i/favicon.ico\"><meta name=\"msapplication-task\" content=\"name=무료 블로그 등록;action-uri=http://wordpress.com/signup/;icon-uri=https://s0.wp.com/i/favicon.ico\"><meta name=\"msapplication-task\" content=\"name=WordPress.com 지원;action-uri=http://support.wordpress.com/;icon-uri=https://s0.wp.com/i/favicon.ico\"><meta name=\"msapplication-task\" content=\"name=WordPress.com 포럼;action-uri=http://forums.wordpress.com/;icon-uri=https://s0.wp.com/i/favicon.ico\"><meta name=\"description\" content=\"스마트 금융과는 금융/IT 융합 학과입니다.대졸자 또는 동등이상 자격자만 지원 가능한 하이테크 과정[2021년도 교육생 모집 마감] 원서접수 사이트로 이동 국비지원과정 스마트금융과를 선택해햐하는 이유는? 전문교수진 빅데이터, 블록체인 등 최근 기술인력 부족으로 수요가 많지만 전문적인 강의를 듣기 힘듭니다. 스마트금융과는 삼성, LG등 대기업에서 근무하신 실무경험이 풍부한 교수진들이 직접 수행한 프로젝트 경험을 살려 강의합니다. 높은 취업률 1기 88.9%, 2기 95.7%,…\">\\n<link rel=\"stylesheet\" type=\"text/css\" id=\"gravatar-card-css\" href=\"https://0.gravatar.com/dist/css/hovercard.min.css?ver=202116y\"><link rel=\"stylesheet\" type=\"text/css\" id=\"gravatar-card-services-css\" href=\"https://0.gravatar.com/dist/css/services.min.css?ver=202116y\"><link href=\"https://s0.wp.com/wp-content/mu-plugins/actionbar/actionbar.css?v=20201002\" type=\"text/css\" rel=\"stylesheet\"></head>\\n\\n<body class=\"home page-template-default page page-id-2 wp-embed-responsive customizer-styles-applied is-singular highlander-enabled highlander-light not-scrolled\">\\n<div id=\"page\" class=\"hfeed site\">\\n\\t<a class=\"skip-link screen-reader-text\" href=\"#content\">컨텐츠로 건너뛰기</a>\\n\\n\\t<header id=\"masthead\" class=\"site-header\" role=\"banner\">\\n\\t\\t<div class=\"site-branding\">\\n\\t\\t\\t\\t\\t\\t<h1 class=\"site-title\">\\n\\t\\t\\t\\t<a href=\"https://sparkkorea.com/\" rel=\"home\">\\n\\t\\t\\t\\t\\t스파크 코리아\\t\\t\\t\\t</a>\\n\\t\\t\\t</h1>\\n\\t\\t\\t<p class=\"site-description\">스파크코리아 자료공유</p>\\n\\t\\t</div><!-- .site-branding -->\\n\\n\\t\\t<nav id=\"site-navigation\" class=\"main-navigation\" role=\"navigation\">\\n\\t\\t\\t<button class=\"menu-toggle\" aria-controls=\"primary-menu\" aria-expanded=\"false\">메뉴</button>\\n\\t\\t\\t<div class=\"primary-menu\"><ul id=\"primary-menu\" class=\"menu nav-menu\" aria-expanded=\"false\"><li id=\"menu-item-27\" class=\"menu-item menu-item-type-post_type menu-item-object-page menu-item-27\"><a href=\"https://sparkkorea.com/%ec%9e%90%eb%a3%8c%ec%8b%a4/\">자료실</a></li>\\n<li id=\"menu-item-264\" class=\"menu-item menu-item-type-post_type menu-item-object-page menu-item-264\"><a href=\"https://sparkkorea.com/%ec%84%a4%eb%ac%b8-2/\">설문s</a></li>\\n<li id=\"menu-item-382\" class=\"menu-item menu-item-type-post_type menu-item-object-page menu-item-382\"><a href=\"https://sparkkorea.com/%ed%80%b4%ec%a6%88/\">퀴즈</a></li>\\n<li id=\"menu-item-383\" class=\"menu-item menu-item-type-post_type menu-item-object-page menu-item-383\"><a href=\"https://sparkkorea.com/%ed%85%8c%ec%8a%a4%ed%8a%b8/\">테스트</a></li>\\n<li id=\"menu-item-397\" class=\"menu-item menu-item-type-post_type menu-item-object-page menu-item-397\"><a href=\"https://sparkkorea.com/%ec%84%a4%eb%ac%b8/\">학생퀴즈</a></li>\\n</ul></div>\\t\\t</nav>\\n\\n\\t</header><!-- #masthead -->\\n\\n\\t<div class=\"site-inner\">\\n\\n\\t\\t\\t\\t\\t<div class=\"featured-content\">\\n\\t\\t\\t\\t\\n\\n<div id=\"site-banner\" class=\"site-banner no-slider\">\\n\\n\\t<div class=\"site-banner-inner\">\\n\\n\\t\\t<div class=\"site-banner-content banner-custom-header\">\\n\\n\\t\\n\\t<div class=\"site-banner-media\">\\n\\t\\t\\t\\t<div class=\"site-banner-thumbnail\" style=\"background-image: url(https://defaultcustomheadersdata.files.wordpress.com/2016/07/blur.jpg?resize=1800,720);\"></div>\\n\\t</div>\\n\\n\\t\\t\\t<div class=\"site-banner-header banner-description\">\\n\\n\\t\\t\\t<h1 class=\"entry-title site-description\">\\n\\t\\t\\t\\t스파크코리아 자료공유\\t\\t\\t</h1>\\n\\n\\t\\t</div><!-- .site-banner-header -->\\n\\t</div><!-- .site-banner-content -->\\n\\n\\t</div><!-- .site-banner-inner -->\\n\\n</div><!-- #site-banner -->\\n\\n\\n\\t\\t\\t</div>\\n\\t\\t\\n\\t\\t<div id=\"content\" class=\"site-content\">\\n\\n\\t<main id=\"primary\" class=\"content-area\" role=\"main\">\\n\\t\\t\\n\\t\\t\\t\\n<article id=\"post-2\" class=\"post-2 page type-page status-publish hentry\">\\n\\n\\t\\n\\t<div class=\"entry-inner\">\\n\\n\\t\\t<header class=\"entry-header\">\\n\\t\\t\\t<h1 class=\"entry-title\">스파크코리아 소개</h1>\\t\\t\\t\\t\\t</header><!-- .entry-header -->\\n\\n\\t\\t<div class=\"entry-content\">\\n\\t\\t\\t\\n<blockquote class=\"wp-block-quote has-text-align-center is-style-large\"><p><strong>스마트 금융과는 금융/IT 융합 학과입니다.</strong></p><p>대졸자 또는 동등이상 자격자만 지원 가능한 하이테크 과정</p><p>[2021년도 교육생 모집 마감]</p></blockquote>\\n\\n\\n\\n<div class=\"wp-block-button aligncenter\"><a class=\"wp-block-button__link\" href=\"https://ipsi.kopo.ac.kr/poly/wonseo/wonseoSearch.do?daehag_cd=1200000&amp;gwajeong_gb=34\">원서접수 사이트로 이동 </a></div>\\n\\n\\n\\n<hr class=\"wp-block-separator\">\\n\\n\\n\\n<hr class=\"wp-block-separator is-style-wide\">\\n\\n\\n\\n<h3 class=\"has-text-align-center has-text-color\" style=\"color:#093499;\"><strong>국비지원과정 스마트금융과를 선택해햐하는 이유는?</strong></h3>\\n\\n\\n\\n<div class=\"wp-block-columns\">\\n<div class=\"wp-block-column\">\\n<h4 class=\"has-text-align-center\">전문교수진</h4>\\n\\n\\n\\n<p>빅데이터, 블록체인 등 최근 기술인력 부족으로 수요가 많지만 전문적인 강의를 듣기 힘듭니다. 스마트금융과는 삼성, LG등 대기업에서 근무하신 실무경험이 풍부한 교수진들이 직접 수행한 프로젝트 경험을 살려 강의합니다.</p>\\n</div>\\n\\n\\n\\n<div class=\"wp-block-column\">\\n<h4 class=\"has-text-align-center\">높은 취업률</h4>\\n\\n\\n\\n<p>1기 88.9%, 2기 95.7%, 3기 현재 94%달성 및 진행중 이며  현장에서 바로 사용할 수 있는 기술을 배울 정도로 학생들의 실력이 현장 맞춤형 교육으로 진행됩니다.</p>\\n</div>\\n</div>\\n\\n\\n\\n<h3 class=\"has-text-align-center has-text-color\" style=\"color:#093499;\"><strong>주요 전담업체</strong></h3>\\n\\n\\n\\n<hr class=\"wp-block-separator\">\\n\\n\\n\\n<div class=\"wp-block-columns\">\\n<div class=\"wp-block-column\">\\n<h4 class=\"has-text-align-center\">현대페이</h4>\\n\\n\\n\\n<p>현대페이 대표님이 1기 대상으로 교육기간 중 특강을 진행해 주셨으며 관련IT 업체 프로젝트 사이트에 웹개발 성적이 우수한 수료생이 프로그램을 개발중에 있습니다.</p>\\n</div>\\n\\n\\n\\n<div class=\"wp-block-column\">\\n<h4 class=\"has-text-align-center\">데이터스트림즈</h4>\\n\\n\\n\\n<p>데이터분석 및 오픈소스프로그램 성적이 우수한 수료생은 데이터스트림즈 업체에 다수가 동반입사하여 금융결제원, 국세청등 빅데이터 분석 작업을 맡아서 진행하고 있습니다.</p>\\n</div>\\n\\n\\n\\n<div class=\"wp-block-column\">\\n<h4 class=\"has-text-align-center\">베스핀글로벌</h4>\\n\\n\\n\\n<p>빅데이터 처리환경을 이해한 1기생 다수가 동반입사하여 클라우드 기반 솔루션을 개발 중에 있습니다.</p>\\n</div>\\n</div>\\n\\n\\n\\n<h2 class=\"has-text-align-left\">스마트금융과 <strong>커리큘럼</strong></h2>\\n\\n\\n\\n<hr class=\"wp-block-separator\">\\n\\n\\n\\n<div class=\"wp-block-media-text alignwide is-stacked-on-mobile\" style=\"grid-template-columns:57% auto;\"><figure class=\"wp-block-media-text__media\"><img data-attachment-id=\"42\" data-permalink=\"https://sparkkorea.com/curriculum/\" data-orig-file=\"https://sparkkorea.files.wordpress.com/2019/07/curriculum.jpg\" data-orig-size=\"1741,972\" data-comments-opened=\"1\" data-image-meta=\"{&quot;aperture&quot;:&quot;0&quot;,&quot;credit&quot;:&quot;&quot;,&quot;camera&quot;:&quot;&quot;,&quot;caption&quot;:&quot;&quot;,&quot;created_timestamp&quot;:&quot;0&quot;,&quot;copyright&quot;:&quot;&quot;,&quot;focal_length&quot;:&quot;0&quot;,&quot;iso&quot;:&quot;0&quot;,&quot;shutter_speed&quot;:&quot;0&quot;,&quot;title&quot;:&quot;&quot;,&quot;orientation&quot;:&quot;0&quot;}\" data-image-title=\"curriculum\" data-image-description=\"\" data-medium-file=\"https://sparkkorea.files.wordpress.com/2019/07/curriculum.jpg?w=300\" data-large-file=\"https://sparkkorea.files.wordpress.com/2019/07/curriculum.jpg?w=1000\" src=\"https://sparkkorea.files.wordpress.com/2019/07/curriculum.jpg?w=736\" alt=\"\" class=\"wp-image-42 size-full\" srcset=\"https://sparkkorea.files.wordpress.com/2019/07/curriculum.jpg?w=736 736w, https://sparkkorea.files.wordpress.com/2019/07/curriculum.jpg?w=1472 1472w, https://sparkkorea.files.wordpress.com/2019/07/curriculum.jpg?w=150 150w, https://sparkkorea.files.wordpress.com/2019/07/curriculum.jpg?w=300 300w, https://sparkkorea.files.wordpress.com/2019/07/curriculum.jpg?w=768 768w, https://sparkkorea.files.wordpress.com/2019/07/curriculum.jpg?w=1024 1024w\" sizes=\"(max-width: 736px) 100vw, 736px\"></figure><div class=\"wp-block-media-text__content\">\\n<p class=\"has-medium-font-size\"><strong><em>전반적인 소프트웨어 중심 커리큘럼</em></strong></p>\\n\\n\\n\\n<p class=\"has-medium-font-size\"><strong>소프트웨어가 구동되는 운영체제 실습          빅데이터 활용 및 분석을 위한 실습                       블록체인의 구동원리를 이해하는 실습               웹 기반 시각화 및 데이터 조작 실습                 </strong></p>\\n</div></div>\\n\\n\\n\\n<h2 class=\"has-text-align-left\">스마트금융과 <strong>학사일정</strong> (1년, [3월시작 시 10월말 취업가능] )</h2>\\n\\n\\n\\n<hr class=\"wp-block-separator\">\\n\\n\\n\\n<div class=\"wp-block-media-text alignwide has-media-on-the-right is-stacked-on-mobile\" style=\"grid-template-columns:auto 64%;\"><figure class=\"wp-block-media-text__media\"><img data-attachment-id=\"158\" data-permalink=\"https://sparkkorea.com/home/%ec%8a%a4%eb%a7%88%ed%8a%b8%ea%b8%88%ec%9c%b5%ea%b3%bc%ec%8b%9c%ea%b0%84%ed%91%9c/\" data-orig-file=\"https://sparkkorea.files.wordpress.com/2019/10/ec8aa4eba788ed8ab8eab888ec9cb5eab3bcec8b9ceab084ed919c-1.jpg\" data-orig-size=\"1747,543\" data-comments-opened=\"1\" data-image-meta=\"{&quot;aperture&quot;:&quot;0&quot;,&quot;credit&quot;:&quot;&quot;,&quot;camera&quot;:&quot;&quot;,&quot;caption&quot;:&quot;&quot;,&quot;created_timestamp&quot;:&quot;0&quot;,&quot;copyright&quot;:&quot;&quot;,&quot;focal_length&quot;:&quot;0&quot;,&quot;iso&quot;:&quot;0&quot;,&quot;shutter_speed&quot;:&quot;0&quot;,&quot;title&quot;:&quot;&quot;,&quot;orientation&quot;:&quot;0&quot;}\" data-image-title=\"스마트금융과시간표\" data-image-description=\"\" data-medium-file=\"https://sparkkorea.files.wordpress.com/2019/10/ec8aa4eba788ed8ab8eab888ec9cb5eab3bcec8b9ceab084ed919c-1.jpg?w=300\" data-large-file=\"https://sparkkorea.files.wordpress.com/2019/10/ec8aa4eba788ed8ab8eab888ec9cb5eab3bcec8b9ceab084ed919c-1.jpg?w=1000\" src=\"https://sparkkorea.files.wordpress.com/2019/10/ec8aa4eba788ed8ab8eab888ec9cb5eab3bcec8b9ceab084ed919c-1.jpg?w=1024\" alt=\"\" class=\"wp-image-158 size-full\" srcset=\"https://sparkkorea.files.wordpress.com/2019/10/ec8aa4eba788ed8ab8eab888ec9cb5eab3bcec8b9ceab084ed919c-1.jpg?w=1024 1024w, https://sparkkorea.files.wordpress.com/2019/10/ec8aa4eba788ed8ab8eab888ec9cb5eab3bcec8b9ceab084ed919c-1.jpg?w=150 150w, https://sparkkorea.files.wordpress.com/2019/10/ec8aa4eba788ed8ab8eab888ec9cb5eab3bcec8b9ceab084ed919c-1.jpg?w=300 300w, https://sparkkorea.files.wordpress.com/2019/10/ec8aa4eba788ed8ab8eab888ec9cb5eab3bcec8b9ceab084ed919c-1.jpg?w=768 768w, https://sparkkorea.files.wordpress.com/2019/10/ec8aa4eba788ed8ab8eab888ec9cb5eab3bcec8b9ceab084ed919c-1.jpg 1747w\" sizes=\"(max-width: 1024px) 100vw, 1024px\"></figure><div class=\"wp-block-media-text__content\">\\n<p style=\"font-size:17px;\"><strong>1학기: 실습중심의 핀테크 이해                            </strong></p>\\n\\n\\n\\n<p style=\"font-size:17px;\"><strong>2학기: 팀별 실습프로젝트 수행</strong></p>\\n</div></div>\\n\\n\\n\\n<h3 class=\"has-text-align-center has-text-color\" style=\"color:#093499;\"><strong>1기 교육생 후기</strong></h3>\\n\\n\\n\\n<p>1기 교육생들이 교육과정 중 교수님에게 전달한 편지에 담겨진 내용들 입니다.</p>\\n\\n\\n\\n<div class=\"wp-block-columns\">\\n<div class=\"wp-block-column\">\\n<h4 class=\"has-text-align-center\">박OO (29세)</h4>\\n\\n\\n\\n<p>처음 입과시 비전공자라서 수업을 따라갈 수 있을까 걱정을 많이 했는데 교수님들이 정말 상세히 알려주시고 하나를 물어보면 그 이상을 알려주셔서 수업을 쉽게 이해할 수 있었습니다.</p>\\n</div>\\n\\n\\n\\n<div class=\"wp-block-column\">\\n<h4 class=\"has-text-align-center\">성OO (27세)</h4>\\n\\n\\n\\n<p>사람은 항상 선택을 하며 산다고 하는데 폴리텍 스마트금융과는 가장 훌륭한 선택이였습니다. 교수님의 유쾌한 설명은 학교를 다니는 또 하나의 큰 재미였습니다.</p>\\n</div>\\n\\n\\n\\n<div class=\"wp-block-column\">\\n<h4 class=\"has-text-align-center\">이OO (26세)</h4>\\n\\n\\n\\n<p>타 학교나 교육과정에서 느껴보지 못했던 교수님들의 열정에 항상 감사합니다. 교수님들을 만난 것이 행운이였습니다. 한명 한명 가르쳐 주시느라 늦게까지 남아계셔서 힘드실까봐 마음에 걸립니다.</p>\\n</div>\\n</div>\\n\\n\\n\\n<div class=\"wp-block-media-text alignwide is-stacked-on-mobile is-vertically-aligned-center\" style=\"grid-template-columns:55% auto;\"><figure class=\"wp-block-media-text__media\"><img data-attachment-id=\"202\" data-permalink=\"https://sparkkorea.com/home/%ec%82%ac%ec%a7%84%ec%9e%ac%eb%a3%8c/\" data-orig-file=\"https://sparkkorea.files.wordpress.com/2019/10/ec82aceca784ec9eaceba38c.jpg\" data-orig-size=\"996,532\" data-comments-opened=\"1\" data-image-meta=\"{&quot;aperture&quot;:&quot;0&quot;,&quot;credit&quot;:&quot;&quot;,&quot;camera&quot;:&quot;&quot;,&quot;caption&quot;:&quot;&quot;,&quot;created_timestamp&quot;:&quot;0&quot;,&quot;copyright&quot;:&quot;&quot;,&quot;focal_length&quot;:&quot;0&quot;,&quot;iso&quot;:&quot;0&quot;,&quot;shutter_speed&quot;:&quot;0&quot;,&quot;title&quot;:&quot;&quot;,&quot;orientation&quot;:&quot;0&quot;}\" data-image-title=\"사진재료\" data-image-description=\"\" data-medium-file=\"https://sparkkorea.files.wordpress.com/2019/10/ec82aceca784ec9eaceba38c.jpg?w=300\" data-large-file=\"https://sparkkorea.files.wordpress.com/2019/10/ec82aceca784ec9eaceba38c.jpg?w=996\" src=\"https://sparkkorea.files.wordpress.com/2019/10/ec82aceca784ec9eaceba38c.jpg?w=996\" alt=\"\" class=\"wp-image-202 size-full\" srcset=\"https://sparkkorea.files.wordpress.com/2019/10/ec82aceca784ec9eaceba38c.jpg 996w, https://sparkkorea.files.wordpress.com/2019/10/ec82aceca784ec9eaceba38c.jpg?w=150 150w, https://sparkkorea.files.wordpress.com/2019/10/ec82aceca784ec9eaceba38c.jpg?w=300 300w, https://sparkkorea.files.wordpress.com/2019/10/ec82aceca784ec9eaceba38c.jpg?w=768 768w\" sizes=\"(max-width: 996px) 100vw, 996px\"></figure><div class=\"wp-block-media-text__content\">\\n<p class=\"has-medium-font-size\"><strong> 전문 교수진 (대기업 및 CEO 대상 강의) <br> 제 1 금융권 및 우수IT기업 지속 교류</strong> </p>\\n\\n\\n\\n<p></p>\\n</div></div>\\n\\n\\n\\n<div class=\"wp-block-media-text alignwide has-media-on-the-right is-stacked-on-mobile\" style=\"grid-template-columns:auto 45%;\"><figure class=\"wp-block-media-text__media\"><img data-attachment-id=\"72\" data-permalink=\"https://sparkkorea.com/img_1211/\" data-orig-file=\"https://sparkkorea.files.wordpress.com/2019/07/img_1211.jpg\" data-orig-size=\"4032,3024\" data-comments-opened=\"1\" data-image-meta=\"{&quot;aperture&quot;:&quot;1.8&quot;,&quot;credit&quot;:&quot;&quot;,&quot;camera&quot;:&quot;iPhone 7 Plus&quot;,&quot;caption&quot;:&quot;&quot;,&quot;created_timestamp&quot;:&quot;1553768691&quot;,&quot;copyright&quot;:&quot;&quot;,&quot;focal_length&quot;:&quot;3.99&quot;,&quot;iso&quot;:&quot;32&quot;,&quot;shutter_speed&quot;:&quot;0.016666666666667&quot;,&quot;title&quot;:&quot;&quot;,&quot;orientation&quot;:&quot;1&quot;}\" data-image-title=\"IMG_1211\" data-image-description=\"\" data-medium-file=\"https://sparkkorea.files.wordpress.com/2019/07/img_1211.jpg?w=300\" data-large-file=\"https://sparkkorea.files.wordpress.com/2019/07/img_1211.jpg?w=1000\" src=\"https://sparkkorea.files.wordpress.com/2019/07/img_1211.jpg?w=736\" alt=\"\" class=\"wp-image-72 size-full\" srcset=\"https://sparkkorea.files.wordpress.com/2019/07/img_1211.jpg?w=736 736w, https://sparkkorea.files.wordpress.com/2019/07/img_1211.jpg?w=1472 1472w, https://sparkkorea.files.wordpress.com/2019/07/img_1211.jpg?w=150 150w, https://sparkkorea.files.wordpress.com/2019/07/img_1211.jpg?w=300 300w, https://sparkkorea.files.wordpress.com/2019/07/img_1211.jpg?w=768 768w, https://sparkkorea.files.wordpress.com/2019/07/img_1211.jpg?w=1024 1024w\" sizes=\"(max-width: 736px) 100vw, 736px\"></figure><div class=\"wp-block-media-text__content\">\\n<p><strong><em>혼자가 아닌 팀 프로젝트 실습</em></strong></p>\\n\\n\\n\\n<p><strong>코드 작성 전 설계를하고 팀원간 설계자료를  공유함으로써 모든 프로세스를 이해한 상태에서  코드를 작성하는 방법을 배웁니다.</strong>  </p>\\n\\n\\n\\n<div class=\"wp-block-button\"><a class=\"wp-block-button__link\" href=\"https://o365kopo-my.sharepoint.com/:v:/g/personal/haiteam_office_kopo_ac_kr/EWeqSeFODKVEhi9k7A-webEBmKFfi8d-i3Osg2MRW2NXMg?e=351BRP\">영상 링크</a></div>\\n\\n\\n\\n<p></p>\\n</div></div>\\n\\n\\n\\n<hr class=\"wp-block-separator\">\\n\\n\\n\\n<hr class=\"wp-block-separator\">\\n\\n\\n\\n<div class=\"wp-block-media-text alignwide\"><figure class=\"wp-block-media-text__media\"><img data-attachment-id=\"448\" data-permalink=\"https://sparkkorea.com/hkcode/\" data-orig-file=\"https://sparkkorea.files.wordpress.com/2020/05/hkcode.png\" data-orig-size=\"1154,672\" data-comments-opened=\"1\" data-image-meta=\"{&quot;aperture&quot;:&quot;0&quot;,&quot;credit&quot;:&quot;&quot;,&quot;camera&quot;:&quot;&quot;,&quot;caption&quot;:&quot;&quot;,&quot;created_timestamp&quot;:&quot;0&quot;,&quot;copyright&quot;:&quot;&quot;,&quot;focal_length&quot;:&quot;0&quot;,&quot;iso&quot;:&quot;0&quot;,&quot;shutter_speed&quot;:&quot;0&quot;,&quot;title&quot;:&quot;&quot;,&quot;orientation&quot;:&quot;0&quot;}\" data-image-title=\"hkcode\" data-image-description=\"\" data-medium-file=\"https://sparkkorea.files.wordpress.com/2020/05/hkcode.png?w=300\" data-large-file=\"https://sparkkorea.files.wordpress.com/2020/05/hkcode.png?w=1000\" src=\"https://sparkkorea.files.wordpress.com/2020/05/hkcode.png?w=1024\" alt=\"\" class=\"wp-image-448 size-full\" srcset=\"https://sparkkorea.files.wordpress.com/2020/05/hkcode.png?w=1024 1024w, https://sparkkorea.files.wordpress.com/2020/05/hkcode.png?w=150 150w, https://sparkkorea.files.wordpress.com/2020/05/hkcode.png?w=300 300w, https://sparkkorea.files.wordpress.com/2020/05/hkcode.png?w=768 768w, https://sparkkorea.files.wordpress.com/2020/05/hkcode.png 1154w\" sizes=\"(max-width: 1024px) 100vw, 1024px\"></figure><div class=\"wp-block-media-text__content\">\\n<h4><strong>4차 산업혁명</strong> 대비 교육과정</h4>\\n\\n\\n\\n<p>쉽게 접하는 빅데이터/인공지능 세상</p>\\n\\n\\n\\n<p>블록체인과 께하는 거래모듈 학습</p>\\n</div></div>\\n\\n\\n\\n<h2><strong>스마트금융과 홍보영상</strong></h2>\\n\\n\\n\\n<figure class=\"wp-block-embed-youtube wp-block-embed is-type-rich wp-embed-aspect-16-9 wp-has-aspect-ratio\"><div class=\"wp-block-embed__wrapper\">\\n<div class=\"jetpack-video-wrapper\"><span class=\"embed-youtube\" style=\"text-align:center; display: block;\"><iframe class=\"youtube-player\" src=\"https://www.youtube.com/embed/19_GM-FoZRQ?version=3&amp;rel=1&amp;showsearch=0&amp;showinfo=1&amp;iv_load_policy=1&amp;fs=1&amp;hl=ko&amp;autohide=2&amp;wmode=transparent\" allowfullscreen=\"true\" style=\"border: 0px; display: block; margin: 0px; width: 700px; height: 394.1px;\" sandbox=\"allow-scripts allow-same-origin allow-popups allow-presentation\" data-ratio=\"0.563\" data-width=\"1000\" data-height=\"563\"></iframe></span></div>\\n</div></figure>\\n\\n\\n\\n<h2>문의하기</h2>\\n\\n\\n\\n<p>한국폴리텍대학 스마트금융과<br>서울시 강서구 우장산로 10길 제1교육관<br>haiteam@kopo.ac.kr<br></p>\\n\\n\\n\\n<hr class=\"wp-block-separator\">\\n\\n\\n\\n<h2>메시지 보내기</h2>\\n\\n\\n<div id=\"contact-form-2\">\\n<form action=\"https://sparkkorea.com/#contact-form-2\" method=\"post\" class=\"contact-form commentsblock\">\\n\\n\\n<div class=\"grunion-field-wrap grunion-field-name-wrap\">\\n<label for=\"g2\" class=\"grunion-field-label name\">이름<span>(필수)</span></label>\\n<input type=\"text\" name=\"g2\" id=\"g2\" value=\"\" class=\"name\" required=\"\" aria-required=\"true\">\\n\\t</div>\\n\\n\\n\\n<div class=\"grunion-field-wrap grunion-field-email-wrap\">\\n<label for=\"g2-1\" class=\"grunion-field-label email\">이메일<span>(필수)</span></label>\\n<input type=\"email\" name=\"g2-1\" id=\"g2-1\" value=\"\" class=\"email\" required=\"\" aria-required=\"true\">\\n\\t</div>\\n\\n\\n\\n<div class=\"grunion-field-wrap grunion-field-textarea-wrap\">\\n<label for=\"contact-form-comment-g2-2\" class=\"grunion-field-label textarea\">메시지</label>\\n<textarea name=\"g2-2\" id=\"contact-form-comment-g2-2\" rows=\"20\" class=\"textarea\"></textarea>\\n\\t</div>\\n\\n\\t<p class=\"contact-submit\">\\n\\t\\t<button type=\"submit\" class=\"pushbutton-wide\">전송</button>\\t\\t<input type=\"hidden\" name=\"contact-form-id\" value=\"2\">\\n\\t\\t<input type=\"hidden\" name=\"action\" value=\"grunion-contact-form\">\\n\\t\\t<input type=\"hidden\" name=\"contact-form-hash\" value=\"c53b29069da6e13887608b335d54f4729c632ad0\">\\n\\t</p>\\n</form>\\n</div>\\n\\n\\n<hr class=\"wp-block-separator\">\\n\\n\\n\\n<p class=\"has-small-font-size\">Copyright 스마트금융과 2019, 김효관 – All rights reserved (haiteam@kopo.ac.kr)<br></p>\\n\\t\\t\\t\\t\\t</div><!-- .entry-content -->\\n\\n\\t</div><!-- .entry-inner -->\\n</article><!-- #post-## -->\\n\\n\\n\\t\\t\\n\\t\\t\\n\\t</main><!-- #main -->\\n\\n\\n\\t\\t</div><!-- #content -->\\n\\n\\t\\t<footer id=\"colophon\" class=\"site-footer\" role=\"contentinfo\">\\n\\t\\t\\t\\n\\t\\t\\t<div class=\"footer-bottom-info \">\\n\\n\\t\\t\\t\\t\\n\\t\\t\\t\\t<div class=\"site-info\">\\n\\t\\t\\t\\t\\t<a href=\"https://wordpress.com/?ref=footer_segment_business\" rel=\"nofollow\">A WordPress.com Website.</a>\\n\\t\\t\\t\\t\\t\\n\\t\\t\\t\\t\\t\\t\\t\\t\\t</div><!-- .site-info -->\\n\\t\\t\\t</div><!-- .footer-bottom-info -->\\n\\n\\t\\t</footer><!-- #colophon -->\\n\\n\\t</div><!-- .site-inner -->\\n</div><!-- #page -->\\n\\n<!--  -->\\n<script src=\"//0.gravatar.com/js/gprofiles.js?ver=202116y\" id=\"grofiles-cards-js\"></script>\\n<script id=\"wpgroho-js-extra\">\\nvar WPGroHo = {\"my_hash\":\"\"};\\n</script>\\n<script type=\"text/javascript\" src=\"https://s0.wp.com/wp-content/mu-plugins/gravatar-hovercards/wpgroho.js?m=1610363240h\"></script>\\n\\n\\t<script>\\n\\t\\t// Initialize and attach hovercards to all gravatars\\n\\t\\t( function() {\\n\\t\\t\\tfunction init() {\\n\\t\\t\\t\\tif ( typeof Gravatar === \\'undefined\\' ) {\\n\\t\\t\\t\\t\\treturn;\\n\\t\\t\\t\\t}\\n\\n\\t\\t\\t\\tif ( typeof Gravatar.init !== \\'function\\' ) {\\n\\t\\t\\t\\t\\treturn;\\n\\t\\t\\t\\t}\\n\\n\\t\\t\\t\\tGravatar.profile_cb = function ( hash, id ) {\\n\\t\\t\\t\\t\\tWPGroHo.syncProfileData( hash, id );\\n\\t\\t\\t\\t};\\n\\n\\t\\t\\t\\tGravatar.my_hash = WPGroHo.my_hash;\\n\\t\\t\\t\\tGravatar.init( \\'body\\', \\'#wp-admin-bar-my-account\\' );\\n\\t\\t\\t}\\n\\n\\t\\t\\tif ( document.readyState !== \\'loading\\' ) {\\n\\t\\t\\t\\tinit();\\n\\t\\t\\t} else {\\n\\t\\t\\t\\tdocument.addEventListener( \\'DOMContentLoaded\\', init );\\n\\t\\t\\t}\\n\\t\\t} )();\\n\\t</script>\\n\\n\\t\\t<div style=\"display:none\">\\n\\t</div>\\n\\n<script>\\nwindow.addEventListener( \"load\", function( event ) {\\n\\tvar link = document.createElement( \"link\" );\\n\\tlink.href = \"https://s0.wp.com/wp-content/mu-plugins/actionbar/actionbar.css?v=20201002\";\\n\\tlink.type = \"text/css\";\\n\\tlink.rel = \"stylesheet\";\\n\\tdocument.head.appendChild( link );\\n\\n\\tvar script = document.createElement( \"script\" );\\n\\tscript.src = \"https://s0.wp.com/wp-content/mu-plugins/actionbar/actionbar.js?v=20201002\";\\n\\tscript.defer = true;\\n\\tdocument.body.appendChild( script );\\n} );\\n</script>\\n\\n\\t\\n\\t<div id=\"carousel-reblog-box\">\\n\\t\\t<form action=\"#\" name=\"carousel-reblog\">\\n\\t\\t\\t<label for=\"carousel-reblog-content\" id=\"carousel-reblog-lblogcontent\" class=\"screen-reader-text\">생각을 여기에 적으세요... (선택사항)</label>\\n\\t\\t\\t<textarea id=\"carousel-reblog-content\" name=\"carousel-reblog-content\" placeholder=\"생각을 여기에 적으세요... (선택사항)\"></textarea>\\n\\t\\t\\t<label for=\"carousel-reblog-to-blog-id\" id=\"carousel-reblog-lblogid\">다음에 게시:</label>\\n\\t\\t\\t<select name=\"carousel-reblog-to-blog-id\" id=\"carousel-reblog-to-blog-id\">\\n\\t\\t\\t\\t\\t\\t</select>\\n\\n\\t\\t\\t<div class=\"submit\">\\n\\t\\t\\t\\t<span class=\"canceltext\"><a href=\"#\" class=\"cancel\">취소</a></span>\\n\\t\\t\\t\\t<input type=\"submit\" name=\"carousel-reblog-submit\" class=\"button\" id=\"carousel-reblog-submit\" value=\"리블로그하기\">\\n\\t\\t\\t\\t<input type=\"hidden\" id=\"carousel-reblog-blog-id\" value=\"163927570\">\\n\\t\\t\\t\\t<input type=\"hidden\" id=\"carousel-reblog-blog-url\" value=\"https://sparkkorea.com\">\\n\\t\\t\\t\\t<input type=\"hidden\" id=\"carousel-reblog-blog-title\" value=\"스파크 코리아\">\\n\\t\\t\\t\\t<input type=\"hidden\" id=\"carousel-reblog-post-url\" value=\"\">\\n\\t\\t\\t\\t<input type=\"hidden\" id=\"carousel-reblog-post-title\" value=\"\">\\n\\t\\t\\t</div>\\n\\n\\t\\t\\t<input type=\"hidden\" id=\"_wpnonce\" name=\"_wpnonce\" value=\"815e4103e9\"><input type=\"hidden\" name=\"_wp_http_referer\" value=\"/\">\\t\\t</form>\\n\\n\\t\\t<div class=\"arrow\"></div>\\n\\t</div>\\n\\n\\t\\t<div class=\"jp-carousel-wrap jp-carousel-transitions\" itemscope=\"\" itemtype=\"https://schema.org/ImageGallery\" style=\"display: none;\">\\n\\t\\t\\t<div class=\"jp-carousel-overlay\"></div>\\n\\t\\t\\t<div class=\"jp-carousel\"></div>\\n\\t\\t\\t<div class=\"jp-carousel-fadeaway\"></div>\\n\\t\\t\\t<div class=\"jp-carousel-info\">\\n\\t\\t\\t\\t<div class=\"jp-carousel-photo-info\">\\n\\t\\t\\t\\t\\t<h2 class=\"jp-carousel-caption\" itemprop=\"caption description\"></h2>\\n\\t\\t\\t\\t</div>\\n\\t\\t\\t\\t<div class=\"jp-carousel-info-columns\">\\n\\t\\t\\t\\t\\t<div class=\"jp-carousel-left-column-wrapper\">\\n\\t\\t\\t\\t\\t\\t<div class=\"jp-carousel-titleanddesc\"></div>\\n\\t\\t\\t\\t\\t\\t<!-- Intentional duplicate -->\\n\\t\\t\\t\\t\\t\\t<div class=\"jp-carousel-photo-info\">\\n\\t\\t\\t\\t\\t\\t\\t<h2 class=\"jp-carousel-caption\" itemprop=\"caption description\"></h2>\\n\\t\\t\\t\\t\\t\\t</div>\\n\\t\\t\\t\\t\\t\\t\\t\\t\\t\\t\\t\\t\\t<div id=\"jp-carousel-comment-form-container\">\\n\\t\\t\\t\\t\\t\\t\\t\\t\\t\\t\\t\\t\\t\\t\\t\\t\\t\\t\\t\\t\\t\\t\\t\\t\\t\\t\\t<form id=\"jp-carousel-comment-form\">\\n\\t\\t\\t\\t\\t\\t\\t\\t\\t\\t\\t<textarea name=\"comment\" class=\"jp-carousel-comment-form-field jp-carousel-comment-form-textarea\" id=\"jp-carousel-comment-form-comment-field\" placeholder=\"댓글 달기...\"></textarea>\\n\\t\\t\\t\\t\\t\\t\\t\\t\\t\\t\\t<div id=\"jp-carousel-comment-form-submit-and-info-wrapper\">\\n\\t\\t\\t\\t\\t\\t\\t\\t\\t\\t\\t\\t<div id=\"jp-carousel-comment-form-commenting-as\">\\n\\t\\t\\t\\t\\t\\t\\t\\t\\t\\t\\t\\t\\t\\t\\t\\t\\t\\t\\t\\t\\t\\t\\t\\t\\t\\t\\t<fieldset>\\n\\t\\t\\t\\t\\t\\t\\t\\t\\t\\t\\t\\t\\t\\t\\t<label for=\"jp-carousel-comment-form-email-field\">이메일 (필수)</label>\\n\\t\\t\\t\\t\\t\\t\\t\\t\\t\\t\\t\\t\\t\\t\\t<input type=\"text\" name=\"email\" class=\"jp-carousel-comment-form-field jp-carousel-comment-form-text-field\" id=\"jp-carousel-comment-form-email-field\">\\n\\t\\t\\t\\t\\t\\t\\t\\t\\t\\t\\t\\t\\t\\t</fieldset>\\n\\t\\t\\t\\t\\t\\t\\t\\t\\t\\t\\t\\t\\t\\t<fieldset>\\n\\t\\t\\t\\t\\t\\t\\t\\t\\t\\t\\t\\t\\t\\t\\t<label for=\"jp-carousel-comment-form-author-field\">이름 (필수)</label>\\n\\t\\t\\t\\t\\t\\t\\t\\t\\t\\t\\t\\t\\t\\t\\t<input type=\"text\" name=\"author\" class=\"jp-carousel-comment-form-field jp-carousel-comment-form-text-field\" id=\"jp-carousel-comment-form-author-field\">\\n\\t\\t\\t\\t\\t\\t\\t\\t\\t\\t\\t\\t\\t\\t</fieldset>\\n\\t\\t\\t\\t\\t\\t\\t\\t\\t\\t\\t\\t\\t\\t<fieldset>\\n\\t\\t\\t\\t\\t\\t\\t\\t\\t\\t\\t\\t\\t\\t\\t<label for=\"jp-carousel-comment-form-url-field\">웹사이트</label>\\n\\t\\t\\t\\t\\t\\t\\t\\t\\t\\t\\t\\t\\t\\t\\t<input type=\"text\" name=\"url\" class=\"jp-carousel-comment-form-field jp-carousel-comment-form-text-field\" id=\"jp-carousel-comment-form-url-field\">\\n\\t\\t\\t\\t\\t\\t\\t\\t\\t\\t\\t\\t\\t\\t</fieldset>\\n\\t\\t\\t\\t\\t\\t\\t\\t\\t\\t\\t\\t\\t\\t\\t\\t\\t\\t\\t\\t\\t\\t\\t\\t\\t</div>\\n\\t\\t\\t\\t\\t\\t\\t\\t\\t\\t\\t\\t<input type=\"submit\" name=\"submit\" class=\"jp-carousel-comment-form-button\" id=\"jp-carousel-comment-form-button-submit\" value=\"댓글 달기\">\\n\\t\\t\\t\\t\\t\\t\\t\\t\\t\\t\\t\\t<span id=\"jp-carousel-comment-form-spinner\">&nbsp;</span>\\n\\t\\t\\t\\t\\t\\t\\t\\t\\t\\t\\t\\t<div id=\"jp-carousel-comment-post-results\"></div>\\n\\t\\t\\t\\t\\t\\t\\t\\t\\t\\t\\t</div>\\n\\t\\t\\t\\t\\t\\t\\t\\t\\t\\t</form>\\n\\t\\t\\t\\t\\t\\t\\t\\t\\t\\t\\t\\t\\t\\t\\t\\t\\t\\t\\t\\t\\t\\t\\t\\t</div>\\n\\t\\t\\t\\t\\t\\t\\t<div class=\"jp-carousel-comments\"></div>\\n\\t\\t\\t\\t\\t\\t\\t<div id=\"jp-carousel-comments-loading\">\\n\\t\\t\\t\\t\\t\\t\\t\\t<span>댓글 로드중...</span>\\n\\t\\t\\t\\t\\t\\t\\t</div>\\n\\t\\t\\t\\t\\t\\t\\t\\t\\t\\t\\t</div>\\n\\t\\t\\t\\t\\t<div class=\"jp-carousel-image-meta\">\\n\\t\\t\\t\\t\\t\\t<div class=\"jp-carousel-buttons\">\\n\\t\\t\\t\\t\\t\\t\\t\\t\\t\\t\\t\\t\\t\\t<a class=\"jp-carousel-commentlink\" href=\"#\">댓글</a>\\n\\t\\t\\t\\t\\t\\t\\t\\t\\t\\t\\t\\t\\t\\t\\t\\t\\t\\t\\t\\t</div>\\n\\t\\t\\t\\t\\t\\t<ul class=\"jp-carousel-image-exif\" style=\"display: none;\"></ul>\\n\\t\\t\\t\\t\\t\\t<a class=\"jp-carousel-image-download\" style=\"display: none;\"></a>\\n\\t\\t\\t\\t\\t\\t<div class=\"jp-carousel-image-map\" style=\"display: none;\"></div>\\n\\t\\t\\t\\t\\t</div>\\n\\t\\t\\t\\t</div>\\n\\t\\t\\t</div>\\n\\t\\t\\t<div class=\"jp-carousel-next-button\" style=\"display: none;\">\\n\\t\\t\\t\\t<span></span>\\n\\t\\t\\t</div>\\n\\t\\t\\t<div class=\"jp-carousel-previous-button\" style=\"display: none;\">\\n\\t\\t\\t\\t<span></span>\\n\\t\\t\\t</div>\\n\\t\\t\\t<div class=\"jp-carousel-close-hint\"><span>×</span></div>\\n\\t\\t</div>\\n\\n\\t\\t<link rel=\"stylesheet\" id=\"all-css-0-2\" href=\"https://s0.wp.com/_static/??-eJx9i80OgjAMgF+IUuGA7mB4lqUWMmTtsm74+goJN+L1+8FPAlIpLAVjhbTWOYhhZksqFjaGLbxYL0hLZg1e73OuElQO5anApDnirz/Fv5d81mq84sIleXrDCfZpjM9u6B6ud+5+W74QB0cE?cssminify=yes\" type=\"text/css\" media=\"all\">\\n<script id=\"comment-like-js-extra\">\\nvar comment_like_text = {\"loading\":\"\\\\uac00\\\\uc838\\\\uc624\\\\ub294 \\\\uc911...\"};\\n</script>\\n<script id=\"jetpack-carousel-js-extra\">\\nvar jetpackCarouselStrings = {\"widths\":[370,700,1000,1200,1400,2000],\"is_logged_in\":\"\",\"lang\":\"ko\",\"ajaxurl\":\"https:\\\\/\\\\/sparkkorea.com\\\\/wp-admin\\\\/admin-ajax.php\",\"nonce\":\"874ac4d9f8\",\"display_exif\":\"1\",\"display_comments\":\"1\",\"display_geo\":\"1\",\"single_image_gallery\":\"1\",\"single_image_gallery_media_file\":\"\",\"background_color\":\"black\",\"comment\":\"\\\\ub313\\\\uae00\",\"post_comment\":\"\\\\ub313\\\\uae00 \\\\ub2ec\\\\uae30\",\"write_comment\":\"\\\\ub313\\\\uae00 \\\\ub2ec\\\\uae30...\",\"loading_comments\":\"\\\\ub313\\\\uae00 \\\\ub85c\\\\ub4dc\\\\uc911...\",\"download_original\":\"\\\\uc804\\\\uccb4 \\\\ud06c\\\\uae30 <span class=\\\\\"photo-size\\\\\">{0}<span class=\\\\\"photo-size-times\\\\\">\\\\u00d7<\\\\/span>{1}<\\\\/span> \\\\ubcf4\\\\uae30\",\"no_comment_text\":\"\\\\ub313\\\\uae00\\\\ub85c \\\\uba87\\\\uac1c\\\\uc758 \\\\uae00\\\\uc790\\\\ub97c \\\\uaf2d \\\\uc62c\\\\ub824\\\\uc8fc\\\\uc138\\\\uc694.\",\"no_comment_email\":\"\\\\ub313\\\\uae00\\\\uc5d0 \\\\uc774\\\\uba54\\\\uc77c \\\\uc8fc\\\\uc18c\\\\ub97c \\\\ub123\\\\uc5b4\\\\uc8fc\\\\uc138\\\\uc694.\",\"no_comment_author\":\"\\\\ub313\\\\uae00\\\\uc5d0 \\\\uc774\\\\ub984\\\\uc744 \\\\ub123\\\\uc5b4\\\\uc8fc\\\\uc138\\\\uc694.\",\"comment_post_error\":\"\\\\uc8c4\\\\uc1a1\\\\ud569\\\\ub2c8\\\\ub2e4. \\\\ub313\\\\uae00\\\\uc744 \\\\uc62c\\\\ub9ac\\\\ub294\\\\ub370 \\\\uc5d0\\\\ub7ec\\\\uac00 \\\\ubc1c\\\\uc0dd\\\\ud588\\\\uc2b5\\\\ub2c8\\\\ub2e4. \\\\ub098\\\\uc911\\\\uc5d0 \\\\ub2e4\\\\uc2dc \\\\ud574\\\\uc8fc\\\\uc138\\\\uc694.\",\"comment_approved\":\"\\\\ub313\\\\uae00\\\\uc774 \\\\uc2b9\\\\uc778\\\\ub410\\\\uc2b5\\\\ub2c8\\\\ub2e4.\",\"comment_unapproved\":\"\\\\ub313\\\\uae00\\\\uc774 \\\\uc2b9\\\\uc778 \\\\uad00\\\\ub9ac \\\\uc911\\\\uc785\\\\ub2c8\\\\ub2e4.\",\"camera\":\"\\\\uce74\\\\uba54\\\\ub77c\",\"aperture\":\"\\\\uc870\\\\ub9ac\\\\uac1c\",\"shutter_speed\":\"\\\\uc154\\\\ud130 \\\\uc18d\\\\ub3c4\",\"focal_length\":\"\\\\ucd1b\\\\uc810 \\\\uac70\\\\ub9ac\",\"copyright\":\"\\\\uc800\\\\uc791\\\\uad8c\",\"comment_registration\":\"0\",\"require_name_email\":\"1\",\"login_url\":\"https:\\\\/\\\\/sparkkorea.wordpress.com\\\\/wp-login.php?redirect_to=https%3A%2F%2Fsparkkorea.com%2F\",\"blog_id\":\"163927570\",\"meta_data\":[\"camera\",\"aperture\",\"shutter_speed\",\"focal_length\",\"copyright\"],\"reblog\":\"\\\\ub9ac\\\\ube14\\\\ub85c\\\\uadf8\",\"reblogged\":\"\\\\ud37c\\\\uac10\",\"reblog_add_thoughts\":\"\\\\uc0dd\\\\uac01\\\\uc744 \\\\uc5ec\\\\uae30\\\\uc5d0 \\\\uc801\\\\uc73c\\\\uc138\\\\uc694... (\\\\uc120\\\\ud0dd\\\\uc0ac\\\\ud56d)\",\"reblogging\":\"Reblogging...\",\"post_reblog\":\"Post Reblog\",\"stats_query_args\":\"blog=163927570&v=wpcom&tz=9&user_id=0&subd=sparkkorea\",\"is_public\":\"1\",\"reblog_enabled\":\"\"};\\n</script>\\n<script type=\"text/javascript\" src=\"https://s0.wp.com/_static/??-eJyVkNFSAyEMRX/IFNuH6j44fkuAdM0uBIbA1v697Dg6rbNT9Q1u7j25YM4ZXJJKUs2kxtPCjvL7btIHczWKDXJoI4sal2LsEgSeSddMYGv0zJn+E7oRfgbrG8Vuy80af0EPhzUhuPCIlZP8ya4z506XGU7JNYUTfz+KxYXmP3twxJE0JPTkd5FlyxNRk5TL9fju6jEki+HOb6DvKLBYVnSl0k9QC7pZt9b3K0V7W28DWkhzEuWFYGFPaUP5heCwpKYUzEQ19zbwJfTMa3zZH/fPw2EYnh6nDy2i0aE=\"></script>\\n<script type=\"text/javascript\">\\n// <![CDATA[\\n(function() {\\ntry{\\n  if ( window.external &&\\'msIsSiteMode\\' in window.external) {\\n    if (window.external.msIsSiteMode()) {\\n      var jl = document.createElement(\\'script\\');\\n      jl.type=\\'text/javascript\\';\\n      jl.async=true;\\n      jl.src=\\'/wp-content/plugins/ie-sitemode/custom-jumplist.php\\';\\n      var s = document.getElementsByTagName(\\'script\\')[0];\\n      s.parentNode.insertBefore(jl, s);\\n    }\\n  }\\n}catch(e){}\\n})();\\n// ]]>\\n</script><script src=\"//stats.wp.com/w.js?61\" defer=\"\"></script> <script type=\"text/javascript\">\\n_tkq = window._tkq || [];\\n_stq = window._stq || [];\\n_tkq.push([\\'storeContext\\', {\\'blog_id\\':\\'163927570\\',\\'blog_tz\\':\\'9\\',\\'user_lang\\':\\'ko\\',\\'blog_lang\\':\\'ko\\',\\'user_id\\':\\'0\\'}]);\\n_stq.push([\\'view\\', {\\'blog\\':\\'163927570\\',\\'v\\':\\'wpcom\\',\\'tz\\':\\'9\\',\\'user_id\\':\\'0\\',\\'post\\':\\'2\\',\\'subd\\':\\'sparkkorea\\'}]);\\n_stq.push([\\'extra\\', {\\'crypt\\':\\'UE40eW5QN0p8M2Y/RE1TaVhzUzFMbjdWNHpwZGhTayxPSUFCMGNrd29+Smw0TDhnZmRTK0hlRi9QSGh6bi9GXVhBJWIlZlR5U1JMLU8/MkNtblkvY1dWLD1yWnhdL2ItRFB+aW1ILCV8eDdxQlFsakNVcGlmME9hZVhyQ1FFNDYsbDkuYmN1bTN4LVFvUltGflFmMTk4NWtLaXl8YVEwW2NQWFdmcm5+TzVQNVRhbnhoLytuJnMzeVpfLks1clFjSGUsWF9fJmFpTXgtaGNBZTZYcmx3eDlxRTlHOEZ3WmE3ckMlQnVSLn5nb2E1ZndvMC5+THFUYj9UP1NK\\'}]);\\n_stq.push([ \\'clickTrackerInit\\', \\'163927570\\', \\'2\\' ]);\\n\\t</script>\\n<noscript><img src=\"https://pixel.wp.com/b.gif?v=noscript\" style=\"height:1px;width:1px;overflow:hidden;position:absolute;bottom:1px;\" alt=\"\" /></noscript>\\n<script>\\nif ( \\'object\\' === typeof wpcom_mobile_user_agent_info ) {\\n\\n\\twpcom_mobile_user_agent_info.init();\\n\\tvar mobileStatsQueryString = \"\";\\n\\t\\n\\tif( false !== wpcom_mobile_user_agent_info.matchedPlatformName )\\n\\t\\tmobileStatsQueryString += \"&x_\" + \\'mobile_platforms\\' + \\'=\\' + wpcom_mobile_user_agent_info.matchedPlatformName;\\n\\t\\n\\tif( false !== wpcom_mobile_user_agent_info.matchedUserAgentName )\\n\\t\\tmobileStatsQueryString += \"&x_\" + \\'mobile_devices\\' + \\'=\\' + wpcom_mobile_user_agent_info.matchedUserAgentName;\\n\\t\\n\\tif( wpcom_mobile_user_agent_info.isIPad() )\\n\\t\\tmobileStatsQueryString += \"&x_\" + \\'ipad_views\\' + \\'=\\' + \\'views\\';\\n\\n\\tif( \"\" != mobileStatsQueryString ) {\\n\\t\\tnew Image().src = document.location.protocol + \\'//pixel.wp.com/g.gif?v=wpcom-no-pv\\' + mobileStatsQueryString + \\'&baba=\\' + Math.random();\\n\\t}\\n\\t\\n}\\n</script>\\n\\n\\n<img src=\"https://pixel.wp.com/g.gif?blog=163927570&amp;v=wpcom&amp;tz=9&amp;user_id=0&amp;post=2&amp;subd=sparkkorea&amp;host=sparkkorea.com&amp;ref=&amp;rand=0.013432071452868843\" alt=\":)\" id=\"wpstats\"><div class=\"comment-likes-overlay\" style=\"display: none;\"></div><script src=\"https://s0.wp.com/wp-content/mu-plugins/actionbar/actionbar.js?v=20201002\" defer=\"\"></script></body></html>'"
      ]
     },
     "execution_count": 4,
     "metadata": {},
     "output_type": "execute_result"
    }
   ],
   "source": [
    "targetUrl = \"https://www.sparkkorea.com\"\n",
    "\n",
    "driver.get(targetUrl)\n",
    "\n",
    "driver.page_source"
   ]
  },
  {
   "cell_type": "code",
   "execution_count": 105,
   "metadata": {},
   "outputs": [],
   "source": [
    "quizBtnXpath = '//*[@id=\"menu-item-382\"]/a'"
   ]
  },
  {
   "cell_type": "code",
   "execution_count": 105,
   "metadata": {},
   "outputs": [],
   "source": [
    "quizBtn= driver.find_element_by_xpath(quizBtnXpath)"
   ]
  },
  {
   "cell_type": "code",
   "execution_count": 105,
   "metadata": {},
   "outputs": [],
   "source": [
    "quizBtn.click()\n",
    "\n",
    "driver.current_url\n",
    "\n",
    "quiz_source=driver.page_source\n",
    "\n",
    "quiz_source\n",
    "\n",
    "htmlObj = BeautifulSoup(quiz_source, \"html.parser\") ## beautifulSoup 사용\n",
    "\n",
    "result = htmlObj.find(name=\"div\", attrs={\"class\":\"class_spark_quiz\"})\n",
    "\n",
    "result\n",
    "\n",
    "## 1. 링크정보 가져오기  \n",
    "# 2. 퀴즈타이틀 가져오기\n",
    "\n",
    "final=result.findAll(name=\"a\") ## for문 할땐 반복문 돌려야하니까 findAll로 \n",
    "\n",
    "final\n",
    "\n",
    "#final을 find로 했을때 확인해보려고 쓴 것\n",
    "# 반복문을 사용할 땐 findAll로 배열 씌워주고 반복문 돌려야함!!\n",
    "\n",
    "abc=final.attrs[\"href\"]\n",
    "\n",
    "abc\n",
    "\n",
    "aabbcc=final.text\n",
    "\n",
    "aabbcc\n",
    "\n",
    "linkList = []\n",
    "nameList = []\n",
    "\n",
    "for i in range(0, len(final)):\n",
    "    eachLink=final[i].attrs[\"href\"]\n",
    "    eachName=final[i].text\n",
    "    \n",
    "    linkList.append(eachLink)\n",
    "    nameList.append(eachName)\n",
    "     \n",
    "    \n",
    "\n",
    "linkList\n",
    "\n",
    "nameList\n",
    "\n",
    "result=pd.DataFrame(zip(linkList,nameList),columns=[\"링크\",\"이름\"])\n",
    "\n",
    "result"
   ]
  },
  {
   "cell_type": "code",
   "execution_count": null,
   "metadata": {},
   "outputs": [],
   "source": []
  },
  {
   "cell_type": "code",
   "execution_count": null,
   "metadata": {},
   "outputs": [],
   "source": []
  },
  {
   "cell_type": "code",
   "execution_count": null,
   "metadata": {},
   "outputs": [],
   "source": []
  },
  {
   "cell_type": "code",
   "execution_count": null,
   "metadata": {},
   "outputs": [],
   "source": []
  },
  {
   "cell_type": "code",
   "execution_count": null,
   "metadata": {},
   "outputs": [],
   "source": []
  },
  {
   "cell_type": "code",
   "execution_count": null,
   "metadata": {},
   "outputs": [],
   "source": []
  },
  {
   "cell_type": "code",
   "execution_count": null,
   "metadata": {},
   "outputs": [],
   "source": []
  },
  {
   "cell_type": "markdown",
   "metadata": {},
   "source": [
    "# 메세지전송 라이브러리"
   ]
  },
  {
   "cell_type": "code",
   "execution_count": 1,
   "metadata": {},
   "outputs": [],
   "source": [
    "# SMTP 프로토콜 로드\n",
    "import smtplib\n",
    "# 이메일을 간단하게 보낼수 있는 라이브러리 로드\n",
    "from email.message import EmailMessage"
   ]
  },
  {
   "cell_type": "code",
   "execution_count": 1,
   "metadata": {},
   "outputs": [],
   "source": [
    "# GMAIL 메일 설정\n",
    "smtp_gmail = smtplib.SMTP('smtp.gmail.com', 587)\n",
    "# 서버 연결을 설정하는 단계\n",
    "smtp_gmail.ehlo()\n",
    "# 연결을 암호화"
   ]
  },
  {
   "cell_type": "code",
   "execution_count": 1,
   "metadata": {},
   "outputs": [],
   "source": [
    "smtp_gmail.starttls()\n",
    "#로그인\n",
    "userid = \"sue2024\""
   ]
  },
  {
   "cell_type": "code",
   "execution_count": 1,
   "metadata": {},
   "outputs": [],
   "source": [
    "import pickle"
   ]
  },
  {
   "cell_type": "code",
   "execution_count": 1,
   "metadata": {},
   "outputs": [],
   "source": [
    "# import getpass\n",
    "# pw = getpass.getpass()"
   ]
  },
  {
   "cell_type": "code",
   "execution_count": 1,
   "metadata": {},
   "outputs": [],
   "source": [
    "mypass = 'xxwzcisxfpkgncwt'"
   ]
  },
  {
   "cell_type": "code",
   "execution_count": 1,
   "metadata": {},
   "outputs": [],
   "source": [
    "# 데이터를 저장\n",
    "# save\n",
    "with open('pw.pickle', 'wb') as handle:\n",
    "    pickle.dump(mypass, handle, pickle.HIGHEST_PROTOCOL)"
   ]
  },
  {
   "cell_type": "code",
   "execution_count": 1,
   "metadata": {},
   "outputs": [],
   "source": [
    "# # load\n",
    "# with open('pw.pickle', 'rb') as handle:\n",
    "#     pw = pickle.load(handle)"
   ]
  },
  {
   "cell_type": "code",
   "execution_count": 1,
   "metadata": {},
   "outputs": [],
   "source": [
    "# SMTP 프로토콜 로드\n",
    "import smtplib\n",
    "# 이메일을간단하게보낼수있는라이브러리로드\n",
    "from email.message import EmailMessage"
   ]
  },
  {
   "cell_type": "code",
   "execution_count": 1,
   "metadata": {},
   "outputs": [],
   "source": [
    "# GMAIL 메일설정\n",
    "smtp_gmail = smtplib.SMTP('smtp.gmail.com', 587)\n",
    "# 서버연결을설정하는단계\n",
    "smtp_gmail.ehlo()\n",
    "# 연결을암호화\n",
    "smtp_gmail.starttls()\n",
    "#로그인\n",
    "userid = \"sue2024@gmail.com\"\n",
    "userpw = \"xxwzcisxfpkgncwt\"\n",
    "smtp_gmail.login(userid, userpw)"
   ]
  },
  {
   "cell_type": "code",
   "execution_count": 1,
   "metadata": {},
   "outputs": [],
   "source": [
    "import pandas as pd"
   ]
  },
  {
   "cell_type": "code",
   "execution_count": 1,
   "metadata": {},
   "outputs": [],
   "source": [
    "# text파일에 이름과 이메일 주소를 적고 csv로 저장해서 불러온다\n",
    "emailData = pd.read_csv(\"./emailList.csv\") "
   ]
  },
  {
   "cell_type": "code",
   "execution_count": 1,
   "metadata": {},
   "outputs": [],
   "source": [
    "to = emailData.email.tolist()"
   ]
  },
  {
   "cell_type": "code",
   "execution_count": 1,
   "metadata": {},
   "outputs": [],
   "source": [
    "msg=EmailMessage()\n",
    "# 제목 입력\n",
    "msg['Subject']=\"퀴즈 정보\"\n",
    "# 내용 입력\n",
    "msg.set_content(\"퀴즈정보\")\n",
    "# 보내는 사람\n",
    "msg['From']='sue2024@naver.com'\n",
    "# 받는 사람\n",
    "msg['To'] = \",\".join(to)"
   ]
  },
  {
   "cell_type": "code",
   "execution_count": 1,
   "metadata": {},
   "outputs": [],
   "source": [
    "\",\".join(to)"
   ]
  },
  {
   "cell_type": "code",
   "execution_count": 1,
   "metadata": {},
   "outputs": [],
   "source": [
    "# 첨부파일 #1 추가\n",
    "file='emailList.csv'\n",
    "fp = open(file,'rb')\n",
    "file_data=fp.read()\n",
    "msg.add_attachment(file_data,\n",
    "maintype='text',\n",
    "subtype='plain',\n",
    "filename=file)"
   ]
  },
  {
   "cell_type": "code",
   "execution_count": 1,
   "metadata": {},
   "outputs": [],
   "source": [
    "# 첨부파일 #2 추가\n",
    "# file2='quiz_result.csv'\n",
    "# fp = open(file2,'rb')\n",
    "# file_data=fp.read()\n",
    "# msg.add_attachment(file_data,\n",
    "# maintype='text',\n",
    "# subtype='plain',\n",
    "# filename=file2)"
   ]
  },
  {
   "cell_type": "code",
   "execution_count": 1,
   "metadata": {},
   "outputs": [],
   "source": [
    "# 메일 전송\n",
    "smtp_gmail.send_message(msg)\n",
    "smtp_gmail.close()"
   ]
  },
  {
   "cell_type": "code",
   "execution_count": null,
   "metadata": {},
   "outputs": [],
   "source": []
  },
  {
   "cell_type": "code",
   "execution_count": null,
   "metadata": {},
   "outputs": [],
   "source": []
  },
  {
   "cell_type": "code",
   "execution_count": null,
   "metadata": {},
   "outputs": [],
   "source": []
  },
  {
   "cell_type": "code",
   "execution_count": null,
   "metadata": {},
   "outputs": [],
   "source": []
  },
  {
   "cell_type": "code",
   "execution_count": null,
   "metadata": {},
   "outputs": [],
   "source": []
  },
  {
   "cell_type": "code",
   "execution_count": null,
   "metadata": {},
   "outputs": [],
   "source": []
  },
  {
   "cell_type": "code",
   "execution_count": null,
   "metadata": {},
   "outputs": [],
   "source": []
  },
  {
   "cell_type": "code",
   "execution_count": null,
   "metadata": {},
   "outputs": [],
   "source": []
  },
  {
   "cell_type": "code",
   "execution_count": null,
   "metadata": {},
   "outputs": [],
   "source": []
  },
  {
   "cell_type": "code",
   "execution_count": null,
   "metadata": {},
   "outputs": [],
   "source": []
  },
  {
   "cell_type": "code",
   "execution_count": null,
   "metadata": {},
   "outputs": [],
   "source": []
  },
  {
   "cell_type": "code",
   "execution_count": null,
   "metadata": {},
   "outputs": [],
   "source": []
  },
  {
   "cell_type": "code",
   "execution_count": null,
   "metadata": {},
   "outputs": [],
   "source": []
  },
  {
   "cell_type": "code",
   "execution_count": null,
   "metadata": {},
   "outputs": [],
   "source": []
  },
  {
   "cell_type": "code",
   "execution_count": null,
   "metadata": {},
   "outputs": [],
   "source": []
  },
  {
   "cell_type": "code",
   "execution_count": null,
   "metadata": {},
   "outputs": [],
   "source": []
  },
  {
   "cell_type": "code",
   "execution_count": null,
   "metadata": {},
   "outputs": [],
   "source": []
  },
  {
   "cell_type": "code",
   "execution_count": null,
   "metadata": {},
   "outputs": [],
   "source": []
  },
  {
   "cell_type": "code",
   "execution_count": null,
   "metadata": {},
   "outputs": [],
   "source": []
  },
  {
   "cell_type": "code",
   "execution_count": null,
   "metadata": {},
   "outputs": [],
   "source": []
  },
  {
   "cell_type": "code",
   "execution_count": null,
   "metadata": {},
   "outputs": [],
   "source": []
  },
  {
   "cell_type": "code",
   "execution_count": null,
   "metadata": {},
   "outputs": [],
   "source": []
  },
  {
   "cell_type": "code",
   "execution_count": null,
   "metadata": {},
   "outputs": [],
   "source": []
  },
  {
   "cell_type": "code",
   "execution_count": null,
   "metadata": {},
   "outputs": [],
   "source": []
  },
  {
   "cell_type": "code",
   "execution_count": null,
   "metadata": {},
   "outputs": [],
   "source": []
  },
  {
   "cell_type": "code",
   "execution_count": null,
   "metadata": {},
   "outputs": [],
   "source": []
  },
  {
   "cell_type": "code",
   "execution_count": null,
   "metadata": {},
   "outputs": [],
   "source": []
  },
  {
   "cell_type": "code",
   "execution_count": null,
   "metadata": {},
   "outputs": [],
   "source": []
  },
  {
   "cell_type": "code",
   "execution_count": null,
   "metadata": {},
   "outputs": [],
   "source": []
  },
  {
   "cell_type": "code",
   "execution_count": null,
   "metadata": {},
   "outputs": [],
   "source": []
  },
  {
   "cell_type": "code",
   "execution_count": null,
   "metadata": {},
   "outputs": [],
   "source": []
  },
  {
   "cell_type": "code",
   "execution_count": null,
   "metadata": {},
   "outputs": [],
   "source": []
  },
  {
   "cell_type": "code",
   "execution_count": null,
   "metadata": {},
   "outputs": [],
   "source": []
  },
  {
   "cell_type": "code",
   "execution_count": null,
   "metadata": {},
   "outputs": [],
   "source": []
  },
  {
   "cell_type": "code",
   "execution_count": null,
   "metadata": {},
   "outputs": [],
   "source": []
  },
  {
   "cell_type": "code",
   "execution_count": null,
   "metadata": {},
   "outputs": [],
   "source": []
  }
 ],
 "metadata": {
  "kernelspec": {
   "display_name": "Python 3",
   "language": "python",
   "name": "python3"
  },
  "language_info": {
   "codemirror_mode": {
    "name": "ipython",
    "version": 3
   },
   "file_extension": ".py",
   "mimetype": "text/x-python",
   "name": "python",
   "nbconvert_exporter": "python",
   "pygments_lexer": "ipython3",
   "version": "3.8.5"
  }
 },
 "nbformat": 4,
 "nbformat_minor": 4
}

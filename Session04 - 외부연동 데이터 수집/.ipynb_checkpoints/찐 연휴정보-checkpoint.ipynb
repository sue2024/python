{
 "cells": [
  {
   "cell_type": "code",
   "execution_count": 9,
   "metadata": {},
   "outputs": [],
   "source": [
    "from bs4 import BeautifulSoup # 태그 이쁘게 뜨기\n",
    "import requests # 웹페이지 접속 요청\n",
    "targetUrl = \"https://www.timeanddate.com/holidays/south-korea/\"\n",
    "\n",
    "resp = requests.get(url=targetUrl) ## response 200 = 정상\n",
    "resp.encoding = \"utf-8\" ## 인코딩\n",
    "html = resp.text\n",
    "htmlObj = BeautifulSoup(html, \"html.parser\") ## beautifulSoup 사용\n",
    "\n",
    "import pandas as pd\n",
    "\n",
    "rowList =[]\n",
    "columnList = []\n",
    "\n",
    "tableTag = htmlObj.find(name=\"table\", attrs={\"id\":\"holidays-table\"})\n",
    "\n",
    "tbodyTag = tableTag.find(name=\"tbody\")\n",
    "\n",
    "tbodyTag\n",
    "\n",
    "Allth = tableTag.findAll(name=\"th\", attrs={\"class\":\"nw\"}) #\n",
    "Allth # 날짜\n",
    "\n",
    "Allth[0].text\n",
    "\n",
    "Alltd = tableTag.findAll(name=\"td\")\n",
    "Alltd # 타입\n",
    "Alltd[0].text\n",
    "\n",
    "eachtd = tableTag.findAll(name=\"td\", attrs={\"class\":\"nw\"})\n",
    "eachtd # 요일\n",
    "\n",
    "eachtd[0].text\n",
    "\n",
    "AllHoliday = tableTag.findAll(name=\"a\")\n",
    "AllHoliday # 홀리데이\n",
    "\n",
    "AllHoliday[0].text\n",
    "\n",
    "DateList = []\n",
    "DayList = []\n",
    "HolidayList = []\n",
    "TypeList = []\n",
    "\n",
    "for i in range(0,len(Allth)):\n",
    "    Date = Allth[i].text\n",
    "    Day = eachtd[i].text\n",
    "    Holiday = AllHoliday[i].text\n",
    "    \n",
    "    DateList.append(Date)\n",
    "    DayList.append(Day)\n",
    "    HolidayList.append(Holiday)\n",
    "\n",
    "pd.DataFrame (zip(DateList,DayList,HolidayList))\n",
    "\n",
    "result = pd.DataFrame (zip(DateList,DayList,HolidayList))\n",
    "\n",
    "columnList = [\"날짜\", \"요일\", \"타입\"]\n",
    "\n",
    "result.columns = columnList\n",
    "\n",
    "result"
   ]
  },
  {
   "cell_type": "code",
   "execution_count": null,
   "metadata": {},
   "outputs": [],
   "source": []
  },
  {
   "cell_type": "code",
   "execution_count": null,
   "metadata": {},
   "outputs": [],
   "source": []
  },
  {
   "cell_type": "code",
   "execution_count": null,
   "metadata": {},
   "outputs": [],
   "source": []
  },
  {
   "cell_type": "code",
   "execution_count": null,
   "metadata": {},
   "outputs": [],
   "source": []
  },
  {
   "cell_type": "code",
   "execution_count": null,
   "metadata": {},
   "outputs": [],
   "source": []
  },
  {
   "cell_type": "code",
   "execution_count": null,
   "metadata": {},
   "outputs": [],
   "source": []
  },
  {
   "cell_type": "code",
   "execution_count": null,
   "metadata": {},
   "outputs": [],
   "source": []
  },
  {
   "cell_type": "code",
   "execution_count": null,
   "metadata": {},
   "outputs": [],
   "source": []
  },
  {
   "cell_type": "code",
   "execution_count": null,
   "metadata": {},
   "outputs": [],
   "source": []
  },
  {
   "cell_type": "code",
   "execution_count": null,
   "metadata": {},
   "outputs": [],
   "source": []
  },
  {
   "cell_type": "code",
   "execution_count": null,
   "metadata": {},
   "outputs": [],
   "source": []
  },
  {
   "cell_type": "code",
   "execution_count": null,
   "metadata": {},
   "outputs": [],
   "source": []
  },
  {
   "cell_type": "code",
   "execution_count": 130,
   "metadata": {},
   "outputs": [
    {
     "data": {
      "text/plain": [
       "87"
      ]
     },
     "execution_count": 130,
     "metadata": {},
     "output_type": "execute_result"
    }
   ],
   "source": [
    "len(Alltd)"
   ]
  },
  {
   "cell_type": "code",
   "execution_count": 131,
   "metadata": {},
   "outputs": [
    {
     "data": {
      "text/plain": [
       "29"
      ]
     },
     "execution_count": 131,
     "metadata": {},
     "output_type": "execute_result"
    }
   ],
   "source": [
    "len(Allth)"
   ]
  },
  {
   "cell_type": "code",
   "execution_count": 132,
   "metadata": {},
   "outputs": [
    {
     "data": {
      "text/plain": [
       "29"
      ]
     },
     "execution_count": 132,
     "metadata": {},
     "output_type": "execute_result"
    }
   ],
   "source": [
    "len(eachtd)"
   ]
  },
  {
   "cell_type": "code",
   "execution_count": null,
   "metadata": {},
   "outputs": [],
   "source": []
  },
  {
   "cell_type": "code",
   "execution_count": null,
   "metadata": {},
   "outputs": [],
   "source": []
  },
  {
   "cell_type": "code",
   "execution_count": null,
   "metadata": {},
   "outputs": [],
   "source": []
  },
  {
   "cell_type": "code",
   "execution_count": null,
   "metadata": {},
   "outputs": [],
   "source": []
  },
  {
   "cell_type": "code",
   "execution_count": null,
   "metadata": {},
   "outputs": [],
   "source": []
  },
  {
   "cell_type": "code",
   "execution_count": null,
   "metadata": {},
   "outputs": [],
   "source": []
  },
  {
   "cell_type": "code",
   "execution_count": null,
   "metadata": {},
   "outputs": [],
   "source": []
  },
  {
   "cell_type": "code",
   "execution_count": null,
   "metadata": {},
   "outputs": [],
   "source": []
  },
  {
   "cell_type": "code",
   "execution_count": null,
   "metadata": {},
   "outputs": [],
   "source": []
  },
  {
   "cell_type": "code",
   "execution_count": null,
   "metadata": {},
   "outputs": [],
   "source": []
  },
  {
   "cell_type": "code",
   "execution_count": null,
   "metadata": {},
   "outputs": [],
   "source": []
  },
  {
   "cell_type": "code",
   "execution_count": null,
   "metadata": {},
   "outputs": [],
   "source": []
  },
  {
   "cell_type": "code",
   "execution_count": null,
   "metadata": {},
   "outputs": [],
   "source": []
  },
  {
   "cell_type": "code",
   "execution_count": null,
   "metadata": {},
   "outputs": [],
   "source": [
    "for i in range(0, len(Alltd), +3):\n",
    "   \n",
    "\n",
    "    Allth[0].text\n",
    "\n",
    "    Alltd\n",
    "    eachtd[0].text\n",
    "\n",
    "\n",
    "    AllHoliday[0].text\n",
    "\n",
    "    "
   ]
  },
  {
   "cell_type": "code",
   "execution_count": null,
   "metadata": {},
   "outputs": [],
   "source": [
    "pd.DataFrame"
   ]
  },
  {
   "cell_type": "code",
   "execution_count": null,
   "metadata": {},
   "outputs": [],
   "source": []
  },
  {
   "cell_type": "code",
   "execution_count": 121,
   "metadata": {},
   "outputs": [
    {
     "data": {
      "text/plain": [
       "[<td class=\"nw\">금요일</td>,\n",
       " <td class=\"nw\">목요일</td>,\n",
       " <td class=\"nw\">금요일</td>,\n",
       " <td class=\"nw\">토요일</td>,\n",
       " <td class=\"nw\">일요일</td>,\n",
       " <td class=\"nw\">월요일</td>,\n",
       " <td class=\"nw\">토요일</td>,\n",
       " <td class=\"nw\">월요일</td>,\n",
       " <td class=\"nw\">토요일</td>,\n",
       " <td class=\"nw\">수요일</td>,\n",
       " <td class=\"nw\">토요일</td>,\n",
       " <td class=\"nw\">토요일</td>,\n",
       " <td class=\"nw\">수요일</td>,\n",
       " <td class=\"nw\">일요일</td>,\n",
       " <td class=\"nw\">월요일</td>,\n",
       " <td class=\"nw\">토요일</td>,\n",
       " <td class=\"nw\">일요일</td>,\n",
       " <td class=\"nw\">월요일</td>,\n",
       " <td class=\"nw\">화요일</td>,\n",
       " <td class=\"nw\">수요일</td>,\n",
       " <td class=\"nw\">목요일</td>,\n",
       " <td class=\"nw\">금요일</td>,\n",
       " <td class=\"nw\">일요일</td>,\n",
       " <td class=\"nw\">토요일</td>,\n",
       " <td class=\"nw\">일요일</td>,\n",
       " <td class=\"nw\">수요일</td>,\n",
       " <td class=\"nw\">금요일</td>,\n",
       " <td class=\"nw\">토요일</td>,\n",
       " <td class=\"nw\">금요일</td>]"
      ]
     },
     "execution_count": 121,
     "metadata": {},
     "output_type": "execute_result"
    }
   ],
   "source": [
    "eachtd"
   ]
  },
  {
   "cell_type": "code",
   "execution_count": 83,
   "metadata": {},
   "outputs": [],
   "source": [
    "eachtd = tableTag.findAll(name=\"td\", attrs={\"class\":\"nw\"})\n",
    "eachtd\n",
    "\n",
    "eachtd[0].text\n",
    "\n",
    "AllHoliday = tableTag.findAll(name=\"a\")\n",
    "AllHoliday\n",
    "\n",
    "AllHoliday[0].text"
   ]
  },
  {
   "cell_type": "code",
   "execution_count": 120,
   "metadata": {},
   "outputs": [
    {
     "data": {
      "text/plain": [
       "[<td class=\"nw\">금요일</td>,\n",
       " <td><a href=\"/holidays/south-korea/new-year-day\">New Year's Day</a></td>,\n",
       " <td>Public Holiday</td>,\n",
       " <td class=\"nw\">목요일</td>,\n",
       " <td><a href=\"/holidays/south-korea/seollal-holiday-1\">Seollal Holiday</a></td>,\n",
       " <td>Public Holiday</td>,\n",
       " <td class=\"nw\">금요일</td>,\n",
       " <td><a href=\"/holidays/south-korea/seollal-holiday-2\">Seollal</a></td>,\n",
       " <td>Public Holiday</td>,\n",
       " <td class=\"nw\">토요일</td>,\n",
       " <td><a href=\"/holidays/south-korea/seollal-holiday-3\">Seollal Holiday</a></td>,\n",
       " <td>Public Holiday</td>,\n",
       " <td class=\"nw\">일요일</td>,\n",
       " <td><a href=\"/holidays/south-korea/valentines-day\">Valentine's Day</a></td>,\n",
       " <td>Observance</td>,\n",
       " <td class=\"nw\">월요일</td>,\n",
       " <td><a href=\"/holidays/south-korea/independence-movement-day\">Independence Movement Day</a></td>,\n",
       " <td>National holiday</td>,\n",
       " <td class=\"nw\">토요일</td>,\n",
       " <td><a href=\"/calendar/march-equinox.html\">March Equinox</a></td>,\n",
       " <td>Season</td>,\n",
       " <td class=\"nw\">월요일</td>,\n",
       " <td><a href=\"/holidays/south-korea/arbor-day\">Arbor Day</a></td>,\n",
       " <td>Observance</td>,\n",
       " <td class=\"nw\">토요일</td>,\n",
       " <td><a href=\"/holidays/south-korea/labor-day\">Labor Day</a></td>,\n",
       " <td>Bank Holiday</td>,\n",
       " <td class=\"nw\">수요일</td>,\n",
       " <td><a href=\"/holidays/south-korea/childrens-day\">Children's Day</a></td>,\n",
       " <td>Public Holiday</td>,\n",
       " <td class=\"nw\">토요일</td>,\n",
       " <td><a href=\"/holidays/south-korea/parents-day\">Parents' Day</a></td>,\n",
       " <td>Observance</td>,\n",
       " <td class=\"nw\">토요일</td>,\n",
       " <td><a href=\"/holidays/south-korea/teachers-day\">Teacher's Day</a></td>,\n",
       " <td>Observance</td>,\n",
       " <td class=\"nw\">수요일</td>,\n",
       " <td><a href=\"/holidays/south-korea/buddha-birthday\">Buddha's Birthday</a></td>,\n",
       " <td>Public Holiday</td>,\n",
       " <td class=\"nw\">일요일</td>,\n",
       " <td><a href=\"/holidays/south-korea/memorial-day\">Memorial Day</a></td>,\n",
       " <td>Public Holiday</td>,\n",
       " <td class=\"nw\">월요일</td>,\n",
       " <td><a href=\"/calendar/june-solstice.html\">June Solstice</a></td>,\n",
       " <td>Season</td>,\n",
       " <td class=\"nw\">토요일</td>,\n",
       " <td><a href=\"/holidays/south-korea/constitution-day\">Constitution Day</a></td>,\n",
       " <td>Observance</td>,\n",
       " <td class=\"nw\">일요일</td>,\n",
       " <td><a href=\"/holidays/south-korea/liberation-day\">Liberation Day</a></td>,\n",
       " <td>National holiday</td>,\n",
       " <td class=\"nw\">월요일</td>,\n",
       " <td><a href=\"/holidays/south-korea/mid-autumn-festival-day-1\">Chuseok Holiday</a></td>,\n",
       " <td>Public Holiday</td>,\n",
       " <td class=\"nw\">화요일</td>,\n",
       " <td><a href=\"/holidays/south-korea/mid-autumn-festival-day-2\">Chuseok</a></td>,\n",
       " <td>Public Holiday</td>,\n",
       " <td class=\"nw\">수요일</td>,\n",
       " <td><a href=\"/holidays/south-korea/mid-autumn-festival-day-3\">Chuseok Holiday</a></td>,\n",
       " <td>Public Holiday</td>,\n",
       " <td class=\"nw\">목요일</td>,\n",
       " <td><a href=\"/calendar/september-equinox.html\">September Equinox</a></td>,\n",
       " <td>Season</td>,\n",
       " <td class=\"nw\">금요일</td>,\n",
       " <td><a href=\"/holidays/south-korea/armed-forces-day\">Armed Forces Day</a></td>,\n",
       " <td>Observance</td>,\n",
       " <td class=\"nw\">일요일</td>,\n",
       " <td><a href=\"/holidays/south-korea/national-foundation-day\">National Foundation Day</a></td>,\n",
       " <td>National holiday</td>,\n",
       " <td class=\"nw\">토요일</td>,\n",
       " <td><a href=\"/holidays/south-korea/hangeul-day\">Hangeul Proclamation Day</a></td>,\n",
       " <td>National holiday</td>,\n",
       " <td class=\"nw\">일요일</td>,\n",
       " <td><a href=\"/holidays/south-korea/halloween\">Halloween</a></td>,\n",
       " <td>Observance</td>,\n",
       " <td class=\"nw\">수요일</td>,\n",
       " <td><a href=\"/calendar/december-solstice.html\">December Solstice</a></td>,\n",
       " <td>Season</td>,\n",
       " <td class=\"nw\">금요일</td>,\n",
       " <td><a href=\"/holidays/south-korea/christmas-eve\">Christmas Eve</a></td>,\n",
       " <td>Observance</td>,\n",
       " <td class=\"nw\">토요일</td>,\n",
       " <td><a href=\"/holidays/south-korea/christmas-day\">Christmas Day</a></td>,\n",
       " <td>Public Holiday</td>,\n",
       " <td class=\"nw\">금요일</td>,\n",
       " <td><a href=\"/holidays/south-korea/new-year-eve\">New Year's Eve</a></td>,\n",
       " <td>Observance</td>]"
      ]
     },
     "execution_count": 120,
     "metadata": {},
     "output_type": "execute_result"
    }
   ],
   "source": [
    "Alltd"
   ]
  },
  {
   "cell_type": "code",
   "execution_count": null,
   "metadata": {},
   "outputs": [],
   "source": []
  },
  {
   "cell_type": "code",
   "execution_count": null,
   "metadata": {},
   "outputs": [],
   "source": []
  },
  {
   "cell_type": "code",
   "execution_count": null,
   "metadata": {},
   "outputs": [],
   "source": []
  },
  {
   "cell_type": "code",
   "execution_count": null,
   "metadata": {},
   "outputs": [],
   "source": []
  },
  {
   "cell_type": "code",
   "execution_count": null,
   "metadata": {},
   "outputs": [],
   "source": []
  },
  {
   "cell_type": "code",
   "execution_count": null,
   "metadata": {},
   "outputs": [],
   "source": []
  },
  {
   "cell_type": "code",
   "execution_count": null,
   "metadata": {},
   "outputs": [],
   "source": []
  },
  {
   "cell_type": "code",
   "execution_count": null,
   "metadata": {},
   "outputs": [],
   "source": []
  },
  {
   "cell_type": "code",
   "execution_count": null,
   "metadata": {},
   "outputs": [],
   "source": []
  },
  {
   "cell_type": "code",
   "execution_count": null,
   "metadata": {},
   "outputs": [],
   "source": []
  },
  {
   "cell_type": "code",
   "execution_count": null,
   "metadata": {},
   "outputs": [],
   "source": []
  },
  {
   "cell_type": "code",
   "execution_count": null,
   "metadata": {},
   "outputs": [],
   "source": []
  },
  {
   "cell_type": "code",
   "execution_count": null,
   "metadata": {},
   "outputs": [],
   "source": []
  },
  {
   "cell_type": "code",
   "execution_count": null,
   "metadata": {},
   "outputs": [],
   "source": []
  },
  {
   "cell_type": "code",
   "execution_count": null,
   "metadata": {},
   "outputs": [],
   "source": []
  },
  {
   "cell_type": "code",
   "execution_count": null,
   "metadata": {},
   "outputs": [],
   "source": []
  },
  {
   "cell_type": "code",
   "execution_count": null,
   "metadata": {},
   "outputs": [],
   "source": []
  },
  {
   "cell_type": "code",
   "execution_count": null,
   "metadata": {},
   "outputs": [],
   "source": []
  },
  {
   "cell_type": "code",
   "execution_count": null,
   "metadata": {},
   "outputs": [],
   "source": []
  },
  {
   "cell_type": "code",
   "execution_count": null,
   "metadata": {},
   "outputs": [],
   "source": []
  },
  {
   "cell_type": "code",
   "execution_count": 5,
   "metadata": {},
   "outputs": [],
   "source": [
    "trs = tbodyTag.find_all(name=\"tr\")"
   ]
  },
  {
   "cell_type": "code",
   "execution_count": 6,
   "metadata": {
    "collapsed": true,
    "jupyter": {
     "outputs_hidden": true
    }
   },
   "outputs": [
    {
     "data": {
      "text/plain": [
       "[<tr id=\"hol_jan\"></tr>,\n",
       " <tr data-date=\"1609459200000\" data-mask=\"1\" id=\"tr1\"><th class=\"nw\">1월 1일</th><td class=\"nw\">금요일</td><td><a href=\"/holidays/south-korea/new-year-day\">New Year's Day</a></td><td>Public Holiday</td></tr>,\n",
       " <tr id=\"hol_feb\"></tr>,\n",
       " <tr data-date=\"1613001600000\" data-mask=\"1\" id=\"tr3\"><th class=\"nw\">2월 11일</th><td class=\"nw\">목요일</td><td><a href=\"/holidays/south-korea/seollal-holiday-1\">Seollal Holiday</a></td><td>Public Holiday</td></tr>,\n",
       " <tr data-date=\"1613088000000\" data-mask=\"1\" id=\"tr4\"><th class=\"nw\">2월 12일</th><td class=\"nw\">금요일</td><td><a href=\"/holidays/south-korea/seollal-holiday-2\">Seollal</a></td><td>Public Holiday</td></tr>,\n",
       " <tr data-date=\"1613174400000\" data-mask=\"1\" id=\"tr5\"><th class=\"nw\">2월 13일</th><td class=\"nw\">토요일</td><td><a href=\"/holidays/south-korea/seollal-holiday-3\">Seollal Holiday</a></td><td>Public Holiday</td></tr>,\n",
       " <tr data-date=\"1613260800000\" data-mask=\"32\" id=\"tr6\"><th class=\"nw\">2월 14일</th><td class=\"nw\">일요일</td><td><a href=\"/holidays/south-korea/valentines-day\">Valentine's Day</a></td><td>Observance</td></tr>,\n",
       " <tr id=\"hol_mar\"></tr>,\n",
       " <tr data-date=\"1614556800000\" data-mask=\"1\" id=\"tr8\"><th class=\"nw\">3월 1일</th><td class=\"nw\">월요일</td><td><a href=\"/holidays/south-korea/independence-movement-day\">Independence Movement Day</a></td><td>National holiday</td></tr>,\n",
       " <tr data-date=\"1616265451000\" data-mask=\"256\" id=\"tr9\"><th class=\"nw\">3월 20일</th><td class=\"nw\">토요일</td><td><a href=\"/calendar/march-equinox.html\">March Equinox</a></td><td>Season</td></tr>,\n",
       " <tr id=\"hol_apr\"></tr>,\n",
       " <tr data-date=\"1617580800000\" data-mask=\"16\" id=\"tr11\"><th class=\"nw\">4월 5일</th><td class=\"nw\">월요일</td><td><a href=\"/holidays/south-korea/arbor-day\">Arbor Day</a></td><td>Observance</td></tr>,\n",
       " <tr id=\"hol_may\"></tr>,\n",
       " <tr data-date=\"1619827200000\" data-mask=\"4194304\" id=\"tr13\"><th class=\"nw\">5월 1일</th><td class=\"nw\">토요일</td><td><a href=\"/holidays/south-korea/labor-day\">Labor Day</a></td><td>Bank Holiday</td></tr>,\n",
       " <tr data-date=\"1620172800000\" data-mask=\"1\" id=\"tr14\"><th class=\"nw\">5월 5일</th><td class=\"nw\">수요일</td><td><a href=\"/holidays/south-korea/childrens-day\">Children's Day</a></td><td>Public Holiday</td></tr>,\n",
       " <tr data-date=\"1620432000000\" data-mask=\"16\" id=\"tr15\"><th class=\"nw\">5월 8일</th><td class=\"nw\">토요일</td><td><a href=\"/holidays/south-korea/parents-day\">Parents' Day</a></td><td>Observance</td></tr>,\n",
       " <tr data-date=\"1621036800000\" data-mask=\"16\" id=\"tr16\"><th class=\"nw\">5월 15일</th><td class=\"nw\">토요일</td><td><a href=\"/holidays/south-korea/teachers-day\">Teacher's Day</a></td><td>Observance</td></tr>,\n",
       " <tr data-date=\"1621382400000\" data-mask=\"1\" id=\"tr17\"><th class=\"nw\">5월 19일</th><td class=\"nw\">수요일</td><td><a href=\"/holidays/south-korea/buddha-birthday\">Buddha's Birthday</a></td><td>Public Holiday</td></tr>,\n",
       " <tr id=\"hol_jun\"></tr>,\n",
       " <tr data-date=\"1622937600000\" data-mask=\"1\" id=\"tr19\"><th class=\"nw\">6월 6일</th><td class=\"nw\">일요일</td><td><a href=\"/holidays/south-korea/memorial-day\">Memorial Day</a></td><td>Public Holiday</td></tr>,\n",
       " <tr data-date=\"1624278729000\" data-mask=\"256\" id=\"tr20\"><th class=\"nw\">6월 21일</th><td class=\"nw\">월요일</td><td><a href=\"/calendar/june-solstice.html\">June Solstice</a></td><td>Season</td></tr>,\n",
       " <tr id=\"hol_jul\"></tr>,\n",
       " <tr data-date=\"1626480000000\" data-mask=\"16\" id=\"tr22\"><th class=\"nw\">7월 17일</th><td class=\"nw\">토요일</td><td><a href=\"/holidays/south-korea/constitution-day\">Constitution Day</a></td><td>Observance</td></tr>,\n",
       " <tr id=\"hol_aug\"></tr>,\n",
       " <tr data-date=\"1628985600000\" data-mask=\"1\" id=\"tr24\"><th class=\"nw\">8월 15일</th><td class=\"nw\">일요일</td><td><a href=\"/holidays/south-korea/liberation-day\">Liberation Day</a></td><td>National holiday</td></tr>,\n",
       " <tr id=\"hol_sep\"></tr>,\n",
       " <tr data-date=\"1632096000000\" data-mask=\"1\" id=\"tr26\"><th class=\"nw\">9월 20일</th><td class=\"nw\">월요일</td><td><a href=\"/holidays/south-korea/mid-autumn-festival-day-1\">Chuseok Holiday</a></td><td>Public Holiday</td></tr>,\n",
       " <tr data-date=\"1632182400000\" data-mask=\"1\" id=\"tr27\"><th class=\"nw\">9월 21일</th><td class=\"nw\">화요일</td><td><a href=\"/holidays/south-korea/mid-autumn-festival-day-2\">Chuseok</a></td><td>Public Holiday</td></tr>,\n",
       " <tr data-date=\"1632268800000\" data-mask=\"1\" id=\"tr28\"><th class=\"nw\">9월 22일</th><td class=\"nw\">수요일</td><td><a href=\"/holidays/south-korea/mid-autumn-festival-day-3\">Chuseok Holiday</a></td><td>Public Holiday</td></tr>,\n",
       " <tr data-date=\"1632370871000\" data-mask=\"256\" id=\"tr29\"><th class=\"nw\">9월 23일</th><td class=\"nw\">목요일</td><td><a href=\"/calendar/september-equinox.html\">September Equinox</a></td><td>Season</td></tr>,\n",
       " <tr id=\"hol_oct\"></tr>,\n",
       " <tr data-date=\"1633046400000\" data-mask=\"16\" id=\"tr31\"><th class=\"nw\">10월 1일</th><td class=\"nw\">금요일</td><td><a href=\"/holidays/south-korea/armed-forces-day\">Armed Forces Day</a></td><td>Observance</td></tr>,\n",
       " <tr data-date=\"1633219200000\" data-mask=\"1\" id=\"tr32\"><th class=\"nw\">10월 3일</th><td class=\"nw\">일요일</td><td><a href=\"/holidays/south-korea/national-foundation-day\">National Foundation Day</a></td><td>National holiday</td></tr>,\n",
       " <tr data-date=\"1633737600000\" data-mask=\"1\" id=\"tr33\"><th class=\"nw\">10월 9일</th><td class=\"nw\">토요일</td><td><a href=\"/holidays/south-korea/hangeul-day\">Hangeul Proclamation Day</a></td><td>National holiday</td></tr>,\n",
       " <tr data-date=\"1635638400000\" data-mask=\"32\" id=\"tr34\"><th class=\"nw\">10월 31일</th><td class=\"nw\">일요일</td><td><a href=\"/holidays/south-korea/halloween\">Halloween</a></td><td>Observance</td></tr>,\n",
       " <tr id=\"hol_nov\"></tr>,\n",
       " <tr id=\"hol_dec\"></tr>,\n",
       " <tr data-date=\"1640134758000\" data-mask=\"256\" id=\"tr37\"><th class=\"nw\">12월 22일</th><td class=\"nw\">수요일</td><td><a href=\"/calendar/december-solstice.html\">December Solstice</a></td><td>Season</td></tr>,\n",
       " <tr data-date=\"1640304000000\" data-mask=\"16\" id=\"tr38\"><th class=\"nw\">12월 24일</th><td class=\"nw\">금요일</td><td><a href=\"/holidays/south-korea/christmas-eve\">Christmas Eve</a></td><td>Observance</td></tr>,\n",
       " <tr data-date=\"1640390400000\" data-mask=\"1\" id=\"tr39\"><th class=\"nw\">12월 25일</th><td class=\"nw\">토요일</td><td><a href=\"/holidays/south-korea/christmas-day\">Christmas Day</a></td><td>Public Holiday</td></tr>,\n",
       " <tr data-date=\"1640908800000\" data-mask=\"16\" id=\"tr40\"><th class=\"nw\">12월 31일</th><td class=\"nw\">금요일</td><td><a href=\"/holidays/south-korea/new-year-eve\">New Year's Eve</a></td><td>Observance</td></tr>]"
      ]
     },
     "execution_count": 6,
     "metadata": {},
     "output_type": "execute_result"
    }
   ],
   "source": [
    "trs"
   ]
  },
  {
   "cell_type": "code",
   "execution_count": null,
   "metadata": {},
   "outputs": [],
   "source": [
    "eachTr.te"
   ]
  },
  {
   "cell_type": "code",
   "execution_count": null,
   "metadata": {},
   "outputs": [],
   "source": []
  },
  {
   "cell_type": "code",
   "execution_count": null,
   "metadata": {},
   "outputs": [],
   "source": []
  },
  {
   "cell_type": "code",
   "execution_count": null,
   "metadata": {},
   "outputs": [],
   "source": []
  },
  {
   "cell_type": "code",
   "execution_count": null,
   "metadata": {},
   "outputs": [],
   "source": []
  },
  {
   "cell_type": "code",
   "execution_count": null,
   "metadata": {},
   "outputs": [],
   "source": []
  },
  {
   "cell_type": "code",
   "execution_count": null,
   "metadata": {},
   "outputs": [],
   "source": []
  },
  {
   "cell_type": "code",
   "execution_count": null,
   "metadata": {},
   "outputs": [],
   "source": []
  },
  {
   "cell_type": "code",
   "execution_count": null,
   "metadata": {},
   "outputs": [],
   "source": []
  },
  {
   "cell_type": "code",
   "execution_count": null,
   "metadata": {},
   "outputs": [],
   "source": []
  },
  {
   "cell_type": "code",
   "execution_count": null,
   "metadata": {},
   "outputs": [],
   "source": []
  },
  {
   "cell_type": "code",
   "execution_count": null,
   "metadata": {},
   "outputs": [],
   "source": []
  },
  {
   "cell_type": "code",
   "execution_count": null,
   "metadata": {},
   "outputs": [],
   "source": []
  },
  {
   "cell_type": "code",
   "execution_count": null,
   "metadata": {},
   "outputs": [],
   "source": []
  },
  {
   "cell_type": "code",
   "execution_count": null,
   "metadata": {},
   "outputs": [],
   "source": []
  },
  {
   "cell_type": "code",
   "execution_count": null,
   "metadata": {},
   "outputs": [],
   "source": []
  },
  {
   "cell_type": "code",
   "execution_count": null,
   "metadata": {},
   "outputs": [],
   "source": []
  },
  {
   "cell_type": "code",
   "execution_count": 35,
   "metadata": {},
   "outputs": [],
   "source": [
    "for j in range(0, len(trs)):\n",
    "\n",
    "    eachTr = trs[j]\n",
    "\n",
    "    if eachTr.text == \"\":\n",
    "        continue\n",
    "\n",
    "    tds = eachTr.findAll()\n",
    "\n",
    "    for i in range(len(tds)):\n",
    "\n",
    "        eachTd = tds[i]\n",
    "        columnList.append(eachTd.text)\n",
    "\n",
    "    rowList.append(columnList)\n",
    "    columnList = []"
   ]
  },
  {
   "cell_type": "code",
   "execution_count": 36,
   "metadata": {},
   "outputs": [],
   "source": [
    "import pandas as pd"
   ]
  },
  {
   "cell_type": "code",
   "execution_count": 37,
   "metadata": {
    "collapsed": true,
    "jupyter": {
     "outputs_hidden": true
    }
   },
   "outputs": [
    {
     "data": {
      "text/html": [
       "<div>\n",
       "<style scoped>\n",
       "    .dataframe tbody tr th:only-of-type {\n",
       "        vertical-align: middle;\n",
       "    }\n",
       "\n",
       "    .dataframe tbody tr th {\n",
       "        vertical-align: top;\n",
       "    }\n",
       "\n",
       "    .dataframe thead th {\n",
       "        text-align: right;\n",
       "    }\n",
       "</style>\n",
       "<table border=\"1\" class=\"dataframe\">\n",
       "  <thead>\n",
       "    <tr style=\"text-align: right;\">\n",
       "      <th></th>\n",
       "      <th>0</th>\n",
       "      <th>1</th>\n",
       "      <th>2</th>\n",
       "      <th>3</th>\n",
       "      <th>4</th>\n",
       "    </tr>\n",
       "  </thead>\n",
       "  <tbody>\n",
       "    <tr>\n",
       "      <th>0</th>\n",
       "      <td>1월 1일</td>\n",
       "      <td>금요일</td>\n",
       "      <td>New Year's Day</td>\n",
       "      <td>New Year's Day</td>\n",
       "      <td>Public Holiday</td>\n",
       "    </tr>\n",
       "    <tr>\n",
       "      <th>1</th>\n",
       "      <td>2월 11일</td>\n",
       "      <td>목요일</td>\n",
       "      <td>Seollal Holiday</td>\n",
       "      <td>Seollal Holiday</td>\n",
       "      <td>Public Holiday</td>\n",
       "    </tr>\n",
       "    <tr>\n",
       "      <th>2</th>\n",
       "      <td>2월 12일</td>\n",
       "      <td>금요일</td>\n",
       "      <td>Seollal</td>\n",
       "      <td>Seollal</td>\n",
       "      <td>Public Holiday</td>\n",
       "    </tr>\n",
       "    <tr>\n",
       "      <th>3</th>\n",
       "      <td>2월 13일</td>\n",
       "      <td>토요일</td>\n",
       "      <td>Seollal Holiday</td>\n",
       "      <td>Seollal Holiday</td>\n",
       "      <td>Public Holiday</td>\n",
       "    </tr>\n",
       "    <tr>\n",
       "      <th>4</th>\n",
       "      <td>2월 14일</td>\n",
       "      <td>일요일</td>\n",
       "      <td>Valentine's Day</td>\n",
       "      <td>Valentine's Day</td>\n",
       "      <td>Observance</td>\n",
       "    </tr>\n",
       "    <tr>\n",
       "      <th>5</th>\n",
       "      <td>3월 1일</td>\n",
       "      <td>월요일</td>\n",
       "      <td>Independence Movement Day</td>\n",
       "      <td>Independence Movement Day</td>\n",
       "      <td>National holiday</td>\n",
       "    </tr>\n",
       "    <tr>\n",
       "      <th>6</th>\n",
       "      <td>3월 20일</td>\n",
       "      <td>토요일</td>\n",
       "      <td>March Equinox</td>\n",
       "      <td>March Equinox</td>\n",
       "      <td>Season</td>\n",
       "    </tr>\n",
       "    <tr>\n",
       "      <th>7</th>\n",
       "      <td>4월 5일</td>\n",
       "      <td>월요일</td>\n",
       "      <td>Arbor Day</td>\n",
       "      <td>Arbor Day</td>\n",
       "      <td>Observance</td>\n",
       "    </tr>\n",
       "    <tr>\n",
       "      <th>8</th>\n",
       "      <td>5월 1일</td>\n",
       "      <td>토요일</td>\n",
       "      <td>Labor Day</td>\n",
       "      <td>Labor Day</td>\n",
       "      <td>Bank Holiday</td>\n",
       "    </tr>\n",
       "    <tr>\n",
       "      <th>9</th>\n",
       "      <td>5월 5일</td>\n",
       "      <td>수요일</td>\n",
       "      <td>Children's Day</td>\n",
       "      <td>Children's Day</td>\n",
       "      <td>Public Holiday</td>\n",
       "    </tr>\n",
       "    <tr>\n",
       "      <th>10</th>\n",
       "      <td>5월 8일</td>\n",
       "      <td>토요일</td>\n",
       "      <td>Parents' Day</td>\n",
       "      <td>Parents' Day</td>\n",
       "      <td>Observance</td>\n",
       "    </tr>\n",
       "    <tr>\n",
       "      <th>11</th>\n",
       "      <td>5월 15일</td>\n",
       "      <td>토요일</td>\n",
       "      <td>Teacher's Day</td>\n",
       "      <td>Teacher's Day</td>\n",
       "      <td>Observance</td>\n",
       "    </tr>\n",
       "    <tr>\n",
       "      <th>12</th>\n",
       "      <td>5월 19일</td>\n",
       "      <td>수요일</td>\n",
       "      <td>Buddha's Birthday</td>\n",
       "      <td>Buddha's Birthday</td>\n",
       "      <td>Public Holiday</td>\n",
       "    </tr>\n",
       "    <tr>\n",
       "      <th>13</th>\n",
       "      <td>6월 6일</td>\n",
       "      <td>일요일</td>\n",
       "      <td>Memorial Day</td>\n",
       "      <td>Memorial Day</td>\n",
       "      <td>Public Holiday</td>\n",
       "    </tr>\n",
       "    <tr>\n",
       "      <th>14</th>\n",
       "      <td>6월 21일</td>\n",
       "      <td>월요일</td>\n",
       "      <td>June Solstice</td>\n",
       "      <td>June Solstice</td>\n",
       "      <td>Season</td>\n",
       "    </tr>\n",
       "    <tr>\n",
       "      <th>15</th>\n",
       "      <td>7월 17일</td>\n",
       "      <td>토요일</td>\n",
       "      <td>Constitution Day</td>\n",
       "      <td>Constitution Day</td>\n",
       "      <td>Observance</td>\n",
       "    </tr>\n",
       "    <tr>\n",
       "      <th>16</th>\n",
       "      <td>8월 15일</td>\n",
       "      <td>일요일</td>\n",
       "      <td>Liberation Day</td>\n",
       "      <td>Liberation Day</td>\n",
       "      <td>National holiday</td>\n",
       "    </tr>\n",
       "    <tr>\n",
       "      <th>17</th>\n",
       "      <td>9월 20일</td>\n",
       "      <td>월요일</td>\n",
       "      <td>Chuseok Holiday</td>\n",
       "      <td>Chuseok Holiday</td>\n",
       "      <td>Public Holiday</td>\n",
       "    </tr>\n",
       "    <tr>\n",
       "      <th>18</th>\n",
       "      <td>9월 21일</td>\n",
       "      <td>화요일</td>\n",
       "      <td>Chuseok</td>\n",
       "      <td>Chuseok</td>\n",
       "      <td>Public Holiday</td>\n",
       "    </tr>\n",
       "    <tr>\n",
       "      <th>19</th>\n",
       "      <td>9월 22일</td>\n",
       "      <td>수요일</td>\n",
       "      <td>Chuseok Holiday</td>\n",
       "      <td>Chuseok Holiday</td>\n",
       "      <td>Public Holiday</td>\n",
       "    </tr>\n",
       "    <tr>\n",
       "      <th>20</th>\n",
       "      <td>9월 23일</td>\n",
       "      <td>목요일</td>\n",
       "      <td>September Equinox</td>\n",
       "      <td>September Equinox</td>\n",
       "      <td>Season</td>\n",
       "    </tr>\n",
       "    <tr>\n",
       "      <th>21</th>\n",
       "      <td>10월 1일</td>\n",
       "      <td>금요일</td>\n",
       "      <td>Armed Forces Day</td>\n",
       "      <td>Armed Forces Day</td>\n",
       "      <td>Observance</td>\n",
       "    </tr>\n",
       "    <tr>\n",
       "      <th>22</th>\n",
       "      <td>10월 3일</td>\n",
       "      <td>일요일</td>\n",
       "      <td>National Foundation Day</td>\n",
       "      <td>National Foundation Day</td>\n",
       "      <td>National holiday</td>\n",
       "    </tr>\n",
       "    <tr>\n",
       "      <th>23</th>\n",
       "      <td>10월 9일</td>\n",
       "      <td>토요일</td>\n",
       "      <td>Hangeul Proclamation Day</td>\n",
       "      <td>Hangeul Proclamation Day</td>\n",
       "      <td>National holiday</td>\n",
       "    </tr>\n",
       "    <tr>\n",
       "      <th>24</th>\n",
       "      <td>10월 31일</td>\n",
       "      <td>일요일</td>\n",
       "      <td>Halloween</td>\n",
       "      <td>Halloween</td>\n",
       "      <td>Observance</td>\n",
       "    </tr>\n",
       "    <tr>\n",
       "      <th>25</th>\n",
       "      <td>12월 22일</td>\n",
       "      <td>수요일</td>\n",
       "      <td>December Solstice</td>\n",
       "      <td>December Solstice</td>\n",
       "      <td>Season</td>\n",
       "    </tr>\n",
       "    <tr>\n",
       "      <th>26</th>\n",
       "      <td>12월 24일</td>\n",
       "      <td>금요일</td>\n",
       "      <td>Christmas Eve</td>\n",
       "      <td>Christmas Eve</td>\n",
       "      <td>Observance</td>\n",
       "    </tr>\n",
       "    <tr>\n",
       "      <th>27</th>\n",
       "      <td>12월 25일</td>\n",
       "      <td>토요일</td>\n",
       "      <td>Christmas Day</td>\n",
       "      <td>Christmas Day</td>\n",
       "      <td>Public Holiday</td>\n",
       "    </tr>\n",
       "    <tr>\n",
       "      <th>28</th>\n",
       "      <td>12월 31일</td>\n",
       "      <td>금요일</td>\n",
       "      <td>New Year's Eve</td>\n",
       "      <td>New Year's Eve</td>\n",
       "      <td>Observance</td>\n",
       "    </tr>\n",
       "  </tbody>\n",
       "</table>\n",
       "</div>"
      ],
      "text/plain": [
       "          0    1                          2                          3  \\\n",
       "0     1월 1일  금요일             New Year's Day             New Year's Day   \n",
       "1    2월 11일  목요일            Seollal Holiday            Seollal Holiday   \n",
       "2    2월 12일  금요일                    Seollal                    Seollal   \n",
       "3    2월 13일  토요일            Seollal Holiday            Seollal Holiday   \n",
       "4    2월 14일  일요일            Valentine's Day            Valentine's Day   \n",
       "5     3월 1일  월요일  Independence Movement Day  Independence Movement Day   \n",
       "6    3월 20일  토요일              March Equinox              March Equinox   \n",
       "7     4월 5일  월요일                  Arbor Day                  Arbor Day   \n",
       "8     5월 1일  토요일                  Labor Day                  Labor Day   \n",
       "9     5월 5일  수요일             Children's Day             Children's Day   \n",
       "10    5월 8일  토요일               Parents' Day               Parents' Day   \n",
       "11   5월 15일  토요일              Teacher's Day              Teacher's Day   \n",
       "12   5월 19일  수요일          Buddha's Birthday          Buddha's Birthday   \n",
       "13    6월 6일  일요일               Memorial Day               Memorial Day   \n",
       "14   6월 21일  월요일              June Solstice              June Solstice   \n",
       "15   7월 17일  토요일           Constitution Day           Constitution Day   \n",
       "16   8월 15일  일요일             Liberation Day             Liberation Day   \n",
       "17   9월 20일  월요일            Chuseok Holiday            Chuseok Holiday   \n",
       "18   9월 21일  화요일                    Chuseok                    Chuseok   \n",
       "19   9월 22일  수요일            Chuseok Holiday            Chuseok Holiday   \n",
       "20   9월 23일  목요일          September Equinox          September Equinox   \n",
       "21   10월 1일  금요일           Armed Forces Day           Armed Forces Day   \n",
       "22   10월 3일  일요일    National Foundation Day    National Foundation Day   \n",
       "23   10월 9일  토요일   Hangeul Proclamation Day   Hangeul Proclamation Day   \n",
       "24  10월 31일  일요일                  Halloween                  Halloween   \n",
       "25  12월 22일  수요일          December Solstice          December Solstice   \n",
       "26  12월 24일  금요일              Christmas Eve              Christmas Eve   \n",
       "27  12월 25일  토요일              Christmas Day              Christmas Day   \n",
       "28  12월 31일  금요일             New Year's Eve             New Year's Eve   \n",
       "\n",
       "                   4  \n",
       "0     Public Holiday  \n",
       "1     Public Holiday  \n",
       "2     Public Holiday  \n",
       "3     Public Holiday  \n",
       "4         Observance  \n",
       "5   National holiday  \n",
       "6             Season  \n",
       "7         Observance  \n",
       "8       Bank Holiday  \n",
       "9     Public Holiday  \n",
       "10        Observance  \n",
       "11        Observance  \n",
       "12    Public Holiday  \n",
       "13    Public Holiday  \n",
       "14            Season  \n",
       "15        Observance  \n",
       "16  National holiday  \n",
       "17    Public Holiday  \n",
       "18    Public Holiday  \n",
       "19    Public Holiday  \n",
       "20            Season  \n",
       "21        Observance  \n",
       "22  National holiday  \n",
       "23  National holiday  \n",
       "24        Observance  \n",
       "25            Season  \n",
       "26        Observance  \n",
       "27    Public Holiday  \n",
       "28        Observance  "
      ]
     },
     "execution_count": 37,
     "metadata": {},
     "output_type": "execute_result"
    }
   ],
   "source": [
    "pd.DataFrame(rowList)"
   ]
  },
  {
   "cell_type": "code",
   "execution_count": 38,
   "metadata": {},
   "outputs": [],
   "source": [
    "trs = tbodyTag.find_all(name=\"tr\")"
   ]
  },
  {
   "cell_type": "code",
   "execution_count": null,
   "metadata": {},
   "outputs": [],
   "source": []
  },
  {
   "cell_type": "code",
   "execution_count": null,
   "metadata": {},
   "outputs": [],
   "source": []
  },
  {
   "cell_type": "code",
   "execution_count": null,
   "metadata": {},
   "outputs": [],
   "source": []
  },
  {
   "cell_type": "code",
   "execution_count": null,
   "metadata": {},
   "outputs": [],
   "source": []
  },
  {
   "cell_type": "code",
   "execution_count": 57,
   "metadata": {},
   "outputs": [
    {
     "ename": "AttributeError",
     "evalue": "ResultSet object has no attribute 'find_all'. You're probably treating a list of elements like a single element. Did you call find_all() when you meant to call find()?",
     "output_type": "error",
     "traceback": [
      "\u001b[1;31m---------------------------------------------------------------------------\u001b[0m",
      "\u001b[1;31mAttributeError\u001b[0m                            Traceback (most recent call last)",
      "\u001b[1;32m<ipython-input-57-b6427d8d9c01>\u001b[0m in \u001b[0;36m<module>\u001b[1;34m\u001b[0m\n\u001b[1;32m----> 1\u001b[1;33m \u001b[0mtrs\u001b[0m\u001b[1;33m.\u001b[0m\u001b[0mfind_all\u001b[0m\u001b[1;33m(\u001b[0m\u001b[1;34m\"hol_\"\u001b[0m\u001b[1;33m)\u001b[0m\u001b[1;33m\u001b[0m\u001b[1;33m\u001b[0m\u001b[0m\n\u001b[0m",
      "\u001b[1;32m~\\anaconda3\\lib\\site-packages\\bs4\\element.py\u001b[0m in \u001b[0;36m__getattr__\u001b[1;34m(self, key)\u001b[0m\n\u001b[0;32m   2171\u001b[0m     \u001b[1;32mdef\u001b[0m \u001b[0m__getattr__\u001b[0m\u001b[1;33m(\u001b[0m\u001b[0mself\u001b[0m\u001b[1;33m,\u001b[0m \u001b[0mkey\u001b[0m\u001b[1;33m)\u001b[0m\u001b[1;33m:\u001b[0m\u001b[1;33m\u001b[0m\u001b[1;33m\u001b[0m\u001b[0m\n\u001b[0;32m   2172\u001b[0m         \u001b[1;34m\"\"\"Raise a helpful exception to explain a common code fix.\"\"\"\u001b[0m\u001b[1;33m\u001b[0m\u001b[1;33m\u001b[0m\u001b[0m\n\u001b[1;32m-> 2173\u001b[1;33m         raise AttributeError(\n\u001b[0m\u001b[0;32m   2174\u001b[0m             \u001b[1;34m\"ResultSet object has no attribute '%s'. You're probably treating a list of elements like a single element. Did you call find_all() when you meant to call find()?\"\u001b[0m \u001b[1;33m%\u001b[0m \u001b[0mkey\u001b[0m\u001b[1;33m\u001b[0m\u001b[1;33m\u001b[0m\u001b[0m\n\u001b[0;32m   2175\u001b[0m         )\n",
      "\u001b[1;31mAttributeError\u001b[0m: ResultSet object has no attribute 'find_all'. You're probably treating a list of elements like a single element. Did you call find_all() when you meant to call find()?"
     ]
    }
   ],
   "source": [
    "trs.find_all(\"h)"
   ]
  },
  {
   "cell_type": "code",
   "execution_count": null,
   "metadata": {},
   "outputs": [],
   "source": []
  }
 ],
 "metadata": {
  "kernelspec": {
   "display_name": "Python 3",
   "language": "python",
   "name": "python3"
  },
  "language_info": {
   "codemirror_mode": {
    "name": "ipython",
    "version": 3
   },
   "file_extension": ".py",
   "mimetype": "text/x-python",
   "name": "python",
   "nbconvert_exporter": "python",
   "pygments_lexer": "ipython3",
   "version": "3.8.5"
  }
 },
 "nbformat": 4,
 "nbformat_minor": 4
}

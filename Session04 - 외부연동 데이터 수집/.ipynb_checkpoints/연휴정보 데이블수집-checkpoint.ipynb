{
 "cells": [
  {
   "cell_type": "code",
   "execution_count": 1,
   "metadata": {},
   "outputs": [
    {
     "data": {
      "text/plain": [
       "<tbody><tr id=\"hol_jan\"></tr><tr data-date=\"1609459200000\" data-mask=\"1\" id=\"tr1\"><th class=\"nw\">1월 1일</th><td class=\"nw\">금요일</td><td><a href=\"/holidays/south-korea/new-year-day\">New Year's Day</a></td><td>Public Holiday</td></tr><tr id=\"hol_feb\"></tr><tr data-date=\"1613001600000\" data-mask=\"1\" id=\"tr3\"><th class=\"nw\">2월 11일</th><td class=\"nw\">목요일</td><td><a href=\"/holidays/south-korea/seollal-holiday-1\">Seollal Holiday</a></td><td>Public Holiday</td></tr><tr data-date=\"1613088000000\" data-mask=\"1\" id=\"tr4\"><th class=\"nw\">2월 12일</th><td class=\"nw\">금요일</td><td><a href=\"/holidays/south-korea/seollal-holiday-2\">Seollal</a></td><td>Public Holiday</td></tr><tr data-date=\"1613174400000\" data-mask=\"1\" id=\"tr5\"><th class=\"nw\">2월 13일</th><td class=\"nw\">토요일</td><td><a href=\"/holidays/south-korea/seollal-holiday-3\">Seollal Holiday</a></td><td>Public Holiday</td></tr><tr data-date=\"1613260800000\" data-mask=\"32\" id=\"tr6\"><th class=\"nw\">2월 14일</th><td class=\"nw\">일요일</td><td><a href=\"/holidays/south-korea/valentines-day\">Valentine's Day</a></td><td>Observance</td></tr><tr id=\"hol_mar\"></tr><tr data-date=\"1614556800000\" data-mask=\"1\" id=\"tr8\"><th class=\"nw\">3월 1일</th><td class=\"nw\">월요일</td><td><a href=\"/holidays/south-korea/independence-movement-day\">Independence Movement Day</a></td><td>National holiday</td></tr><tr data-date=\"1616265451000\" data-mask=\"256\" id=\"tr9\"><th class=\"nw\">3월 20일</th><td class=\"nw\">토요일</td><td><a href=\"/calendar/march-equinox.html\">March Equinox</a></td><td>Season</td></tr><tr id=\"hol_apr\"></tr><tr data-date=\"1617580800000\" data-mask=\"16\" id=\"tr11\"><th class=\"nw\">4월 5일</th><td class=\"nw\">월요일</td><td><a href=\"/holidays/south-korea/arbor-day\">Arbor Day</a></td><td>Observance</td></tr><tr id=\"hol_may\"></tr><tr data-date=\"1619827200000\" data-mask=\"4194304\" id=\"tr13\"><th class=\"nw\">5월 1일</th><td class=\"nw\">토요일</td><td><a href=\"/holidays/south-korea/labor-day\">Labor Day</a></td><td>Bank Holiday</td></tr><tr data-date=\"1620172800000\" data-mask=\"1\" id=\"tr14\"><th class=\"nw\">5월 5일</th><td class=\"nw\">수요일</td><td><a href=\"/holidays/south-korea/childrens-day\">Children's Day</a></td><td>Public Holiday</td></tr><tr data-date=\"1620432000000\" data-mask=\"16\" id=\"tr15\"><th class=\"nw\">5월 8일</th><td class=\"nw\">토요일</td><td><a href=\"/holidays/south-korea/parents-day\">Parents' Day</a></td><td>Observance</td></tr><tr data-date=\"1621036800000\" data-mask=\"16\" id=\"tr16\"><th class=\"nw\">5월 15일</th><td class=\"nw\">토요일</td><td><a href=\"/holidays/south-korea/teachers-day\">Teacher's Day</a></td><td>Observance</td></tr><tr data-date=\"1621382400000\" data-mask=\"1\" id=\"tr17\"><th class=\"nw\">5월 19일</th><td class=\"nw\">수요일</td><td><a href=\"/holidays/south-korea/buddha-birthday\">Buddha's Birthday</a></td><td>Public Holiday</td></tr><tr id=\"hol_jun\"></tr><tr data-date=\"1622937600000\" data-mask=\"1\" id=\"tr19\"><th class=\"nw\">6월 6일</th><td class=\"nw\">일요일</td><td><a href=\"/holidays/south-korea/memorial-day\">Memorial Day</a></td><td>Public Holiday</td></tr><tr data-date=\"1624278729000\" data-mask=\"256\" id=\"tr20\"><th class=\"nw\">6월 21일</th><td class=\"nw\">월요일</td><td><a href=\"/calendar/june-solstice.html\">June Solstice</a></td><td>Season</td></tr><tr id=\"hol_jul\"></tr><tr data-date=\"1626480000000\" data-mask=\"16\" id=\"tr22\"><th class=\"nw\">7월 17일</th><td class=\"nw\">토요일</td><td><a href=\"/holidays/south-korea/constitution-day\">Constitution Day</a></td><td>Observance</td></tr><tr id=\"hol_aug\"></tr><tr data-date=\"1628985600000\" data-mask=\"1\" id=\"tr24\"><th class=\"nw\">8월 15일</th><td class=\"nw\">일요일</td><td><a href=\"/holidays/south-korea/liberation-day\">Liberation Day</a></td><td>National holiday</td></tr><tr id=\"hol_sep\"></tr><tr data-date=\"1632096000000\" data-mask=\"1\" id=\"tr26\"><th class=\"nw\">9월 20일</th><td class=\"nw\">월요일</td><td><a href=\"/holidays/south-korea/mid-autumn-festival-day-1\">Chuseok Holiday</a></td><td>Public Holiday</td></tr><tr data-date=\"1632182400000\" data-mask=\"1\" id=\"tr27\"><th class=\"nw\">9월 21일</th><td class=\"nw\">화요일</td><td><a href=\"/holidays/south-korea/mid-autumn-festival-day-2\">Chuseok</a></td><td>Public Holiday</td></tr><tr data-date=\"1632268800000\" data-mask=\"1\" id=\"tr28\"><th class=\"nw\">9월 22일</th><td class=\"nw\">수요일</td><td><a href=\"/holidays/south-korea/mid-autumn-festival-day-3\">Chuseok Holiday</a></td><td>Public Holiday</td></tr><tr data-date=\"1632370871000\" data-mask=\"256\" id=\"tr29\"><th class=\"nw\">9월 23일</th><td class=\"nw\">목요일</td><td><a href=\"/calendar/september-equinox.html\">September Equinox</a></td><td>Season</td></tr><tr id=\"hol_oct\"></tr><tr data-date=\"1633046400000\" data-mask=\"16\" id=\"tr31\"><th class=\"nw\">10월 1일</th><td class=\"nw\">금요일</td><td><a href=\"/holidays/south-korea/armed-forces-day\">Armed Forces Day</a></td><td>Observance</td></tr><tr data-date=\"1633219200000\" data-mask=\"1\" id=\"tr32\"><th class=\"nw\">10월 3일</th><td class=\"nw\">일요일</td><td><a href=\"/holidays/south-korea/national-foundation-day\">National Foundation Day</a></td><td>National holiday</td></tr><tr data-date=\"1633737600000\" data-mask=\"1\" id=\"tr33\"><th class=\"nw\">10월 9일</th><td class=\"nw\">토요일</td><td><a href=\"/holidays/south-korea/hangeul-day\">Hangeul Proclamation Day</a></td><td>National holiday</td></tr><tr data-date=\"1635638400000\" data-mask=\"32\" id=\"tr34\"><th class=\"nw\">10월 31일</th><td class=\"nw\">일요일</td><td><a href=\"/holidays/south-korea/halloween\">Halloween</a></td><td>Observance</td></tr><tr id=\"hol_nov\"></tr><tr id=\"hol_dec\"></tr><tr data-date=\"1640134758000\" data-mask=\"256\" id=\"tr37\"><th class=\"nw\">12월 22일</th><td class=\"nw\">수요일</td><td><a href=\"/calendar/december-solstice.html\">December Solstice</a></td><td>Season</td></tr><tr data-date=\"1640304000000\" data-mask=\"16\" id=\"tr38\"><th class=\"nw\">12월 24일</th><td class=\"nw\">금요일</td><td><a href=\"/holidays/south-korea/christmas-eve\">Christmas Eve</a></td><td>Observance</td></tr><tr data-date=\"1640390400000\" data-mask=\"1\" id=\"tr39\"><th class=\"nw\">12월 25일</th><td class=\"nw\">토요일</td><td><a href=\"/holidays/south-korea/christmas-day\">Christmas Day</a></td><td>Public Holiday</td></tr><tr data-date=\"1640908800000\" data-mask=\"16\" id=\"tr40\"><th class=\"nw\">12월 31일</th><td class=\"nw\">금요일</td><td><a href=\"/holidays/south-korea/new-year-eve\">New Year's Eve</a></td><td>Observance</td></tr></tbody>"
      ]
     },
     "execution_count": 1,
     "metadata": {},
     "output_type": "execute_result"
    }
   ],
   "source": [
    "from bs4 import BeautifulSoup # 태그 이쁘게 뜨기\n",
    "import requests # 웹페이지 접속 요청\n",
    "targetUrl = \"https://www.timeanddate.com/holidays/south-korea/\"\n",
    "\n",
    "resp = requests.get(url=targetUrl) ## response 200 = 정상\n",
    "resp.encoding = \"utf-8\" ## 인코딩\n",
    "html = resp.text\n",
    "htmlObj = BeautifulSoup(html, \"html.parser\") ## beautifulSoup 사용\n",
    "\n",
    "\n",
    "\n",
    "tableTag = htmlObj.find(name=\"tbody\")\n",
    "\n",
    "tableTag"
   ]
  },
  {
   "cell_type": "code",
   "execution_count": 4,
   "metadata": {},
   "outputs": [
    {
     "data": {
      "text/plain": [
       "[<tr id=\"hol_jan\"></tr>,\n",
       " <tr data-date=\"1609459200000\" data-mask=\"1\" id=\"tr1\"><th class=\"nw\">1월 1일</th><td class=\"nw\">금요일</td><td><a href=\"/holidays/south-korea/new-year-day\">New Year's Day</a></td><td>Public Holiday</td></tr>,\n",
       " <tr id=\"hol_feb\"></tr>,\n",
       " <tr data-date=\"1613001600000\" data-mask=\"1\" id=\"tr3\"><th class=\"nw\">2월 11일</th><td class=\"nw\">목요일</td><td><a href=\"/holidays/south-korea/seollal-holiday-1\">Seollal Holiday</a></td><td>Public Holiday</td></tr>,\n",
       " <tr data-date=\"1613088000000\" data-mask=\"1\" id=\"tr4\"><th class=\"nw\">2월 12일</th><td class=\"nw\">금요일</td><td><a href=\"/holidays/south-korea/seollal-holiday-2\">Seollal</a></td><td>Public Holiday</td></tr>,\n",
       " <tr data-date=\"1613174400000\" data-mask=\"1\" id=\"tr5\"><th class=\"nw\">2월 13일</th><td class=\"nw\">토요일</td><td><a href=\"/holidays/south-korea/seollal-holiday-3\">Seollal Holiday</a></td><td>Public Holiday</td></tr>,\n",
       " <tr data-date=\"1613260800000\" data-mask=\"32\" id=\"tr6\"><th class=\"nw\">2월 14일</th><td class=\"nw\">일요일</td><td><a href=\"/holidays/south-korea/valentines-day\">Valentine's Day</a></td><td>Observance</td></tr>,\n",
       " <tr id=\"hol_mar\"></tr>,\n",
       " <tr data-date=\"1614556800000\" data-mask=\"1\" id=\"tr8\"><th class=\"nw\">3월 1일</th><td class=\"nw\">월요일</td><td><a href=\"/holidays/south-korea/independence-movement-day\">Independence Movement Day</a></td><td>National holiday</td></tr>,\n",
       " <tr data-date=\"1616265451000\" data-mask=\"256\" id=\"tr9\"><th class=\"nw\">3월 20일</th><td class=\"nw\">토요일</td><td><a href=\"/calendar/march-equinox.html\">March Equinox</a></td><td>Season</td></tr>,\n",
       " <tr id=\"hol_apr\"></tr>,\n",
       " <tr data-date=\"1617580800000\" data-mask=\"16\" id=\"tr11\"><th class=\"nw\">4월 5일</th><td class=\"nw\">월요일</td><td><a href=\"/holidays/south-korea/arbor-day\">Arbor Day</a></td><td>Observance</td></tr>,\n",
       " <tr id=\"hol_may\"></tr>,\n",
       " <tr data-date=\"1619827200000\" data-mask=\"4194304\" id=\"tr13\"><th class=\"nw\">5월 1일</th><td class=\"nw\">토요일</td><td><a href=\"/holidays/south-korea/labor-day\">Labor Day</a></td><td>Bank Holiday</td></tr>,\n",
       " <tr data-date=\"1620172800000\" data-mask=\"1\" id=\"tr14\"><th class=\"nw\">5월 5일</th><td class=\"nw\">수요일</td><td><a href=\"/holidays/south-korea/childrens-day\">Children's Day</a></td><td>Public Holiday</td></tr>,\n",
       " <tr data-date=\"1620432000000\" data-mask=\"16\" id=\"tr15\"><th class=\"nw\">5월 8일</th><td class=\"nw\">토요일</td><td><a href=\"/holidays/south-korea/parents-day\">Parents' Day</a></td><td>Observance</td></tr>,\n",
       " <tr data-date=\"1621036800000\" data-mask=\"16\" id=\"tr16\"><th class=\"nw\">5월 15일</th><td class=\"nw\">토요일</td><td><a href=\"/holidays/south-korea/teachers-day\">Teacher's Day</a></td><td>Observance</td></tr>,\n",
       " <tr data-date=\"1621382400000\" data-mask=\"1\" id=\"tr17\"><th class=\"nw\">5월 19일</th><td class=\"nw\">수요일</td><td><a href=\"/holidays/south-korea/buddha-birthday\">Buddha's Birthday</a></td><td>Public Holiday</td></tr>,\n",
       " <tr id=\"hol_jun\"></tr>,\n",
       " <tr data-date=\"1622937600000\" data-mask=\"1\" id=\"tr19\"><th class=\"nw\">6월 6일</th><td class=\"nw\">일요일</td><td><a href=\"/holidays/south-korea/memorial-day\">Memorial Day</a></td><td>Public Holiday</td></tr>,\n",
       " <tr data-date=\"1624278729000\" data-mask=\"256\" id=\"tr20\"><th class=\"nw\">6월 21일</th><td class=\"nw\">월요일</td><td><a href=\"/calendar/june-solstice.html\">June Solstice</a></td><td>Season</td></tr>,\n",
       " <tr id=\"hol_jul\"></tr>,\n",
       " <tr data-date=\"1626480000000\" data-mask=\"16\" id=\"tr22\"><th class=\"nw\">7월 17일</th><td class=\"nw\">토요일</td><td><a href=\"/holidays/south-korea/constitution-day\">Constitution Day</a></td><td>Observance</td></tr>,\n",
       " <tr id=\"hol_aug\"></tr>,\n",
       " <tr data-date=\"1628985600000\" data-mask=\"1\" id=\"tr24\"><th class=\"nw\">8월 15일</th><td class=\"nw\">일요일</td><td><a href=\"/holidays/south-korea/liberation-day\">Liberation Day</a></td><td>National holiday</td></tr>,\n",
       " <tr id=\"hol_sep\"></tr>,\n",
       " <tr data-date=\"1632096000000\" data-mask=\"1\" id=\"tr26\"><th class=\"nw\">9월 20일</th><td class=\"nw\">월요일</td><td><a href=\"/holidays/south-korea/mid-autumn-festival-day-1\">Chuseok Holiday</a></td><td>Public Holiday</td></tr>,\n",
       " <tr data-date=\"1632182400000\" data-mask=\"1\" id=\"tr27\"><th class=\"nw\">9월 21일</th><td class=\"nw\">화요일</td><td><a href=\"/holidays/south-korea/mid-autumn-festival-day-2\">Chuseok</a></td><td>Public Holiday</td></tr>,\n",
       " <tr data-date=\"1632268800000\" data-mask=\"1\" id=\"tr28\"><th class=\"nw\">9월 22일</th><td class=\"nw\">수요일</td><td><a href=\"/holidays/south-korea/mid-autumn-festival-day-3\">Chuseok Holiday</a></td><td>Public Holiday</td></tr>,\n",
       " <tr data-date=\"1632370871000\" data-mask=\"256\" id=\"tr29\"><th class=\"nw\">9월 23일</th><td class=\"nw\">목요일</td><td><a href=\"/calendar/september-equinox.html\">September Equinox</a></td><td>Season</td></tr>,\n",
       " <tr id=\"hol_oct\"></tr>,\n",
       " <tr data-date=\"1633046400000\" data-mask=\"16\" id=\"tr31\"><th class=\"nw\">10월 1일</th><td class=\"nw\">금요일</td><td><a href=\"/holidays/south-korea/armed-forces-day\">Armed Forces Day</a></td><td>Observance</td></tr>,\n",
       " <tr data-date=\"1633219200000\" data-mask=\"1\" id=\"tr32\"><th class=\"nw\">10월 3일</th><td class=\"nw\">일요일</td><td><a href=\"/holidays/south-korea/national-foundation-day\">National Foundation Day</a></td><td>National holiday</td></tr>,\n",
       " <tr data-date=\"1633737600000\" data-mask=\"1\" id=\"tr33\"><th class=\"nw\">10월 9일</th><td class=\"nw\">토요일</td><td><a href=\"/holidays/south-korea/hangeul-day\">Hangeul Proclamation Day</a></td><td>National holiday</td></tr>,\n",
       " <tr data-date=\"1635638400000\" data-mask=\"32\" id=\"tr34\"><th class=\"nw\">10월 31일</th><td class=\"nw\">일요일</td><td><a href=\"/holidays/south-korea/halloween\">Halloween</a></td><td>Observance</td></tr>,\n",
       " <tr id=\"hol_nov\"></tr>,\n",
       " <tr id=\"hol_dec\"></tr>,\n",
       " <tr data-date=\"1640134758000\" data-mask=\"256\" id=\"tr37\"><th class=\"nw\">12월 22일</th><td class=\"nw\">수요일</td><td><a href=\"/calendar/december-solstice.html\">December Solstice</a></td><td>Season</td></tr>,\n",
       " <tr data-date=\"1640304000000\" data-mask=\"16\" id=\"tr38\"><th class=\"nw\">12월 24일</th><td class=\"nw\">금요일</td><td><a href=\"/holidays/south-korea/christmas-eve\">Christmas Eve</a></td><td>Observance</td></tr>,\n",
       " <tr data-date=\"1640390400000\" data-mask=\"1\" id=\"tr39\"><th class=\"nw\">12월 25일</th><td class=\"nw\">토요일</td><td><a href=\"/holidays/south-korea/christmas-day\">Christmas Day</a></td><td>Public Holiday</td></tr>,\n",
       " <tr data-date=\"1640908800000\" data-mask=\"16\" id=\"tr40\"><th class=\"nw\">12월 31일</th><td class=\"nw\">금요일</td><td><a href=\"/holidays/south-korea/new-year-eve\">New Year's Eve</a></td><td>Observance</td></tr>]"
      ]
     },
     "execution_count": 4,
     "metadata": {},
     "output_type": "execute_result"
    }
   ],
   "source": [
    "Alltrs = tableTag.findAll(name = \"tr\")\n",
    "Alltrs"
   ]
  },
  {
   "cell_type": "code",
   "execution_count": null,
   "metadata": {},
   "outputs": [],
   "source": []
  },
  {
   "cell_type": "code",
   "execution_count": null,
   "metadata": {},
   "outputs": [],
   "source": []
  },
  {
   "cell_type": "code",
   "execution_count": null,
   "metadata": {},
   "outputs": [],
   "source": []
  },
  {
   "cell_type": "code",
   "execution_count": null,
   "metadata": {},
   "outputs": [],
   "source": []
  },
  {
   "cell_type": "code",
   "execution_count": null,
   "metadata": {},
   "outputs": [],
   "source": []
  },
  {
   "cell_type": "code",
   "execution_count": null,
   "metadata": {},
   "outputs": [],
   "source": []
  },
  {
   "cell_type": "code",
   "execution_count": null,
   "metadata": {},
   "outputs": [],
   "source": []
  },
  {
   "cell_type": "code",
   "execution_count": null,
   "metadata": {},
   "outputs": [],
   "source": []
  },
  {
   "cell_type": "code",
   "execution_count": null,
   "metadata": {},
   "outputs": [],
   "source": []
  },
  {
   "cell_type": "code",
   "execution_count": null,
   "metadata": {},
   "outputs": [],
   "source": []
  },
  {
   "cell_type": "code",
   "execution_count": null,
   "metadata": {},
   "outputs": [],
   "source": []
  },
  {
   "cell_type": "code",
   "execution_count": null,
   "metadata": {},
   "outputs": [],
   "source": []
  }
 ],
 "metadata": {
  "kernelspec": {
   "display_name": "Python 3",
   "language": "python",
   "name": "python3"
  },
  "language_info": {
   "codemirror_mode": {
    "name": "ipython",
    "version": 3
   },
   "file_extension": ".py",
   "mimetype": "text/x-python",
   "name": "python",
   "nbconvert_exporter": "python",
   "pygments_lexer": "ipython3",
   "version": "3.8.5"
  }
 },
 "nbformat": 4,
 "nbformat_minor": 4
}

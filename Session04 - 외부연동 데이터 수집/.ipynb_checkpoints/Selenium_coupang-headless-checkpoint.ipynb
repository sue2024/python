{
 "cells": [
  {
   "cell_type": "code",
   "execution_count": 51,
   "metadata": {},
   "outputs": [],
   "source": [
    "from selenium import webdriver\n",
    "from bs4 import BeautifulSoup\n",
    "import os\n",
    "from os.path import join, dirname\n",
    "\n",
    "if os.name == 'nt':\n",
    "    os_name = 'nt'\n",
    "elif os.name == 'mac':\n",
    "    os_name = 'mac'\n",
    "else:\n",
    "    os_name = 'linux'\n",
    "\n",
    "if os_name == 'nt':\n",
    "    dirver_loc = \"d:/chromedriver/chromedriver.exe\"\n",
    "else:\n",
    "    dirver_loc = \"/home/download/chromedriver/chromedriver.exe\""
   ]
  },
  {
   "cell_type": "code",
   "execution_count": 52,
   "metadata": {},
   "outputs": [
    {
     "data": {
      "text/plain": [
       "'d:/chromedriver/chromedriver.exe'"
      ]
     },
     "execution_count": 52,
     "metadata": {},
     "output_type": "execute_result"
    }
   ],
   "source": [
    "dirver_loc = \"d:/chromedriver/chromedriver.exe\"\n",
    "dirver_loc"
   ]
  },
  {
   "cell_type": "code",
   "execution_count": 53,
   "metadata": {},
   "outputs": [],
   "source": [
    "# # 크롬 옵션 설정\n",
    "# options = webdriver.ChromeOptions()\n",
    "# # 헤드리스 설정 시 리눅스 같이 웹화면 없는경우에도 웹페이지 실행가능함\n",
    "# options.add_argument('headless')\n",
    "# #options.add_argument('window-size=1920x1080')\n",
    "# options.add_argument(\"disable-gpu\")\n",
    "# # 웹 드라이버 정의\n",
    "# driver = webdriver.Chrome(dirver_loc, options=options)"
   ]
  },
  {
   "cell_type": "code",
   "execution_count": 54,
   "metadata": {},
   "outputs": [],
   "source": [
    "options = webdriver.ChromeOptions()"
   ]
  },
  {
   "cell_type": "code",
   "execution_count": null,
   "metadata": {},
   "outputs": [],
   "source": [
    "# Mozilla/5.0 (X11; Linux x86_64) AppleWebKit/537.36 (KHTML, like Gecko) Chrome/60.0.3112.50 Safari/537.36"
   ]
  },
  {
   "cell_type": "code",
   "execution_count": 55,
   "metadata": {},
   "outputs": [],
   "source": [
    "user_agent = 'Mozilla/5.0 (Macintosh; Intel Mac OS X 10_13_6) AppleWebKit/537.36 (KHTML, like Gecko) Chrome/68.0.3440.106 Safari/537.36'    \n",
    "options.add_argument('user-agent={0}'.format(user_agent))\n",
    "options.add_argument('headless')\n",
    "options.add_argument('window-size=1920x1080')\n",
    "options.add_argument(\"disable-gpu\")\n",
    "driver = webdriver.Chrome(dirver_loc, options=options)"
   ]
  },
  {
   "cell_type": "code",
   "execution_count": 56,
   "metadata": {},
   "outputs": [],
   "source": [
    "# 암묵적으로 웹 자원 로드를 위해 3초까지 기다려 준다.\n",
    "driver.implicitly_wait(3)"
   ]
  },
  {
   "cell_type": "code",
   "execution_count": 57,
   "metadata": {},
   "outputs": [],
   "source": [
    "# URL 정의\n",
    "base_url = 'https://www.coupang.com/'\n",
    "# UTL 이동\n",
    "driver.get(base_url)\n",
    "# 암묵적으로 웹 자원 로드를 위해 3초까지 기다려 준다.\n",
    "driver.implicitly_wait(3)"
   ]
  },
  {
   "cell_type": "code",
   "execution_count": 58,
   "metadata": {},
   "outputs": [
    {
     "data": {
      "text/plain": [
       "True"
      ]
     },
     "execution_count": 58,
     "metadata": {},
     "output_type": "execute_result"
    }
   ],
   "source": [
    "driver.get_screenshot_as_file('naver_main_headless.png')"
   ]
  },
  {
   "cell_type": "code",
   "execution_count": 59,
   "metadata": {},
   "outputs": [],
   "source": [
    "searchBox =driver.find_element_by_xpath('//*[@id=\"headerSearchKeyword\"]')"
   ]
  },
  {
   "cell_type": "code",
   "execution_count": 60,
   "metadata": {},
   "outputs": [],
   "source": [
    "searchBox.send_keys(\"계란\")"
   ]
  },
  {
   "cell_type": "code",
   "execution_count": 61,
   "metadata": {},
   "outputs": [],
   "source": [
    "searchButton= driver.find_element_by_xpath('//*[@id=\"headerSearchBtn\"]')"
   ]
  },
  {
   "cell_type": "code",
   "execution_count": 62,
   "metadata": {},
   "outputs": [],
   "source": [
    "searchButton.click()\n",
    "driver.implicitly_wait(3)"
   ]
  },
  {
   "cell_type": "code",
   "execution_count": 63,
   "metadata": {},
   "outputs": [
    {
     "data": {
      "text/plain": [
       "'https://www.coupang.com/np/search?component=&q=%EA%B3%84%EB%9E%80&channel=user'"
      ]
     },
     "execution_count": 63,
     "metadata": {},
     "output_type": "execute_result"
    }
   ],
   "source": [
    "scurl = driver.current_url\n",
    "scurl"
   ]
  },
  {
   "cell_type": "code",
   "execution_count": 64,
   "metadata": {},
   "outputs": [],
   "source": [
    "pagesrc = driver.page_source"
   ]
  },
  {
   "cell_type": "code",
   "execution_count": 65,
   "metadata": {},
   "outputs": [],
   "source": [
    "bsObj = BeautifulSoup(pagesrc,\"html.parser\")"
   ]
  },
  {
   "cell_type": "code",
   "execution_count": 66,
   "metadata": {},
   "outputs": [],
   "source": [
    "ul = bsObj.find(\"ul\", {\"id\":\"productList\"})\n",
    "lis = ul.findAll(\"li\")"
   ]
  },
  {
   "cell_type": "code",
   "execution_count": 67,
   "metadata": {
    "scrolled": false
   },
   "outputs": [
    {
     "name": "stdout",
     "output_type": "stream",
     "text": [
      "36\n"
     ]
    },
    {
     "data": {
      "text/html": [
       "<div>\n",
       "<style scoped>\n",
       "    .dataframe tbody tr th:only-of-type {\n",
       "        vertical-align: middle;\n",
       "    }\n",
       "\n",
       "    .dataframe tbody tr th {\n",
       "        vertical-align: top;\n",
       "    }\n",
       "\n",
       "    .dataframe thead th {\n",
       "        text-align: right;\n",
       "    }\n",
       "</style>\n",
       "<table border=\"1\" class=\"dataframe\">\n",
       "  <thead>\n",
       "    <tr style=\"text-align: right;\">\n",
       "      <th></th>\n",
       "      <th>0</th>\n",
       "      <th>1</th>\n",
       "    </tr>\n",
       "  </thead>\n",
       "  <tbody>\n",
       "    <tr>\n",
       "      <th>0</th>\n",
       "      <td>이엔에프푸드 반숙란 촉촉하게 간이배어 방금삶은것처럼 고소한 뉴반숙란 30개 20개,...</td>\n",
       "      <td>13,800</td>\n",
       "    </tr>\n",
       "    <tr>\n",
       "      <th>1</th>\n",
       "      <td>더마시나 무항생제 구운계란60구, 1개, 2,100g</td>\n",
       "      <td>10,300</td>\n",
       "    </tr>\n",
       "    <tr>\n",
       "      <th>2</th>\n",
       "      <td>오복유통 HACCP인증 구운계란 2판60구, 60구, 2판</td>\n",
       "      <td>13,500</td>\n",
       "    </tr>\n",
       "    <tr>\n",
       "      <th>3</th>\n",
       "      <td>가농 금계란 1+등급 특란, 40개, 60g</td>\n",
       "      <td>12,900</td>\n",
       "    </tr>\n",
       "    <tr>\n",
       "      <th>4</th>\n",
       "      <td>꾼란 맥반석 구운계란 30구 1판, 30개입, 1.2kg</td>\n",
       "      <td>7,900</td>\n",
       "    </tr>\n",
       "  </tbody>\n",
       "</table>\n",
       "</div>"
      ],
      "text/plain": [
       "                                                   0       1\n",
       "0  이엔에프푸드 반숙란 촉촉하게 간이배어 방금삶은것처럼 고소한 뉴반숙란 30개 20개,...  13,800\n",
       "1                      더마시나 무항생제 구운계란60구, 1개, 2,100g  10,300\n",
       "2                   오복유통 HACCP인증 구운계란 2판60구, 60구, 2판  13,500\n",
       "3                           가농 금계란 1+등급 특란, 40개, 60g  12,900\n",
       "4                    꾼란 맥반석 구운계란 30구 1판, 30개입, 1.2kg   7,900"
      ]
     },
     "execution_count": 67,
     "metadata": {},
     "output_type": "execute_result"
    }
   ],
   "source": [
    "ul = bsObj.find(\"ul\", {\"id\":\"productList\"})\n",
    "\n",
    "lis = ul.findAll(\"li\")\n",
    "\n",
    "print(len(lis))\n",
    "\n",
    "nameList= []\n",
    "priceList = []\n",
    "\n",
    "for i in range(0,len(lis)):\n",
    "    step1 = lis[i].find(\"dt\",{\"class\":\"image\"}).find(\"img\")\n",
    "    nameList.append(step1.attrs[\"alt\"])\n",
    "    step2 = lis[i].find(\"em\",{\"class\",\"sale\"})\n",
    "    priceList.append(step2.find(\"strong\").text)\n",
    "\n",
    "len(nameList)\n",
    "\n",
    "len(priceList)\n",
    "\n",
    "import pandas as pd\n",
    "coupResult = pd.DataFrame(zip(nameList,priceList))\n",
    "coupResult.head()"
   ]
  },
  {
   "cell_type": "code",
   "execution_count": 68,
   "metadata": {},
   "outputs": [],
   "source": [
    "coupResult.to_csv(\"./coupangresult.csv\",encoding=\"ms949\",index=False)"
   ]
  },
  {
   "cell_type": "code",
   "execution_count": 69,
   "metadata": {},
   "outputs": [],
   "source": [
    "# SMTP 프로토콜 로드\n",
    "import smtplib\n",
    "import pickle\n",
    "import pandas as pd\n",
    "# 이메일을 간단하게 보낼수 있는 라이브러리 로드\n",
    "from email.message import EmailMessage"
   ]
  },
  {
   "cell_type": "code",
   "execution_count": 70,
   "metadata": {},
   "outputs": [],
   "source": [
    "#import getpass\n",
    "#pw = getpass.getpass()"
   ]
  },
  {
   "cell_type": "code",
   "execution_count": 71,
   "metadata": {},
   "outputs": [],
   "source": [
    "#pw = \"password\"    \n",
    "#pickle.dump(pw, open(\"d:/pyexec/pw.pickle\", 'wb'))"
   ]
  },
  {
   "cell_type": "code",
   "execution_count": 72,
   "metadata": {},
   "outputs": [],
   "source": [
    "import pickle"
   ]
  },
  {
   "cell_type": "code",
   "execution_count": 73,
   "metadata": {},
   "outputs": [],
   "source": [
    "pw = pickle.load(open('d:/pyexec/pw.pickle', 'rb'))"
   ]
  },
  {
   "cell_type": "code",
   "execution_count": 74,
   "metadata": {},
   "outputs": [
    {
     "data": {
      "text/plain": [
       "(235, b'2.7.0 Accepted')"
      ]
     },
     "execution_count": 74,
     "metadata": {},
     "output_type": "execute_result"
    }
   ],
   "source": [
    "# GMAIL 메일 설정\n",
    "# 보안설정 허용되지 않은 앱 설정 YES -> https://myaccount.google.com/lesssecureapps)\n",
    "smtp_gmail = smtplib.SMTP('smtp.gmail.com', 587)\n",
    "\n",
    "# 서버 연결을 설정하는 단계\n",
    "smtp_gmail.ehlo()\n",
    " \n",
    "# 연결을 암호화 (tls 방식)\n",
    "smtp_gmail.starttls()\n",
    " \n",
    "#로그인\n",
    "smtp_gmail.login('haiteamm@gmail.com',pw)"
   ]
  },
  {
   "cell_type": "code",
   "execution_count": 75,
   "metadata": {},
   "outputs": [
    {
     "data": {
      "text/plain": [
       "['haiteam@kopo.ac.kr', 'haiteam@naver.com']"
      ]
     },
     "execution_count": 75,
     "metadata": {},
     "output_type": "execute_result"
    }
   ],
   "source": [
    "# 저장된 csv 파일 불러오기\n",
    "emaillist = pd.read_csv(\"./emailaddress.csv\", encoding='ms949')\n",
    "emaillist\n",
    "\n",
    "# 이메일 주소정보 리스트 변환\n",
    "to = emaillist['이메일'].tolist()\n",
    "to"
   ]
  },
  {
   "cell_type": "code",
   "execution_count": 76,
   "metadata": {},
   "outputs": [],
   "source": [
    "msg=EmailMessage()\n",
    " \n",
    "# 제목 입력\n",
    "msg['Subject']=\"쿠팡 계란 시세정보\"\n",
    " \n",
    "# 내용 입력\n",
    "msg.set_content(\"쿠팡 계란 시세정보\")\n",
    " \n",
    "# 보내는 사람\n",
    "msg['From']='haiteamm@gmail.com'\n",
    " \n",
    "# 받는 사람\n",
    "msg['To'] = \",\".join(to)\n",
    " "
   ]
  },
  {
   "cell_type": "code",
   "execution_count": 77,
   "metadata": {},
   "outputs": [
    {
     "data": {
      "text/plain": [
       "'haiteam@kopo.ac.kr, haiteam@naver.com'"
      ]
     },
     "execution_count": 77,
     "metadata": {},
     "output_type": "execute_result"
    }
   ],
   "source": [
    "msg['To']"
   ]
  },
  {
   "cell_type": "code",
   "execution_count": 78,
   "metadata": {},
   "outputs": [
    {
     "data": {
      "text/plain": [
       "{}"
      ]
     },
     "execution_count": 78,
     "metadata": {},
     "output_type": "execute_result"
    }
   ],
   "source": [
    "file='coupangresult.csv'\n",
    "fp = open(file,'rb')\n",
    "file_data=fp.read()\n",
    "msg.add_attachment(file_data,maintype='text',\n",
    "                   subtype='plain',filename='link_scraping_result.csv')\n",
    "\n",
    "smtp_gmail.send_message(msg)"
   ]
  }
 ],
 "metadata": {
  "kernelspec": {
   "display_name": "Python 3",
   "language": "python",
   "name": "python3"
  },
  "language_info": {
   "codemirror_mode": {
    "name": "ipython",
    "version": 3
   },
   "file_extension": ".py",
   "mimetype": "text/x-python",
   "name": "python",
   "nbconvert_exporter": "python",
   "pygments_lexer": "ipython3",
   "version": "3.7.3"
  }
 },
 "nbformat": 4,
 "nbformat_minor": 2
}

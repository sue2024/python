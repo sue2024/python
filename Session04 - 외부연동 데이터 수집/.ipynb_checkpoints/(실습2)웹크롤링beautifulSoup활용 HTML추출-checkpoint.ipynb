{
 "cells": [
  {
   "cell_type": "markdown",
   "metadata": {},
   "source": [
    "# 1. pandas 데이터프레임"
   ]
  },
  {
   "cell_type": "code",
   "execution_count": 1,
   "metadata": {},
   "outputs": [],
   "source": [
    "import pandas as pd"
   ]
  },
  {
   "cell_type": "markdown",
   "metadata": {},
   "source": [
    "### 1. 리스트에서 데이터프레임 생성하기"
   ]
  },
  {
   "cell_type": "code",
   "execution_count": 2,
   "metadata": {},
   "outputs": [],
   "source": [
    "RowFirst = [\"A01\", 202015, 100]\n",
    "RowSecond = [\"A01\", 202015, 100]\n",
    "RowThird = [\"A01\", 202017, 100]"
   ]
  },
  {
   "cell_type": "code",
   "execution_count": 4,
   "metadata": {},
   "outputs": [
    {
     "data": {
      "text/html": [
       "<div>\n",
       "<style scoped>\n",
       "    .dataframe tbody tr th:only-of-type {\n",
       "        vertical-align: middle;\n",
       "    }\n",
       "\n",
       "    .dataframe tbody tr th {\n",
       "        vertical-align: top;\n",
       "    }\n",
       "\n",
       "    .dataframe thead th {\n",
       "        text-align: right;\n",
       "    }\n",
       "</style>\n",
       "<table border=\"1\" class=\"dataframe\">\n",
       "  <thead>\n",
       "    <tr style=\"text-align: right;\">\n",
       "      <th></th>\n",
       "      <th>0</th>\n",
       "      <th>1</th>\n",
       "      <th>2</th>\n",
       "    </tr>\n",
       "  </thead>\n",
       "  <tbody>\n",
       "    <tr>\n",
       "      <th>0</th>\n",
       "      <td>A01</td>\n",
       "      <td>202015</td>\n",
       "      <td>100</td>\n",
       "    </tr>\n",
       "    <tr>\n",
       "      <th>1</th>\n",
       "      <td>A01</td>\n",
       "      <td>202015</td>\n",
       "      <td>100</td>\n",
       "    </tr>\n",
       "    <tr>\n",
       "      <th>2</th>\n",
       "      <td>A01</td>\n",
       "      <td>202015</td>\n",
       "      <td>100</td>\n",
       "    </tr>\n",
       "  </tbody>\n",
       "</table>\n",
       "</div>"
      ],
      "text/plain": [
       "     0       1    2\n",
       "0  A01  202015  100\n",
       "1  A01  202015  100\n",
       "2  A01  202015  100"
      ]
     },
     "execution_count": 4,
     "metadata": {},
     "output_type": "execute_result"
    }
   ],
   "source": [
    "df1 = pd.DataFrame([RowFirst,RowSecond,RowThird])"
   ]
  },
  {
   "cell_type": "code",
   "execution_count": 7,
   "metadata": {},
   "outputs": [],
   "source": [
    "columnNameList = [\"REGIONID\",\"YEARWEEK\",\"QTY\"]"
   ]
  },
  {
   "cell_type": "code",
   "execution_count": 8,
   "metadata": {},
   "outputs": [
    {
     "ename": "NameError",
     "evalue": "name 'df1' is not defined",
     "output_type": "error",
     "traceback": [
      "\u001b[1;31m---------------------------------------------------------------------------\u001b[0m",
      "\u001b[1;31mNameError\u001b[0m                                 Traceback (most recent call last)",
      "\u001b[1;32m<ipython-input-8-4c35d1163a32>\u001b[0m in \u001b[0;36m<module>\u001b[1;34m\u001b[0m\n\u001b[1;32m----> 1\u001b[1;33m \u001b[0mdf1\u001b[0m\u001b[1;33m.\u001b[0m\u001b[0mcolumns\u001b[0m \u001b[1;33m=\u001b[0m \u001b[1;33m[\u001b[0m\u001b[1;34m\"REGIONID\"\u001b[0m\u001b[1;33m,\u001b[0m\u001b[1;34m\"YEARWEEK\"\u001b[0m\u001b[1;33m,\u001b[0m\u001b[1;34m\"QTY\"\u001b[0m\u001b[1;33m]\u001b[0m\u001b[1;33m\u001b[0m\u001b[1;33m\u001b[0m\u001b[0m\n\u001b[0m",
      "\u001b[1;31mNameError\u001b[0m: name 'df1' is not defined"
     ]
    }
   ],
   "source": [
    "df1.columns = [\"REGIONID\",\"YEARWEEK\",\"QTY\"]"
   ]
  },
  {
   "cell_type": "code",
   "execution_count": 10,
   "metadata": {},
   "outputs": [],
   "source": [
    "columnFirst = [\"A0\",\"A01\",\"A01\"]\n",
    "columnSecond = [202015,202016,202017]\n",
    "columnThird = [100,110,150]"
   ]
  },
  {
   "cell_type": "code",
   "execution_count": 9,
   "metadata": {},
   "outputs": [
    {
     "ename": "NameError",
     "evalue": "name 'columnsFirst' is not defined",
     "output_type": "error",
     "traceback": [
      "\u001b[1;31m---------------------------------------------------------------------------\u001b[0m",
      "\u001b[1;31mNameError\u001b[0m                                 Traceback (most recent call last)",
      "\u001b[1;32m<ipython-input-9-5060a3206059>\u001b[0m in \u001b[0;36m<module>\u001b[1;34m\u001b[0m\n\u001b[1;32m----> 1\u001b[1;33m \u001b[0mpd\u001b[0m\u001b[1;33m.\u001b[0m\u001b[0mDataFrame\u001b[0m\u001b[1;33m(\u001b[0m \u001b[0mzip\u001b[0m\u001b[1;33m(\u001b[0m\u001b[0mcolumnsFirst\u001b[0m\u001b[1;33m,\u001b[0m\u001b[0mcolumnSecond\u001b[0m\u001b[1;33m,\u001b[0m\u001b[0mcolumnThird\u001b[0m\u001b[1;33m)\u001b[0m \u001b[1;33m)\u001b[0m\u001b[1;33m\u001b[0m\u001b[1;33m\u001b[0m\u001b[0m\n\u001b[0m",
      "\u001b[1;31mNameError\u001b[0m: name 'columnsFirst' is not defined"
     ]
    }
   ],
   "source": [
    "df2 = pd.DataFrame( zip(columnsFirst,columnSecond,columnThird))"
   ]
  },
  {
   "cell_type": "code",
   "execution_count": null,
   "metadata": {},
   "outputs": [],
   "source": [
    "df2. columns = columnNameList"
   ]
  },
  {
   "cell_type": "code",
   "execution_count": null,
   "metadata": {},
   "outputs": [],
   "source": [
    "df2"
   ]
  },
  {
   "cell_type": "code",
   "execution_count": null,
   "metadata": {},
   "outputs": [],
   "source": []
  },
  {
   "cell_type": "code",
   "execution_count": null,
   "metadata": {},
   "outputs": [],
   "source": []
  },
  {
   "cell_type": "code",
   "execution_count": null,
   "metadata": {},
   "outputs": [],
   "source": []
  },
  {
   "cell_type": "markdown",
   "metadata": {},
   "source": [
    "### 2. 딕셔너리에서 데이터프레임 생성하기"
   ]
  },
  {
   "cell_type": "code",
   "execution_count": null,
   "metadata": {},
   "outputs": [],
   "source": []
  },
  {
   "cell_type": "code",
   "execution_count": null,
   "metadata": {},
   "outputs": [],
   "source": []
  },
  {
   "cell_type": "markdown",
   "metadata": {},
   "source": [
    "# 1.라이브러리 선언"
   ]
  },
  {
   "cell_type": "code",
   "execution_count": 11,
   "metadata": {},
   "outputs": [],
   "source": [
    "from bs4 import BeautifulSoup  # 내가 태그를 아름답게 뜬다\n",
    "import requests   # 웹페이지 접속 요청 (request보내는 것)"
   ]
  },
  {
   "cell_type": "markdown",
   "metadata": {},
   "source": [
    "# 2. 타겟URL 선언 및 접속"
   ]
  },
  {
   "cell_type": "code",
   "execution_count": 14,
   "metadata": {},
   "outputs": [],
   "source": [
    "targetUrl = \"http://www.sparkkorea.com/퀴즈\""
   ]
  },
  {
   "cell_type": "code",
   "execution_count": 20,
   "metadata": {},
   "outputs": [],
   "source": [
    "resp = requests.get(url=targetUrl)    # 정상적이면 200뜸"
   ]
  },
  {
   "cell_type": "code",
   "execution_count": null,
   "metadata": {},
   "outputs": [],
   "source": [
    "## cf. 참고!\n",
    "\n",
    "if resp.status_code == 200\n",
    "    #원하는 로직을 펼치고\n",
    "else:\n",
    "    #다른 대체로직을 펼친다\n",
    "resp.status_code"
   ]
  },
  {
   "cell_type": "code",
   "execution_count": 23,
   "metadata": {},
   "outputs": [],
   "source": [
    "resp.encoding = \"utf-8\""
   ]
  },
  {
   "cell_type": "code",
   "execution_count": 24,
   "metadata": {},
   "outputs": [],
   "source": [
    "html = resp.text "
   ]
  },
  {
   "cell_type": "code",
   "execution_count": 25,
   "metadata": {},
   "outputs": [
    {
     "data": {
      "text/plain": [
       "str"
      ]
     },
     "execution_count": 25,
     "metadata": {},
     "output_type": "execute_result"
    }
   ],
   "source": [
    "type(html)"
   ]
  },
  {
   "cell_type": "code",
   "execution_count": 31,
   "metadata": {},
   "outputs": [],
   "source": [
    "htmlObj = BeautifulSoup(html, \"html.parser\") #html로 추출 -> 스푼으로 이쁘게 html추출, 뜨겠다 "
   ]
  },
  {
   "cell_type": "code",
   "execution_count": 32,
   "metadata": {
    "collapsed": true,
    "jupyter": {
     "outputs_hidden": true
    }
   },
   "outputs": [
    {
     "data": {
      "text/plain": [
       "<!DOCTYPE html>\n",
       "\n",
       "<html lang=\"ko-KR\">\n",
       "<head>\n",
       "<meta charset=\"utf-8\"/>\n",
       "<meta content=\"width=device-width, initial-scale=1\" name=\"viewport\"/>\n",
       "<link href=\"http://gmpg.org/xfn/11\" rel=\"profile\"/>\n",
       "<link href=\"https://sparkkorea.com/xmlrpc.php\" rel=\"pingback\"/>\n",
       "<title>퀴즈 – 스파크 코리아</title>\n",
       "<meta content=\"max-image-preview:large\" name=\"robots\">\n",
       "<meta content=\"QRZVgHsoL23RuwmgmXNuXfO-mUaxCkdvhP2rRvLT270\" name=\"google-site-verification\">\n",
       "<!-- Async WordPress.com Remote Login -->\n",
       "<script id=\"wpcom_remote_login_js\">\n",
       "var wpcom_remote_login_extra_auth = '';\n",
       "function wpcom_remote_login_remove_dom_node_id( element_id ) {\n",
       "\tvar dom_node = document.getElementById( element_id );\n",
       "\tif ( dom_node ) { dom_node.parentNode.removeChild( dom_node ); }\n",
       "}\n",
       "function wpcom_remote_login_remove_dom_node_classes( class_name ) {\n",
       "\tvar dom_nodes = document.querySelectorAll( '.' + class_name );\n",
       "\tfor ( var i = 0; i < dom_nodes.length; i++ ) {\n",
       "\t\tdom_nodes[ i ].parentNode.removeChild( dom_nodes[ i ] );\n",
       "\t}\n",
       "}\n",
       "function wpcom_remote_login_final_cleanup() {\n",
       "\twpcom_remote_login_remove_dom_node_classes( \"wpcom_remote_login_msg\" );\n",
       "\twpcom_remote_login_remove_dom_node_id( \"wpcom_remote_login_key\" );\n",
       "\twpcom_remote_login_remove_dom_node_id( \"wpcom_remote_login_validate\" );\n",
       "\twpcom_remote_login_remove_dom_node_id( \"wpcom_remote_login_js\" );\n",
       "\twpcom_remote_login_remove_dom_node_id( \"wpcom_request_access_iframe\" );\n",
       "\twpcom_remote_login_remove_dom_node_id( \"wpcom_request_access_styles\" );\n",
       "}\n",
       "\n",
       "// Watch for messages back from the remote login\n",
       "window.addEventListener( \"message\", function( e ) {\n",
       "\tif ( e.origin === \"https://r-login.wordpress.com\" ) {\n",
       "\t\tvar data = {};\n",
       "\t\ttry {\n",
       "\t\t\tdata = JSON.parse( e.data );\n",
       "\t\t} catch( e ) {\n",
       "\t\t\twpcom_remote_login_final_cleanup();\n",
       "\t\t\treturn;\n",
       "\t\t}\n",
       "\n",
       "\t\tif ( data.msg === 'LOGIN' ) {\n",
       "\t\t\t// Clean up the login check iframe\n",
       "\t\t\twpcom_remote_login_remove_dom_node_id( \"wpcom_remote_login_key\" );\n",
       "\n",
       "\t\t\tvar id_regex = new RegExp( /^[0-9]+$/ );\n",
       "\t\t\tvar token_regex = new RegExp( /^.*|.*|.*$/ );\n",
       "\t\t\tif (\n",
       "\t\t\t\ttoken_regex.test( data.token )\n",
       "\t\t\t\t&& id_regex.test( data.wpcomid )\n",
       "\t\t\t) {\n",
       "\t\t\t\t// We have everything we need to ask for a login\n",
       "\t\t\t\tvar script = document.createElement( \"script\" );\n",
       "\t\t\t\tscript.setAttribute( \"id\", \"wpcom_remote_login_validate\" );\n",
       "\t\t\t\tscript.src = '/remote-login.php?wpcom_remote_login=validate'\n",
       "\t\t\t\t\t+ '&wpcomid=' + data.wpcomid\n",
       "\t\t\t\t\t+ '&token=' + encodeURIComponent( data.token )\n",
       "\t\t\t\t\t+ '&host=' + window.location.protocol\n",
       "\t\t\t\t\t\t+ '//' + window.location.hostname;\n",
       "\t\t\t\tdocument.body.appendChild( script );\n",
       "\t\t\t}\n",
       "\n",
       "\t\t\treturn;\n",
       "\t\t}\n",
       "\n",
       "\t\t// Safari ITP, not logged in, so redirect\n",
       "\t\tif ( data.msg === 'LOGIN-REDIRECT' ) {\n",
       "\t\t\twindow.location = 'https://wordpress.com/log-in?redirect_to=' + window.location.href;\n",
       "\t\t\treturn;\n",
       "\t\t}\n",
       "\n",
       "\t\t// Safari ITP, storage access failed, remove the request\n",
       "\t\tif ( data.msg === 'LOGIN-REMOVE' ) {\n",
       "\t\t\tvar css_zap = 'html { -webkit-transition: margin-top 1s; transition: margin-top 1s; } /* 9001 */ html { margin-top: 0 !important; } * html body { margin-top: 0 !important; } @media screen and ( max-width: 782px ) { html { margin-top: 0 !important; } * html body { margin-top: 0 !important; } }';\n",
       "\t\t\tvar style_zap = document.createElement( 'style' );\n",
       "\t\t\tstyle_zap.type = 'text/css';\n",
       "\t\t\tstyle_zap.appendChild( document.createTextNode( css_zap ) );\n",
       "\t\t\tdocument.body.appendChild( style_zap );\n",
       "\n",
       "\t\t\tvar e = document.getElementById( 'wpcom_request_access_iframe' );\n",
       "\t\t\te.parentNode.removeChild( e );\n",
       "\n",
       "\t\t\tdocument.cookie = 'wordpress_com_login_access=denied; path=/; max-age=31536000';\n",
       "\n",
       "\t\t\treturn;\n",
       "\t\t}\n",
       "\n",
       "\t\t// Safari ITP\n",
       "\t\tif ( data.msg === 'REQUEST_ACCESS' ) {\n",
       "\t\t\tconsole.log( 'request access: safari' );\n",
       "\n",
       "\t\t\t// Check ITP iframe enable/disable knob\n",
       "\t\t\tif ( wpcom_remote_login_extra_auth !== 'safari_itp_iframe' ) {\n",
       "\t\t\t\treturn;\n",
       "\t\t\t}\n",
       "\n",
       "\t\t\t// If we are in a \"private window\" there is no ITP.\n",
       "\t\t\tvar private_window = false;\n",
       "\t\t\ttry {\n",
       "\t\t\t\tvar opendb = window.openDatabase( null, null, null, null );\n",
       "\t\t\t} catch( e ) {\n",
       "\t\t\t\tprivate_window = true;\n",
       "\t\t\t}\n",
       "\n",
       "\t\t\tif ( private_window ) {\n",
       "\t\t\t\tconsole.log( 'private window' );\n",
       "\t\t\t\treturn;\n",
       "\t\t\t}\n",
       "\n",
       "\t\t\tvar iframe = document.createElement( 'iframe' );\n",
       "\t\t\tiframe.id = 'wpcom_request_access_iframe';\n",
       "\t\t\tiframe.setAttribute( 'scrolling', 'no' );\n",
       "\t\t\tiframe.setAttribute( 'sandbox', 'allow-storage-access-by-user-activation allow-scripts allow-same-origin allow-top-navigation-by-user-activation' );\n",
       "\t\t\tiframe.src = 'https://r-login.wordpress.com/remote-login.php?wpcom_remote_login=request_access&origin=' + encodeURIComponent( data.origin ) + '&wpcomid=' + encodeURIComponent( data.wpcomid );\n",
       "\n",
       "\t\t\tvar css = 'html { -webkit-transition: margin-top 1s; transition: margin-top 1s; } /* 9001 */ html { margin-top: 46px !important; } * html body { margin-top: 46px !important; } @media screen and ( max-width: 660px ) { html { margin-top: 71px !important; } * html body { margin-top: 71px !important; } #wpcom_request_access_iframe { display: block; height: 71px !important; } } #wpcom_request_access_iframe { border: 0px; height: 46px; position: fixed; top: 0; left: 0; width: 100%; min-width: 100%; z-index: 99999; background: #23282d; } ';\n",
       "\n",
       "\t\t\tvar style = document.createElement( 'style' );\n",
       "\t\t\tstyle.type = 'text/css';\n",
       "\t\t\tstyle.id = 'wpcom_request_access_styles';\n",
       "\t\t\tstyle.appendChild( document.createTextNode( css ) );\n",
       "\t\t\tdocument.body.appendChild( style );\n",
       "\n",
       "\t\t\tdocument.body.appendChild( iframe );\n",
       "\t\t}\n",
       "\n",
       "\t\tif ( data.msg === 'DONE' ) {\n",
       "\t\t\twpcom_remote_login_final_cleanup();\n",
       "\t\t}\n",
       "\t}\n",
       "}, false );\n",
       "\n",
       "// Inject the remote login iframe after the page has had a chance to load\n",
       "// more critical resources\n",
       "window.addEventListener( \"DOMContentLoaded\", function( e ) {\n",
       "\tvar iframe = document.createElement( \"iframe\" );\n",
       "\tiframe.style.display = \"none\";\n",
       "\tiframe.setAttribute( \"scrolling\", \"no\" );\n",
       "\tiframe.setAttribute( \"id\", \"wpcom_remote_login_key\" );\n",
       "\tiframe.src = \"https://r-login.wordpress.com/remote-login.php\"\n",
       "\t\t+ \"?wpcom_remote_login=key\"\n",
       "\t\t+ \"&origin=aHR0cHM6Ly9zcGFya2tvcmVhLmNvbQ%3D%3D\"\n",
       "\t\t+ \"&wpcomid=163927570\"\n",
       "\t\t+ \"&time=1618292734\";\n",
       "\tdocument.body.appendChild( iframe );\n",
       "}, false );\n",
       "</script>\n",
       "<link href=\"//s2.wp.com\" rel=\"dns-prefetch\">\n",
       "<link href=\"//sparkkorea.wordpress.com\" rel=\"dns-prefetch\">\n",
       "<link href=\"//s0.wp.com\" rel=\"dns-prefetch\"/>\n",
       "<link href=\"//wordpress.com\" rel=\"dns-prefetch\"/>\n",
       "<link href=\"//fonts.googleapis.com\" rel=\"dns-prefetch\"/>\n",
       "<link href=\"https://sparkkorea.com/feed/\" rel=\"alternate\" title=\"스파크 코리아 » 피드\" type=\"application/rss+xml\"/>\n",
       "<link href=\"https://sparkkorea.com/comments/feed/\" rel=\"alternate\" title=\"스파크 코리아 » 댓글 피드\" type=\"application/rss+xml\"/>\n",
       "<script type=\"text/javascript\">\n",
       "\t\t/* <![CDATA[ */\n",
       "\t\tfunction addLoadEvent(func) {\n",
       "\t\t\tvar oldonload = window.onload;\n",
       "\t\t\tif (typeof window.onload != 'function') {\n",
       "\t\t\t\twindow.onload = func;\n",
       "\t\t\t} else {\n",
       "\t\t\t\twindow.onload = function () {\n",
       "\t\t\t\t\toldonload();\n",
       "\t\t\t\t\tfunc();\n",
       "\t\t\t\t}\n",
       "\t\t\t}\n",
       "\t\t}\n",
       "\t\t/* ]]> */\n",
       "\t</script>\n",
       "<script type=\"text/javascript\">\n",
       "\t\t\twindow._wpemojiSettings = {\"baseUrl\":\"https:\\/\\/s0.wp.com\\/wp-content\\/mu-plugins\\/wpcom-smileys\\/twemoji\\/2\\/72x72\\/\",\"ext\":\".png\",\"svgUrl\":\"https:\\/\\/s0.wp.com\\/wp-content\\/mu-plugins\\/wpcom-smileys\\/twemoji\\/2\\/svg\\/\",\"svgExt\":\".svg\",\"source\":{\"concatemoji\":\"https:\\/\\/s0.wp.com\\/wp-includes\\/js\\/wp-emoji-release.min.js?m=1612197847h&ver=5.7.1-RC1-50691\"}};\n",
       "\t\t\t!function(e,a,t){var n,r,o,i=a.createElement(\"canvas\"),p=i.getContext&&i.getContext(\"2d\");function s(e,t){var a=String.fromCharCode;p.clearRect(0,0,i.width,i.height),p.fillText(a.apply(this,e),0,0);e=i.toDataURL();return p.clearRect(0,0,i.width,i.height),p.fillText(a.apply(this,t),0,0),e===i.toDataURL()}function c(e){var t=a.createElement(\"script\");t.src=e,t.defer=t.type=\"text/javascript\",a.getElementsByTagName(\"head\")[0].appendChild(t)}for(o=Array(\"flag\",\"emoji\"),t.supports={everything:!0,everythingExceptFlag:!0},r=0;r<o.length;r++)t.supports[o[r]]=function(e){if(!p||!p.fillText)return!1;switch(p.textBaseline=\"top\",p.font=\"600 32px Arial\",e){case\"flag\":return s([127987,65039,8205,9895,65039],[127987,65039,8203,9895,65039])?!1:!s([55356,56826,55356,56819],[55356,56826,8203,55356,56819])&&!s([55356,57332,56128,56423,56128,56418,56128,56421,56128,56430,56128,56423,56128,56447],[55356,57332,8203,56128,56423,8203,56128,56418,8203,56128,56421,8203,56128,56430,8203,56128,56423,8203,56128,56447]);case\"emoji\":return!s([55357,56424,8205,55356,57212],[55357,56424,8203,55356,57212])}return!1}(o[r]),t.supports.everything=t.supports.everything&&t.supports[o[r]],\"flag\"!==o[r]&&(t.supports.everythingExceptFlag=t.supports.everythingExceptFlag&&t.supports[o[r]]);t.supports.everythingExceptFlag=t.supports.everythingExceptFlag&&!t.supports.flag,t.DOMReady=!1,t.readyCallback=function(){t.DOMReady=!0},t.supports.everything||(n=function(){t.readyCallback()},a.addEventListener?(a.addEventListener(\"DOMContentLoaded\",n,!1),e.addEventListener(\"load\",n,!1)):(e.attachEvent(\"onload\",n),a.attachEvent(\"onreadystatechange\",function(){\"complete\"===a.readyState&&t.readyCallback()})),(n=t.source||{}).concatemoji?c(n.concatemoji):n.wpemoji&&n.twemoji&&(c(n.twemoji),c(n.wpemoji)))}(window,document,window._wpemojiSettings);\n",
       "\t\t</script>\n",
       "<style type=\"text/css\">\n",
       "img.wp-smiley,\n",
       "img.emoji {\n",
       "\tdisplay: inline !important;\n",
       "\tborder: none !important;\n",
       "\tbox-shadow: none !important;\n",
       "\theight: 1em !important;\n",
       "\twidth: 1em !important;\n",
       "\tmargin: 0 .07em !important;\n",
       "\tvertical-align: -0.1em !important;\n",
       "\tbackground: none !important;\n",
       "\tpadding: 0 !important;\n",
       "}\n",
       "</style>\n",
       "<link href=\"https://s1.wp.com/_static/??-eJytkd1OwzAMhV+I1BREpV4gniVpreAtTqLY2dS3J20FGgOmXXATxfb5jvwD52ymFBWjAleTQ/UUBc55SmyEKeByFXWTyAP8jgU6osABNdvpaLboh/xT62sLHRbfKgXh1D92z90TuEphBhfSZuCKLQuILgH/w0jfke8x2qiLQeySqhpfaL67lyuLYpWilz/wixWuM7Q8Z6urgnEmi6G1HfUWtp/IuVxQxLSXqbLZ5r15sUat1vutoAm/Z3aUICalRsvXZy288Ws/9MMwDuP4cvgAse7bcg==?cssminify=yes\" id=\"all-css-0-1\" media=\"all\" rel=\"stylesheet\" type=\"text/css\"/>\n",
       "<style id=\"wp-block-library-inline-css\">\n",
       ".has-text-align-justify {\n",
       "\ttext-align:justify;\n",
       "}\n",
       "</style>\n",
       "<link crossorigin=\"anonymous\" href=\"https://fonts.googleapis.com/css?family=Lato%3A400%2C400italic%2C700%2C700italic%7CNoto+Serif%3A400%2C400italic%2C700%2C700italic&amp;subset=latin%2Clatin-ext\" id=\"dyad-2-fonts-css\" media=\"all\" rel=\"stylesheet\"/>\n",
       "<link href=\"https://s0.wp.com/_static/??-eJyNj80OgjAQhF/IdSkkxovxWUpZa7XdNv0J4e2pcFBiNNxmsvNNZnEMoDxn4oyuQLBFG06oiSmaevghjyqlA36w+U6OEobS4zDJAVpMebK0I1cT2FuvnntKDau1GMagvPsiNi94qLUyG88bAzcrTfyHRqqDdJV6Wfe2L+jqLuLUdOIsurZ5zCp8dh4=?cssminify=yes\" id=\"all-css-2-1\" media=\"all\" rel=\"stylesheet\" type=\"text/css\"/>\n",
       "<link href=\"https://s2.wp.com/wp-content/mu-plugins/global-print/global-print.css?m=1465851035h&amp;cssminify=yes\" id=\"print-css-3-1\" media=\"print\" rel=\"stylesheet\" type=\"text/css\"/>\n",
       "<style id=\"jetpack-global-styles-frontend-style-inline-css\">\n",
       ":root { --font-headings: unset; --font-base: unset; --font-headings-default: -apple-system,BlinkMacSystemFont,\"Segoe UI\",Roboto,Oxygen-Sans,Ubuntu,Cantarell,\"Helvetica Neue\",sans-serif; --font-base-default: -apple-system,BlinkMacSystemFont,\"Segoe UI\",Roboto,Oxygen-Sans,Ubuntu,Cantarell,\"Helvetica Neue\",sans-serif;}\n",
       "</style>\n",
       "<link href=\"https://s1.wp.com/_static/??-eJxti0EKgCAQAD+ULUaJl+gtJqbG6opr9P3o0CHqNAzMwFmEpdxcbpAOUfDwMTMU4iY2NLECB1Nj9g97y9zB/8Vko0GB5Oktn6kFlxxDGMEjrQbvYEmzVHIclNZy2i9lFDfR?cssminify=yes\" id=\"all-css-6-1\" media=\"all\" rel=\"stylesheet\" type=\"text/css\"/>\n",
       "<script id=\"wpcom-actionbar-placeholder-js-extra\">\n",
       "var actionbardata = {\"siteID\":\"163927570\",\"siteName\":\"\\uc2a4\\ud30c\\ud06c \\ucf54\\ub9ac\\uc544\",\"siteURL\":\"https:\\/\\/sparkkorea.com\",\"icon\":\"<img alt='' src='https:\\/\\/s2.wp.com\\/i\\/logo\\/wpcom-gray-white.png' class='avatar avatar-50' height='50' width='50' \\/>\",\"canManageOptions\":\"\",\"canCustomizeSite\":\"\",\"isFollowing\":\"\",\"themeSlug\":\"pub\\/dyad-2\",\"signupURL\":\"https:\\/\\/wordpress.com\\/start\\/\",\"loginURL\":\"https:\\/\\/wordpress.com\\/log-in?redirect_to=https%3A%2F%2Fsparkkorea.com%2F%ED%80%B4%EC%A6%88%2F&signup_flow=account&domain=sparkkorea.com\",\"themeURL\":\"https:\\/\\/wordpress.com\\/theme\\/dyad-2\\/\",\"xhrURL\":\"https:\\/\\/sparkkorea.com\\/wp-admin\\/admin-ajax.php\",\"nonce\":\"e8f65ee91c\",\"isSingular\":\"1\",\"isFolded\":\"\",\"isLoggedIn\":\"\",\"isMobile\":\"\",\"subscribeNonce\":\"<input type=\\\"hidden\\\" id=\\\"_wpnonce\\\" name=\\\"_wpnonce\\\" value=\\\"14dc55fb7b\\\" \\/>\",\"referer\":\"https:\\/\\/sparkkorea.com\\/%ED%80%B4%EC%A6%88\\/\",\"canFollow\":\"\",\"feedID\":\"97558616\",\"statusMessage\":\"\",\"customizeLink\":\"https:\\/\\/sparkkorea.wordpress.com\\/wp-admin\\/customize.php?url=https%3A%2F%2Fsparkkorea.wordpress.com%2F%25ED%2580%25B4%25EC%25A6%2588%2F\",\"postID\":\"102\",\"shortlink\":\"https:\\/\\/wp.me\\/Pb5P34-1E\",\"canEditPost\":\"\",\"editLink\":\"https:\\/\\/wordpress.com\\/page\\/sparkkorea.com\\/102\",\"statsLink\":\"https:\\/\\/wordpress.com\\/stats\\/post\\/102\\/sparkkorea.com\",\"i18n\":{\"view\":\"\\uc0ac\\uc774\\ud2b8 \\ubcf4\\uae30\",\"follow\":\"\\ud314\\ub85c\\uc6b0\",\"following\":\"\\ud314\\ub85c\\uc6b0\\uc911\",\"edit\":\"\\ud3b8\\uc9d1\",\"login\":\"\\ub85c\\uadf8\\uc778\",\"signup\":\"\\uac00\\uc785\",\"customize\":\"\\uc0ac\\uc6a9\\uc790 \\uc815\\uc758\\ud558\\uae30\",\"report\":\"\\uc774 \\ucf58\\ud150\\uce20 \\uc2e0\\uace0\\ud558\\uae30\",\"themeInfo\":\"\\ud14c\\ub9c8 \\uac00\\uc838\\uc624\\uae30: Dyad 2\",\"shortlink\":\"\\ub2e8\\ucd95 \\ub9c1\\ud06c \\ubcf5\\uc0ac\",\"copied\":\"\\ubcf5\\uc0ac\\ub428\",\"followedText\":\"\\uc774 \\uc0ac\\uc774\\ud2b8\\uc758 \\uc0c8 \\uae00\\uc774 \\uc774\\uc81c <a href=\\\"https:\\/\\/wordpress.com\\/\\\">\\ub274\\uc2a4\\ud53c\\ub4dc<\\/a>\\uc5d0 \\ud45c\\uc2dc\\ub429\\ub2c8\\ub2e4.\",\"foldBar\":\"\\uc774 \\ud45c\\uc2dc\\uc904 \\ucd95\\uc18c\",\"unfoldBar\":\"\\uc774 \\ud45c\\uc2dc\\uc904 \\ud655\\uc7a5\",\"editSubs\":\"\\uad6c\\ub3c5 \\uad00\\ub9ac\",\"viewReader\":\"\\ub9ac\\ub354\\uc5d0\\uc11c \\uc0ac\\uc774\\ud2b8 \\ubcf4\\uae30\",\"viewReadPost\":\"View post in Reader\",\"subscribe\":\"\\uac00\\uc785\\ud558\\uae30\",\"enterEmail\":\"\\uc774\\uba54\\uc77c \\uc8fc\\uc18c \\uc785\\ub825\",\"followers\":\"\",\"alreadyUser\":\"\\uc774\\ubbf8 \\uc6cc\\ub4dc\\ud504\\ub808\\uc2a4\\ub2f7\\ucef4 \\uacc4\\uc815\\uc744 \\uac16\\uace0 \\uacc4\\uc138\\uc694? <a href=\\\"https:\\/\\/wordpress.com\\/log-in?redirect_to=https%3A%2F%2Fsparkkorea.com%2F%ED%80%B4%EC%A6%88%2F&signup_flow=account&domain=sparkkorea.com\\\">\\uc9c0\\uae08 \\ub85c\\uadf8\\uc778\\ud558\\uc138\\uc694.<\\/a>\",\"stats\":\"\\ud1b5\\uacc4\"}};\n",
       "</script>\n",
       "<script src=\"https://s2.wp.com/_static/??-eJyFzUEKwkAMheELmQ5DocWFeJZaY8kwyYxJBu3traBQV67e4v/ghUeFuYijeEgWajFnNJsW7JIdwm/lcqGM0Ax1A+JAcitfRzLndkV7w3RvqOtnOib5i4Bp0clxj3fPmh2qlue6tTOf4hDHPvbDeEwvhOVG7A==\" type=\"text/javascript\"></script>\n",
       "<script type=\"text/javascript\">\n",
       "\twindow.addEventListener( 'DOMContentLoaded', function() {\n",
       "\t\trltInitialize( {\"token\":null,\"iframeOrigins\":[\"https:\\/\\/widgets.wp.com\"]} );\n",
       "\t} );\n",
       "</script>\n",
       "<link href=\"https://sparkkorea.wordpress.com/xmlrpc.php?rsd\" rel=\"EditURI\" title=\"RSD\" type=\"application/rsd+xml\"/>\n",
       "<link href=\"https://s1.wp.com/wp-includes/wlwmanifest.xml\" rel=\"wlwmanifest\" type=\"application/wlwmanifest+xml\"/>\n",
       "<meta content=\"WordPress.com\" name=\"generator\"/>\n",
       "<link href=\"https://sparkkorea.com/%ed%80%b4%ec%a6%88/\" rel=\"canonical\"/>\n",
       "<link href=\"https://wp.me/Pb5P34-1E\" rel=\"shortlink\"/>\n",
       "<link href=\"https://public-api.wordpress.com/oembed/?format=json&amp;url=https%3A%2F%2Fsparkkorea.com%2F%25ed%2580%25b4%25ec%25a6%2588%2F&amp;for=wpcom-auto-discovery\" rel=\"alternate\" type=\"application/json+oembed\"/><link href=\"https://public-api.wordpress.com/oembed/?format=xml&amp;url=https%3A%2F%2Fsparkkorea.com%2F%25ed%2580%25b4%25ec%25a6%2588%2F&amp;for=wpcom-auto-discovery\" rel=\"alternate\" type=\"application/xml+oembed\"/>\n",
       "<!-- Jetpack Open Graph Tags -->\n",
       "<meta content=\"article\" property=\"og:type\"/>\n",
       "<meta content=\"퀴즈\" property=\"og:title\"/>\n",
       "<meta content=\"https://sparkkorea.com/%ed%80%b4%ec%a6%88/\" property=\"og:url\"/>\n",
       "<meta content=\"메인 설문 준비중 Spark 퀴즈 6/13 Spark 심화과정 6/13 Spark 기본과정 6/18 Spark [MAP_FILTER] 6/18 Spark GroupBy 심화 6/25 Spark RDD 실전 분석 6/27 Spark RDD 실전 분석2\" property=\"og:description\"/>\n",
       "<meta content=\"2019-07-08T09:35:27+00:00\" property=\"article:published_time\"/>\n",
       "<meta content=\"2020-03-20T09:42:15+00:00\" property=\"article:modified_time\"/>\n",
       "<meta content=\"스파크 코리아\" property=\"og:site_name\"/>\n",
       "<meta content=\"https://s0.wp.com/i/blank.jpg\" property=\"og:image\"/>\n",
       "<meta content=\"ko_KR\" property=\"og:locale\"/>\n",
       "<meta content=\"@wordpressdotcom\" name=\"twitter:site\"/>\n",
       "<meta content=\"퀴즈\" name=\"twitter:text:title\"/>\n",
       "<meta content=\"summary\" name=\"twitter:card\"/>\n",
       "<meta content=\"https://www.facebook.com/WordPresscom\" property=\"article:publisher\"/>\n",
       "<!-- End Jetpack Open Graph Tags -->\n",
       "<link href=\"https://s1.wp.com/i/favicon.ico\" rel=\"shortcut icon\" sizes=\"16x16 24x24 32x32 48x48\" type=\"image/x-icon\"/>\n",
       "<link href=\"https://s1.wp.com/i/favicon.ico\" rel=\"icon\" sizes=\"16x16 24x24 32x32 48x48\" type=\"image/x-icon\"/>\n",
       "<link href=\"https://s2.wp.com/i/webclip.png\" rel=\"apple-touch-icon\"/>\n",
       "<link href=\"https://sparkkorea.com/osd.xml\" rel=\"search\" title=\"스파크 코리아\" type=\"application/opensearchdescription+xml\"/>\n",
       "<link href=\"https://s1.wp.com/opensearch.xml\" rel=\"search\" title=\"WordPress.com\" type=\"application/opensearchdescription+xml\"/>\n",
       "<meta content=\"스파크 코리아\" name=\"application-name\"/><meta content=\"width=device-width;height=device-height\" name=\"msapplication-window\"/><meta content=\"스파크코리아 자료공유\" name=\"msapplication-tooltip\"/><meta content=\"name=구독;action-uri=https://sparkkorea.com/feed/;icon-uri=https://s1.wp.com/i/favicon.ico\" name=\"msapplication-task\"/><meta content=\"name=무료 블로그 등록;action-uri=http://wordpress.com/signup/;icon-uri=https://s1.wp.com/i/favicon.ico\" name=\"msapplication-task\"/><meta content=\"name=WordPress.com 지원;action-uri=http://support.wordpress.com/;icon-uri=https://s1.wp.com/i/favicon.ico\" name=\"msapplication-task\"/><meta content=\"name=WordPress.com 포럼;action-uri=http://forums.wordpress.com/;icon-uri=https://s1.wp.com/i/favicon.ico\" name=\"msapplication-task\"/><meta content=\"메인 설문 준비중 Spark 퀴즈 6/13 Spark 심화과정 6/13 Spark 기본과정 6/18 Spark [MAP_FILTER] 6/18 Spark GroupBy 심화 6/25 Spark RDD 실전 분석 6/27 Spark RDD 실전 분석2\" name=\"description\"/>\n",
       "</link></link></meta></meta></head>\n",
       "<body class=\"page-template-default page page-id-102 wp-embed-responsive customizer-styles-applied is-singular no-js highlander-enabled highlander-light\">\n",
       "<div class=\"hfeed site\" id=\"page\">\n",
       "<a class=\"skip-link screen-reader-text\" href=\"#content\">컨텐츠로 건너뛰기</a>\n",
       "<header class=\"site-header\" id=\"masthead\" role=\"banner\">\n",
       "<div class=\"site-branding\">\n",
       "<h1 class=\"site-title\">\n",
       "<a href=\"https://sparkkorea.com/\" rel=\"home\">\n",
       "\t\t\t\t\t스파크 코리아\t\t\t\t</a>\n",
       "</h1>\n",
       "<p class=\"site-description\">스파크코리아 자료공유</p>\n",
       "</div><!-- .site-branding -->\n",
       "<nav class=\"main-navigation\" id=\"site-navigation\" role=\"navigation\">\n",
       "<button aria-controls=\"primary-menu\" aria-expanded=\"false\" class=\"menu-toggle\">메뉴</button>\n",
       "<div class=\"primary-menu\"><ul class=\"menu\" id=\"primary-menu\"><li class=\"menu-item menu-item-type-post_type menu-item-object-page menu-item-27\" id=\"menu-item-27\"><a href=\"https://sparkkorea.com/%ec%9e%90%eb%a3%8c%ec%8b%a4/\">자료실</a></li>\n",
       "<li class=\"menu-item menu-item-type-post_type menu-item-object-page menu-item-264\" id=\"menu-item-264\"><a href=\"https://sparkkorea.com/%ec%84%a4%eb%ac%b8-2/\">설문s</a></li>\n",
       "<li class=\"menu-item menu-item-type-post_type menu-item-object-page current-menu-item page_item page-item-102 current_page_item menu-item-382\" id=\"menu-item-382\"><a aria-current=\"page\" href=\"https://sparkkorea.com/%ed%80%b4%ec%a6%88/\">퀴즈</a></li>\n",
       "<li class=\"menu-item menu-item-type-post_type menu-item-object-page menu-item-383\" id=\"menu-item-383\"><a href=\"https://sparkkorea.com/%ed%85%8c%ec%8a%a4%ed%8a%b8/\">테스트</a></li>\n",
       "<li class=\"menu-item menu-item-type-post_type menu-item-object-page menu-item-397\" id=\"menu-item-397\"><a href=\"https://sparkkorea.com/%ec%84%a4%eb%ac%b8/\">학생퀴즈</a></li>\n",
       "</ul></div> </nav>\n",
       "</header><!-- #masthead -->\n",
       "<div class=\"site-inner\">\n",
       "<div class=\"site-content\" id=\"content\">\n",
       "<main class=\"content-area\" id=\"primary\" role=\"main\">\n",
       "<article class=\"post-102 page type-page status-publish hentry\" id=\"post-102\">\n",
       "<div class=\"entry-inner\">\n",
       "<header class=\"entry-header\">\n",
       "<h1 class=\"entry-title\">퀴즈</h1> </header><!-- .entry-header -->\n",
       "<div class=\"entry-content\">\n",
       "<div class=\"class_general_main\" id=\"id_general_main\">\n",
       "<h1> 메인 </h1>\n",
       "<a href=\"#\"> 설문 준비중 </a>\n",
       "<p></p>\n",
       "</div>\n",
       "<div class=\"class_spark_quiz\" id=\"id_spark_quiz\">\n",
       "<h1>Spark 퀴즈 </h1>\n",
       "<a href=\"https://forms.gle/Fw49w9GhWQChDcZm7\"> 6/13 Spark 심화과정 </a>\n",
       "<p></p>\n",
       "<a href=\"https://forms.gle/G4TcXm3fKuHLHA6D6\"> 6/13 Spark 기본과정 </a>\n",
       "<p></p>\n",
       "<a href=\"https://forms.gle/M8gr1kC2ubA3UDVp8\"> 6/18 Spark [MAP_FILTER] </a>\n",
       "<p></p>\n",
       "<a href=\"https://forms.gle/h8w5mZ4MNaPLCPbi6\"> 6/18 Spark GroupBy 심화 </a>\n",
       "<p></p>\n",
       "<a href=\"https://forms.gle/q5yL6QHfueDLM5w27\"> 6/25 Spark RDD 실전 분석 </a>\n",
       "<p></p>\n",
       "<a href=\"https://forms.gle/Gxb4y6LfVYiaLu4M7\"> 6/27 Spark RDD 실전 분석2 </a>\n",
       "<p></p>\n",
       "</div>\n",
       "<div class=\"sharedaddy sd-like-enabled sd-sharing-enabled\" id=\"jp-post-flair\"><div class=\"sharedaddy sd-sharing-enabled\"><div class=\"robots-nocontent sd-block sd-social sd-social-icon-text sd-sharing\"><h3 class=\"sd-title\">이 글 공유하기:</h3><div class=\"sd-content\"><ul><li class=\"share-twitter\"><a class=\"share-twitter sd-button share-icon\" data-shared=\"sharing-twitter-102\" href=\"https://sparkkorea.com/%ed%80%b4%ec%a6%88/?share=twitter\" rel=\"nofollow noopener noreferrer\" target=\"_blank\" title=\"트위터로 공유하기\"><span>트위터</span></a></li><li class=\"share-facebook\"><a class=\"share-facebook sd-button share-icon\" data-shared=\"sharing-facebook-102\" href=\"https://sparkkorea.com/%ed%80%b4%ec%a6%88/?share=facebook\" rel=\"nofollow noopener noreferrer\" target=\"_blank\" title=\"페이스북에 공유하려면 클릭하세요.\"><span>Facebook</span></a></li><li class=\"share-end\"></li></ul></div></div></div><div class=\"sharedaddy sd-block sd-like jetpack-likes-widget-wrapper jetpack-likes-widget-unloaded\" data-name=\"like-post-frame-163927570-102-60752ffeb396c\" data-src=\"//widgets.wp.com/likes/index.html?ver=20210317#blog_id=163927570&amp;post_id=102&amp;origin=sparkkorea.wordpress.com&amp;obj_id=163927570-102-60752ffeb396c&amp;domain=sparkkorea.com\" id=\"like-post-wrapper-163927570-102-60752ffeb396c\"><h3 class=\"sd-title\">이것이 좋아요:</h3><div class=\"likes-widget-placeholder post-likes-widget-placeholder\" style=\"height: 55px;\"><span class=\"button\"><span>좋아하기</span></span> <span class=\"loading\">가져오는 중...</span></div><span class=\"sd-text-color\"></span><a class=\"sd-link-color\"></a></div></div> </div><!-- .entry-content -->\n",
       "</div><!-- .entry-inner -->\n",
       "</article><!-- #post-## -->\n",
       "</main><!-- #main -->\n",
       "</div><!-- #content -->\n",
       "<footer class=\"site-footer\" id=\"colophon\" role=\"contentinfo\">\n",
       "<div class=\"footer-bottom-info\">\n",
       "<div class=\"site-info\">\n",
       "<a href=\"https://wordpress.com/?ref=footer_segment_business\" rel=\"nofollow\">A WordPress.com Website.</a>\n",
       "</div><!-- .site-info -->\n",
       "</div><!-- .footer-bottom-info -->\n",
       "</footer><!-- #colophon -->\n",
       "</div><!-- .site-inner -->\n",
       "</div><!-- #page -->\n",
       "<!-- -->\n",
       "<script id=\"grofiles-cards-js\" src=\"//0.gravatar.com/js/gprofiles.js?ver=202115y\"></script>\n",
       "<script id=\"wpgroho-js-extra\">\n",
       "var WPGroHo = {\"my_hash\":\"\"};\n",
       "</script>\n",
       "<script src=\"https://s1.wp.com/wp-content/mu-plugins/gravatar-hovercards/wpgroho.js?m=1610363240h\" type=\"text/javascript\"></script>\n",
       "<script>\n",
       "\t\t// Initialize and attach hovercards to all gravatars\n",
       "\t\t( function() {\n",
       "\t\t\tfunction init() {\n",
       "\t\t\t\tif ( typeof Gravatar === 'undefined' ) {\n",
       "\t\t\t\t\treturn;\n",
       "\t\t\t\t}\n",
       "\n",
       "\t\t\t\tif ( typeof Gravatar.init !== 'function' ) {\n",
       "\t\t\t\t\treturn;\n",
       "\t\t\t\t}\n",
       "\n",
       "\t\t\t\tGravatar.profile_cb = function ( hash, id ) {\n",
       "\t\t\t\t\tWPGroHo.syncProfileData( hash, id );\n",
       "\t\t\t\t};\n",
       "\n",
       "\t\t\t\tGravatar.my_hash = WPGroHo.my_hash;\n",
       "\t\t\t\tGravatar.init( 'body', '#wp-admin-bar-my-account' );\n",
       "\t\t\t}\n",
       "\n",
       "\t\t\tif ( document.readyState !== 'loading' ) {\n",
       "\t\t\t\tinit();\n",
       "\t\t\t} else {\n",
       "\t\t\t\tdocument.addEventListener( 'DOMContentLoaded', init );\n",
       "\t\t\t}\n",
       "\t\t} )();\n",
       "\t</script>\n",
       "<div style=\"display:none\">\n",
       "</div>\n",
       "<script>\n",
       "window.addEventListener( \"load\", function( event ) {\n",
       "\tvar link = document.createElement( \"link\" );\n",
       "\tlink.href = \"https://s0.wp.com/wp-content/mu-plugins/actionbar/actionbar.css?v=20201002\";\n",
       "\tlink.type = \"text/css\";\n",
       "\tlink.rel = \"stylesheet\";\n",
       "\tdocument.head.appendChild( link );\n",
       "\n",
       "\tvar script = document.createElement( \"script\" );\n",
       "\tscript.src = \"https://s0.wp.com/wp-content/mu-plugins/actionbar/actionbar.js?v=20201002\";\n",
       "\tscript.defer = true;\n",
       "\tdocument.body.appendChild( script );\n",
       "} );\n",
       "</script>\n",
       "<script type=\"text/javascript\">\n",
       "\t\twindow.WPCOM_sharing_counts = {\"https:\\/\\/sparkkorea.com\\/%ed%80%b4%ec%a6%88\\/\":102};\n",
       "\t</script>\n",
       "<script id=\"comment-like-js-extra\">\n",
       "var comment_like_text = {\"loading\":\"\\uac00\\uc838\\uc624\\ub294 \\uc911...\"};\n",
       "</script>\n",
       "<script id=\"sharing-js-js-extra\">\n",
       "var sharing_js_options = {\"lang\":\"en\",\"counts\":\"1\",\"is_stats_active\":\"1\"};\n",
       "</script>\n",
       "<script src=\"https://s2.wp.com/_static/??-eJyNkVtOxDAMRTdEGnWEGPhArMVN3NZpXsRJy7B6Ug0gOlSFLzv2PdeWI5coVPAZfZaGpcaZFMa3xvCd3LbMa8F0+QwN+Zlw+VNmMEdQk0jI9I63cldEtGUgz9LShCwrVHAEry2mA7EKztWSuEJmpTvJC8WjCb+gTeEWzCO6Koulk/oCWpxWwsNMA2QK/l9ynihWdz+JPqjCoqfvu5JXtujrHuRgQLYBNOrGkd/TOODg6z1/tA9HDzZ0YA+uAbpaiQ7Sap0x1UzkVL+K98bXJ7puu96OaQycRW+BkuQREvnhK1boxT23D+2pfTo/3p/NBxyX6kQ=\" type=\"text/javascript\"></script>\n",
       "<script type=\"text/javascript\">\n",
       "var windowOpen;\n",
       "\t\t\t( function () {\n",
       "\t\t\t\tfunction matches( el, sel ) {\n",
       "\t\t\t\t\treturn !! (\n",
       "\t\t\t\t\t\tel.matches && el.matches( sel ) ||\n",
       "\t\t\t\t\t\tel.msMatchesSelector && el.msMatchesSelector( sel )\n",
       "\t\t\t\t\t);\n",
       "\t\t\t\t}\n",
       "\n",
       "\t\t\t\tdocument.body.addEventListener( 'click', function ( event ) {\n",
       "\t\t\t\t\tif ( ! event.target ) {\n",
       "\t\t\t\t\t\treturn;\n",
       "\t\t\t\t\t}\n",
       "\n",
       "\t\t\t\t\tvar el;\n",
       "\t\t\t\t\tif ( matches( event.target, 'a.share-twitter' ) ) {\n",
       "\t\t\t\t\t\tel = event.target;\n",
       "\t\t\t\t\t} else if ( event.target.parentNode && matches( event.target.parentNode, 'a.share-twitter' ) ) {\n",
       "\t\t\t\t\t\tel = event.target.parentNode;\n",
       "\t\t\t\t\t}\n",
       "\n",
       "\t\t\t\t\tif ( el ) {\n",
       "\t\t\t\t\t\tevent.preventDefault();\n",
       "\n",
       "\t\t\t\t\t\t// If there's another sharing window open, close it.\n",
       "\t\t\t\t\t\tif ( typeof windowOpen !== 'undefined' ) {\n",
       "\t\t\t\t\t\t\twindowOpen.close();\n",
       "\t\t\t\t\t\t}\n",
       "\t\t\t\t\t\twindowOpen = window.open( el.getAttribute( 'href' ), 'wpcomtwitter', 'menubar=1,resizable=1,width=600,height=350' );\n",
       "\t\t\t\t\t\treturn false;\n",
       "\t\t\t\t\t}\n",
       "\t\t\t\t} );\n",
       "\t\t\t} )();\n",
       "var windowOpen;\n",
       "\t\t\t( function () {\n",
       "\t\t\t\tfunction matches( el, sel ) {\n",
       "\t\t\t\t\treturn !! (\n",
       "\t\t\t\t\t\tel.matches && el.matches( sel ) ||\n",
       "\t\t\t\t\t\tel.msMatchesSelector && el.msMatchesSelector( sel )\n",
       "\t\t\t\t\t);\n",
       "\t\t\t\t}\n",
       "\n",
       "\t\t\t\tdocument.body.addEventListener( 'click', function ( event ) {\n",
       "\t\t\t\t\tif ( ! event.target ) {\n",
       "\t\t\t\t\t\treturn;\n",
       "\t\t\t\t\t}\n",
       "\n",
       "\t\t\t\t\tvar el;\n",
       "\t\t\t\t\tif ( matches( event.target, 'a.share-facebook' ) ) {\n",
       "\t\t\t\t\t\tel = event.target;\n",
       "\t\t\t\t\t} else if ( event.target.parentNode && matches( event.target.parentNode, 'a.share-facebook' ) ) {\n",
       "\t\t\t\t\t\tel = event.target.parentNode;\n",
       "\t\t\t\t\t}\n",
       "\n",
       "\t\t\t\t\tif ( el ) {\n",
       "\t\t\t\t\t\tevent.preventDefault();\n",
       "\n",
       "\t\t\t\t\t\t// If there's another sharing window open, close it.\n",
       "\t\t\t\t\t\tif ( typeof windowOpen !== 'undefined' ) {\n",
       "\t\t\t\t\t\t\twindowOpen.close();\n",
       "\t\t\t\t\t\t}\n",
       "\t\t\t\t\t\twindowOpen = window.open( el.getAttribute( 'href' ), 'wpcomfacebook', 'menubar=1,resizable=1,width=600,height=400' );\n",
       "\t\t\t\t\t\treturn false;\n",
       "\t\t\t\t\t}\n",
       "\t\t\t\t} );\n",
       "\t\t\t} )();\n",
       "</script>\n",
       "<script type=\"text/javascript\">\n",
       "// <![CDATA[\n",
       "(function() {\n",
       "try{\n",
       "  if ( window.external &&'msIsSiteMode' in window.external) {\n",
       "    if (window.external.msIsSiteMode()) {\n",
       "      var jl = document.createElement('script');\n",
       "      jl.type='text/javascript';\n",
       "      jl.async=true;\n",
       "      jl.src='/wp-content/plugins/ie-sitemode/custom-jumplist.php';\n",
       "      var s = document.getElementsByTagName('script')[0];\n",
       "      s.parentNode.insertBefore(jl, s);\n",
       "    }\n",
       "  }\n",
       "}catch(e){}\n",
       "})();\n",
       "// ]]>\n",
       "</script> <iframe id=\"likes-master\" name=\"likes-master\" scrolling=\"no\" src=\"https://widgets.wp.com/likes/master.html?ver=20210317#ver=20210317&amp;lang=ko&amp;origin=https://sparkkorea.com\" style=\"display:none;\"></iframe>\n",
       "<div id=\"likes-other-gravatars\"><div class=\"likes-text\"><span>%d</span> 블로거가 이것을 좋아합니다:</div><ul class=\"wpl-avatars sd-like-gravatars\"></ul></div>\n",
       "<script defer=\"\" src=\"//stats.wp.com/w.js?61\"></script> <script type=\"text/javascript\">\n",
       "_tkq = window._tkq || [];\n",
       "_stq = window._stq || [];\n",
       "_tkq.push(['storeContext', {'blog_id':'163927570','blog_tz':'9','user_lang':'ko','blog_lang':'ko','user_id':'0'}]);\n",
       "_stq.push(['view', {'blog':'163927570','v':'wpcom','tz':'9','user_id':'0','post':'102','subd':'sparkkorea'}]);\n",
       "_stq.push(['extra', {'crypt':'UE40eW5QN0p8M2Y/RE1TaVhzUzFMbjdWNHpwZGhTayxPSUFCMGNrd29+Smw0TDhnZmRTK0hlRi9QSGh6bi9GXVhBJWIlZlR5U1JMLU8/MkNtblkvY1dWLD1yWnhdL2ItRFB+aW1ILCV8eDdxQlFsakNVcGlmME9hZVhyQ1FFNDYsbDkuYmN1bTN4LVFvZW5LUEYla3piM05HMFpUV0NyT1A5aEZLPT1MdC5FQ28sSUlSQ2ROdS5rJXNTaz9lfFgzUE4mK10zOEhxfEFGNHV1dkJueUlMRS1LZ3JVeVpNUGprbWRJT1pnVldIdmtMREdZOG5Ca2I0MkR6STU='}]);\n",
       "_stq.push([ 'clickTrackerInit', '163927570', '102' ]);\n",
       "\t</script>\n",
       "<noscript><img alt=\"\" src=\"https://pixel.wp.com/b.gif?v=noscript\" style=\"height:1px;width:1px;overflow:hidden;position:absolute;bottom:1px;\"/></noscript>\n",
       "<script>\n",
       "if ( 'object' === typeof wpcom_mobile_user_agent_info ) {\n",
       "\n",
       "\twpcom_mobile_user_agent_info.init();\n",
       "\tvar mobileStatsQueryString = \"\";\n",
       "\t\n",
       "\tif( false !== wpcom_mobile_user_agent_info.matchedPlatformName )\n",
       "\t\tmobileStatsQueryString += \"&x_\" + 'mobile_platforms' + '=' + wpcom_mobile_user_agent_info.matchedPlatformName;\n",
       "\t\n",
       "\tif( false !== wpcom_mobile_user_agent_info.matchedUserAgentName )\n",
       "\t\tmobileStatsQueryString += \"&x_\" + 'mobile_devices' + '=' + wpcom_mobile_user_agent_info.matchedUserAgentName;\n",
       "\t\n",
       "\tif( wpcom_mobile_user_agent_info.isIPad() )\n",
       "\t\tmobileStatsQueryString += \"&x_\" + 'ipad_views' + '=' + 'views';\n",
       "\n",
       "\tif( \"\" != mobileStatsQueryString ) {\n",
       "\t\tnew Image().src = document.location.protocol + '//pixel.wp.com/g.gif?v=wpcom-no-pv' + mobileStatsQueryString + '&baba=' + Math.random();\n",
       "\t}\n",
       "\t\n",
       "}\n",
       "</script>\n",
       "</body>\n",
       "</html>\n",
       "<!--\n",
       "\tgenerated 231 seconds ago\n",
       "\tgenerated in 0.165 seconds\n",
       "\tserved from batcache in 0.002 seconds\n",
       "\texpires in 69 seconds\n",
       "-->"
      ]
     },
     "execution_count": 32,
     "metadata": {},
     "output_type": "execute_result"
    }
   ],
   "source": [
    "htmlObj"
   ]
  },
  {
   "cell_type": "code",
   "execution_count": null,
   "metadata": {},
   "outputs": [],
   "source": []
  },
  {
   "cell_type": "markdown",
   "metadata": {},
   "source": [
    "# 3. 태그값 접근하기"
   ]
  },
  {
   "cell_type": "code",
   "execution_count": 49,
   "metadata": {
    "collapsed": true,
    "jupyter": {
     "outputs_hidden": true
    }
   },
   "outputs": [
    {
     "data": {
      "text/plain": [
       "[<a class=\"skip-link screen-reader-text\" href=\"#content\">컨텐츠로 건너뛰기</a>,\n",
       " <a href=\"https://sparkkorea.com/\" rel=\"home\">\n",
       " \t\t\t\t\t스파크 코리아\t\t\t\t</a>,\n",
       " <a href=\"https://sparkkorea.com/%ec%9e%90%eb%a3%8c%ec%8b%a4/\">자료실</a>,\n",
       " <a href=\"https://sparkkorea.com/%ec%84%a4%eb%ac%b8-2/\">설문s</a>,\n",
       " <a aria-current=\"page\" href=\"https://sparkkorea.com/%ed%80%b4%ec%a6%88/\">퀴즈</a>,\n",
       " <a href=\"https://sparkkorea.com/%ed%85%8c%ec%8a%a4%ed%8a%b8/\">테스트</a>,\n",
       " <a href=\"https://sparkkorea.com/%ec%84%a4%eb%ac%b8/\">학생퀴즈</a>,\n",
       " <a href=\"#\"> 설문 준비중 </a>,\n",
       " <a href=\"https://forms.gle/Fw49w9GhWQChDcZm7\"> 6/13 Spark 심화과정 </a>,\n",
       " <a href=\"https://forms.gle/G4TcXm3fKuHLHA6D6\"> 6/13 Spark 기본과정 </a>,\n",
       " <a href=\"https://forms.gle/M8gr1kC2ubA3UDVp8\"> 6/18 Spark [MAP_FILTER] </a>,\n",
       " <a href=\"https://forms.gle/h8w5mZ4MNaPLCPbi6\"> 6/18 Spark GroupBy 심화 </a>,\n",
       " <a href=\"https://forms.gle/q5yL6QHfueDLM5w27\"> 6/25 Spark RDD 실전 분석 </a>,\n",
       " <a href=\"https://forms.gle/Gxb4y6LfVYiaLu4M7\"> 6/27 Spark RDD 실전 분석2 </a>,\n",
       " <a class=\"share-twitter sd-button share-icon\" data-shared=\"sharing-twitter-102\" href=\"https://sparkkorea.com/%ed%80%b4%ec%a6%88/?share=twitter\" rel=\"nofollow noopener noreferrer\" target=\"_blank\" title=\"트위터로 공유하기\"><span>트위터</span></a>,\n",
       " <a class=\"share-facebook sd-button share-icon\" data-shared=\"sharing-facebook-102\" href=\"https://sparkkorea.com/%ed%80%b4%ec%a6%88/?share=facebook\" rel=\"nofollow noopener noreferrer\" target=\"_blank\" title=\"페이스북에 공유하려면 클릭하세요.\"><span>Facebook</span></a>,\n",
       " <a class=\"sd-link-color\"></a>,\n",
       " <a href=\"https://wordpress.com/?ref=footer_segment_business\" rel=\"nofollow\">A WordPress.com Website.</a>]"
      ]
     },
     "execution_count": 49,
     "metadata": {},
     "output_type": "execute_result"
    }
   ],
   "source": [
    "htmlObj.findAll(name=\"a\") # 태그찾기 (전체를 리스트에 넣어줌)"
   ]
  },
  {
   "cell_type": "code",
   "execution_count": null,
   "metadata": {},
   "outputs": [],
   "source": []
  },
  {
   "cell_type": "code",
   "execution_count": 43,
   "metadata": {},
   "outputs": [
    {
     "data": {
      "text/plain": [
       "<a class=\"skip-link screen-reader-text\" href=\"#content\">컨텐츠로 건너뛰기</a>"
      ]
     },
     "execution_count": 43,
     "metadata": {},
     "output_type": "execute_result"
    }
   ],
   "source": [
    "htmlObj.find(name=\"a\")# 태그찾기 (맨앞 한개)"
   ]
  },
  {
   "cell_type": "code",
   "execution_count": null,
   "metadata": {},
   "outputs": [],
   "source": []
  },
  {
   "cell_type": "code",
   "execution_count": 50,
   "metadata": {},
   "outputs": [
    {
     "data": {
      "text/plain": [
       "[<div class=\"class_spark_quiz\" id=\"id_spark_quiz\">\n",
       " <h1>Spark 퀴즈 </h1>\n",
       " <a href=\"https://forms.gle/Fw49w9GhWQChDcZm7\"> 6/13 Spark 심화과정 </a>\n",
       " <p></p>\n",
       " <a href=\"https://forms.gle/G4TcXm3fKuHLHA6D6\"> 6/13 Spark 기본과정 </a>\n",
       " <p></p>\n",
       " <a href=\"https://forms.gle/M8gr1kC2ubA3UDVp8\"> 6/18 Spark [MAP_FILTER] </a>\n",
       " <p></p>\n",
       " <a href=\"https://forms.gle/h8w5mZ4MNaPLCPbi6\"> 6/18 Spark GroupBy 심화 </a>\n",
       " <p></p>\n",
       " <a href=\"https://forms.gle/q5yL6QHfueDLM5w27\"> 6/25 Spark RDD 실전 분석 </a>\n",
       " <p></p>\n",
       " <a href=\"https://forms.gle/Gxb4y6LfVYiaLu4M7\"> 6/27 Spark RDD 실전 분석2 </a>\n",
       " <p></p>\n",
       " </div>]"
      ]
     },
     "execution_count": 50,
     "metadata": {},
     "output_type": "execute_result"
    }
   ],
   "source": [
    "htmlObj.findAll(name=\"div\",attrs = {\"id\":\"id_spark_quiz\"})  ##div태그의 시작부터 끝까지 가져옴\n",
    "## div : 단락 태그\n",
    "## attrs : 속성값\n",
    "## find로 내가 원하는거 찾아가는것 (계속 범위를 좁혀라)\n",
    "## findAll을 활용해서 반복해서 수집해라~!\n",
    "## find : 첫번째 태그정보 리턴\n",
    "## findAll : 조건에 해당되는 모든 태그를 리스트로 리턴\n",
    "###### find로 계속 정보 찾아 들어가고 마지막에 findAll로 리스트 안에 집어넣기"
   ]
  },
  {
   "cell_type": "code",
   "execution_count": null,
   "metadata": {},
   "outputs": [],
   "source": []
  },
  {
   "cell_type": "code",
   "execution_count": null,
   "metadata": {},
   "outputs": [],
   "source": []
  },
  {
   "cell_type": "code",
   "execution_count": null,
   "metadata": {},
   "outputs": [],
   "source": [
    "## find로 계속 정보 찾아 들어가고 마지막에 findAll로 리스트 안에 집어넣기"
   ]
  },
  {
   "cell_type": "code",
   "execution_count": 55,
   "metadata": {},
   "outputs": [],
   "source": [
    "targetParent = htmlObj.find(name=\"div\",attrs = {\"id\":\"id_spark_quiz\"})"
   ]
  },
  {
   "cell_type": "raw",
   "metadata": {},
   "source": [
    "targetParent = htmlObj.find(name = \"div\""
   ]
  },
  {
   "cell_type": "code",
   "execution_count": null,
   "metadata": {},
   "outputs": [],
   "source": []
  },
  {
   "cell_type": "code",
   "execution_count": 63,
   "metadata": {},
   "outputs": [
    {
     "data": {
      "text/plain": [
       "<div class=\"class_spark_quiz\" id=\"id_spark_quiz\">\n",
       "<h1>Spark 퀴즈 </h1>\n",
       "<a href=\"https://forms.gle/Fw49w9GhWQChDcZm7\"> 6/13 Spark 심화과정 </a>\n",
       "<p></p>\n",
       "<a href=\"https://forms.gle/G4TcXm3fKuHLHA6D6\"> 6/13 Spark 기본과정 </a>\n",
       "<p></p>\n",
       "<a href=\"https://forms.gle/M8gr1kC2ubA3UDVp8\"> 6/18 Spark [MAP_FILTER] </a>\n",
       "<p></p>\n",
       "<a href=\"https://forms.gle/h8w5mZ4MNaPLCPbi6\"> 6/18 Spark GroupBy 심화 </a>\n",
       "<p></p>\n",
       "<a href=\"https://forms.gle/q5yL6QHfueDLM5w27\"> 6/25 Spark RDD 실전 분석 </a>\n",
       "<p></p>\n",
       "<a href=\"https://forms.gle/Gxb4y6LfVYiaLu4M7\"> 6/27 Spark RDD 실전 분석2 </a>\n",
       "<p></p>\n",
       "</div>"
      ]
     },
     "execution_count": 63,
     "metadata": {},
     "output_type": "execute_result"
    }
   ],
   "source": [
    "targetParent"
   ]
  },
  {
   "cell_type": "code",
   "execution_count": 68,
   "metadata": {},
   "outputs": [],
   "source": [
    "eachTag = targetParent.find(name=\"a\")"
   ]
  },
  {
   "cell_type": "code",
   "execution_count": 133,
   "metadata": {},
   "outputs": [
    {
     "data": {
      "text/plain": [
       "<a href=\"https://forms.gle/Gxb4y6LfVYiaLu4M7\"> 6/27 Spark RDD 실전 분석2 </a>"
      ]
     },
     "execution_count": 133,
     "metadata": {},
     "output_type": "execute_result"
    }
   ],
   "source": [
    "eachTag # a로 시작하는 한개 나옴 --> 첫번째값 나와야 되는데 오ㅐ 마지막 값?"
   ]
  },
  {
   "cell_type": "code",
   "execution_count": 69,
   "metadata": {},
   "outputs": [
    {
     "data": {
      "text/plain": [
       "'https://forms.gle/Fw49w9GhWQChDcZm7'"
      ]
     },
     "execution_count": 69,
     "metadata": {},
     "output_type": "execute_result"
    }
   ],
   "source": [
    "eachTag.attrs[\"href\"] ##링크정보 가지고 올 수 있음"
   ]
  },
  {
   "cell_type": "code",
   "execution_count": 70,
   "metadata": {},
   "outputs": [],
   "source": [
    "valueList = []"
   ]
  },
  {
   "cell_type": "code",
   "execution_count": 71,
   "metadata": {},
   "outputs": [],
   "source": [
    "atags = targetParent.findAll(name=\"a\")"
   ]
  },
  {
   "cell_type": "code",
   "execution_count": 72,
   "metadata": {},
   "outputs": [
    {
     "data": {
      "text/plain": [
       "[<a href=\"https://forms.gle/Fw49w9GhWQChDcZm7\"> 6/13 Spark 심화과정 </a>,\n",
       " <a href=\"https://forms.gle/G4TcXm3fKuHLHA6D6\"> 6/13 Spark 기본과정 </a>,\n",
       " <a href=\"https://forms.gle/M8gr1kC2ubA3UDVp8\"> 6/18 Spark [MAP_FILTER] </a>,\n",
       " <a href=\"https://forms.gle/h8w5mZ4MNaPLCPbi6\"> 6/18 Spark GroupBy 심화 </a>,\n",
       " <a href=\"https://forms.gle/q5yL6QHfueDLM5w27\"> 6/25 Spark RDD 실전 분석 </a>,\n",
       " <a href=\"https://forms.gle/Gxb4y6LfVYiaLu4M7\"> 6/27 Spark RDD 실전 분석2 </a>]"
      ]
     },
     "execution_count": 72,
     "metadata": {},
     "output_type": "execute_result"
    }
   ],
   "source": [
    "atags"
   ]
  },
  {
   "cell_type": "code",
   "execution_count": 73,
   "metadata": {},
   "outputs": [
    {
     "data": {
      "text/plain": [
       "<a href=\"https://forms.gle/Fw49w9GhWQChDcZm7\"> 6/13 Spark 심화과정 </a>"
      ]
     },
     "execution_count": 73,
     "metadata": {},
     "output_type": "execute_result"
    }
   ],
   "source": [
    "atags[0]"
   ]
  },
  {
   "cell_type": "code",
   "execution_count": 74,
   "metadata": {},
   "outputs": [],
   "source": [
    "for i in range(0, len(atags)):\n",
    "    # 각 태그정보 수집\n",
    "    eachTag = atags[i]\n",
    "    tagText = eachTag.text\n",
    "    # 리스트에 태그 내 text정보 append\n",
    "    valueList.append(tagText)"
   ]
  },
  {
   "cell_type": "code",
   "execution_count": 75,
   "metadata": {},
   "outputs": [],
   "source": [
    "resultLDf = pd.DataFrame( valueList, columns=[\"퀴즈타이틀\"])"
   ]
  },
  {
   "cell_type": "code",
   "execution_count": 77,
   "metadata": {},
   "outputs": [
    {
     "data": {
      "text/html": [
       "<div>\n",
       "<style scoped>\n",
       "    .dataframe tbody tr th:only-of-type {\n",
       "        vertical-align: middle;\n",
       "    }\n",
       "\n",
       "    .dataframe tbody tr th {\n",
       "        vertical-align: top;\n",
       "    }\n",
       "\n",
       "    .dataframe thead th {\n",
       "        text-align: right;\n",
       "    }\n",
       "</style>\n",
       "<table border=\"1\" class=\"dataframe\">\n",
       "  <thead>\n",
       "    <tr style=\"text-align: right;\">\n",
       "      <th></th>\n",
       "      <th>퀴즈타이틀</th>\n",
       "    </tr>\n",
       "  </thead>\n",
       "  <tbody>\n",
       "    <tr>\n",
       "      <th>0</th>\n",
       "      <td>6/13 Spark 심화과정</td>\n",
       "    </tr>\n",
       "    <tr>\n",
       "      <th>1</th>\n",
       "      <td>6/13 Spark 기본과정</td>\n",
       "    </tr>\n",
       "    <tr>\n",
       "      <th>2</th>\n",
       "      <td>6/18 Spark [MAP_FILTER]</td>\n",
       "    </tr>\n",
       "    <tr>\n",
       "      <th>3</th>\n",
       "      <td>6/18 Spark GroupBy 심화</td>\n",
       "    </tr>\n",
       "    <tr>\n",
       "      <th>4</th>\n",
       "      <td>6/25 Spark RDD 실전 분석</td>\n",
       "    </tr>\n",
       "    <tr>\n",
       "      <th>5</th>\n",
       "      <td>6/27 Spark RDD 실전 분석2</td>\n",
       "    </tr>\n",
       "  </tbody>\n",
       "</table>\n",
       "</div>"
      ],
      "text/plain": [
       "                       퀴즈타이틀\n",
       "0           6/13 Spark 심화과정 \n",
       "1           6/13 Spark 기본과정 \n",
       "2   6/18 Spark [MAP_FILTER] \n",
       "3     6/18 Spark GroupBy 심화 \n",
       "4      6/25 Spark RDD 실전 분석 \n",
       "5     6/27 Spark RDD 실전 분석2 "
      ]
     },
     "execution_count": 77,
     "metadata": {},
     "output_type": "execute_result"
    }
   ],
   "source": [
    "resultLDf"
   ]
  },
  {
   "cell_type": "code",
   "execution_count": null,
   "metadata": {},
   "outputs": [],
   "source": []
  },
  {
   "cell_type": "code",
   "execution_count": 109,
   "metadata": {},
   "outputs": [],
   "source": [
    "targetParent = htmlObj.find(name=\"div\",attrs = {\"id\":\"id_spark_quiz\"})"
   ]
  },
  {
   "cell_type": "code",
   "execution_count": 110,
   "metadata": {},
   "outputs": [
    {
     "data": {
      "text/plain": [
       "<div class=\"class_spark_quiz\" id=\"id_spark_quiz\">\n",
       "<h1>Spark 퀴즈 </h1>\n",
       "<a href=\"https://forms.gle/Fw49w9GhWQChDcZm7\"> 6/13 Spark 심화과정 </a>\n",
       "<p></p>\n",
       "<a href=\"https://forms.gle/G4TcXm3fKuHLHA6D6\"> 6/13 Spark 기본과정 </a>\n",
       "<p></p>\n",
       "<a href=\"https://forms.gle/M8gr1kC2ubA3UDVp8\"> 6/18 Spark [MAP_FILTER] </a>\n",
       "<p></p>\n",
       "<a href=\"https://forms.gle/h8w5mZ4MNaPLCPbi6\"> 6/18 Spark GroupBy 심화 </a>\n",
       "<p></p>\n",
       "<a href=\"https://forms.gle/q5yL6QHfueDLM5w27\"> 6/25 Spark RDD 실전 분석 </a>\n",
       "<p></p>\n",
       "<a href=\"https://forms.gle/Gxb4y6LfVYiaLu4M7\"> 6/27 Spark RDD 실전 분석2 </a>\n",
       "<p></p>\n",
       "</div>"
      ]
     },
     "execution_count": 110,
     "metadata": {},
     "output_type": "execute_result"
    }
   ],
   "source": [
    "targetParent"
   ]
  },
  {
   "cell_type": "code",
   "execution_count": 120,
   "metadata": {},
   "outputs": [],
   "source": [
    "nameList = [] #이름 담을 리스트\n",
    "\n",
    "linkList = [] # 링크담을 리스트"
   ]
  },
  {
   "cell_type": "code",
   "execution_count": 113,
   "metadata": {},
   "outputs": [],
   "source": [
    "atags = targetParent.findAll(name=\"a\")"
   ]
  },
  {
   "cell_type": "code",
   "execution_count": 122,
   "metadata": {},
   "outputs": [
    {
     "data": {
      "text/plain": [
       "[<a href=\"https://forms.gle/Fw49w9GhWQChDcZm7\"> 6/13 Spark 심화과정 </a>,\n",
       " <a href=\"https://forms.gle/G4TcXm3fKuHLHA6D6\"> 6/13 Spark 기본과정 </a>,\n",
       " <a href=\"https://forms.gle/M8gr1kC2ubA3UDVp8\"> 6/18 Spark [MAP_FILTER] </a>,\n",
       " <a href=\"https://forms.gle/h8w5mZ4MNaPLCPbi6\"> 6/18 Spark GroupBy 심화 </a>,\n",
       " <a href=\"https://forms.gle/q5yL6QHfueDLM5w27\"> 6/25 Spark RDD 실전 분석 </a>,\n",
       " <a href=\"https://forms.gle/Gxb4y6LfVYiaLu4M7\"> 6/27 Spark RDD 실전 분석2 </a>]"
      ]
     },
     "execution_count": 122,
     "metadata": {},
     "output_type": "execute_result"
    }
   ],
   "source": [
    "atags"
   ]
  },
  {
   "cell_type": "code",
   "execution_count": 134,
   "metadata": {},
   "outputs": [],
   "source": [
    "eachTags = atags[0]"
   ]
  },
  {
   "cell_type": "code",
   "execution_count": null,
   "metadata": {},
   "outputs": [],
   "source": [
    "nameList = []\n",
    "linkList = []"
   ]
  },
  {
   "cell_type": "code",
   "execution_count": null,
   "metadata": {},
   "outputs": [],
   "source": [
    "for i in range(0, len(atags)):\n",
    "    eachTags = atags[i]\n",
    "    eachLink=eachTag.attrs[\"href\"] # 링크\n",
    "\n",
    "    eachName=eachTag.text\n",
    "\n",
    "    nameList.append(eachName)\n",
    "\n",
    "    linkList.append(eachLink)\n"
   ]
  },
  {
   "cell_type": "code",
   "execution_count": null,
   "metadata": {},
   "outputs": [],
   "source": []
  },
  {
   "cell_type": "code",
   "execution_count": null,
   "metadata": {},
   "outputs": [],
   "source": []
  },
  {
   "cell_type": "code",
   "execution_count": null,
   "metadata": {},
   "outputs": [],
   "source": []
  },
  {
   "cell_type": "code",
   "execution_count": null,
   "metadata": {},
   "outputs": [],
   "source": []
  },
  {
   "cell_type": "code",
   "execution_count": null,
   "metadata": {},
   "outputs": [],
   "source": []
  },
  {
   "cell_type": "code",
   "execution_count": null,
   "metadata": {},
   "outputs": [],
   "source": []
  },
  {
   "cell_type": "code",
   "execution_count": 125,
   "metadata": {},
   "outputs": [],
   "source": [
    "for i in range(0, len(atags)):\n",
    "        eachTag = atags[i]\n",
    "\n",
    "        eachlink = eachTag.attrs[\"href\"]\n",
    "\n",
    "        eachname = eachTag.text\n",
    "\n",
    "        nameList.append(eachname)\n",
    "\n",
    "        linkList.append(eachlink)"
   ]
  },
  {
   "cell_type": "code",
   "execution_count": 126,
   "metadata": {},
   "outputs": [
    {
     "data": {
      "text/plain": [
       "[' 6/13 Spark 심화과정 ',\n",
       " ' 6/13 Spark 심화과정 ',\n",
       " ' 6/13 Spark 기본과정 ',\n",
       " ' 6/18 Spark [MAP_FILTER] ',\n",
       " ' 6/18 Spark GroupBy 심화 ',\n",
       " ' 6/25 Spark RDD 실전 분석 ',\n",
       " ' 6/27 Spark RDD 실전 분석2 ']"
      ]
     },
     "execution_count": 126,
     "metadata": {},
     "output_type": "execute_result"
    }
   ],
   "source": [
    "nameList"
   ]
  },
  {
   "cell_type": "code",
   "execution_count": 127,
   "metadata": {},
   "outputs": [
    {
     "data": {
      "text/plain": [
       "['https://forms.gle/Fw49w9GhWQChDcZm7',\n",
       " 'https://forms.gle/G4TcXm3fKuHLHA6D6',\n",
       " 'https://forms.gle/M8gr1kC2ubA3UDVp8',\n",
       " 'https://forms.gle/h8w5mZ4MNaPLCPbi6',\n",
       " 'https://forms.gle/q5yL6QHfueDLM5w27',\n",
       " 'https://forms.gle/Gxb4y6LfVYiaLu4M7']"
      ]
     },
     "execution_count": 127,
     "metadata": {},
     "output_type": "execute_result"
    }
   ],
   "source": [
    "linkList"
   ]
  },
  {
   "cell_type": "code",
   "execution_count": 129,
   "metadata": {},
   "outputs": [],
   "source": [
    "df2 = pd.DataFrame( zip(nameList,linkList))"
   ]
  },
  {
   "cell_type": "code",
   "execution_count": 131,
   "metadata": {},
   "outputs": [],
   "source": [
    "df2.columns = [\"이름\", \"링크\"]"
   ]
  },
  {
   "cell_type": "code",
   "execution_count": 132,
   "metadata": {},
   "outputs": [
    {
     "data": {
      "text/html": [
       "<div>\n",
       "<style scoped>\n",
       "    .dataframe tbody tr th:only-of-type {\n",
       "        vertical-align: middle;\n",
       "    }\n",
       "\n",
       "    .dataframe tbody tr th {\n",
       "        vertical-align: top;\n",
       "    }\n",
       "\n",
       "    .dataframe thead th {\n",
       "        text-align: right;\n",
       "    }\n",
       "</style>\n",
       "<table border=\"1\" class=\"dataframe\">\n",
       "  <thead>\n",
       "    <tr style=\"text-align: right;\">\n",
       "      <th></th>\n",
       "      <th>이름</th>\n",
       "      <th>링크</th>\n",
       "    </tr>\n",
       "  </thead>\n",
       "  <tbody>\n",
       "    <tr>\n",
       "      <th>0</th>\n",
       "      <td>6/13 Spark 심화과정</td>\n",
       "      <td>https://forms.gle/Fw49w9GhWQChDcZm7</td>\n",
       "    </tr>\n",
       "    <tr>\n",
       "      <th>1</th>\n",
       "      <td>6/13 Spark 심화과정</td>\n",
       "      <td>https://forms.gle/G4TcXm3fKuHLHA6D6</td>\n",
       "    </tr>\n",
       "    <tr>\n",
       "      <th>2</th>\n",
       "      <td>6/13 Spark 기본과정</td>\n",
       "      <td>https://forms.gle/M8gr1kC2ubA3UDVp8</td>\n",
       "    </tr>\n",
       "    <tr>\n",
       "      <th>3</th>\n",
       "      <td>6/18 Spark [MAP_FILTER]</td>\n",
       "      <td>https://forms.gle/h8w5mZ4MNaPLCPbi6</td>\n",
       "    </tr>\n",
       "    <tr>\n",
       "      <th>4</th>\n",
       "      <td>6/18 Spark GroupBy 심화</td>\n",
       "      <td>https://forms.gle/q5yL6QHfueDLM5w27</td>\n",
       "    </tr>\n",
       "    <tr>\n",
       "      <th>5</th>\n",
       "      <td>6/25 Spark RDD 실전 분석</td>\n",
       "      <td>https://forms.gle/Gxb4y6LfVYiaLu4M7</td>\n",
       "    </tr>\n",
       "  </tbody>\n",
       "</table>\n",
       "</div>"
      ],
      "text/plain": [
       "                          이름                                   링크\n",
       "0           6/13 Spark 심화과정   https://forms.gle/Fw49w9GhWQChDcZm7\n",
       "1           6/13 Spark 심화과정   https://forms.gle/G4TcXm3fKuHLHA6D6\n",
       "2           6/13 Spark 기본과정   https://forms.gle/M8gr1kC2ubA3UDVp8\n",
       "3   6/18 Spark [MAP_FILTER]   https://forms.gle/h8w5mZ4MNaPLCPbi6\n",
       "4     6/18 Spark GroupBy 심화   https://forms.gle/q5yL6QHfueDLM5w27\n",
       "5      6/25 Spark RDD 실전 분석   https://forms.gle/Gxb4y6LfVYiaLu4M7"
      ]
     },
     "execution_count": 132,
     "metadata": {},
     "output_type": "execute_result"
    }
   ],
   "source": [
    "df2"
   ]
  },
  {
   "cell_type": "code",
   "execution_count": null,
   "metadata": {},
   "outputs": [],
   "source": []
  },
  {
   "cell_type": "code",
   "execution_count": null,
   "metadata": {},
   "outputs": [],
   "source": []
  },
  {
   "cell_type": "code",
   "execution_count": null,
   "metadata": {},
   "outputs": [],
   "source": []
  },
  {
   "cell_type": "code",
   "execution_count": null,
   "metadata": {},
   "outputs": [],
   "source": []
  },
  {
   "cell_type": "code",
   "execution_count": null,
   "metadata": {},
   "outputs": [],
   "source": []
  },
  {
   "cell_type": "code",
   "execution_count": null,
   "metadata": {},
   "outputs": [],
   "source": []
  },
  {
   "cell_type": "code",
   "execution_count": null,
   "metadata": {},
   "outputs": [],
   "source": []
  },
  {
   "cell_type": "markdown",
   "metadata": {},
   "source": [
    "# 테이블정보 수집하기"
   ]
  },
  {
   "cell_type": "code",
   "execution_count": null,
   "metadata": {},
   "outputs": [],
   "source": []
  },
  {
   "cell_type": "code",
   "execution_count": null,
   "metadata": {},
   "outputs": [],
   "source": []
  },
  {
   "cell_type": "code",
   "execution_count": null,
   "metadata": {},
   "outputs": [],
   "source": []
  },
  {
   "cell_type": "code",
   "execution_count": null,
   "metadata": {},
   "outputs": [],
   "source": []
  },
  {
   "cell_type": "markdown",
   "metadata": {},
   "source": [
    "# 테이블 스크랩"
   ]
  },
  {
   "cell_type": "code",
   "execution_count": 137,
   "metadata": {
    "collapsed": true,
    "jupyter": {
     "outputs_hidden": true
    }
   },
   "outputs": [
    {
     "data": {
      "text/plain": [
       "<table class=\"type07\" id=\"test_table\">\n",
       "<thead>\n",
       "<tr>\n",
       "<th scope=\"cols\">학번</th>\n",
       "<th scope=\"cols\">이름</th>\n",
       "</tr>\n",
       "</thead>\n",
       "<tbody>\n",
       "<tr>\n",
       "<td>101</td>\n",
       "<td>김효관</td>\n",
       "</tr>\n",
       "<tr>\n",
       "<td>102</td>\n",
       "<td>이순신</td>\n",
       "</tr>\n",
       "<tr>\n",
       "<td>103</td>\n",
       "<td>김어진</td>\n",
       "</tr>\n",
       "</tbody>\n",
       "</table>"
      ]
     },
     "execution_count": 137,
     "metadata": {},
     "output_type": "execute_result"
    }
   ],
   "source": [
    "from bs4 import BeautifulSoup # 태그 이쁘게 뜨기\n",
    "import requests # 웹페이지 접속 요청\n",
    "targetUrl = \"https://sparkkorea.com/테스트\"\n",
    "\n",
    "resp = requests.get(url=targetUrl) ## response 200 = 정상\n",
    "resp.encoding = \"utf-8\" ## 인코딩\n",
    "html = resp.text\n",
    "htmlObj = BeautifulSoup(html, \"html.parser\") ## beautifulSoup 사용\n",
    "\n",
    "\n",
    "\n",
    "tableTag = htmlObj.find(name=\"table\", attrs={\"id\" : \"test_table\"})\n",
    "\n",
    "tableTag"
   ]
  },
  {
   "cell_type": "code",
   "execution_count": 138,
   "metadata": {
    "collapsed": true,
    "jupyter": {
     "outputs_hidden": true
    }
   },
   "outputs": [
    {
     "data": {
      "text/plain": [
       "<tbody>\n",
       "<tr>\n",
       "<td>101</td>\n",
       "<td>김효관</td>\n",
       "</tr>\n",
       "<tr>\n",
       "<td>102</td>\n",
       "<td>이순신</td>\n",
       "</tr>\n",
       "<tr>\n",
       "<td>103</td>\n",
       "<td>김어진</td>\n",
       "</tr>\n",
       "</tbody>"
      ]
     },
     "execution_count": 138,
     "metadata": {},
     "output_type": "execute_result"
    }
   ],
   "source": [
    "from bs4 import BeautifulSoup # 태그 이쁘게 뜨기\n",
    "import requests # 웹페이지 접속 요청\n",
    "targetUrl = \"https://sparkkorea.com/테스트\"\n",
    "\n",
    "resp = requests.get(url=targetUrl) ## response 200 = 정상\n",
    "resp.encoding = \"utf-8\" ## 인코딩\n",
    "html = resp.text\n",
    "htmlObj = BeautifulSoup(html, \"html.parser\") ## beautifulSoup 사용\n",
    "\n",
    "\n",
    "\n",
    "tableTag = htmlObj.find(name=\"table\", attrs={\"id\" : \"test_table\"})\n",
    "\n",
    "\n",
    "\n",
    "tbodyTag = tableTag.find(name=\"tbody\")\n",
    "\n",
    "tbodyTag"
   ]
  },
  {
   "cell_type": "code",
   "execution_count": null,
   "metadata": {},
   "outputs": [],
   "source": []
  },
  {
   "cell_type": "code",
   "execution_count": null,
   "metadata": {},
   "outputs": [],
   "source": []
  },
  {
   "cell_type": "code",
   "execution_count": null,
   "metadata": {},
   "outputs": [],
   "source": []
  },
  {
   "cell_type": "code",
   "execution_count": 143,
   "metadata": {},
   "outputs": [],
   "source": [
    "rowList = []\n",
    "coulmnList = []"
   ]
  },
  {
   "cell_type": "code",
   "execution_count": 144,
   "metadata": {},
   "outputs": [],
   "source": [
    "trs = tbodyTag.find_all(\"tr\")"
   ]
  },
  {
   "cell_type": "code",
   "execution_count": 145,
   "metadata": {},
   "outputs": [],
   "source": []
  },
  {
   "cell_type": "code",
   "execution_count": 146,
   "metadata": {},
   "outputs": [],
   "source": []
  },
  {
   "cell_type": "code",
   "execution_count": 147,
   "metadata": {},
   "outputs": [
    {
     "ename": "NameError",
     "evalue": "name 'columnList' is not defined",
     "output_type": "error",
     "traceback": [
      "\u001b[1;31m---------------------------------------------------------------------------\u001b[0m",
      "\u001b[1;31mNameError\u001b[0m                                 Traceback (most recent call last)",
      "\u001b[1;32m<ipython-input-147-d7d494792263>\u001b[0m in \u001b[0;36m<module>\u001b[1;34m\u001b[0m\n\u001b[0;32m      1\u001b[0m \u001b[1;32mfor\u001b[0m \u001b[0mi\u001b[0m \u001b[1;32min\u001b[0m \u001b[0mrange\u001b[0m\u001b[1;33m(\u001b[0m\u001b[1;36m0\u001b[0m\u001b[1;33m,\u001b[0m \u001b[0mlen\u001b[0m\u001b[1;33m(\u001b[0m\u001b[0mtds\u001b[0m\u001b[1;33m)\u001b[0m\u001b[1;33m)\u001b[0m\u001b[1;33m:\u001b[0m\u001b[1;33m\u001b[0m\u001b[1;33m\u001b[0m\u001b[0m\n\u001b[0;32m      2\u001b[0m     \u001b[0meachTd\u001b[0m \u001b[1;33m=\u001b[0m \u001b[0mtds\u001b[0m\u001b[1;33m[\u001b[0m\u001b[0mi\u001b[0m\u001b[1;33m]\u001b[0m\u001b[1;33m\u001b[0m\u001b[1;33m\u001b[0m\u001b[0m\n\u001b[1;32m----> 3\u001b[1;33m     \u001b[0mcolumnList\u001b[0m\u001b[1;33m.\u001b[0m\u001b[0mappend\u001b[0m\u001b[1;33m(\u001b[0m\u001b[0meachTd\u001b[0m\u001b[1;33m.\u001b[0m\u001b[0mtext\u001b[0m\u001b[1;33m)\u001b[0m\u001b[1;33m\u001b[0m\u001b[1;33m\u001b[0m\u001b[0m\n\u001b[0m",
      "\u001b[1;31mNameError\u001b[0m: name 'columnList' is not defined"
     ]
    }
   ],
   "source": [
    "for i in range(0, len(tds)):\n",
    "    eachTd = tds[i]\n",
    "    columnList.append(eachTd.text)"
   ]
  },
  {
   "cell_type": "code",
   "execution_count": null,
   "metadata": {},
   "outputs": [],
   "source": [
    "# 한 행의 수지보안료된 컬럼 값을 rowlist에 붙인다\n",
    "rowList.append(columnList)\n",
    "columnList = []"
   ]
  },
  {
   "cell_type": "code",
   "execution_count": null,
   "metadata": {},
   "outputs": [],
   "source": [
    "pd.columnList"
   ]
  },
  {
   "cell_type": "code",
   "execution_count": null,
   "metadata": {},
   "outputs": [],
   "source": []
  },
  {
   "cell_type": "code",
   "execution_count": null,
   "metadata": {},
   "outputs": [],
   "source": []
  },
  {
   "cell_type": "code",
   "execution_count": null,
   "metadata": {},
   "outputs": [],
   "source": []
  },
  {
   "cell_type": "code",
   "execution_count": null,
   "metadata": {},
   "outputs": [],
   "source": []
  },
  {
   "cell_type": "code",
   "execution_count": null,
   "metadata": {},
   "outputs": [],
   "source": []
  },
  {
   "cell_type": "code",
   "execution_count": null,
   "metadata": {},
   "outputs": [],
   "source": []
  },
  {
   "cell_type": "code",
   "execution_count": null,
   "metadata": {},
   "outputs": [],
   "source": []
  },
  {
   "cell_type": "code",
   "execution_count": null,
   "metadata": {},
   "outputs": [],
   "source": []
  },
  {
   "cell_type": "code",
   "execution_count": null,
   "metadata": {},
   "outputs": [],
   "source": []
  },
  {
   "cell_type": "code",
   "execution_count": null,
   "metadata": {},
   "outputs": [],
   "source": []
  },
  {
   "cell_type": "code",
   "execution_count": null,
   "metadata": {},
   "outputs": [],
   "source": []
  },
  {
   "cell_type": "code",
   "execution_count": null,
   "metadata": {},
   "outputs": [],
   "source": []
  },
  {
   "cell_type": "code",
   "execution_count": null,
   "metadata": {},
   "outputs": [],
   "source": []
  },
  {
   "cell_type": "code",
   "execution_count": null,
   "metadata": {},
   "outputs": [],
   "source": []
  },
  {
   "cell_type": "code",
   "execution_count": null,
   "metadata": {},
   "outputs": [],
   "source": []
  },
  {
   "cell_type": "code",
   "execution_count": null,
   "metadata": {},
   "outputs": [],
   "source": []
  },
  {
   "cell_type": "code",
   "execution_count": null,
   "metadata": {},
   "outputs": [],
   "source": []
  },
  {
   "cell_type": "code",
   "execution_count": null,
   "metadata": {},
   "outputs": [],
   "source": []
  },
  {
   "cell_type": "code",
   "execution_count": null,
   "metadata": {},
   "outputs": [],
   "source": []
  },
  {
   "cell_type": "code",
   "execution_count": null,
   "metadata": {},
   "outputs": [],
   "source": []
  }
 ],
 "metadata": {
  "kernelspec": {
   "display_name": "Python 3",
   "language": "python",
   "name": "python3"
  },
  "language_info": {
   "codemirror_mode": {
    "name": "ipython",
    "version": 3
   },
   "file_extension": ".py",
   "mimetype": "text/x-python",
   "name": "python",
   "nbconvert_exporter": "python",
   "pygments_lexer": "ipython3",
   "version": "3.8.5"
  }
 },
 "nbformat": 4,
 "nbformat_minor": 4
}

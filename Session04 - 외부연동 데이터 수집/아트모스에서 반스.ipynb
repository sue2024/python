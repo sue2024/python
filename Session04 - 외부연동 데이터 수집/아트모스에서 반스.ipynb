{
 "cells": [
  {
   "cell_type": "markdown",
   "metadata": {},
   "source": [
    "## 아트모스에서 반스 이름과 가격을 긁어오자"
   ]
  },
  {
   "cell_type": "code",
   "execution_count": 7,
   "metadata": {},
   "outputs": [],
   "source": [
    "import pandas as pd\n",
    "\n",
    "from bs4 import BeautifulSoup # 태그 이쁘게 뜨기\n",
    "import requests # 웹페이지 접속 요청\n",
    "targetUrl = \"http://www.ssg.com/search.ssg?target=all&query=%EC%9E%85%EC%83%9D%EB%A1%9C%EB%9E%91\"\n",
    "\n",
    "resp = requests.get(url=targetUrl) ## response 200 = 정상"
   ]
  },
  {
   "cell_type": "code",
   "execution_count": 8,
   "metadata": {},
   "outputs": [
    {
     "data": {
      "text/plain": [
       "<Response [401]>"
      ]
     },
     "execution_count": 8,
     "metadata": {},
     "output_type": "execute_result"
    }
   ],
   "source": [
    "resp"
   ]
  },
  {
   "cell_type": "code",
   "execution_count": 9,
   "metadata": {},
   "outputs": [],
   "source": [
    "headers = {'User-Agent': 'Mozilla/5.0 (Macintosh; Intel Mac OS X 10.14; rv:71.0) Gecko/20100101 Firefox/71.0'}\n",
    "resp=requests.get(targetUrl,headers=headers) ## response 204 떳을때 요거 달아주구 resp로 넣어주면 오류 안뜬다. 해당 홈페이지에서 막아논거임 크롤링 못하게\n",
    "\n",
    "resp.encoding = \"utf-8\" ## 인코딩\n",
    "html = resp.text\n",
    "htmlObj = BeautifulSoup(html, \"html.parser\") ## beautifulSoup 사용\n",
    "\n",
    "##targetParent = htmlObj.find(name=\"ul\")\n",
    "\n",
    "Totalpage = htmlObj.find(name = \"div\", attrs = {\"class\":\"item-wrap prd-parts\"})"
   ]
  },
  {
   "cell_type": "code",
   "execution_count": 10,
   "metadata": {},
   "outputs": [
    {
     "data": {
      "text/plain": [
       "<Response [200]>"
      ]
     },
     "execution_count": 10,
     "metadata": {},
     "output_type": "execute_result"
    }
   ],
   "source": [
    "resp"
   ]
  },
  {
   "cell_type": "code",
   "execution_count": 11,
   "metadata": {},
   "outputs": [],
   "source": [
    "Totalpage"
   ]
  },
  {
   "cell_type": "code",
   "execution_count": 6,
   "metadata": {},
   "outputs": [
    {
     "ename": "AttributeError",
     "evalue": "'NoneType' object has no attribute 'findAll'",
     "output_type": "error",
     "traceback": [
      "\u001b[1;31m---------------------------------------------------------------------------\u001b[0m",
      "\u001b[1;31mAttributeError\u001b[0m                            Traceback (most recent call last)",
      "\u001b[1;32m<ipython-input-6-64f88c66808a>\u001b[0m in \u001b[0;36m<module>\u001b[1;34m\u001b[0m\n\u001b[0;32m      1\u001b[0m \u001b[1;31m### 가격부터 가져오자\u001b[0m\u001b[1;33m\u001b[0m\u001b[1;33m\u001b[0m\u001b[1;33m\u001b[0m\u001b[0m\n\u001b[0;32m      2\u001b[0m \u001b[1;33m\u001b[0m\u001b[0m\n\u001b[1;32m----> 3\u001b[1;33m \u001b[0mAllprice\u001b[0m \u001b[1;33m=\u001b[0m \u001b[0mTotalpage\u001b[0m\u001b[1;33m.\u001b[0m\u001b[0mfindAll\u001b[0m\u001b[1;33m(\u001b[0m\u001b[0mname\u001b[0m \u001b[1;33m=\u001b[0m \u001b[1;34m\"span\"\u001b[0m\u001b[1;33m,\u001b[0m \u001b[0mattrs\u001b[0m \u001b[1;33m=\u001b[0m \u001b[1;33m{\u001b[0m\u001b[1;34m\"class\"\u001b[0m\u001b[1;33m:\u001b[0m\u001b[1;34m\"price\"\u001b[0m\u001b[1;33m}\u001b[0m\u001b[1;33m)\u001b[0m\u001b[1;33m\u001b[0m\u001b[1;33m\u001b[0m\u001b[0m\n\u001b[0m\u001b[0;32m      4\u001b[0m \u001b[1;33m\u001b[0m\u001b[0m\n\u001b[0;32m      5\u001b[0m \u001b[0meachPrice\u001b[0m \u001b[1;33m=\u001b[0m \u001b[0mAllprice\u001b[0m\u001b[1;33m[\u001b[0m\u001b[1;36m0\u001b[0m\u001b[1;33m]\u001b[0m\u001b[1;33m\u001b[0m\u001b[1;33m\u001b[0m\u001b[0m\n",
      "\u001b[1;31mAttributeError\u001b[0m: 'NoneType' object has no attribute 'findAll'"
     ]
    }
   ],
   "source": [
    "### 가격부터 가져오자\n",
    "\n",
    "Allprice = Totalpage.findAll(name = \"span\", attrs = {\"class\":\"price\"})\n",
    "\n",
    "eachPrice = Allprice[0]\n",
    "\n",
    "Price = eachPrice.text\n",
    "Price\n",
    "\n",
    "refinedPrice = Price.replace(\"�\",\"\")\n",
    "\n",
    "refinedPrice\n",
    "\n",
    "## 이름을 가져오자\n",
    "\n",
    "Allname = Totalpage.findAll(name = \"li\", attrs = {\"class\":\"prd-name\"})\n",
    "\n",
    "Name = Allname[0]\n",
    "\n",
    "eachName = Name.text\n",
    "\n",
    "eachName\n",
    "\n",
    "### 브랜드를 가져오자\n",
    "\n",
    "Allbrand = Totalpage.findAll(name = \"li\", attrs = {\"class\":\"list-brand-name\"})\n",
    "\n",
    "Brand = Allbrand[0]\n",
    "\n",
    "eachBrandName = Brand.text\n",
    "\n",
    "eachBrandName"
   ]
  },
  {
   "cell_type": "markdown",
   "metadata": {},
   "source": [
    "## 합쳐보자"
   ]
  },
  {
   "cell_type": "code",
   "execution_count": 54,
   "metadata": {},
   "outputs": [
    {
     "data": {
      "text/plain": [
       "16"
      ]
     },
     "execution_count": 54,
     "metadata": {},
     "output_type": "execute_result"
    }
   ],
   "source": [
    "len(Allname)"
   ]
  },
  {
   "cell_type": "code",
   "execution_count": 52,
   "metadata": {},
   "outputs": [],
   "source": [
    "rowList = []\n",
    "columnList = []"
   ]
  },
  {
   "cell_type": "code",
   "execution_count": null,
   "metadata": {},
   "outputs": [],
   "source": []
  },
  {
   "cell_type": "code",
   "execution_count": 12,
   "metadata": {},
   "outputs": [
    {
     "ename": "NameError",
     "evalue": "name 'Allname' is not defined",
     "output_type": "error",
     "traceback": [
      "\u001b[1;31m---------------------------------------------------------------------------\u001b[0m",
      "\u001b[1;31mNameError\u001b[0m                                 Traceback (most recent call last)",
      "\u001b[1;32m<ipython-input-12-970d466a761d>\u001b[0m in \u001b[0;36m<module>\u001b[1;34m\u001b[0m\n\u001b[0;32m      1\u001b[0m \u001b[1;31m### 가격부터 가져오자\u001b[0m\u001b[1;33m\u001b[0m\u001b[1;33m\u001b[0m\u001b[1;33m\u001b[0m\u001b[0m\n\u001b[1;32m----> 2\u001b[1;33m \u001b[1;32mfor\u001b[0m \u001b[0mi\u001b[0m \u001b[1;32min\u001b[0m \u001b[0mrange\u001b[0m\u001b[1;33m(\u001b[0m\u001b[1;36m0\u001b[0m\u001b[1;33m,\u001b[0m \u001b[0mlen\u001b[0m\u001b[1;33m(\u001b[0m\u001b[0mAllname\u001b[0m\u001b[1;33m)\u001b[0m\u001b[1;33m)\u001b[0m\u001b[1;33m:\u001b[0m\u001b[1;33m\u001b[0m\u001b[1;33m\u001b[0m\u001b[0m\n\u001b[0m\u001b[0;32m      3\u001b[0m \u001b[1;33m\u001b[0m\u001b[0m\n\u001b[0;32m      4\u001b[0m     \u001b[0mAllprice\u001b[0m \u001b[1;33m=\u001b[0m \u001b[0mTotalpage\u001b[0m\u001b[1;33m.\u001b[0m\u001b[0mfindAll\u001b[0m\u001b[1;33m(\u001b[0m\u001b[0mname\u001b[0m \u001b[1;33m=\u001b[0m \u001b[1;34m\"span\"\u001b[0m\u001b[1;33m,\u001b[0m \u001b[0mattrs\u001b[0m \u001b[1;33m=\u001b[0m \u001b[1;33m{\u001b[0m\u001b[1;34m\"class\"\u001b[0m\u001b[1;33m:\u001b[0m\u001b[1;34m\"price\"\u001b[0m\u001b[1;33m}\u001b[0m\u001b[1;33m)\u001b[0m\u001b[1;33m\u001b[0m\u001b[1;33m\u001b[0m\u001b[0m\n\u001b[0;32m      5\u001b[0m \u001b[1;33m\u001b[0m\u001b[0m\n",
      "\u001b[1;31mNameError\u001b[0m: name 'Allname' is not defined"
     ]
    }
   ],
   "source": [
    "### 가격부터 가져오자\n",
    "for i in range(0, len(Allname)):\n",
    "\n",
    "    Allprice = Totalpage.findAll(name = \"span\", attrs = {\"class\":\"price\"})\n",
    "\n",
    "    eachPrice = Allprice[i]\n",
    "\n",
    "    Price = eachPrice.text\n",
    "\n",
    "\n",
    "    refinedPrice = Price.replace(\"�\",\"\")\n",
    "\n",
    "\n",
    "\n",
    "    ## 이름을 가져오자\n",
    "\n",
    "    Allname = Totalpage.findAll(name = \"li\", attrs = {\"class\":\"prd-name\"})\n",
    "\n",
    "    Name = Allname[i]\n",
    "\n",
    "    eachName = Name.text\n",
    "\n",
    "\n",
    "    ### 브랜드를 가져오자\n",
    "\n",
    "    Allbrand = Totalpage.findAll(name = \"li\", attrs = {\"class\":\"list-brand-name\"})\n",
    "\n",
    "    Brand = Allbrand[i]\n",
    "\n",
    "    eachBrandName = Brand.text\n",
    "    \n",
    "    columnList.append(refinedPrice)\n",
    "    columnList.append(eachName)\n",
    "    columnList.append(eachBrandName)\n",
    "    rowList.append(columnList)\n",
    "    columnList = []\n",
    "    \n",
    "\n"
   ]
  },
  {
   "cell_type": "code",
   "execution_count": 59,
   "metadata": {},
   "outputs": [],
   "source": [
    "reuslt = pd.DataFrame(rowList)"
   ]
  },
  {
   "cell_type": "code",
   "execution_count": 58,
   "metadata": {},
   "outputs": [],
   "source": [
    "columnNameList = [\"가격\", \"상품명\", \"브랜드\"]"
   ]
  },
  {
   "cell_type": "code",
   "execution_count": 60,
   "metadata": {},
   "outputs": [],
   "source": [
    "reuslt.columns = columnNameList"
   ]
  },
  {
   "cell_type": "code",
   "execution_count": 62,
   "metadata": {},
   "outputs": [
    {
     "data": {
      "text/html": [
       "<div>\n",
       "<style scoped>\n",
       "    .dataframe tbody tr th:only-of-type {\n",
       "        vertical-align: middle;\n",
       "    }\n",
       "\n",
       "    .dataframe tbody tr th {\n",
       "        vertical-align: top;\n",
       "    }\n",
       "\n",
       "    .dataframe thead th {\n",
       "        text-align: right;\n",
       "    }\n",
       "</style>\n",
       "<table border=\"1\" class=\"dataframe\">\n",
       "  <thead>\n",
       "    <tr style=\"text-align: right;\">\n",
       "      <th></th>\n",
       "      <th>가격</th>\n",
       "      <th>상품명</th>\n",
       "      <th>브랜드</th>\n",
       "    </tr>\n",
       "  </thead>\n",
       "  <tbody>\n",
       "    <tr>\n",
       "      <th>0</th>\n",
       "      <td>89,000</td>\n",
       "      <td>AUTHENTIC 44 DX(ANAHEIM FACTORY) OG WHITE/SCEN...</td>\n",
       "      <td>VANS</td>\n",
       "    </tr>\n",
       "    <tr>\n",
       "      <th>1</th>\n",
       "      <td>89,000</td>\n",
       "      <td>AUTHENTIC 44 DX(ANAHEIM FACTORY) OG YELLOW/SCE...</td>\n",
       "      <td>VANS</td>\n",
       "    </tr>\n",
       "    <tr>\n",
       "      <th>2</th>\n",
       "      <td>89,000</td>\n",
       "      <td>AUTHENTIC 44 DX(ANAHEIM FACTORY) OG EMERALD/SC...</td>\n",
       "      <td>VANS</td>\n",
       "    </tr>\n",
       "    <tr>\n",
       "      <th>3</th>\n",
       "      <td>89,000</td>\n",
       "      <td>COMFYCUSH SLIP-ON SM(PENN) YELLOW/ORANGE</td>\n",
       "      <td>VANS</td>\n",
       "    </tr>\n",
       "    <tr>\n",
       "      <th>4</th>\n",
       "      <td>119,000</td>\n",
       "      <td>LOWLAND CC(PENN) BLANC DE BLANC/NAVY</td>\n",
       "      <td>VANS</td>\n",
       "    </tr>\n",
       "    <tr>\n",
       "      <th>5</th>\n",
       "      <td>59,000</td>\n",
       "      <td>AUTHENTIC</td>\n",
       "      <td>VANS</td>\n",
       "    </tr>\n",
       "    <tr>\n",
       "      <th>6</th>\n",
       "      <td>59,000</td>\n",
       "      <td>AUTHENTIC</td>\n",
       "      <td>VANS</td>\n",
       "    </tr>\n",
       "    <tr>\n",
       "      <th>7</th>\n",
       "      <td>79,000</td>\n",
       "      <td>SK8-HI</td>\n",
       "      <td>VANS</td>\n",
       "    </tr>\n",
       "    <tr>\n",
       "      <th>8</th>\n",
       "      <td>69,000</td>\n",
       "      <td>ANAHEIM ARCHIVE BLACK</td>\n",
       "      <td>VANS</td>\n",
       "    </tr>\n",
       "    <tr>\n",
       "      <th>9</th>\n",
       "      <td>89,000</td>\n",
       "      <td>ERA 95 DX (ANAHEIM FACTORY) OG BLACK/OG HOTLIPS</td>\n",
       "      <td>VANS</td>\n",
       "    </tr>\n",
       "    <tr>\n",
       "      <th>10</th>\n",
       "      <td>99,000</td>\n",
       "      <td>OLD SKOOL 36 DX (ANAHEIM FACTORY) OG RED/OG HO...</td>\n",
       "      <td>VANS</td>\n",
       "    </tr>\n",
       "    <tr>\n",
       "      <th>11</th>\n",
       "      <td>105,000</td>\n",
       "      <td>SK8-HI 38 DX (ANAHEIM FACTORY) OG BLACK/OG HOT...</td>\n",
       "      <td>VANS</td>\n",
       "    </tr>\n",
       "    <tr>\n",
       "      <th>12</th>\n",
       "      <td>85,000</td>\n",
       "      <td>CLASSIC SLIP-ON 98 DX ANAHEIM FACTORY CHECKERB...</td>\n",
       "      <td>VANS</td>\n",
       "    </tr>\n",
       "    <tr>\n",
       "      <th>13</th>\n",
       "      <td>62,300</td>\n",
       "      <td>CLASSIC SLIP-ON 98 DX ANAHEIM FACTORY OG BLACK...</td>\n",
       "      <td>VANS</td>\n",
       "    </tr>\n",
       "    <tr>\n",
       "      <th>14</th>\n",
       "      <td>95,000</td>\n",
       "      <td>STYLE 73 DX ANAHEIM FACTORY OG</td>\n",
       "      <td>VANS</td>\n",
       "    </tr>\n",
       "    <tr>\n",
       "      <th>15</th>\n",
       "      <td>95,000</td>\n",
       "      <td>STYLE 73 DX ANAHEIM FACTORY OG</td>\n",
       "      <td>VANS</td>\n",
       "    </tr>\n",
       "  </tbody>\n",
       "</table>\n",
       "</div>"
      ],
      "text/plain": [
       "         가격                                                상품명   브랜드\n",
       "0    89,000  AUTHENTIC 44 DX(ANAHEIM FACTORY) OG WHITE/SCEN...  VANS\n",
       "1    89,000  AUTHENTIC 44 DX(ANAHEIM FACTORY) OG YELLOW/SCE...  VANS\n",
       "2    89,000  AUTHENTIC 44 DX(ANAHEIM FACTORY) OG EMERALD/SC...  VANS\n",
       "3    89,000           COMFYCUSH SLIP-ON SM(PENN) YELLOW/ORANGE  VANS\n",
       "4   119,000               LOWLAND CC(PENN) BLANC DE BLANC/NAVY  VANS\n",
       "5    59,000                                          AUTHENTIC  VANS\n",
       "6    59,000                                          AUTHENTIC  VANS\n",
       "7    79,000                                             SK8-HI  VANS\n",
       "8    69,000                              ANAHEIM ARCHIVE BLACK  VANS\n",
       "9    89,000    ERA 95 DX (ANAHEIM FACTORY) OG BLACK/OG HOTLIPS  VANS\n",
       "10   99,000  OLD SKOOL 36 DX (ANAHEIM FACTORY) OG RED/OG HO...  VANS\n",
       "11  105,000  SK8-HI 38 DX (ANAHEIM FACTORY) OG BLACK/OG HOT...  VANS\n",
       "12   85,000  CLASSIC SLIP-ON 98 DX ANAHEIM FACTORY CHECKERB...  VANS\n",
       "13   62,300  CLASSIC SLIP-ON 98 DX ANAHEIM FACTORY OG BLACK...  VANS\n",
       "14   95,000                     STYLE 73 DX ANAHEIM FACTORY OG  VANS\n",
       "15   95,000                     STYLE 73 DX ANAHEIM FACTORY OG  VANS"
      ]
     },
     "execution_count": 62,
     "metadata": {},
     "output_type": "execute_result"
    }
   ],
   "source": [
    "reuslt"
   ]
  },
  {
   "cell_type": "code",
   "execution_count": null,
   "metadata": {},
   "outputs": [],
   "source": []
  }
 ],
 "metadata": {
  "kernelspec": {
   "display_name": "Python 3",
   "language": "python",
   "name": "python3"
  },
  "language_info": {
   "codemirror_mode": {
    "name": "ipython",
    "version": 3
   },
   "file_extension": ".py",
   "mimetype": "text/x-python",
   "name": "python",
   "nbconvert_exporter": "python",
   "pygments_lexer": "ipython3",
   "version": "3.8.5"
  }
 },
 "nbformat": 4,
 "nbformat_minor": 4
}

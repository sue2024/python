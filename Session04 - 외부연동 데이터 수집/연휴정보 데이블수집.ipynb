{
 "cells": [
  {
   "cell_type": "code",
   "execution_count": 1,
   "metadata": {},
   "outputs": [],
   "source": [
    "from bs4 import BeautifulSoup # 태그 이쁘게 뜨기\n",
    "import requests # 웹페이지 접속 요청\n",
    "targetUrl = \"https://www.timeanddate.com/holidays/south-korea/\"\n",
    "\n",
    "resp = requests.get(url=targetUrl) ## response 200 = 정상\n",
    "resp.encoding = \"utf-8\" ## 인코딩\n",
    "html = resp.text\n",
    "htmlObj = BeautifulSoup(html, \"html.parser\") ## beautifulSoup 사용"
   ]
  },
  {
   "cell_type": "code",
   "execution_count": 199,
   "metadata": {},
   "outputs": [],
   "source": [
    "# 전체페이즈를 긁어오자"
   ]
  },
  {
   "cell_type": "code",
   "execution_count": null,
   "metadata": {},
   "outputs": [],
   "source": []
  },
  {
   "cell_type": "code",
   "execution_count": 200,
   "metadata": {},
   "outputs": [],
   "source": [
    "tableTag = htmlObj.find(name=\"tbody\")"
   ]
  },
  {
   "cell_type": "code",
   "execution_count": 201,
   "metadata": {},
   "outputs": [],
   "source": [
    "Alltrs = tableTag.findAll(name = \"tr\")"
   ]
  },
  {
   "cell_type": "code",
   "execution_count": null,
   "metadata": {},
   "outputs": [],
   "source": [
    "# 필요한거 날짜 요일 설날 public holiday    cf. name = 태그값 즉, 태그를 찾아야함!"
   ]
  },
  {
   "cell_type": "code",
   "execution_count": null,
   "metadata": {},
   "outputs": [],
   "source": []
  },
  {
   "cell_type": "code",
   "execution_count": null,
   "metadata": {},
   "outputs": [],
   "source": []
  },
  {
   "cell_type": "code",
   "execution_count": null,
   "metadata": {},
   "outputs": [],
   "source": []
  },
  {
   "cell_type": "code",
   "execution_count": null,
   "metadata": {},
   "outputs": [],
   "source": []
  },
  {
   "cell_type": "code",
   "execution_count": null,
   "metadata": {},
   "outputs": [],
   "source": []
  },
  {
   "cell_type": "code",
   "execution_count": 144,
   "metadata": {},
   "outputs": [],
   "source": [
    "columnList = []\n",
    "rowList = []"
   ]
  },
  {
   "cell_type": "code",
   "execution_count": 164,
   "metadata": {},
   "outputs": [],
   "source": [
    "i=1"
   ]
  },
  {
   "cell_type": "code",
   "execution_count": 165,
   "metadata": {},
   "outputs": [],
   "source": [
    "AllDate = tableTag.findAll(name = \"th\", attrs = {\"class\":\"nw\"})\n",
    "\n",
    "\n",
    "EachDate = AllDate[i].text\n",
    "\n",
    "\n",
    "# 요일을 긁어오자\n",
    "\n",
    "AllDay = tableTag.findAll(name = \"td\", attrs = {\"class\":\"nw\"})\n",
    "\n",
    "\n",
    "EachDay = AllDay[i].text"
   ]
  },
  {
   "cell_type": "code",
   "execution_count": 166,
   "metadata": {},
   "outputs": [
    {
     "data": {
      "text/plain": [
       "'2월 11일'"
      ]
     },
     "execution_count": 166,
     "metadata": {},
     "output_type": "execute_result"
    }
   ],
   "source": [
    "EachDate"
   ]
  },
  {
   "cell_type": "code",
   "execution_count": 167,
   "metadata": {},
   "outputs": [],
   "source": [
    "EachDate =[]\n",
    "EachDay =[]"
   ]
  },
  {
   "cell_type": "code",
   "execution_count": 100,
   "metadata": {},
   "outputs": [],
   "source": [
    "for i in range(0,len(Alltrs))\n",
    "    # Date를 긁어오자"
   ]
  },
  {
   "cell_type": "code",
   "execution_count": 100,
   "metadata": {},
   "outputs": [],
   "source": [
    "AllDate = tableTag.findAll(name = \"th\", attrs = {\"class\":\"nw\"})"
   ]
  },
  {
   "cell_type": "code",
   "execution_count": 100,
   "metadata": {},
   "outputs": [],
   "source": [
    "# 요일을 긁어오자"
   ]
  },
  {
   "cell_type": "code",
   "execution_count": 100,
   "metadata": {},
   "outputs": [],
   "source": [
    "AllDay = tableTag.findAll(name = \"td\", attrs = {\"class\":\"nw\"})"
   ]
  },
  {
   "cell_type": "code",
   "execution_count": 100,
   "metadata": {},
   "outputs": [],
   "source": [
    "EachDay = AllDay[i].text"
   ]
  },
  {
   "cell_type": "code",
   "execution_count": 100,
   "metadata": {},
   "outputs": [],
   "source": [
    "# 공휴일 이름을 긁어오자"
   ]
  },
  {
   "cell_type": "code",
   "execution_count": 109,
   "metadata": {},
   "outputs": [],
   "source": [
    "AllName = tableTag.findAll(name = \"a\")"
   ]
  },
  {
   "cell_type": "code",
   "execution_count": 111,
   "metadata": {},
   "outputs": [
    {
     "data": {
      "text/plain": [
       "\"New Year's Day\""
      ]
     },
     "execution_count": 111,
     "metadata": {},
     "output_type": "execute_result"
    }
   ],
   "source": [
    "EachName = AllName[0].text\n",
    "EachName"
   ]
  },
  {
   "cell_type": "code",
   "execution_count": 100,
   "metadata": {},
   "outputs": [],
   "source": [
    "# 연휴타입을 긁어오자   # name : 태그를 찾는것"
   ]
  },
  {
   "cell_type": "code",
   "execution_count": 182,
   "metadata": {},
   "outputs": [],
   "source": [
    "AllType = tableTag.findAll(name = \"td\")"
   ]
  },
  {
   "cell_type": "code",
   "execution_count": 112,
   "metadata": {
    "collapsed": true,
    "jupyter": {
     "outputs_hidden": true
    }
   },
   "outputs": [
    {
     "data": {
      "text/plain": [
       "[<td class=\"nw\">금요일</td>,\n",
       " <td><a href=\"/holidays/south-korea/new-year-day\">New Year's Day</a></td>,\n",
       " <td>Public Holiday</td>,\n",
       " <td class=\"nw\">목요일</td>,\n",
       " <td><a href=\"/holidays/south-korea/seollal-holiday-1\">Seollal Holiday</a></td>,\n",
       " <td>Public Holiday</td>,\n",
       " <td class=\"nw\">금요일</td>,\n",
       " <td><a href=\"/holidays/south-korea/seollal-holiday-2\">Seollal</a></td>,\n",
       " <td>Public Holiday</td>,\n",
       " <td class=\"nw\">토요일</td>,\n",
       " <td><a href=\"/holidays/south-korea/seollal-holiday-3\">Seollal Holiday</a></td>,\n",
       " <td>Public Holiday</td>,\n",
       " <td class=\"nw\">일요일</td>,\n",
       " <td><a href=\"/holidays/south-korea/valentines-day\">Valentine's Day</a></td>,\n",
       " <td>Observance</td>,\n",
       " <td class=\"nw\">월요일</td>,\n",
       " <td><a href=\"/holidays/south-korea/independence-movement-day\">Independence Movement Day</a></td>,\n",
       " <td>National holiday</td>,\n",
       " <td class=\"nw\">토요일</td>,\n",
       " <td><a href=\"/calendar/march-equinox.html\">March Equinox</a></td>,\n",
       " <td>Season</td>,\n",
       " <td class=\"nw\">월요일</td>,\n",
       " <td><a href=\"/holidays/south-korea/arbor-day\">Arbor Day</a></td>,\n",
       " <td>Observance</td>,\n",
       " <td class=\"nw\">토요일</td>,\n",
       " <td><a href=\"/holidays/south-korea/labor-day\">Labor Day</a></td>,\n",
       " <td>Bank Holiday</td>,\n",
       " <td class=\"nw\">수요일</td>,\n",
       " <td><a href=\"/holidays/south-korea/childrens-day\">Children's Day</a></td>,\n",
       " <td>Public Holiday</td>,\n",
       " <td class=\"nw\">토요일</td>,\n",
       " <td><a href=\"/holidays/south-korea/parents-day\">Parents' Day</a></td>,\n",
       " <td>Observance</td>,\n",
       " <td class=\"nw\">토요일</td>,\n",
       " <td><a href=\"/holidays/south-korea/teachers-day\">Teacher's Day</a></td>,\n",
       " <td>Observance</td>,\n",
       " <td class=\"nw\">수요일</td>,\n",
       " <td><a href=\"/holidays/south-korea/buddha-birthday\">Buddha's Birthday</a></td>,\n",
       " <td>Public Holiday</td>,\n",
       " <td class=\"nw\">일요일</td>,\n",
       " <td><a href=\"/holidays/south-korea/memorial-day\">Memorial Day</a></td>,\n",
       " <td>Public Holiday</td>,\n",
       " <td class=\"nw\">월요일</td>,\n",
       " <td><a href=\"/calendar/june-solstice.html\">June Solstice</a></td>,\n",
       " <td>Season</td>,\n",
       " <td class=\"nw\">토요일</td>,\n",
       " <td><a href=\"/holidays/south-korea/constitution-day\">Constitution Day</a></td>,\n",
       " <td>Observance</td>,\n",
       " <td class=\"nw\">일요일</td>,\n",
       " <td><a href=\"/holidays/south-korea/liberation-day\">Liberation Day</a></td>,\n",
       " <td>National holiday</td>,\n",
       " <td class=\"nw\">월요일</td>,\n",
       " <td><a href=\"/holidays/south-korea/mid-autumn-festival-day-1\">Chuseok Holiday</a></td>,\n",
       " <td>Public Holiday</td>,\n",
       " <td class=\"nw\">화요일</td>,\n",
       " <td><a href=\"/holidays/south-korea/mid-autumn-festival-day-2\">Chuseok</a></td>,\n",
       " <td>Public Holiday</td>,\n",
       " <td class=\"nw\">수요일</td>,\n",
       " <td><a href=\"/holidays/south-korea/mid-autumn-festival-day-3\">Chuseok Holiday</a></td>,\n",
       " <td>Public Holiday</td>,\n",
       " <td class=\"nw\">목요일</td>,\n",
       " <td><a href=\"/calendar/september-equinox.html\">September Equinox</a></td>,\n",
       " <td>Season</td>,\n",
       " <td class=\"nw\">금요일</td>,\n",
       " <td><a href=\"/holidays/south-korea/armed-forces-day\">Armed Forces Day</a></td>,\n",
       " <td>Observance</td>,\n",
       " <td class=\"nw\">일요일</td>,\n",
       " <td><a href=\"/holidays/south-korea/national-foundation-day\">National Foundation Day</a></td>,\n",
       " <td>National holiday</td>,\n",
       " <td class=\"nw\">토요일</td>,\n",
       " <td><a href=\"/holidays/south-korea/hangeul-day\">Hangeul Proclamation Day</a></td>,\n",
       " <td>National holiday</td>,\n",
       " <td class=\"nw\">일요일</td>,\n",
       " <td><a href=\"/holidays/south-korea/halloween\">Halloween</a></td>,\n",
       " <td>Observance</td>,\n",
       " <td class=\"nw\">수요일</td>,\n",
       " <td><a href=\"/calendar/december-solstice.html\">December Solstice</a></td>,\n",
       " <td>Season</td>,\n",
       " <td class=\"nw\">금요일</td>,\n",
       " <td><a href=\"/holidays/south-korea/christmas-eve\">Christmas Eve</a></td>,\n",
       " <td>Observance</td>,\n",
       " <td class=\"nw\">토요일</td>,\n",
       " <td><a href=\"/holidays/south-korea/christmas-day\">Christmas Day</a></td>,\n",
       " <td>Public Holiday</td>,\n",
       " <td class=\"nw\">금요일</td>,\n",
       " <td><a href=\"/holidays/south-korea/new-year-eve\">New Year's Eve</a></td>,\n",
       " <td>Observance</td>]"
      ]
     },
     "execution_count": 112,
     "metadata": {},
     "output_type": "execute_result"
    }
   ],
   "source": [
    "AllType"
   ]
  },
  {
   "cell_type": "code",
   "execution_count": null,
   "metadata": {},
   "outputs": [],
   "source": []
  },
  {
   "cell_type": "code",
   "execution_count": null,
   "metadata": {},
   "outputs": [],
   "source": []
  },
  {
   "cell_type": "code",
   "execution_count": null,
   "metadata": {},
   "outputs": [],
   "source": []
  },
  {
   "cell_type": "code",
   "execution_count": 100,
   "metadata": {},
   "outputs": [],
   "source": [
    "EachType = AllType[i+3].text"
   ]
  },
  {
   "cell_type": "code",
   "execution_count": 114,
   "metadata": {
    "jupyter": {
     "source_hidden": true
    }
   },
   "outputs": [],
   "source": [
    "# AllType[0].text\n",
    "\n",
    "# AllType[1].text\n",
    "\n",
    "# AllType[2].text\n",
    "\n",
    "# AllType[3].text\n",
    "\n",
    "# AllType[4].text\n",
    "\n",
    "# AllType[5].text\n",
    "\n",
    "# AllType[6].text\n",
    "\n",
    "# AllType[7].text\n",
    "\n",
    "# AllType[8].text\n",
    "\n",
    "# AllType[9].text\n",
    "\n",
    "# AllType[10].text"
   ]
  },
  {
   "cell_type": "code",
   "execution_count": null,
   "metadata": {},
   "outputs": [],
   "source": []
  },
  {
   "cell_type": "code",
   "execution_count": 85,
   "metadata": {},
   "outputs": [],
   "source": []
  },
  {
   "cell_type": "code",
   "execution_count": null,
   "metadata": {},
   "outputs": [],
   "source": []
  },
  {
   "cell_type": "code",
   "execution_count": null,
   "metadata": {},
   "outputs": [],
   "source": []
  },
  {
   "cell_type": "code",
   "execution_count": 128,
   "metadata": {},
   "outputs": [
    {
     "data": {
      "text/plain": [
       "41"
      ]
     },
     "execution_count": 128,
     "metadata": {},
     "output_type": "execute_result"
    }
   ],
   "source": [
    "len(Alltrs)"
   ]
  },
  {
   "cell_type": "code",
   "execution_count": 129,
   "metadata": {},
   "outputs": [
    {
     "data": {
      "text/plain": [
       "41"
      ]
     },
     "execution_count": 129,
     "metadata": {},
     "output_type": "execute_result"
    }
   ],
   "source": [
    "len(tableTag)"
   ]
  },
  {
   "cell_type": "code",
   "execution_count": 168,
   "metadata": {},
   "outputs": [],
   "source": [
    "columnList = []\n",
    "rowList = []"
   ]
  },
  {
   "cell_type": "code",
   "execution_count": 171,
   "metadata": {},
   "outputs": [],
   "source": [
    "i=29"
   ]
  },
  {
   "cell_type": "code",
   "execution_count": 179,
   "metadata": {},
   "outputs": [],
   "source": [
    "# print(i)\n",
    "# Date를 긁어오자\n",
    "AllDate = tableTag.findAll(name = \"th\", attrs = {\"class\":\"nw\"})"
   ]
  },
  {
   "cell_type": "code",
   "execution_count": 180,
   "metadata": {},
   "outputs": [
    {
     "data": {
      "text/plain": [
       "29"
      ]
     },
     "execution_count": 180,
     "metadata": {},
     "output_type": "execute_result"
    }
   ],
   "source": [
    "len(AllDate)"
   ]
  },
  {
   "cell_type": "code",
   "execution_count": 173,
   "metadata": {},
   "outputs": [
    {
     "ename": "IndexError",
     "evalue": "list index out of range",
     "output_type": "error",
     "traceback": [
      "\u001b[1;31m---------------------------------------------------------------------------\u001b[0m",
      "\u001b[1;31mIndexError\u001b[0m                                Traceback (most recent call last)",
      "\u001b[1;32m<ipython-input-173-beec6cfe666e>\u001b[0m in \u001b[0;36m<module>\u001b[1;34m\u001b[0m\n\u001b[0;32m      3\u001b[0m \u001b[0mAllDate\u001b[0m \u001b[1;33m=\u001b[0m \u001b[0mtableTag\u001b[0m\u001b[1;33m.\u001b[0m\u001b[0mfindAll\u001b[0m\u001b[1;33m(\u001b[0m\u001b[0mname\u001b[0m \u001b[1;33m=\u001b[0m \u001b[1;34m\"th\"\u001b[0m\u001b[1;33m,\u001b[0m \u001b[0mattrs\u001b[0m \u001b[1;33m=\u001b[0m \u001b[1;33m{\u001b[0m\u001b[1;34m\"class\"\u001b[0m\u001b[1;33m:\u001b[0m\u001b[1;34m\"nw\"\u001b[0m\u001b[1;33m}\u001b[0m\u001b[1;33m)\u001b[0m\u001b[1;33m\u001b[0m\u001b[1;33m\u001b[0m\u001b[0m\n\u001b[0;32m      4\u001b[0m \u001b[1;33m\u001b[0m\u001b[0m\n\u001b[1;32m----> 5\u001b[1;33m \u001b[0mAllDate\u001b[0m\u001b[1;33m[\u001b[0m\u001b[0mi\u001b[0m\u001b[1;33m]\u001b[0m\u001b[1;33m.\u001b[0m\u001b[0mtext\u001b[0m\u001b[1;33m\u001b[0m\u001b[1;33m\u001b[0m\u001b[0m\n\u001b[0m\u001b[0;32m      6\u001b[0m \u001b[1;33m\u001b[0m\u001b[0m\n\u001b[0;32m      7\u001b[0m \u001b[1;31m# 요일을 긁어오자\u001b[0m\u001b[1;33m\u001b[0m\u001b[1;33m\u001b[0m\u001b[1;33m\u001b[0m\u001b[0m\n",
      "\u001b[1;31mIndexError\u001b[0m: list index out of range"
     ]
    }
   ],
   "source": [
    "# 요일을 긁어오자\n",
    "AllDay = tableTag.findAll(name = \"td\", attrs = {\"class\":\"nw\"})\n",
    "\n",
    "AllDay[i].text\n",
    "\n",
    "# 공휴일 이름을 긁어오자\n",
    "AllName = tableTag.findAll(name = \"a\")\n",
    "\n",
    "AllName[i].text\n",
    "\n",
    "# 연휴타입을 긁어오자   # name : 태그를 찾는것\n",
    "AllType = tableTag.findAll(name = \"td\")\n",
    "\n",
    "AllType[3].text"
   ]
  },
  {
   "cell_type": "code",
   "execution_count": null,
   "metadata": {},
   "outputs": [],
   "source": []
  },
  {
   "cell_type": "code",
   "execution_count": 181,
   "metadata": {
    "collapsed": true,
    "jupyter": {
     "outputs_hidden": true
    }
   },
   "outputs": [
    {
     "data": {
      "text/plain": [
       "<tbody><tr id=\"hol_jan\"></tr><tr data-date=\"1609459200000\" data-mask=\"1\" id=\"tr1\"><th class=\"nw\">1월 1일</th><td class=\"nw\">금요일</td><td><a href=\"/holidays/south-korea/new-year-day\">New Year's Day</a></td><td>Public Holiday</td></tr><tr id=\"hol_feb\"></tr><tr data-date=\"1613001600000\" data-mask=\"1\" id=\"tr3\"><th class=\"nw\">2월 11일</th><td class=\"nw\">목요일</td><td><a href=\"/holidays/south-korea/seollal-holiday-1\">Seollal Holiday</a></td><td>Public Holiday</td></tr><tr data-date=\"1613088000000\" data-mask=\"1\" id=\"tr4\"><th class=\"nw\">2월 12일</th><td class=\"nw\">금요일</td><td><a href=\"/holidays/south-korea/seollal-holiday-2\">Seollal</a></td><td>Public Holiday</td></tr><tr data-date=\"1613174400000\" data-mask=\"1\" id=\"tr5\"><th class=\"nw\">2월 13일</th><td class=\"nw\">토요일</td><td><a href=\"/holidays/south-korea/seollal-holiday-3\">Seollal Holiday</a></td><td>Public Holiday</td></tr><tr data-date=\"1613260800000\" data-mask=\"32\" id=\"tr6\"><th class=\"nw\">2월 14일</th><td class=\"nw\">일요일</td><td><a href=\"/holidays/south-korea/valentines-day\">Valentine's Day</a></td><td>Observance</td></tr><tr id=\"hol_mar\"></tr><tr data-date=\"1614556800000\" data-mask=\"1\" id=\"tr8\"><th class=\"nw\">3월 1일</th><td class=\"nw\">월요일</td><td><a href=\"/holidays/south-korea/independence-movement-day\">Independence Movement Day</a></td><td>National holiday</td></tr><tr data-date=\"1616265451000\" data-mask=\"256\" id=\"tr9\"><th class=\"nw\">3월 20일</th><td class=\"nw\">토요일</td><td><a href=\"/calendar/march-equinox.html\">March Equinox</a></td><td>Season</td></tr><tr id=\"hol_apr\"></tr><tr data-date=\"1617580800000\" data-mask=\"16\" id=\"tr11\"><th class=\"nw\">4월 5일</th><td class=\"nw\">월요일</td><td><a href=\"/holidays/south-korea/arbor-day\">Arbor Day</a></td><td>Observance</td></tr><tr id=\"hol_may\"></tr><tr data-date=\"1619827200000\" data-mask=\"4194304\" id=\"tr13\"><th class=\"nw\">5월 1일</th><td class=\"nw\">토요일</td><td><a href=\"/holidays/south-korea/labor-day\">Labor Day</a></td><td>Bank Holiday</td></tr><tr data-date=\"1620172800000\" data-mask=\"1\" id=\"tr14\"><th class=\"nw\">5월 5일</th><td class=\"nw\">수요일</td><td><a href=\"/holidays/south-korea/childrens-day\">Children's Day</a></td><td>Public Holiday</td></tr><tr data-date=\"1620432000000\" data-mask=\"16\" id=\"tr15\"><th class=\"nw\">5월 8일</th><td class=\"nw\">토요일</td><td><a href=\"/holidays/south-korea/parents-day\">Parents' Day</a></td><td>Observance</td></tr><tr data-date=\"1621036800000\" data-mask=\"16\" id=\"tr16\"><th class=\"nw\">5월 15일</th><td class=\"nw\">토요일</td><td><a href=\"/holidays/south-korea/teachers-day\">Teacher's Day</a></td><td>Observance</td></tr><tr data-date=\"1621382400000\" data-mask=\"1\" id=\"tr17\"><th class=\"nw\">5월 19일</th><td class=\"nw\">수요일</td><td><a href=\"/holidays/south-korea/buddha-birthday\">Buddha's Birthday</a></td><td>Public Holiday</td></tr><tr id=\"hol_jun\"></tr><tr data-date=\"1622937600000\" data-mask=\"1\" id=\"tr19\"><th class=\"nw\">6월 6일</th><td class=\"nw\">일요일</td><td><a href=\"/holidays/south-korea/memorial-day\">Memorial Day</a></td><td>Public Holiday</td></tr><tr data-date=\"1624278729000\" data-mask=\"256\" id=\"tr20\"><th class=\"nw\">6월 21일</th><td class=\"nw\">월요일</td><td><a href=\"/calendar/june-solstice.html\">June Solstice</a></td><td>Season</td></tr><tr id=\"hol_jul\"></tr><tr data-date=\"1626480000000\" data-mask=\"16\" id=\"tr22\"><th class=\"nw\">7월 17일</th><td class=\"nw\">토요일</td><td><a href=\"/holidays/south-korea/constitution-day\">Constitution Day</a></td><td>Observance</td></tr><tr id=\"hol_aug\"></tr><tr data-date=\"1628985600000\" data-mask=\"1\" id=\"tr24\"><th class=\"nw\">8월 15일</th><td class=\"nw\">일요일</td><td><a href=\"/holidays/south-korea/liberation-day\">Liberation Day</a></td><td>National holiday</td></tr><tr id=\"hol_sep\"></tr><tr data-date=\"1632096000000\" data-mask=\"1\" id=\"tr26\"><th class=\"nw\">9월 20일</th><td class=\"nw\">월요일</td><td><a href=\"/holidays/south-korea/mid-autumn-festival-day-1\">Chuseok Holiday</a></td><td>Public Holiday</td></tr><tr data-date=\"1632182400000\" data-mask=\"1\" id=\"tr27\"><th class=\"nw\">9월 21일</th><td class=\"nw\">화요일</td><td><a href=\"/holidays/south-korea/mid-autumn-festival-day-2\">Chuseok</a></td><td>Public Holiday</td></tr><tr data-date=\"1632268800000\" data-mask=\"1\" id=\"tr28\"><th class=\"nw\">9월 22일</th><td class=\"nw\">수요일</td><td><a href=\"/holidays/south-korea/mid-autumn-festival-day-3\">Chuseok Holiday</a></td><td>Public Holiday</td></tr><tr data-date=\"1632370871000\" data-mask=\"256\" id=\"tr29\"><th class=\"nw\">9월 23일</th><td class=\"nw\">목요일</td><td><a href=\"/calendar/september-equinox.html\">September Equinox</a></td><td>Season</td></tr><tr id=\"hol_oct\"></tr><tr data-date=\"1633046400000\" data-mask=\"16\" id=\"tr31\"><th class=\"nw\">10월 1일</th><td class=\"nw\">금요일</td><td><a href=\"/holidays/south-korea/armed-forces-day\">Armed Forces Day</a></td><td>Observance</td></tr><tr data-date=\"1633219200000\" data-mask=\"1\" id=\"tr32\"><th class=\"nw\">10월 3일</th><td class=\"nw\">일요일</td><td><a href=\"/holidays/south-korea/national-foundation-day\">National Foundation Day</a></td><td>National holiday</td></tr><tr data-date=\"1633737600000\" data-mask=\"1\" id=\"tr33\"><th class=\"nw\">10월 9일</th><td class=\"nw\">토요일</td><td><a href=\"/holidays/south-korea/hangeul-day\">Hangeul Proclamation Day</a></td><td>National holiday</td></tr><tr data-date=\"1635638400000\" data-mask=\"32\" id=\"tr34\"><th class=\"nw\">10월 31일</th><td class=\"nw\">일요일</td><td><a href=\"/holidays/south-korea/halloween\">Halloween</a></td><td>Observance</td></tr><tr id=\"hol_nov\"></tr><tr id=\"hol_dec\"></tr><tr data-date=\"1640134758000\" data-mask=\"256\" id=\"tr37\"><th class=\"nw\">12월 22일</th><td class=\"nw\">수요일</td><td><a href=\"/calendar/december-solstice.html\">December Solstice</a></td><td>Season</td></tr><tr data-date=\"1640304000000\" data-mask=\"16\" id=\"tr38\"><th class=\"nw\">12월 24일</th><td class=\"nw\">금요일</td><td><a href=\"/holidays/south-korea/christmas-eve\">Christmas Eve</a></td><td>Observance</td></tr><tr data-date=\"1640390400000\" data-mask=\"1\" id=\"tr39\"><th class=\"nw\">12월 25일</th><td class=\"nw\">토요일</td><td><a href=\"/holidays/south-korea/christmas-day\">Christmas Day</a></td><td>Public Holiday</td></tr><tr data-date=\"1640908800000\" data-mask=\"16\" id=\"tr40\"><th class=\"nw\">12월 31일</th><td class=\"nw\">금요일</td><td><a href=\"/holidays/south-korea/new-year-eve\">New Year's Eve</a></td><td>Observance</td></tr></tbody>"
      ]
     },
     "execution_count": 181,
     "metadata": {},
     "output_type": "execute_result"
    }
   ],
   "source": [
    "tableTag"
   ]
  },
  {
   "cell_type": "code",
   "execution_count": 194,
   "metadata": {},
   "outputs": [],
   "source": [
    "i=2"
   ]
  },
  {
   "cell_type": "code",
   "execution_count": 195,
   "metadata": {},
   "outputs": [],
   "source": [
    "i+=3"
   ]
  },
  {
   "cell_type": "code",
   "execution_count": 197,
   "metadata": {},
   "outputs": [
    {
     "data": {
      "text/plain": [
       "5"
      ]
     },
     "execution_count": 197,
     "metadata": {},
     "output_type": "execute_result"
    }
   ],
   "source": [
    "i"
   ]
  },
  {
   "cell_type": "code",
   "execution_count": 170,
   "metadata": {},
   "outputs": [
    {
     "name": "stdout",
     "output_type": "stream",
     "text": [
      "0\n",
      "1\n",
      "2\n",
      "3\n",
      "4\n",
      "5\n",
      "6\n",
      "7\n",
      "8\n",
      "9\n",
      "10\n",
      "11\n",
      "12\n",
      "13\n",
      "14\n",
      "15\n",
      "16\n",
      "17\n",
      "18\n",
      "19\n",
      "20\n",
      "21\n",
      "22\n",
      "23\n",
      "24\n",
      "25\n",
      "26\n",
      "27\n",
      "28\n",
      "29\n"
     ]
    },
    {
     "ename": "IndexError",
     "evalue": "list index out of range",
     "output_type": "error",
     "traceback": [
      "\u001b[1;31m---------------------------------------------------------------------------\u001b[0m",
      "\u001b[1;31mIndexError\u001b[0m                                Traceback (most recent call last)",
      "\u001b[1;32m<ipython-input-170-f8341692232d>\u001b[0m in \u001b[0;36m<module>\u001b[1;34m\u001b[0m\n\u001b[0;32m      4\u001b[0m     \u001b[0mAllDate\u001b[0m \u001b[1;33m=\u001b[0m \u001b[0mtableTag\u001b[0m\u001b[1;33m.\u001b[0m\u001b[0mfindAll\u001b[0m\u001b[1;33m(\u001b[0m\u001b[0mname\u001b[0m \u001b[1;33m=\u001b[0m \u001b[1;34m\"th\"\u001b[0m\u001b[1;33m,\u001b[0m \u001b[0mattrs\u001b[0m \u001b[1;33m=\u001b[0m \u001b[1;33m{\u001b[0m\u001b[1;34m\"class\"\u001b[0m\u001b[1;33m:\u001b[0m\u001b[1;34m\"nw\"\u001b[0m\u001b[1;33m}\u001b[0m\u001b[1;33m)\u001b[0m\u001b[1;33m\u001b[0m\u001b[1;33m\u001b[0m\u001b[0m\n\u001b[0;32m      5\u001b[0m \u001b[1;33m\u001b[0m\u001b[0m\n\u001b[1;32m----> 6\u001b[1;33m     \u001b[0mAllDate\u001b[0m\u001b[1;33m[\u001b[0m\u001b[0mi\u001b[0m\u001b[1;33m]\u001b[0m\u001b[1;33m.\u001b[0m\u001b[0mtext\u001b[0m\u001b[1;33m\u001b[0m\u001b[1;33m\u001b[0m\u001b[0m\n\u001b[0m\u001b[0;32m      7\u001b[0m \u001b[1;33m\u001b[0m\u001b[0m\n\u001b[0;32m      8\u001b[0m     \u001b[1;31m# 요일을 긁어오자\u001b[0m\u001b[1;33m\u001b[0m\u001b[1;33m\u001b[0m\u001b[1;33m\u001b[0m\u001b[0m\n",
      "\u001b[1;31mIndexError\u001b[0m: list index out of range"
     ]
    }
   ],
   "source": [
    "for i in range(0, len(Alltrs)):\n",
    "    print(i)\n",
    "    # Date를 긁어오자\n",
    "    AllDate = tableTag.findAll(name = \"th\", attrs = {\"class\":\"nw\"})\n",
    "\n",
    "    AllDate[i].text\n",
    "\n",
    "    # 요일을 긁어오자\n",
    "    AllDay = tableTag.findAll(name = \"td\", attrs = {\"class\":\"nw\"})\n",
    "\n",
    "    AllDay[i].text\n",
    "\n",
    "    # 공휴일 이름을 긁어오자\n",
    "    AllName = tableTag.findAll(name = \"a\")\n",
    "\n",
    "    AllName[i].text\n",
    "\n",
    "    # 연휴타입을 긁어오자   # name : 태그를 찾는것\n",
    "    AllType = tableTag.findAll(name = \"td\")\n",
    "\n",
    "    AllType[3].text"
   ]
  },
  {
   "cell_type": "code",
   "execution_count": null,
   "metadata": {},
   "outputs": [],
   "source": [
    "columnList.append(AllDate)"
   ]
  },
  {
   "cell_type": "code",
   "execution_count": null,
   "metadata": {},
   "outputs": [],
   "source": [
    "columnList.append(AllDay)"
   ]
  },
  {
   "cell_type": "code",
   "execution_count": null,
   "metadata": {},
   "outputs": [],
   "source": [
    "columnList.append(AllName)"
   ]
  },
  {
   "cell_type": "code",
   "execution_count": null,
   "metadata": {},
   "outputs": [],
   "source": [
    "columnList.append(AllType)"
   ]
  },
  {
   "cell_type": "code",
   "execution_count": null,
   "metadata": {},
   "outputs": [],
   "source": [
    "rowList.append(columnList)"
   ]
  },
  {
   "cell_type": "code",
   "execution_count": null,
   "metadata": {},
   "outputs": [],
   "source": []
  },
  {
   "cell_type": "code",
   "execution_count": null,
   "metadata": {},
   "outputs": [],
   "source": []
  }
 ],
 "metadata": {
  "kernelspec": {
   "display_name": "Python 3",
   "language": "python",
   "name": "python3"
  },
  "language_info": {
   "codemirror_mode": {
    "name": "ipython",
    "version": 3
   },
   "file_extension": ".py",
   "mimetype": "text/x-python",
   "name": "python",
   "nbconvert_exporter": "python",
   "pygments_lexer": "ipython3",
   "version": "3.8.5"
  }
 },
 "nbformat": 4,
 "nbformat_minor": 4
}

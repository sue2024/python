{
 "cells": [
  {
   "cell_type": "code",
   "execution_count": null,
   "metadata": {},
   "outputs": [],
   "source": [
    "import pandas as pd\n",
    "import matplotlib.pyplot as plt\n",
    "\n",
    "\n",
    "st01Data = pd.read_csv(\"../dataset/st0001data.csv\", encoding = \"ms949\")\n",
    "st02Data = pd.read_csv(\"../dataset/st0002data.csv\", encoding = \"ms949\")\n",
    "\n",
    "x=st01Data.WEEK\n",
    "y=st02Data.MEAN_VOLUME\n",
    "\n",
    "y\n",
    "\n",
    "%matplotlib inline\n",
    "#jupyter 환경에서 차트를 show 없이 자동으로 그려주는 매직명령어\n",
    "\n",
    "xValue = st01Data.WEEK\n",
    "yValue = st01Data.MEAN_VOLUME\n",
    "\n",
    "plt.xticks(range(min(x), max(x),3))\n",
    "plt.xlabel(\"week\")\n",
    "plt.ylabel(\"avg value\")\n",
    "plt.title(\"weekly code\")\n",
    "plt.plot(xValue,yValue)\n",
    "## xticks와 plot을 같이 해줘야함\n",
    "plt.plot(xValue, yValue, \"co:\", lw=4)\n",
    "\n",
    "st\n",
    "\n",
    "featuresData = pd.read_csv(\"../dataset/feature_regression_example.csv\", encoding = \"ms949\")\n",
    "\n",
    "featuresData\n",
    "\n",
    "featuresData2015 = featuresData.loc[featuresData.YEAR == 2015]\n",
    "\n",
    "featuresData2015\n",
    "\n",
    "%matplotlib inline\n",
    "\n",
    "yValue = featuresData2015.QTY\n",
    "xValue =  featuresData2015.WEEK\n",
    "\n",
    "plt.xticks(range(0, max(x),10))\n",
    "plt.xlabel(\"week\")\n",
    "plt.ylabel(\"QTY\")\n",
    "\n",
    "plt.plot(xValue,yValue)\n",
    "## xticks와 plot을 같이 해줘야함\n",
    "plt.plot(xValue, yValue, \"c\", lw=1)\n"
   ]
  },
  {
   "cell_type": "code",
   "execution_count": null,
   "metadata": {},
   "outputs": [],
   "source": []
  },
  {
   "cell_type": "code",
   "execution_count": null,
   "metadata": {},
   "outputs": [],
   "source": []
  },
  {
   "cell_type": "code",
   "execution_count": null,
   "metadata": {},
   "outputs": [],
   "source": []
  },
  {
   "cell_type": "markdown",
   "metadata": {},
   "source": [
    "# 시각화 차트의 이해"
   ]
  },
  {
   "cell_type": "code",
   "execution_count": 3,
   "metadata": {},
   "outputs": [],
   "source": [
    "import matplotlib.pyplot as plt"
   ]
  },
  {
   "cell_type": "code",
   "execution_count": null,
   "metadata": {},
   "outputs": [],
   "source": [
    "st01Data = pd.read.csv(\"../dataset/\")??????"
   ]
  },
  {
   "cell_type": "code",
   "execution_count": null,
   "metadata": {},
   "outputs": [],
   "source": []
  },
  {
   "cell_type": "code",
   "execution_count": null,
   "metadata": {},
   "outputs": [],
   "source": []
  },
  {
   "cell_type": "code",
   "execution_count": null,
   "metadata": {},
   "outputs": [],
   "source": []
  },
  {
   "cell_type": "code",
   "execution_count": null,
   "metadata": {},
   "outputs": [],
   "source": []
  },
  {
   "cell_type": "code",
   "execution_count": null,
   "metadata": {},
   "outputs": [],
   "source": []
  },
  {
   "cell_type": "code",
   "execution_count": null,
   "metadata": {},
   "outputs": [],
   "source": []
  },
  {
   "cell_type": "code",
   "execution_count": 2,
   "metadata": {
    "collapsed": true,
    "jupyter": {
     "outputs_hidden": true
    }
   },
   "outputs": [
    {
     "ename": "NameError",
     "evalue": "name 'st01Data' is not defined",
     "output_type": "error",
     "traceback": [
      "\u001b[1;31m---------------------------------------------------------------------------\u001b[0m",
      "\u001b[1;31mNameError\u001b[0m                                 Traceback (most recent call last)",
      "\u001b[1;32m<ipython-input-2-4c92a1241967>\u001b[0m in \u001b[0;36m<module>\u001b[1;34m\u001b[0m\n\u001b[1;32m----> 1\u001b[1;33m \u001b[0mxValue\u001b[0m \u001b[1;33m=\u001b[0m \u001b[0mst01Data\u001b[0m\u001b[1;33m.\u001b[0m\u001b[0mWEEK\u001b[0m\u001b[1;33m\u001b[0m\u001b[1;33m\u001b[0m\u001b[0m\n\u001b[0m\u001b[0;32m      2\u001b[0m \u001b[0myValue\u001b[0m \u001b[1;33m=\u001b[0m \u001b[0mst01Data\u001b[0m\u001b[1;33m.\u001b[0m\u001b[0mMEAN_VOLUME\u001b[0m\u001b[1;33m\u001b[0m\u001b[1;33m\u001b[0m\u001b[0m\n",
      "\u001b[1;31mNameError\u001b[0m: name 'st01Data' is not defined"
     ]
    }
   ],
   "source": [
    "xValue = st01Data.WEEK\n",
    "yValue = st01Data.MEAN_VOLUME"
   ]
  },
  {
   "cell_type": "code",
   "execution_count": null,
   "metadata": {},
   "outputs": [],
   "source": [
    "x2Value = st02Data.WEEK\n",
    "y2Value = st02Data.MEAN_VOLUME"
   ]
  },
  {
   "cell_type": "code",
   "execution_count": null,
   "metadata": {},
   "outputs": [],
   "source": [
    "plt.figure(figsize=(10,5)) # 10은 x축, 길이는 5\n",
    "\n",
    "ax1 = fig.add_subplot(211) # 2행1열로 영역을 나누고 그중에 첫번째영역에  ax1이라는 그림을 그리겠따\n",
    "ax1.polt(xValue,yValue,\"b--\", label=\"ST0001\") # plot(선)을 그릴 때 라벨을 넣어줘야 한다~!\n",
    "ax1.legend(loc=0)\n",
    "\n",
    "\n",
    "ax2 = fig,add_subplot(212)\n",
    "ax2.polt(x2Value,y2Value,\"g\")\n",
    "ax2.legend(loc=0)"
   ]
  },
  {
   "cell_type": "code",
   "execution_count": null,
   "metadata": {},
   "outputs": [],
   "source": []
  },
  {
   "cell_type": "code",
   "execution_count": null,
   "metadata": {},
   "outputs": [],
   "source": []
  },
  {
   "cell_type": "code",
   "execution_count": null,
   "metadata": {},
   "outputs": [],
   "source": []
  },
  {
   "cell_type": "markdown",
   "metadata": {},
   "source": [
    "# 이중축 그리기 (이중축 : 축 하나를 공유하는 것)"
   ]
  },
  {
   "cell_type": "code",
   "execution_count": null,
   "metadata": {},
   "outputs": [],
   "source": [
    "plt.figure(figsize=(10,5)) # 10은 x축, 길이는 5\n",
    "\n",
    "ax1 = fig.add_subplot(111) # 2행1열로 영역을 나누고 그중에 첫번째영역에  ax1이라는 그림을 그리겠따\n",
    "ax1.polt(xValue,yValue,\"b--\", label=\"ST0001\") # plot(선)을 그릴 때 라벨을 넣어줘야 한다~!\n",
    "ax1.legend(loc=0)\n",
    "\n",
    "\n",
    "ax2 = ax1.twinx() # x축을 같이 쓰겠다~!\n",
    "ax2.polt(x2Value,y2Value,\"g\")\n",
    "ax2.legend(loc=0)"
   ]
  },
  {
   "cell_type": "code",
   "execution_count": null,
   "metadata": {},
   "outputs": [],
   "source": []
  },
  {
   "cell_type": "code",
   "execution_count": null,
   "metadata": {},
   "outputs": [],
   "source": [
    "#데이터 전처리\n",
    "#병합 : concat, append\n",
    "#FILLAN(0) FFILL BFILL \n",
    "# isnull()not\n",
    "#null 처리하는 부분"
   ]
  },
  {
   "cell_type": "code",
   "execution_count": null,
   "metadata": {},
   "outputs": [],
   "source": [
    "# 시각화\n",
    "# matplotlib라이브러리~\n",
    "# plt.polt(x,y,\"b--\")\n",
    "# 도화지라는 서브플롯을 생성 add_subplot(121)\n",
    "# 도화지라는 컬럼들을 서로 비교할(이중축) -> 다른크기의 데이터를 한 차트에 보여줄때 사용?"
   ]
  },
  {
   "cell_type": "code",
   "execution_count": null,
   "metadata": {},
   "outputs": [],
   "source": []
  },
  {
   "cell_type": "code",
   "execution_count": null,
   "metadata": {},
   "outputs": [],
   "source": []
  },
  {
   "cell_type": "code",
   "execution_count": null,
   "metadata": {},
   "outputs": [],
   "source": []
  },
  {
   "cell_type": "code",
   "execution_count": null,
   "metadata": {},
   "outputs": [],
   "source": []
  },
  {
   "cell_type": "code",
   "execution_count": null,
   "metadata": {},
   "outputs": [],
   "source": []
  },
  {
   "cell_type": "code",
   "execution_count": null,
   "metadata": {},
   "outputs": [],
   "source": []
  },
  {
   "cell_type": "code",
   "execution_count": null,
   "metadata": {},
   "outputs": [],
   "source": []
  },
  {
   "cell_type": "code",
   "execution_count": null,
   "metadata": {},
   "outputs": [],
   "source": []
  },
  {
   "cell_type": "code",
   "execution_count": null,
   "metadata": {},
   "outputs": [],
   "source": []
  },
  {
   "cell_type": "code",
   "execution_count": null,
   "metadata": {},
   "outputs": [],
   "source": []
  },
  {
   "cell_type": "code",
   "execution_count": null,
   "metadata": {},
   "outputs": [],
   "source": []
  }
 ],
 "metadata": {
  "kernelspec": {
   "display_name": "Python 3",
   "language": "python",
   "name": "python3"
  },
  "language_info": {
   "codemirror_mode": {
    "name": "ipython",
    "version": 3
   },
   "file_extension": ".py",
   "mimetype": "text/x-python",
   "name": "python",
   "nbconvert_exporter": "python",
   "pygments_lexer": "ipython3",
   "version": "3.8.5"
  }
 },
 "nbformat": 4,
 "nbformat_minor": 4
}

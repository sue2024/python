{
 "cells": [
  {
   "cell_type": "code",
   "execution_count": 1,
   "metadata": {},
   "outputs": [],
   "source": [
    "import pandas as pd"
   ]
  },
  {
   "cell_type": "code",
   "execution_count": 2,
   "metadata": {},
   "outputs": [],
   "source": [
    "selloutData = pd.read_csv(\"../dataset/kopo_channel_seasonality_new.csv\")"
   ]
  },
  {
   "cell_type": "code",
   "execution_count": 5,
   "metadata": {},
   "outputs": [
    {
     "data": {
      "text/plain": [
       "REGIONID     object\n",
       "PRODUCT      object\n",
       "YEARWEEK      int64\n",
       "QTY         float64\n",
       "dtype: object"
      ]
     },
     "execution_count": 5,
     "metadata": {},
     "output_type": "execute_result"
    }
   ],
   "source": [
    "selloutData.dtypes"
   ]
  },
  {
   "cell_type": "code",
   "execution_count": 6,
   "metadata": {},
   "outputs": [],
   "source": [
    "selloutData[\"YEARWEEK\"] = selloutData.YEARWEEK.astype(\"str\")"
   ]
  },
  {
   "cell_type": "code",
   "execution_count": 7,
   "metadata": {},
   "outputs": [
    {
     "data": {
      "text/plain": [
       "REGIONID     object\n",
       "PRODUCT      object\n",
       "YEARWEEK     object\n",
       "QTY         float64\n",
       "dtype: object"
      ]
     },
     "execution_count": 7,
     "metadata": {},
     "output_type": "execute_result"
    }
   ],
   "source": [
    "selloutData.dtypes"
   ]
  },
  {
   "cell_type": "code",
   "execution_count": 10,
   "metadata": {},
   "outputs": [
    {
     "data": {
      "text/plain": [
       "REGIONID         A00\n",
       "PRODUCT     PRODUCT1\n",
       "YEARWEEK      201401\n",
       "QTY             -364\n",
       "dtype: object"
      ]
     },
     "execution_count": 10,
     "metadata": {},
     "output_type": "execute_result"
    }
   ],
   "source": [
    "selloutData.min()"
   ]
  },
  {
   "cell_type": "markdown",
   "metadata": {},
   "source": [
    "### 2. 행/열 조회"
   ]
  },
  {
   "cell_type": "code",
   "execution_count": 13,
   "metadata": {},
   "outputs": [
    {
     "data": {
      "text/plain": [
       "323"
      ]
     },
     "execution_count": 13,
     "metadata": {},
     "output_type": "execute_result"
    }
   ],
   "source": [
    "len(selloutData[selloutData.QTY < 0])"
   ]
  },
  {
   "cell_type": "code",
   "execution_count": 14,
   "metadata": {},
   "outputs": [],
   "source": [
    "selloutData2 = selloutData[selloutData.QTY < 0]"
   ]
  },
  {
   "cell_type": "markdown",
   "metadata": {},
   "source": [
    "### 3. 데이터 정제"
   ]
  },
  {
   "cell_type": "code",
   "execution_count": 16,
   "metadata": {},
   "outputs": [],
   "source": [
    "import numpy as np"
   ]
  },
  {
   "cell_type": "code",
   "execution_count": 17,
   "metadata": {},
   "outputs": [],
   "source": [
    "selloutData[\"NEW_QTY\"] = np.where(selloutData.QTY < 0, 0, selloutData.QTY)"
   ]
  },
  {
   "cell_type": "code",
   "execution_count": 29,
   "metadata": {},
   "outputs": [
    {
     "name": "stderr",
     "output_type": "stream",
     "text": [
      "C:\\Users\\kopo\\Anaconda3\\lib\\site-packages\\ipykernel_launcher.py:1: UserWarning: Boolean Series key will be reindexed to match DataFrame index.\n",
      "  \"\"\"Entry point for launching an IPython kernel.\n"
     ]
    },
    {
     "data": {
      "text/plain": [
       "124658"
      ]
     },
     "execution_count": 29,
     "metadata": {},
     "output_type": "execute_result"
    }
   ],
   "source": [
    "len(selloutData[selloutData.QTY >= 0][selloutData.QTY == selloutData.NEW_QTY])+len(selloutData[selloutData.QTY < 0])"
   ]
  },
  {
   "cell_type": "code",
   "execution_count": 30,
   "metadata": {},
   "outputs": [
    {
     "data": {
      "text/plain": [
       "124658"
      ]
     },
     "execution_count": 30,
     "metadata": {},
     "output_type": "execute_result"
    }
   ],
   "source": [
    "len(selloutData)"
   ]
  },
  {
   "cell_type": "code",
   "execution_count": 33,
   "metadata": {},
   "outputs": [],
   "source": [
    "selloutData[\"YEAR\"] = selloutData.YEARWEEK.str[0:4]\n",
    "selloutData[\"WEEK\"] = selloutData.YEARWEEK.str[4:6]"
   ]
  },
  {
   "cell_type": "code",
   "execution_count": 39,
   "metadata": {},
   "outputs": [
    {
     "data": {
      "text/plain": [
       "124658"
      ]
     },
     "execution_count": 39,
     "metadata": {},
     "output_type": "execute_result"
    }
   ],
   "source": [
    "len(selloutData)"
   ]
  },
  {
   "cell_type": "code",
   "execution_count": 37,
   "metadata": {},
   "outputs": [],
   "source": [
    "refinedSelloutData = selloutData[selloutData.WEEK.astype(int) <= 52]"
   ]
  },
  {
   "cell_type": "markdown",
   "metadata": {},
   "source": [
    "### 데이터 정렬"
   ]
  },
  {
   "cell_type": "code",
   "execution_count": 42,
   "metadata": {},
   "outputs": [],
   "source": [
    "sortKey = [\"REGIONID\",\"PRODUCT\",\"YEARWEEK\"]"
   ]
  },
  {
   "cell_type": "code",
   "execution_count": 43,
   "metadata": {},
   "outputs": [],
   "source": [
    "sortedData = refinedSelloutData.sort_values(sortKey)"
   ]
  },
  {
   "cell_type": "markdown",
   "metadata": {},
   "source": [
    "### 데이터 집계 (Group By)"
   ]
  },
  {
   "cell_type": "code",
   "execution_count": 47,
   "metadata": {},
   "outputs": [],
   "source": [
    "groupKey = [\"REGIONID\",\"PRODUCT\"]"
   ]
  },
  {
   "cell_type": "code",
   "execution_count": 48,
   "metadata": {},
   "outputs": [],
   "source": [
    "gfunction = [\"mean\",\"std\",\"size\"]"
   ]
  },
  {
   "cell_type": "code",
   "execution_count": 55,
   "metadata": {},
   "outputs": [],
   "source": [
    "groupData = sortedData.groupby(groupKey)[\"NEW_QTY\"].agg(gfunction).reset_index()"
   ]
  },
  {
   "cell_type": "code",
   "execution_count": 56,
   "metadata": {},
   "outputs": [
    {
     "data": {
      "text/html": [
       "<div>\n",
       "<style scoped>\n",
       "    .dataframe tbody tr th:only-of-type {\n",
       "        vertical-align: middle;\n",
       "    }\n",
       "\n",
       "    .dataframe tbody tr th {\n",
       "        vertical-align: top;\n",
       "    }\n",
       "\n",
       "    .dataframe thead th {\n",
       "        text-align: right;\n",
       "    }\n",
       "</style>\n",
       "<table border=\"1\" class=\"dataframe\">\n",
       "  <thead>\n",
       "    <tr style=\"text-align: right;\">\n",
       "      <th></th>\n",
       "      <th>REGIONID</th>\n",
       "      <th>PRODUCT</th>\n",
       "      <th>mean</th>\n",
       "      <th>std</th>\n",
       "    </tr>\n",
       "  </thead>\n",
       "  <tbody>\n",
       "    <tr>\n",
       "      <th>0</th>\n",
       "      <td>A00</td>\n",
       "      <td>PRODUCT34</td>\n",
       "      <td>133.057692</td>\n",
       "      <td>155.176039</td>\n",
       "    </tr>\n",
       "    <tr>\n",
       "      <th>1</th>\n",
       "      <td>A00</td>\n",
       "      <td>PRODUCT58</td>\n",
       "      <td>105.250000</td>\n",
       "      <td>274.315679</td>\n",
       "    </tr>\n",
       "    <tr>\n",
       "      <th>2</th>\n",
       "      <td>A00</td>\n",
       "      <td>PRODUCT59</td>\n",
       "      <td>35957.570513</td>\n",
       "      <td>15154.625012</td>\n",
       "    </tr>\n",
       "    <tr>\n",
       "      <th>3</th>\n",
       "      <td>A01</td>\n",
       "      <td>PRODUCT1</td>\n",
       "      <td>5712.775641</td>\n",
       "      <td>3716.549078</td>\n",
       "    </tr>\n",
       "    <tr>\n",
       "      <th>4</th>\n",
       "      <td>A01</td>\n",
       "      <td>PRODUCT12</td>\n",
       "      <td>196825.403846</td>\n",
       "      <td>199486.717203</td>\n",
       "    </tr>\n",
       "    <tr>\n",
       "      <th>5</th>\n",
       "      <td>A01</td>\n",
       "      <td>PRODUCT14</td>\n",
       "      <td>17895.333333</td>\n",
       "      <td>9419.908594</td>\n",
       "    </tr>\n",
       "    <tr>\n",
       "      <th>6</th>\n",
       "      <td>A01</td>\n",
       "      <td>PRODUCT15</td>\n",
       "      <td>4755.391026</td>\n",
       "      <td>1532.289405</td>\n",
       "    </tr>\n",
       "    <tr>\n",
       "      <th>7</th>\n",
       "      <td>A01</td>\n",
       "      <td>PRODUCT16</td>\n",
       "      <td>1394.519231</td>\n",
       "      <td>736.225916</td>\n",
       "    </tr>\n",
       "    <tr>\n",
       "      <th>8</th>\n",
       "      <td>A01</td>\n",
       "      <td>PRODUCT19</td>\n",
       "      <td>3339.108974</td>\n",
       "      <td>997.979110</td>\n",
       "    </tr>\n",
       "    <tr>\n",
       "      <th>9</th>\n",
       "      <td>A01</td>\n",
       "      <td>PRODUCT2</td>\n",
       "      <td>22725.461538</td>\n",
       "      <td>23375.575772</td>\n",
       "    </tr>\n",
       "    <tr>\n",
       "      <th>10</th>\n",
       "      <td>A01</td>\n",
       "      <td>PRODUCT20</td>\n",
       "      <td>62.929487</td>\n",
       "      <td>75.863639</td>\n",
       "    </tr>\n",
       "    <tr>\n",
       "      <th>11</th>\n",
       "      <td>A01</td>\n",
       "      <td>PRODUCT33</td>\n",
       "      <td>11902.820513</td>\n",
       "      <td>6317.618260</td>\n",
       "    </tr>\n",
       "    <tr>\n",
       "      <th>12</th>\n",
       "      <td>A01</td>\n",
       "      <td>PRODUCT34</td>\n",
       "      <td>108119.282051</td>\n",
       "      <td>117646.571047</td>\n",
       "    </tr>\n",
       "    <tr>\n",
       "      <th>13</th>\n",
       "      <td>A01</td>\n",
       "      <td>PRODUCT4</td>\n",
       "      <td>25874.326923</td>\n",
       "      <td>33010.282181</td>\n",
       "    </tr>\n",
       "    <tr>\n",
       "      <th>14</th>\n",
       "      <td>A01</td>\n",
       "      <td>PRODUCT47</td>\n",
       "      <td>11004.032051</td>\n",
       "      <td>8269.661534</td>\n",
       "    </tr>\n",
       "    <tr>\n",
       "      <th>15</th>\n",
       "      <td>A01</td>\n",
       "      <td>PRODUCT56</td>\n",
       "      <td>6297.544872</td>\n",
       "      <td>1838.444080</td>\n",
       "    </tr>\n",
       "    <tr>\n",
       "      <th>16</th>\n",
       "      <td>A01</td>\n",
       "      <td>PRODUCT57</td>\n",
       "      <td>6808.243590</td>\n",
       "      <td>1394.972523</td>\n",
       "    </tr>\n",
       "    <tr>\n",
       "      <th>17</th>\n",
       "      <td>A01</td>\n",
       "      <td>PRODUCT58</td>\n",
       "      <td>27251.121795</td>\n",
       "      <td>28156.570449</td>\n",
       "    </tr>\n",
       "    <tr>\n",
       "      <th>18</th>\n",
       "      <td>A01</td>\n",
       "      <td>PRODUCT59</td>\n",
       "      <td>642026.737179</td>\n",
       "      <td>181141.756075</td>\n",
       "    </tr>\n",
       "    <tr>\n",
       "      <th>19</th>\n",
       "      <td>A01</td>\n",
       "      <td>PRODUCT6</td>\n",
       "      <td>812.692308</td>\n",
       "      <td>3269.463211</td>\n",
       "    </tr>\n",
       "    <tr>\n",
       "      <th>20</th>\n",
       "      <td>A01</td>\n",
       "      <td>PRODUCT60</td>\n",
       "      <td>0.923077</td>\n",
       "      <td>2.065191</td>\n",
       "    </tr>\n",
       "    <tr>\n",
       "      <th>21</th>\n",
       "      <td>A01</td>\n",
       "      <td>PRODUCT62</td>\n",
       "      <td>11342.955128</td>\n",
       "      <td>5732.406958</td>\n",
       "    </tr>\n",
       "    <tr>\n",
       "      <th>22</th>\n",
       "      <td>A01</td>\n",
       "      <td>PRODUCT63</td>\n",
       "      <td>47631.666667</td>\n",
       "      <td>34676.000829</td>\n",
       "    </tr>\n",
       "    <tr>\n",
       "      <th>23</th>\n",
       "      <td>A01</td>\n",
       "      <td>PRODUCT7</td>\n",
       "      <td>2075.076923</td>\n",
       "      <td>1305.103850</td>\n",
       "    </tr>\n",
       "    <tr>\n",
       "      <th>24</th>\n",
       "      <td>A01</td>\n",
       "      <td>PRODUCT75</td>\n",
       "      <td>30082.230769</td>\n",
       "      <td>9327.083324</td>\n",
       "    </tr>\n",
       "    <tr>\n",
       "      <th>25</th>\n",
       "      <td>A01</td>\n",
       "      <td>PRODUCT8</td>\n",
       "      <td>187.096154</td>\n",
       "      <td>160.986226</td>\n",
       "    </tr>\n",
       "    <tr>\n",
       "      <th>26</th>\n",
       "      <td>A02</td>\n",
       "      <td>PRODUCT1</td>\n",
       "      <td>153.185897</td>\n",
       "      <td>144.330213</td>\n",
       "    </tr>\n",
       "    <tr>\n",
       "      <th>27</th>\n",
       "      <td>A02</td>\n",
       "      <td>PRODUCT12</td>\n",
       "      <td>8905.448718</td>\n",
       "      <td>7250.493818</td>\n",
       "    </tr>\n",
       "    <tr>\n",
       "      <th>28</th>\n",
       "      <td>A02</td>\n",
       "      <td>PRODUCT14</td>\n",
       "      <td>1793.544872</td>\n",
       "      <td>686.521116</td>\n",
       "    </tr>\n",
       "    <tr>\n",
       "      <th>29</th>\n",
       "      <td>A02</td>\n",
       "      <td>PRODUCT16</td>\n",
       "      <td>23.333333</td>\n",
       "      <td>57.262534</td>\n",
       "    </tr>\n",
       "    <tr>\n",
       "      <th>...</th>\n",
       "      <td>...</td>\n",
       "      <td>...</td>\n",
       "      <td>...</td>\n",
       "      <td>...</td>\n",
       "    </tr>\n",
       "    <tr>\n",
       "      <th>764</th>\n",
       "      <td>A65</td>\n",
       "      <td>PRODUCT1</td>\n",
       "      <td>62.288462</td>\n",
       "      <td>41.826988</td>\n",
       "    </tr>\n",
       "    <tr>\n",
       "      <th>765</th>\n",
       "      <td>A65</td>\n",
       "      <td>PRODUCT12</td>\n",
       "      <td>1111.250000</td>\n",
       "      <td>652.922617</td>\n",
       "    </tr>\n",
       "    <tr>\n",
       "      <th>766</th>\n",
       "      <td>A65</td>\n",
       "      <td>PRODUCT14</td>\n",
       "      <td>16.839744</td>\n",
       "      <td>15.950527</td>\n",
       "    </tr>\n",
       "    <tr>\n",
       "      <th>767</th>\n",
       "      <td>A65</td>\n",
       "      <td>PRODUCT33</td>\n",
       "      <td>122.134615</td>\n",
       "      <td>55.010039</td>\n",
       "    </tr>\n",
       "    <tr>\n",
       "      <th>768</th>\n",
       "      <td>A65</td>\n",
       "      <td>PRODUCT34</td>\n",
       "      <td>1776.628205</td>\n",
       "      <td>1528.402177</td>\n",
       "    </tr>\n",
       "    <tr>\n",
       "      <th>769</th>\n",
       "      <td>A65</td>\n",
       "      <td>PRODUCT40</td>\n",
       "      <td>9.538462</td>\n",
       "      <td>10.240580</td>\n",
       "    </tr>\n",
       "    <tr>\n",
       "      <th>770</th>\n",
       "      <td>A65</td>\n",
       "      <td>PRODUCT47</td>\n",
       "      <td>23.108974</td>\n",
       "      <td>20.074562</td>\n",
       "    </tr>\n",
       "    <tr>\n",
       "      <th>771</th>\n",
       "      <td>A65</td>\n",
       "      <td>PRODUCT56</td>\n",
       "      <td>87.897436</td>\n",
       "      <td>28.800130</td>\n",
       "    </tr>\n",
       "    <tr>\n",
       "      <th>772</th>\n",
       "      <td>A65</td>\n",
       "      <td>PRODUCT57</td>\n",
       "      <td>91.339744</td>\n",
       "      <td>40.052948</td>\n",
       "    </tr>\n",
       "    <tr>\n",
       "      <th>773</th>\n",
       "      <td>A65</td>\n",
       "      <td>PRODUCT58</td>\n",
       "      <td>180.967949</td>\n",
       "      <td>198.533281</td>\n",
       "    </tr>\n",
       "    <tr>\n",
       "      <th>774</th>\n",
       "      <td>A65</td>\n",
       "      <td>PRODUCT59</td>\n",
       "      <td>12053.365385</td>\n",
       "      <td>5785.422717</td>\n",
       "    </tr>\n",
       "    <tr>\n",
       "      <th>775</th>\n",
       "      <td>A65</td>\n",
       "      <td>PRODUCT60</td>\n",
       "      <td>81.884615</td>\n",
       "      <td>25.299742</td>\n",
       "    </tr>\n",
       "    <tr>\n",
       "      <th>776</th>\n",
       "      <td>A65</td>\n",
       "      <td>PRODUCT62</td>\n",
       "      <td>187.801282</td>\n",
       "      <td>56.827347</td>\n",
       "    </tr>\n",
       "    <tr>\n",
       "      <th>777</th>\n",
       "      <td>A66</td>\n",
       "      <td>PRODUCT34</td>\n",
       "      <td>177.224359</td>\n",
       "      <td>282.831389</td>\n",
       "    </tr>\n",
       "    <tr>\n",
       "      <th>778</th>\n",
       "      <td>A66</td>\n",
       "      <td>PRODUCT58</td>\n",
       "      <td>4.814103</td>\n",
       "      <td>8.586414</td>\n",
       "    </tr>\n",
       "    <tr>\n",
       "      <th>779</th>\n",
       "      <td>A66</td>\n",
       "      <td>PRODUCT59</td>\n",
       "      <td>3776.121795</td>\n",
       "      <td>2207.299659</td>\n",
       "    </tr>\n",
       "    <tr>\n",
       "      <th>780</th>\n",
       "      <td>A67</td>\n",
       "      <td>PRODUCT34</td>\n",
       "      <td>706.544872</td>\n",
       "      <td>348.450271</td>\n",
       "    </tr>\n",
       "    <tr>\n",
       "      <th>781</th>\n",
       "      <td>A67</td>\n",
       "      <td>PRODUCT58</td>\n",
       "      <td>40.987179</td>\n",
       "      <td>62.239805</td>\n",
       "    </tr>\n",
       "    <tr>\n",
       "      <th>782</th>\n",
       "      <td>A67</td>\n",
       "      <td>PRODUCT59</td>\n",
       "      <td>21480.782051</td>\n",
       "      <td>6453.971304</td>\n",
       "    </tr>\n",
       "    <tr>\n",
       "      <th>783</th>\n",
       "      <td>A68</td>\n",
       "      <td>PRODUCT34</td>\n",
       "      <td>290.570513</td>\n",
       "      <td>179.571681</td>\n",
       "    </tr>\n",
       "    <tr>\n",
       "      <th>784</th>\n",
       "      <td>A68</td>\n",
       "      <td>PRODUCT58</td>\n",
       "      <td>1.660256</td>\n",
       "      <td>4.263115</td>\n",
       "    </tr>\n",
       "    <tr>\n",
       "      <th>785</th>\n",
       "      <td>A68</td>\n",
       "      <td>PRODUCT59</td>\n",
       "      <td>7780.173077</td>\n",
       "      <td>5596.191831</td>\n",
       "    </tr>\n",
       "    <tr>\n",
       "      <th>786</th>\n",
       "      <td>A69</td>\n",
       "      <td>PRODUCT34</td>\n",
       "      <td>166.570513</td>\n",
       "      <td>203.824121</td>\n",
       "    </tr>\n",
       "    <tr>\n",
       "      <th>787</th>\n",
       "      <td>A69</td>\n",
       "      <td>PRODUCT58</td>\n",
       "      <td>4.506410</td>\n",
       "      <td>5.791536</td>\n",
       "    </tr>\n",
       "    <tr>\n",
       "      <th>788</th>\n",
       "      <td>A69</td>\n",
       "      <td>PRODUCT59</td>\n",
       "      <td>8274.301282</td>\n",
       "      <td>6077.128909</td>\n",
       "    </tr>\n",
       "    <tr>\n",
       "      <th>789</th>\n",
       "      <td>A70</td>\n",
       "      <td>PRODUCT34</td>\n",
       "      <td>2166.666667</td>\n",
       "      <td>1484.221748</td>\n",
       "    </tr>\n",
       "    <tr>\n",
       "      <th>790</th>\n",
       "      <td>A70</td>\n",
       "      <td>PRODUCT58</td>\n",
       "      <td>60.730769</td>\n",
       "      <td>66.921075</td>\n",
       "    </tr>\n",
       "    <tr>\n",
       "      <th>791</th>\n",
       "      <td>A70</td>\n",
       "      <td>PRODUCT59</td>\n",
       "      <td>69345.288462</td>\n",
       "      <td>35988.802775</td>\n",
       "    </tr>\n",
       "    <tr>\n",
       "      <th>792</th>\n",
       "      <td>A77</td>\n",
       "      <td>PRODUCT1</td>\n",
       "      <td>2889.333333</td>\n",
       "      <td>943.775645</td>\n",
       "    </tr>\n",
       "    <tr>\n",
       "      <th>793</th>\n",
       "      <td>A77</td>\n",
       "      <td>PRODUCT12</td>\n",
       "      <td>3471.307692</td>\n",
       "      <td>1692.825844</td>\n",
       "    </tr>\n",
       "  </tbody>\n",
       "</table>\n",
       "<p>794 rows × 4 columns</p>\n",
       "</div>"
      ],
      "text/plain": [
       "    REGIONID    PRODUCT           mean            std\n",
       "0        A00  PRODUCT34     133.057692     155.176039\n",
       "1        A00  PRODUCT58     105.250000     274.315679\n",
       "2        A00  PRODUCT59   35957.570513   15154.625012\n",
       "3        A01   PRODUCT1    5712.775641    3716.549078\n",
       "4        A01  PRODUCT12  196825.403846  199486.717203\n",
       "5        A01  PRODUCT14   17895.333333    9419.908594\n",
       "6        A01  PRODUCT15    4755.391026    1532.289405\n",
       "7        A01  PRODUCT16    1394.519231     736.225916\n",
       "8        A01  PRODUCT19    3339.108974     997.979110\n",
       "9        A01   PRODUCT2   22725.461538   23375.575772\n",
       "10       A01  PRODUCT20      62.929487      75.863639\n",
       "11       A01  PRODUCT33   11902.820513    6317.618260\n",
       "12       A01  PRODUCT34  108119.282051  117646.571047\n",
       "13       A01   PRODUCT4   25874.326923   33010.282181\n",
       "14       A01  PRODUCT47   11004.032051    8269.661534\n",
       "15       A01  PRODUCT56    6297.544872    1838.444080\n",
       "16       A01  PRODUCT57    6808.243590    1394.972523\n",
       "17       A01  PRODUCT58   27251.121795   28156.570449\n",
       "18       A01  PRODUCT59  642026.737179  181141.756075\n",
       "19       A01   PRODUCT6     812.692308    3269.463211\n",
       "20       A01  PRODUCT60       0.923077       2.065191\n",
       "21       A01  PRODUCT62   11342.955128    5732.406958\n",
       "22       A01  PRODUCT63   47631.666667   34676.000829\n",
       "23       A01   PRODUCT7    2075.076923    1305.103850\n",
       "24       A01  PRODUCT75   30082.230769    9327.083324\n",
       "25       A01   PRODUCT8     187.096154     160.986226\n",
       "26       A02   PRODUCT1     153.185897     144.330213\n",
       "27       A02  PRODUCT12    8905.448718    7250.493818\n",
       "28       A02  PRODUCT14    1793.544872     686.521116\n",
       "29       A02  PRODUCT16      23.333333      57.262534\n",
       "..       ...        ...            ...            ...\n",
       "764      A65   PRODUCT1      62.288462      41.826988\n",
       "765      A65  PRODUCT12    1111.250000     652.922617\n",
       "766      A65  PRODUCT14      16.839744      15.950527\n",
       "767      A65  PRODUCT33     122.134615      55.010039\n",
       "768      A65  PRODUCT34    1776.628205    1528.402177\n",
       "769      A65  PRODUCT40       9.538462      10.240580\n",
       "770      A65  PRODUCT47      23.108974      20.074562\n",
       "771      A65  PRODUCT56      87.897436      28.800130\n",
       "772      A65  PRODUCT57      91.339744      40.052948\n",
       "773      A65  PRODUCT58     180.967949     198.533281\n",
       "774      A65  PRODUCT59   12053.365385    5785.422717\n",
       "775      A65  PRODUCT60      81.884615      25.299742\n",
       "776      A65  PRODUCT62     187.801282      56.827347\n",
       "777      A66  PRODUCT34     177.224359     282.831389\n",
       "778      A66  PRODUCT58       4.814103       8.586414\n",
       "779      A66  PRODUCT59    3776.121795    2207.299659\n",
       "780      A67  PRODUCT34     706.544872     348.450271\n",
       "781      A67  PRODUCT58      40.987179      62.239805\n",
       "782      A67  PRODUCT59   21480.782051    6453.971304\n",
       "783      A68  PRODUCT34     290.570513     179.571681\n",
       "784      A68  PRODUCT58       1.660256       4.263115\n",
       "785      A68  PRODUCT59    7780.173077    5596.191831\n",
       "786      A69  PRODUCT34     166.570513     203.824121\n",
       "787      A69  PRODUCT58       4.506410       5.791536\n",
       "788      A69  PRODUCT59    8274.301282    6077.128909\n",
       "789      A70  PRODUCT34    2166.666667    1484.221748\n",
       "790      A70  PRODUCT58      60.730769      66.921075\n",
       "791      A70  PRODUCT59   69345.288462   35988.802775\n",
       "792      A77   PRODUCT1    2889.333333     943.775645\n",
       "793      A77  PRODUCT12    3471.307692    1692.825844\n",
       "\n",
       "[794 rows x 4 columns]"
      ]
     },
     "execution_count": 56,
     "metadata": {},
     "output_type": "execute_result"
    }
   ],
   "source": [
    "groupData"
   ]
  },
  {
   "cell_type": "code",
   "execution_count": 60,
   "metadata": {},
   "outputs": [],
   "source": [
    "groupData.rename(columns={\"mean\":\"MEAN\",\"std\":\"STD\"}, inplace=True)"
   ]
  },
  {
   "cell_type": "code",
   "execution_count": 63,
   "metadata": {},
   "outputs": [
    {
     "data": {
      "text/html": [
       "<div>\n",
       "<style scoped>\n",
       "    .dataframe tbody tr th:only-of-type {\n",
       "        vertical-align: middle;\n",
       "    }\n",
       "\n",
       "    .dataframe tbody tr th {\n",
       "        vertical-align: top;\n",
       "    }\n",
       "\n",
       "    .dataframe thead th {\n",
       "        text-align: right;\n",
       "    }\n",
       "</style>\n",
       "<table border=\"1\" class=\"dataframe\">\n",
       "  <thead>\n",
       "    <tr style=\"text-align: right;\">\n",
       "      <th></th>\n",
       "      <th>REGIONID</th>\n",
       "      <th>PRODUCT</th>\n",
       "      <th>MEAN</th>\n",
       "      <th>STD</th>\n",
       "    </tr>\n",
       "  </thead>\n",
       "  <tbody>\n",
       "    <tr>\n",
       "      <th>0</th>\n",
       "      <td>A00</td>\n",
       "      <td>PRODUCT34</td>\n",
       "      <td>133.057692</td>\n",
       "      <td>155.176039</td>\n",
       "    </tr>\n",
       "  </tbody>\n",
       "</table>\n",
       "</div>"
      ],
      "text/plain": [
       "  REGIONID    PRODUCT        MEAN         STD\n",
       "0      A00  PRODUCT34  133.057692  155.176039"
      ]
     },
     "execution_count": 63,
     "metadata": {},
     "output_type": "execute_result"
    }
   ],
   "source": [
    "groupData.head(1)"
   ]
  },
  {
   "cell_type": "code",
   "execution_count": 64,
   "metadata": {},
   "outputs": [
    {
     "data": {
      "text/plain": [
       "Index(['REGIONID', 'PRODUCT', 'YEARWEEK', 'QTY', 'NEW_QTY', 'YEAR', 'WEEK'], dtype='object')"
      ]
     },
     "execution_count": 64,
     "metadata": {},
     "output_type": "execute_result"
    }
   ],
   "source": [
    "refinedSelloutData.columns"
   ]
  },
  {
   "cell_type": "code",
   "execution_count": 65,
   "metadata": {},
   "outputs": [
    {
     "data": {
      "text/plain": [
       "Index(['REGIONID', 'PRODUCT', 'MEAN', 'STD'], dtype='object')"
      ]
     },
     "execution_count": 65,
     "metadata": {},
     "output_type": "execute_result"
    }
   ],
   "source": [
    "groupData.columns"
   ]
  },
  {
   "cell_type": "code",
   "execution_count": 66,
   "metadata": {},
   "outputs": [],
   "source": [
    "joinKey = [\"REGIONID\",\"PRODUCT\"]"
   ]
  },
  {
   "cell_type": "code",
   "execution_count": 68,
   "metadata": {},
   "outputs": [],
   "source": [
    "joinData = pd.merge(refinedSelloutData, groupData, on=joinKey, how=\"left\" )"
   ]
  },
  {
   "cell_type": "code",
   "execution_count": 70,
   "metadata": {},
   "outputs": [],
   "source": [
    "reqcolumns = [\"REGIONID\",\"PRODUCT\",\"YEARWEEK\",\"YEAR\",\"WEEK\",\"NEW_QTY\",\"MEAN\"]"
   ]
  },
  {
   "cell_type": "code",
   "execution_count": 71,
   "metadata": {},
   "outputs": [],
   "source": [
    "middleReuslt = joinData[reqcolumns]"
   ]
  },
  {
   "cell_type": "code",
   "execution_count": 73,
   "metadata": {},
   "outputs": [
    {
     "name": "stderr",
     "output_type": "stream",
     "text": [
      "C:\\Users\\kopo\\Anaconda3\\lib\\site-packages\\ipykernel_launcher.py:3: SettingWithCopyWarning: \n",
      "A value is trying to be set on a copy of a slice from a DataFrame.\n",
      "Try using .loc[row_indexer,col_indexer] = value instead\n",
      "\n",
      "See the caveats in the documentation: http://pandas.pydata.org/pandas-docs/stable/indexing.html#indexing-view-versus-copy\n",
      "  This is separate from the ipykernel package so we can avoid doing imports until\n"
     ]
    }
   ],
   "source": [
    "middleReuslt[\"SEASONALITY\"] = np.where(middleReuslt.MEAN !=0,\n",
    "                                      middleReuslt.NEW_QTY/middleReuslt.MEAN,\n",
    "                                      0)"
   ]
  },
  {
   "cell_type": "code",
   "execution_count": 75,
   "metadata": {},
   "outputs": [],
   "source": [
    "finalgroupKey = [\"REGIONID\",\"PRODUCT\",\"WEEK\"]"
   ]
  },
  {
   "cell_type": "code",
   "execution_count": 78,
   "metadata": {},
   "outputs": [],
   "source": [
    "finalReuslt = middleReuslt.groupby(finalgroupKey)[\"SEASONALITY\"].agg([\"mean\"]).reset_index()"
   ]
  },
  {
   "cell_type": "code",
   "execution_count": 85,
   "metadata": {},
   "outputs": [
    {
     "data": {
      "text/html": [
       "<div>\n",
       "<style scoped>\n",
       "    .dataframe tbody tr th:only-of-type {\n",
       "        vertical-align: middle;\n",
       "    }\n",
       "\n",
       "    .dataframe tbody tr th {\n",
       "        vertical-align: top;\n",
       "    }\n",
       "\n",
       "    .dataframe thead th {\n",
       "        text-align: right;\n",
       "    }\n",
       "</style>\n",
       "<table border=\"1\" class=\"dataframe\">\n",
       "  <thead>\n",
       "    <tr style=\"text-align: right;\">\n",
       "      <th></th>\n",
       "      <th>REGIONID</th>\n",
       "      <th>PRODUCT</th>\n",
       "      <th>WEEK</th>\n",
       "      <th>SEASONALITY</th>\n",
       "    </tr>\n",
       "  </thead>\n",
       "  <tbody>\n",
       "    <tr>\n",
       "      <th>0</th>\n",
       "      <td>A00</td>\n",
       "      <td>PRODUCT34</td>\n",
       "      <td>01</td>\n",
       "      <td>2.086814</td>\n",
       "    </tr>\n",
       "    <tr>\n",
       "      <th>1</th>\n",
       "      <td>A00</td>\n",
       "      <td>PRODUCT34</td>\n",
       "      <td>02</td>\n",
       "      <td>2.234620</td>\n",
       "    </tr>\n",
       "    <tr>\n",
       "      <th>2</th>\n",
       "      <td>A00</td>\n",
       "      <td>PRODUCT34</td>\n",
       "      <td>03</td>\n",
       "      <td>1.773667</td>\n",
       "    </tr>\n",
       "    <tr>\n",
       "      <th>3</th>\n",
       "      <td>A00</td>\n",
       "      <td>PRODUCT34</td>\n",
       "      <td>04</td>\n",
       "      <td>1.788698</td>\n",
       "    </tr>\n",
       "    <tr>\n",
       "      <th>4</th>\n",
       "      <td>A00</td>\n",
       "      <td>PRODUCT34</td>\n",
       "      <td>05</td>\n",
       "      <td>1.513128</td>\n",
       "    </tr>\n",
       "  </tbody>\n",
       "</table>\n",
       "</div>"
      ],
      "text/plain": [
       "  REGIONID    PRODUCT WEEK  SEASONALITY\n",
       "0      A00  PRODUCT34   01     2.086814\n",
       "1      A00  PRODUCT34   02     2.234620\n",
       "2      A00  PRODUCT34   03     1.773667\n",
       "3      A00  PRODUCT34   04     1.788698\n",
       "4      A00  PRODUCT34   05     1.513128"
      ]
     },
     "execution_count": 85,
     "metadata": {},
     "output_type": "execute_result"
    }
   ],
   "source": [
    "finalReuslt.rename(columns={\"mean\":\"SEASONALITY\"},inplace=True)\n",
    "finalReuslt.head()"
   ]
  },
  {
   "cell_type": "markdown",
   "metadata": {},
   "source": [
    "### 정렬!ㅡ"
   ]
  },
  {
   "cell_type": "code",
   "execution_count": 110,
   "metadata": {},
   "outputs": [],
   "source": [
    "groupKey2 = [\"REGIONID\",\"PRODUCT\"]"
   ]
  },
  {
   "cell_type": "code",
   "execution_count": 111,
   "metadata": {},
   "outputs": [],
   "source": [
    "groupData2 = sortedData.groupby(groupKey2)"
   ]
  },
  {
   "cell_type": "code",
   "execution_count": 112,
   "metadata": {},
   "outputs": [
    {
     "data": {
      "text/plain": [
       "794"
      ]
     },
     "execution_count": 112,
     "metadata": {},
     "output_type": "execute_result"
    }
   ],
   "source": [
    "len(groupData2)"
   ]
  },
  {
   "cell_type": "code",
   "execution_count": 115,
   "metadata": {},
   "outputs": [],
   "source": [
    "oneGroup = groupData2.get_group(list(groupData2.groups)[0])"
   ]
  },
  {
   "cell_type": "code",
   "execution_count": 136,
   "metadata": {},
   "outputs": [],
   "source": [
    "def mafunction(oneGroup, in_window):\n",
    "    eachData = oneGroup.reset_index(drop=True)\n",
    "    eachData[\"MA\"] = eachData.NEW_QTY.rolling(window=in_window,\n",
    "                                              center=True,\n",
    "                                              min_periods=1).mean()\n",
    "    return eachData"
   ]
  },
  {
   "cell_type": "code",
   "execution_count": 137,
   "metadata": {},
   "outputs": [],
   "source": [
    "WINDOW = 5"
   ]
  },
  {
   "cell_type": "code",
   "execution_count": 139,
   "metadata": {},
   "outputs": [],
   "source": [
    "groupData2 = sortedData.groupby(groupKey2).apply(mafunction, (WINDOW))"
   ]
  },
  {
   "cell_type": "code",
   "execution_count": 107,
   "metadata": {
    "collapsed": true
   },
   "outputs": [
    {
     "data": {
      "text/html": [
       "<div>\n",
       "<style scoped>\n",
       "    .dataframe tbody tr th:only-of-type {\n",
       "        vertical-align: middle;\n",
       "    }\n",
       "\n",
       "    .dataframe tbody tr th {\n",
       "        vertical-align: top;\n",
       "    }\n",
       "\n",
       "    .dataframe thead th {\n",
       "        text-align: right;\n",
       "    }\n",
       "</style>\n",
       "<table border=\"1\" class=\"dataframe\">\n",
       "  <thead>\n",
       "    <tr style=\"text-align: right;\">\n",
       "      <th></th>\n",
       "      <th>REGIONID</th>\n",
       "      <th>PRODUCT</th>\n",
       "      <th>WEEK</th>\n",
       "      <th>SEASONALITY</th>\n",
       "    </tr>\n",
       "  </thead>\n",
       "  <tbody>\n",
       "    <tr>\n",
       "      <th>0</th>\n",
       "      <td>A00</td>\n",
       "      <td>PRODUCT34</td>\n",
       "      <td>01</td>\n",
       "      <td>2.086814</td>\n",
       "    </tr>\n",
       "    <tr>\n",
       "      <th>1</th>\n",
       "      <td>A00</td>\n",
       "      <td>PRODUCT34</td>\n",
       "      <td>02</td>\n",
       "      <td>2.234620</td>\n",
       "    </tr>\n",
       "    <tr>\n",
       "      <th>2</th>\n",
       "      <td>A00</td>\n",
       "      <td>PRODUCT34</td>\n",
       "      <td>03</td>\n",
       "      <td>1.773667</td>\n",
       "    </tr>\n",
       "    <tr>\n",
       "      <th>3</th>\n",
       "      <td>A00</td>\n",
       "      <td>PRODUCT34</td>\n",
       "      <td>04</td>\n",
       "      <td>1.788698</td>\n",
       "    </tr>\n",
       "    <tr>\n",
       "      <th>4</th>\n",
       "      <td>A00</td>\n",
       "      <td>PRODUCT34</td>\n",
       "      <td>05</td>\n",
       "      <td>1.513128</td>\n",
       "    </tr>\n",
       "    <tr>\n",
       "      <th>5</th>\n",
       "      <td>A00</td>\n",
       "      <td>PRODUCT34</td>\n",
       "      <td>06</td>\n",
       "      <td>1.287662</td>\n",
       "    </tr>\n",
       "    <tr>\n",
       "      <th>6</th>\n",
       "      <td>A00</td>\n",
       "      <td>PRODUCT34</td>\n",
       "      <td>07</td>\n",
       "      <td>1.230043</td>\n",
       "    </tr>\n",
       "    <tr>\n",
       "      <th>7</th>\n",
       "      <td>A00</td>\n",
       "      <td>PRODUCT34</td>\n",
       "      <td>08</td>\n",
       "      <td>1.077227</td>\n",
       "    </tr>\n",
       "    <tr>\n",
       "      <th>8</th>\n",
       "      <td>A00</td>\n",
       "      <td>PRODUCT34</td>\n",
       "      <td>09</td>\n",
       "      <td>1.305198</td>\n",
       "    </tr>\n",
       "    <tr>\n",
       "      <th>9</th>\n",
       "      <td>A00</td>\n",
       "      <td>PRODUCT34</td>\n",
       "      <td>10</td>\n",
       "      <td>1.573252</td>\n",
       "    </tr>\n",
       "    <tr>\n",
       "      <th>10</th>\n",
       "      <td>A00</td>\n",
       "      <td>PRODUCT34</td>\n",
       "      <td>11</td>\n",
       "      <td>1.184950</td>\n",
       "    </tr>\n",
       "    <tr>\n",
       "      <th>11</th>\n",
       "      <td>A00</td>\n",
       "      <td>PRODUCT34</td>\n",
       "      <td>12</td>\n",
       "      <td>1.039649</td>\n",
       "    </tr>\n",
       "    <tr>\n",
       "      <th>12</th>\n",
       "      <td>A00</td>\n",
       "      <td>PRODUCT34</td>\n",
       "      <td>13</td>\n",
       "      <td>0.982030</td>\n",
       "    </tr>\n",
       "    <tr>\n",
       "      <th>13</th>\n",
       "      <td>A00</td>\n",
       "      <td>PRODUCT34</td>\n",
       "      <td>14</td>\n",
       "      <td>0.979525</td>\n",
       "    </tr>\n",
       "    <tr>\n",
       "      <th>14</th>\n",
       "      <td>A00</td>\n",
       "      <td>PRODUCT34</td>\n",
       "      <td>15</td>\n",
       "      <td>0.836730</td>\n",
       "    </tr>\n",
       "    <tr>\n",
       "      <th>15</th>\n",
       "      <td>A00</td>\n",
       "      <td>PRODUCT34</td>\n",
       "      <td>16</td>\n",
       "      <td>0.816688</td>\n",
       "    </tr>\n",
       "    <tr>\n",
       "      <th>16</th>\n",
       "      <td>A00</td>\n",
       "      <td>PRODUCT34</td>\n",
       "      <td>17</td>\n",
       "      <td>0.726502</td>\n",
       "    </tr>\n",
       "    <tr>\n",
       "      <th>17</th>\n",
       "      <td>A00</td>\n",
       "      <td>PRODUCT34</td>\n",
       "      <td>18</td>\n",
       "      <td>0.568676</td>\n",
       "    </tr>\n",
       "    <tr>\n",
       "      <th>18</th>\n",
       "      <td>A00</td>\n",
       "      <td>PRODUCT34</td>\n",
       "      <td>19</td>\n",
       "      <td>0.516067</td>\n",
       "    </tr>\n",
       "    <tr>\n",
       "      <th>19</th>\n",
       "      <td>A00</td>\n",
       "      <td>PRODUCT34</td>\n",
       "      <td>20</td>\n",
       "      <td>0.526088</td>\n",
       "    </tr>\n",
       "    <tr>\n",
       "      <th>20</th>\n",
       "      <td>A00</td>\n",
       "      <td>PRODUCT34</td>\n",
       "      <td>21</td>\n",
       "      <td>0.521077</td>\n",
       "    </tr>\n",
       "    <tr>\n",
       "      <th>21</th>\n",
       "      <td>A00</td>\n",
       "      <td>PRODUCT34</td>\n",
       "      <td>22</td>\n",
       "      <td>0.516067</td>\n",
       "    </tr>\n",
       "    <tr>\n",
       "      <th>22</th>\n",
       "      <td>A00</td>\n",
       "      <td>PRODUCT34</td>\n",
       "      <td>23</td>\n",
       "      <td>0.438406</td>\n",
       "    </tr>\n",
       "    <tr>\n",
       "      <th>23</th>\n",
       "      <td>A00</td>\n",
       "      <td>PRODUCT34</td>\n",
       "      <td>24</td>\n",
       "      <td>0.398323</td>\n",
       "    </tr>\n",
       "    <tr>\n",
       "      <th>24</th>\n",
       "      <td>A00</td>\n",
       "      <td>PRODUCT34</td>\n",
       "      <td>25</td>\n",
       "      <td>0.283085</td>\n",
       "    </tr>\n",
       "    <tr>\n",
       "      <th>25</th>\n",
       "      <td>A00</td>\n",
       "      <td>PRODUCT34</td>\n",
       "      <td>26</td>\n",
       "      <td>0.250518</td>\n",
       "    </tr>\n",
       "    <tr>\n",
       "      <th>26</th>\n",
       "      <td>A00</td>\n",
       "      <td>PRODUCT34</td>\n",
       "      <td>27</td>\n",
       "      <td>0.308137</td>\n",
       "    </tr>\n",
       "    <tr>\n",
       "      <th>27</th>\n",
       "      <td>A00</td>\n",
       "      <td>PRODUCT34</td>\n",
       "      <td>28</td>\n",
       "      <td>0.493520</td>\n",
       "    </tr>\n",
       "    <tr>\n",
       "      <th>28</th>\n",
       "      <td>A00</td>\n",
       "      <td>PRODUCT34</td>\n",
       "      <td>29</td>\n",
       "      <td>1.796213</td>\n",
       "    </tr>\n",
       "    <tr>\n",
       "      <th>29</th>\n",
       "      <td>A00</td>\n",
       "      <td>PRODUCT34</td>\n",
       "      <td>30</td>\n",
       "      <td>1.407911</td>\n",
       "    </tr>\n",
       "    <tr>\n",
       "      <th>...</th>\n",
       "      <td>...</td>\n",
       "      <td>...</td>\n",
       "      <td>...</td>\n",
       "      <td>...</td>\n",
       "    </tr>\n",
       "    <tr>\n",
       "      <th>41258</th>\n",
       "      <td>A77</td>\n",
       "      <td>PRODUCT12</td>\n",
       "      <td>23</td>\n",
       "      <td>0.933462</td>\n",
       "    </tr>\n",
       "    <tr>\n",
       "      <th>41259</th>\n",
       "      <td>A77</td>\n",
       "      <td>PRODUCT12</td>\n",
       "      <td>24</td>\n",
       "      <td>0.782702</td>\n",
       "    </tr>\n",
       "    <tr>\n",
       "      <th>41260</th>\n",
       "      <td>A77</td>\n",
       "      <td>PRODUCT12</td>\n",
       "      <td>25</td>\n",
       "      <td>0.881992</td>\n",
       "    </tr>\n",
       "    <tr>\n",
       "      <th>41261</th>\n",
       "      <td>A77</td>\n",
       "      <td>PRODUCT12</td>\n",
       "      <td>26</td>\n",
       "      <td>0.857794</td>\n",
       "    </tr>\n",
       "    <tr>\n",
       "      <th>41262</th>\n",
       "      <td>A77</td>\n",
       "      <td>PRODUCT12</td>\n",
       "      <td>27</td>\n",
       "      <td>0.581433</td>\n",
       "    </tr>\n",
       "    <tr>\n",
       "      <th>41263</th>\n",
       "      <td>A77</td>\n",
       "      <td>PRODUCT12</td>\n",
       "      <td>28</td>\n",
       "      <td>0.683316</td>\n",
       "    </tr>\n",
       "    <tr>\n",
       "      <th>41264</th>\n",
       "      <td>A77</td>\n",
       "      <td>PRODUCT12</td>\n",
       "      <td>29</td>\n",
       "      <td>0.729792</td>\n",
       "    </tr>\n",
       "    <tr>\n",
       "      <th>41265</th>\n",
       "      <td>A77</td>\n",
       "      <td>PRODUCT12</td>\n",
       "      <td>30</td>\n",
       "      <td>1.172565</td>\n",
       "    </tr>\n",
       "    <tr>\n",
       "      <th>41266</th>\n",
       "      <td>A77</td>\n",
       "      <td>PRODUCT12</td>\n",
       "      <td>31</td>\n",
       "      <td>1.177750</td>\n",
       "    </tr>\n",
       "    <tr>\n",
       "      <th>41267</th>\n",
       "      <td>A77</td>\n",
       "      <td>PRODUCT12</td>\n",
       "      <td>32</td>\n",
       "      <td>1.057911</td>\n",
       "    </tr>\n",
       "    <tr>\n",
       "      <th>41268</th>\n",
       "      <td>A77</td>\n",
       "      <td>PRODUCT12</td>\n",
       "      <td>33</td>\n",
       "      <td>0.933270</td>\n",
       "    </tr>\n",
       "    <tr>\n",
       "      <th>41269</th>\n",
       "      <td>A77</td>\n",
       "      <td>PRODUCT12</td>\n",
       "      <td>34</td>\n",
       "      <td>1.036881</td>\n",
       "    </tr>\n",
       "    <tr>\n",
       "      <th>41270</th>\n",
       "      <td>A77</td>\n",
       "      <td>PRODUCT12</td>\n",
       "      <td>35</td>\n",
       "      <td>0.933078</td>\n",
       "    </tr>\n",
       "    <tr>\n",
       "      <th>41271</th>\n",
       "      <td>A77</td>\n",
       "      <td>PRODUCT12</td>\n",
       "      <td>36</td>\n",
       "      <td>0.813718</td>\n",
       "    </tr>\n",
       "    <tr>\n",
       "      <th>41272</th>\n",
       "      <td>A77</td>\n",
       "      <td>PRODUCT12</td>\n",
       "      <td>37</td>\n",
       "      <td>0.841374</td>\n",
       "    </tr>\n",
       "    <tr>\n",
       "      <th>41273</th>\n",
       "      <td>A77</td>\n",
       "      <td>PRODUCT12</td>\n",
       "      <td>38</td>\n",
       "      <td>0.981763</td>\n",
       "    </tr>\n",
       "    <tr>\n",
       "      <th>41274</th>\n",
       "      <td>A77</td>\n",
       "      <td>PRODUCT12</td>\n",
       "      <td>39</td>\n",
       "      <td>1.852424</td>\n",
       "    </tr>\n",
       "    <tr>\n",
       "      <th>41275</th>\n",
       "      <td>A77</td>\n",
       "      <td>PRODUCT12</td>\n",
       "      <td>40</td>\n",
       "      <td>0.734305</td>\n",
       "    </tr>\n",
       "    <tr>\n",
       "      <th>41276</th>\n",
       "      <td>A77</td>\n",
       "      <td>PRODUCT12</td>\n",
       "      <td>41</td>\n",
       "      <td>0.923475</td>\n",
       "    </tr>\n",
       "    <tr>\n",
       "      <th>41277</th>\n",
       "      <td>A77</td>\n",
       "      <td>PRODUCT12</td>\n",
       "      <td>42</td>\n",
       "      <td>0.984739</td>\n",
       "    </tr>\n",
       "    <tr>\n",
       "      <th>41278</th>\n",
       "      <td>A77</td>\n",
       "      <td>PRODUCT12</td>\n",
       "      <td>43</td>\n",
       "      <td>1.128009</td>\n",
       "    </tr>\n",
       "    <tr>\n",
       "      <th>41279</th>\n",
       "      <td>A77</td>\n",
       "      <td>PRODUCT12</td>\n",
       "      <td>44</td>\n",
       "      <td>0.808725</td>\n",
       "    </tr>\n",
       "    <tr>\n",
       "      <th>41280</th>\n",
       "      <td>A77</td>\n",
       "      <td>PRODUCT12</td>\n",
       "      <td>45</td>\n",
       "      <td>0.882184</td>\n",
       "    </tr>\n",
       "    <tr>\n",
       "      <th>41281</th>\n",
       "      <td>A77</td>\n",
       "      <td>PRODUCT12</td>\n",
       "      <td>46</td>\n",
       "      <td>1.080092</td>\n",
       "    </tr>\n",
       "    <tr>\n",
       "      <th>41282</th>\n",
       "      <td>A77</td>\n",
       "      <td>PRODUCT12</td>\n",
       "      <td>47</td>\n",
       "      <td>1.076924</td>\n",
       "    </tr>\n",
       "    <tr>\n",
       "      <th>41283</th>\n",
       "      <td>A77</td>\n",
       "      <td>PRODUCT12</td>\n",
       "      <td>48</td>\n",
       "      <td>1.208670</td>\n",
       "    </tr>\n",
       "    <tr>\n",
       "      <th>41284</th>\n",
       "      <td>A77</td>\n",
       "      <td>PRODUCT12</td>\n",
       "      <td>49</td>\n",
       "      <td>1.098241</td>\n",
       "    </tr>\n",
       "    <tr>\n",
       "      <th>41285</th>\n",
       "      <td>A77</td>\n",
       "      <td>PRODUCT12</td>\n",
       "      <td>50</td>\n",
       "      <td>1.313242</td>\n",
       "    </tr>\n",
       "    <tr>\n",
       "      <th>41286</th>\n",
       "      <td>A77</td>\n",
       "      <td>PRODUCT12</td>\n",
       "      <td>51</td>\n",
       "      <td>1.159889</td>\n",
       "    </tr>\n",
       "    <tr>\n",
       "      <th>41287</th>\n",
       "      <td>A77</td>\n",
       "      <td>PRODUCT12</td>\n",
       "      <td>52</td>\n",
       "      <td>1.462657</td>\n",
       "    </tr>\n",
       "  </tbody>\n",
       "</table>\n",
       "<p>41288 rows × 4 columns</p>\n",
       "</div>"
      ],
      "text/plain": [
       "      REGIONID    PRODUCT WEEK  SEASONALITY\n",
       "0          A00  PRODUCT34   01     2.086814\n",
       "1          A00  PRODUCT34   02     2.234620\n",
       "2          A00  PRODUCT34   03     1.773667\n",
       "3          A00  PRODUCT34   04     1.788698\n",
       "4          A00  PRODUCT34   05     1.513128\n",
       "5          A00  PRODUCT34   06     1.287662\n",
       "6          A00  PRODUCT34   07     1.230043\n",
       "7          A00  PRODUCT34   08     1.077227\n",
       "8          A00  PRODUCT34   09     1.305198\n",
       "9          A00  PRODUCT34   10     1.573252\n",
       "10         A00  PRODUCT34   11     1.184950\n",
       "11         A00  PRODUCT34   12     1.039649\n",
       "12         A00  PRODUCT34   13     0.982030\n",
       "13         A00  PRODUCT34   14     0.979525\n",
       "14         A00  PRODUCT34   15     0.836730\n",
       "15         A00  PRODUCT34   16     0.816688\n",
       "16         A00  PRODUCT34   17     0.726502\n",
       "17         A00  PRODUCT34   18     0.568676\n",
       "18         A00  PRODUCT34   19     0.516067\n",
       "19         A00  PRODUCT34   20     0.526088\n",
       "20         A00  PRODUCT34   21     0.521077\n",
       "21         A00  PRODUCT34   22     0.516067\n",
       "22         A00  PRODUCT34   23     0.438406\n",
       "23         A00  PRODUCT34   24     0.398323\n",
       "24         A00  PRODUCT34   25     0.283085\n",
       "25         A00  PRODUCT34   26     0.250518\n",
       "26         A00  PRODUCT34   27     0.308137\n",
       "27         A00  PRODUCT34   28     0.493520\n",
       "28         A00  PRODUCT34   29     1.796213\n",
       "29         A00  PRODUCT34   30     1.407911\n",
       "...        ...        ...  ...          ...\n",
       "41258      A77  PRODUCT12   23     0.933462\n",
       "41259      A77  PRODUCT12   24     0.782702\n",
       "41260      A77  PRODUCT12   25     0.881992\n",
       "41261      A77  PRODUCT12   26     0.857794\n",
       "41262      A77  PRODUCT12   27     0.581433\n",
       "41263      A77  PRODUCT12   28     0.683316\n",
       "41264      A77  PRODUCT12   29     0.729792\n",
       "41265      A77  PRODUCT12   30     1.172565\n",
       "41266      A77  PRODUCT12   31     1.177750\n",
       "41267      A77  PRODUCT12   32     1.057911\n",
       "41268      A77  PRODUCT12   33     0.933270\n",
       "41269      A77  PRODUCT12   34     1.036881\n",
       "41270      A77  PRODUCT12   35     0.933078\n",
       "41271      A77  PRODUCT12   36     0.813718\n",
       "41272      A77  PRODUCT12   37     0.841374\n",
       "41273      A77  PRODUCT12   38     0.981763\n",
       "41274      A77  PRODUCT12   39     1.852424\n",
       "41275      A77  PRODUCT12   40     0.734305\n",
       "41276      A77  PRODUCT12   41     0.923475\n",
       "41277      A77  PRODUCT12   42     0.984739\n",
       "41278      A77  PRODUCT12   43     1.128009\n",
       "41279      A77  PRODUCT12   44     0.808725\n",
       "41280      A77  PRODUCT12   45     0.882184\n",
       "41281      A77  PRODUCT12   46     1.080092\n",
       "41282      A77  PRODUCT12   47     1.076924\n",
       "41283      A77  PRODUCT12   48     1.208670\n",
       "41284      A77  PRODUCT12   49     1.098241\n",
       "41285      A77  PRODUCT12   50     1.313242\n",
       "41286      A77  PRODUCT12   51     1.159889\n",
       "41287      A77  PRODUCT12   52     1.462657\n",
       "\n",
       "[41288 rows x 4 columns]"
      ]
     },
     "execution_count": 107,
     "metadata": {},
     "output_type": "execute_result"
    }
   ],
   "source": [
    "finalReuslt"
   ]
  },
  {
   "cell_type": "code",
   "execution_count": null,
   "metadata": {},
   "outputs": [],
   "source": [
    "seasonMap = finalReuslt.groupby(finalgroupKey)[\"SEASONALITY\"].agg(\"mean\").to_dict()\n",
    "\n",
    "seasonMap[\"A00\",\"PRODUCT34\",\"01\"]\n",
    "\n",
    "(\"A00\",\"PRODUCT34\",\"00\") in seasonMap.keys()"
   ]
  },
  {
   "cell_type": "code",
   "execution_count": 165,
   "metadata": {},
   "outputs": [],
   "source": [
    "emptyColumns = [\"REGIONID\",\"PRODUCT\",\"ITEM\",\"YEARWEEK\",\"QTY\"]"
   ]
  },
  {
   "cell_type": "code",
   "execution_count": 173,
   "metadata": {},
   "outputs": [],
   "source": [
    "emptydf = pd.DataFrame(columns=emptyColumns)"
   ]
  },
  {
   "cell_type": "code",
   "execution_count": 174,
   "metadata": {},
   "outputs": [
    {
     "data": {
      "text/html": [
       "<div>\n",
       "<style scoped>\n",
       "    .dataframe tbody tr th:only-of-type {\n",
       "        vertical-align: middle;\n",
       "    }\n",
       "\n",
       "    .dataframe tbody tr th {\n",
       "        vertical-align: top;\n",
       "    }\n",
       "\n",
       "    .dataframe thead th {\n",
       "        text-align: right;\n",
       "    }\n",
       "</style>\n",
       "<table border=\"1\" class=\"dataframe\">\n",
       "  <thead>\n",
       "    <tr style=\"text-align: right;\">\n",
       "      <th></th>\n",
       "      <th>REGIONID</th>\n",
       "      <th>PRODUCT</th>\n",
       "      <th>ITEM</th>\n",
       "      <th>YEARWEEK</th>\n",
       "      <th>QTY</th>\n",
       "    </tr>\n",
       "  </thead>\n",
       "  <tbody>\n",
       "  </tbody>\n",
       "</table>\n",
       "</div>"
      ],
      "text/plain": [
       "Empty DataFrame\n",
       "Columns: [REGIONID, PRODUCT, ITEM, YEARWEEK, QTY]\n",
       "Index: []"
      ]
     },
     "execution_count": 174,
     "metadata": {},
     "output_type": "execute_result"
    }
   ],
   "source": [
    "emptydf"
   ]
  },
  {
   "cell_type": "code",
   "execution_count": 175,
   "metadata": {},
   "outputs": [],
   "source": [
    "from fintechlab import CommonFunction as cf"
   ]
  },
  {
   "cell_type": "code",
   "execution_count": 176,
   "metadata": {},
   "outputs": [],
   "source": [
    "REGIONID = \"A00\"\n",
    "PRODUCT = \"PRODUCT34\"\n",
    "ITEM = \"ITEM01\"\n",
    "STARTWEEK = \"201925\""
   ]
  },
  {
   "cell_type": "code",
   "execution_count": 177,
   "metadata": {},
   "outputs": [],
   "source": [
    "PAST_WINDOW = 4"
   ]
  },
  {
   "cell_type": "code",
   "execution_count": 178,
   "metadata": {},
   "outputs": [],
   "source": [
    "for i in range(0, PAST_WINDOW):\n",
    "    emptydf = emptydf.append( pd.DataFrame([[REGIONID,\n",
    "                                             PRODUCT,\n",
    "                                             ITEM,\n",
    "                                             cf.\n",
    "                                             preWeek(STARTWEEK,i)\n",
    "                                             ,100+(i*10)]],\n",
    "                                columns = emptyColumns ),\n",
    "                            ignore_index=True)"
   ]
  },
  {
   "cell_type": "code",
   "execution_count": 179,
   "metadata": {},
   "outputs": [
    {
     "data": {
      "text/html": [
       "<div>\n",
       "<style scoped>\n",
       "    .dataframe tbody tr th:only-of-type {\n",
       "        vertical-align: middle;\n",
       "    }\n",
       "\n",
       "    .dataframe tbody tr th {\n",
       "        vertical-align: top;\n",
       "    }\n",
       "\n",
       "    .dataframe thead th {\n",
       "        text-align: right;\n",
       "    }\n",
       "</style>\n",
       "<table border=\"1\" class=\"dataframe\">\n",
       "  <thead>\n",
       "    <tr style=\"text-align: right;\">\n",
       "      <th></th>\n",
       "      <th>REGIONID</th>\n",
       "      <th>PRODUCT</th>\n",
       "      <th>ITEM</th>\n",
       "      <th>YEARWEEK</th>\n",
       "      <th>QTY</th>\n",
       "    </tr>\n",
       "  </thead>\n",
       "  <tbody>\n",
       "    <tr>\n",
       "      <th>0</th>\n",
       "      <td>A00</td>\n",
       "      <td>PRODUCT34</td>\n",
       "      <td>ITEM01</td>\n",
       "      <td>201925</td>\n",
       "      <td>100</td>\n",
       "    </tr>\n",
       "    <tr>\n",
       "      <th>1</th>\n",
       "      <td>A00</td>\n",
       "      <td>PRODUCT34</td>\n",
       "      <td>ITEM01</td>\n",
       "      <td>201924</td>\n",
       "      <td>110</td>\n",
       "    </tr>\n",
       "    <tr>\n",
       "      <th>2</th>\n",
       "      <td>A00</td>\n",
       "      <td>PRODUCT34</td>\n",
       "      <td>ITEM01</td>\n",
       "      <td>201923</td>\n",
       "      <td>120</td>\n",
       "    </tr>\n",
       "    <tr>\n",
       "      <th>3</th>\n",
       "      <td>A00</td>\n",
       "      <td>PRODUCT34</td>\n",
       "      <td>ITEM01</td>\n",
       "      <td>201922</td>\n",
       "      <td>130</td>\n",
       "    </tr>\n",
       "  </tbody>\n",
       "</table>\n",
       "</div>"
      ],
      "text/plain": [
       "  REGIONID    PRODUCT    ITEM YEARWEEK  QTY\n",
       "0      A00  PRODUCT34  ITEM01   201925  100\n",
       "1      A00  PRODUCT34  ITEM01   201924  110\n",
       "2      A00  PRODUCT34  ITEM01   201923  120\n",
       "3      A00  PRODUCT34  ITEM01   201922  130"
      ]
     },
     "execution_count": 179,
     "metadata": {},
     "output_type": "execute_result"
    }
   ],
   "source": [
    "emptydf"
   ]
  },
  {
   "cell_type": "code",
   "execution_count": 210,
   "metadata": {},
   "outputs": [
    {
     "data": {
      "text/plain": [
       "<zip at 0x2701cc14788>"
      ]
     },
     "execution_count": 210,
     "metadata": {},
     "output_type": "execute_result"
    }
   ],
   "source": [
    "zip(qty,predict)"
   ]
  },
  {
   "cell_type": "code",
   "execution_count": 213,
   "metadata": {},
   "outputs": [
    {
     "data": {
      "text/plain": [
       "[(10, 20), (100, 150), (200, 220)]"
      ]
     },
     "execution_count": 213,
     "metadata": {},
     "output_type": "execute_result"
    }
   ],
   "source": [
    "list(zip(qty,predict))"
   ]
  },
  {
   "cell_type": "code",
   "execution_count": 212,
   "metadata": {},
   "outputs": [
    {
     "data": {
      "text/html": [
       "<div>\n",
       "<style scoped>\n",
       "    .dataframe tbody tr th:only-of-type {\n",
       "        vertical-align: middle;\n",
       "    }\n",
       "\n",
       "    .dataframe tbody tr th {\n",
       "        vertical-align: top;\n",
       "    }\n",
       "\n",
       "    .dataframe thead th {\n",
       "        text-align: right;\n",
       "    }\n",
       "</style>\n",
       "<table border=\"1\" class=\"dataframe\">\n",
       "  <thead>\n",
       "    <tr style=\"text-align: right;\">\n",
       "      <th></th>\n",
       "      <th>0</th>\n",
       "      <th>1</th>\n",
       "    </tr>\n",
       "  </thead>\n",
       "  <tbody>\n",
       "    <tr>\n",
       "      <th>0</th>\n",
       "      <td>10</td>\n",
       "      <td>20</td>\n",
       "    </tr>\n",
       "    <tr>\n",
       "      <th>1</th>\n",
       "      <td>100</td>\n",
       "      <td>150</td>\n",
       "    </tr>\n",
       "    <tr>\n",
       "      <th>2</th>\n",
       "      <td>200</td>\n",
       "      <td>220</td>\n",
       "    </tr>\n",
       "  </tbody>\n",
       "</table>\n",
       "</div>"
      ],
      "text/plain": [
       "     0    1\n",
       "0   10   20\n",
       "1  100  150\n",
       "2  200  220"
      ]
     },
     "execution_count": 212,
     "metadata": {},
     "output_type": "execute_result"
    }
   ],
   "source": [
    "qty = [10,100,200]\n",
    "predict = [20, 150, 220]\n",
    "pd.DataFrame(list(zip(qty,predict)))"
   ]
  },
  {
   "cell_type": "code",
   "execution_count": 205,
   "metadata": {},
   "outputs": [],
   "source": [
    "qty = [10,100,200]\n",
    "predict = [20, 150, 220]"
   ]
  },
  {
   "cell_type": "code",
   "execution_count": 207,
   "metadata": {},
   "outputs": [],
   "source": [
    "qtydf= pd.DataFrame(qty)\n",
    "predictdf = pd.DataFrame(predict)"
   ]
  },
  {
   "cell_type": "code",
   "execution_count": 208,
   "metadata": {},
   "outputs": [
    {
     "data": {
      "text/html": [
       "<div>\n",
       "<style scoped>\n",
       "    .dataframe tbody tr th:only-of-type {\n",
       "        vertical-align: middle;\n",
       "    }\n",
       "\n",
       "    .dataframe tbody tr th {\n",
       "        vertical-align: top;\n",
       "    }\n",
       "\n",
       "    .dataframe thead th {\n",
       "        text-align: right;\n",
       "    }\n",
       "</style>\n",
       "<table border=\"1\" class=\"dataframe\">\n",
       "  <thead>\n",
       "    <tr style=\"text-align: right;\">\n",
       "      <th></th>\n",
       "      <th>0</th>\n",
       "      <th>0</th>\n",
       "    </tr>\n",
       "  </thead>\n",
       "  <tbody>\n",
       "    <tr>\n",
       "      <th>0</th>\n",
       "      <td>10</td>\n",
       "      <td>20</td>\n",
       "    </tr>\n",
       "    <tr>\n",
       "      <th>1</th>\n",
       "      <td>100</td>\n",
       "      <td>150</td>\n",
       "    </tr>\n",
       "    <tr>\n",
       "      <th>2</th>\n",
       "      <td>200</td>\n",
       "      <td>220</td>\n",
       "    </tr>\n",
       "  </tbody>\n",
       "</table>\n",
       "</div>"
      ],
      "text/plain": [
       "     0    0\n",
       "0   10   20\n",
       "1  100  150\n",
       "2  200  220"
      ]
     },
     "execution_count": 208,
     "metadata": {},
     "output_type": "execute_result"
    }
   ],
   "source": [
    "pd.concat([qtydf,predictdf], axis=1)"
   ]
  },
  {
   "cell_type": "code",
   "execution_count": 202,
   "metadata": {},
   "outputs": [],
   "source": [
    "import pandas as pd"
   ]
  },
  {
   "cell_type": "code",
   "execution_count": 203,
   "metadata": {},
   "outputs": [],
   "source": [
    "row1 = [\"A01\",\"201501\",0]\n",
    "row2 = [\"A01\",\"201502\",100]"
   ]
  },
  {
   "cell_type": "code",
   "execution_count": 204,
   "metadata": {},
   "outputs": [
    {
     "data": {
      "text/html": [
       "<div>\n",
       "<style scoped>\n",
       "    .dataframe tbody tr th:only-of-type {\n",
       "        vertical-align: middle;\n",
       "    }\n",
       "\n",
       "    .dataframe tbody tr th {\n",
       "        vertical-align: top;\n",
       "    }\n",
       "\n",
       "    .dataframe thead th {\n",
       "        text-align: right;\n",
       "    }\n",
       "</style>\n",
       "<table border=\"1\" class=\"dataframe\">\n",
       "  <thead>\n",
       "    <tr style=\"text-align: right;\">\n",
       "      <th></th>\n",
       "      <th>0</th>\n",
       "      <th>1</th>\n",
       "      <th>2</th>\n",
       "    </tr>\n",
       "  </thead>\n",
       "  <tbody>\n",
       "    <tr>\n",
       "      <th>0</th>\n",
       "      <td>A01</td>\n",
       "      <td>201501</td>\n",
       "      <td>0</td>\n",
       "    </tr>\n",
       "    <tr>\n",
       "      <th>1</th>\n",
       "      <td>A01</td>\n",
       "      <td>201502</td>\n",
       "      <td>100</td>\n",
       "    </tr>\n",
       "  </tbody>\n",
       "</table>\n",
       "</div>"
      ],
      "text/plain": [
       "     0       1    2\n",
       "0  A01  201501    0\n",
       "1  A01  201502  100"
      ]
     },
     "execution_count": 204,
     "metadata": {},
     "output_type": "execute_result"
    }
   ],
   "source": [
    "pd.DataFrame( [row1,row2])"
   ]
  },
  {
   "cell_type": "code",
   "execution_count": null,
   "metadata": {},
   "outputs": [],
   "source": []
  },
  {
   "cell_type": "code",
   "execution_count": null,
   "metadata": {},
   "outputs": [],
   "source": []
  },
  {
   "cell_type": "code",
   "execution_count": 149,
   "metadata": {},
   "outputs": [],
   "source": [
    "from fintechlab import CommonFunction as cf"
   ]
  },
  {
   "cell_type": "code",
   "execution_count": 214,
   "metadata": {},
   "outputs": [
    {
     "data": {
      "text/html": [
       "<div>\n",
       "<style scoped>\n",
       "    .dataframe tbody tr th:only-of-type {\n",
       "        vertical-align: middle;\n",
       "    }\n",
       "\n",
       "    .dataframe tbody tr th {\n",
       "        vertical-align: top;\n",
       "    }\n",
       "\n",
       "    .dataframe thead th {\n",
       "        text-align: right;\n",
       "    }\n",
       "</style>\n",
       "<table border=\"1\" class=\"dataframe\">\n",
       "  <thead>\n",
       "    <tr style=\"text-align: right;\">\n",
       "      <th></th>\n",
       "      <th>REGIONID</th>\n",
       "      <th>PRODUCT</th>\n",
       "      <th>ITEM</th>\n",
       "      <th>YEARWEEK</th>\n",
       "      <th>QTY</th>\n",
       "    </tr>\n",
       "  </thead>\n",
       "  <tbody>\n",
       "    <tr>\n",
       "      <th>0</th>\n",
       "      <td>A00</td>\n",
       "      <td>PRODUCT34</td>\n",
       "      <td>ITEM01</td>\n",
       "      <td>201925</td>\n",
       "      <td>100</td>\n",
       "    </tr>\n",
       "    <tr>\n",
       "      <th>1</th>\n",
       "      <td>A00</td>\n",
       "      <td>PRODUCT34</td>\n",
       "      <td>ITEM01</td>\n",
       "      <td>201924</td>\n",
       "      <td>110</td>\n",
       "    </tr>\n",
       "    <tr>\n",
       "      <th>2</th>\n",
       "      <td>A00</td>\n",
       "      <td>PRODUCT34</td>\n",
       "      <td>ITEM01</td>\n",
       "      <td>201923</td>\n",
       "      <td>120</td>\n",
       "    </tr>\n",
       "    <tr>\n",
       "      <th>3</th>\n",
       "      <td>A00</td>\n",
       "      <td>PRODUCT34</td>\n",
       "      <td>ITEM01</td>\n",
       "      <td>201922</td>\n",
       "      <td>130</td>\n",
       "    </tr>\n",
       "  </tbody>\n",
       "</table>\n",
       "</div>"
      ],
      "text/plain": [
       "  REGIONID    PRODUCT    ITEM YEARWEEK  QTY\n",
       "0      A00  PRODUCT34  ITEM01   201925  100\n",
       "1      A00  PRODUCT34  ITEM01   201924  110\n",
       "2      A00  PRODUCT34  ITEM01   201923  120\n",
       "3      A00  PRODUCT34  ITEM01   201922  130"
      ]
     },
     "execution_count": 214,
     "metadata": {},
     "output_type": "execute_result"
    }
   ],
   "source": [
    "emptydf"
   ]
  },
  {
   "cell_type": "code",
   "execution_count": 215,
   "metadata": {},
   "outputs": [
    {
     "data": {
      "text/plain": [
       "115.0"
      ]
     },
     "execution_count": 215,
     "metadata": {},
     "output_type": "execute_result"
    }
   ],
   "source": [
    "emptydf.QTY.mean()"
   ]
  },
  {
   "cell_type": "code",
   "execution_count": 188,
   "metadata": {},
   "outputs": [],
   "source": [
    "stdQty = emptydf.QTY.mean()"
   ]
  },
  {
   "cell_type": "code",
   "execution_count": 216,
   "metadata": {},
   "outputs": [
    {
     "data": {
      "text/plain": [
       "0    25\n",
       "1    24\n",
       "2    23\n",
       "3    22\n",
       "Name: YEARWEEK, dtype: object"
      ]
     },
     "execution_count": 216,
     "metadata": {},
     "output_type": "execute_result"
    }
   ],
   "source": [
    "weekList = emptydf.YEARWEEK.str[4:6]"
   ]
  },
  {
   "cell_type": "code",
   "execution_count": 193,
   "metadata": {},
   "outputs": [],
   "source": [
    "weekList = emptydf.YEARWEEK.str[4:6]\n",
    "seasonList = []\n",
    "for i in weekList:\n",
    "    seasonList.append(seasonMap[REGIONID,PRODUCT,i])"
   ]
  },
  {
   "cell_type": "code",
   "execution_count": 200,
   "metadata": {},
   "outputs": [
    {
     "data": {
      "text/plain": [
       "0.40897046779399715"
      ]
     },
     "execution_count": 200,
     "metadata": {},
     "output_type": "execute_result"
    }
   ],
   "source": [
    "stdSeasonality = sum(seasonList) / len(seasonList)\n",
    "stdSeasonality"
   ]
  },
  {
   "cell_type": "code",
   "execution_count": 201,
   "metadata": {},
   "outputs": [
    {
     "data": {
      "text/plain": [
       "115.0"
      ]
     },
     "execution_count": 201,
     "metadata": {},
     "output_type": "execute_result"
    }
   ],
   "source": [
    "stdQty"
   ]
  },
  {
   "cell_type": "code",
   "execution_count": 220,
   "metadata": {},
   "outputs": [],
   "source": [
    "FCST_WINDOW = 5"
   ]
  },
  {
   "cell_type": "code",
   "execution_count": 221,
   "metadata": {},
   "outputs": [
    {
     "data": {
      "text/plain": [
       "'201925'"
      ]
     },
     "execution_count": 221,
     "metadata": {},
     "output_type": "execute_result"
    }
   ],
   "source": [
    "STARTWEEK"
   ]
  },
  {
   "cell_type": "code",
   "execution_count": 222,
   "metadata": {},
   "outputs": [],
   "source": [
    "for i in range(0, FCST_WINDOW):\n",
    "    emptydf = emptydf.append( pd.DataFrame( [[REGIONID, \n",
    "                                              PRODUCT, \n",
    "                                              ITEM,   \n",
    "                                              cf.postWeek(STARTWEEK,i+1),0]],\n",
    "                                          columns=emptyColumns),\n",
    "                            ignore_index=True)"
   ]
  },
  {
   "cell_type": "code",
   "execution_count": 224,
   "metadata": {},
   "outputs": [],
   "source": [
    "emptydf[\"FCST\"] = 0\n",
    "emptydf[\"AVG_QTY\"] = stdQty\n",
    "emptydf[\"AVG_SEASON\"] = stdSeasonality"
   ]
  },
  {
   "cell_type": "code",
   "execution_count": 250,
   "metadata": {},
   "outputs": [],
   "source": [
    "def seasonmapping(yearweek):\n",
    "    week = yearweek[4:6]\n",
    "    seasonality = seasonMap[REGIONID,PRODUCT,week]\n",
    "    return seasonality"
   ]
  },
  {
   "cell_type": "code",
   "execution_count": 251,
   "metadata": {},
   "outputs": [],
   "source": [
    "emptydf[\"SEASONALITY\"] = emptydf[\"YEARWEEK\"].apply(seasonmapping)"
   ]
  },
  {
   "cell_type": "markdown",
   "metadata": {},
   "source": [
    "##### 예측값 = 최근 한달간 판매량 / 최근 한단갈 계절성 지수 * 예측주차의 계절성지수"
   ]
  },
  {
   "cell_type": "code",
   "execution_count": 253,
   "metadata": {},
   "outputs": [],
   "source": [
    "emptydf[\"FCST\"] = emptydf.AVG_QTY/emptydf.AVG_SEASON * emptydf.SEASONALITY"
   ]
  },
  {
   "cell_type": "code",
   "execution_count": 256,
   "metadata": {},
   "outputs": [
    {
     "data": {
      "text/plain": [
       "'201925'"
      ]
     },
     "execution_count": 256,
     "metadata": {},
     "output_type": "execute_result"
    }
   ],
   "source": [
    "STARTWEEK"
   ]
  },
  {
   "cell_type": "code",
   "execution_count": 265,
   "metadata": {},
   "outputs": [
    {
     "data": {
      "text/plain": [
       "0    0.0\n",
       "1    0.0\n",
       "2    0.0\n",
       "3    0.0\n",
       "Name: FCST, dtype: float64"
      ]
     },
     "execution_count": 265,
     "metadata": {},
     "output_type": "execute_result"
    }
   ],
   "source": [
    "emptydf[emptydf.YEARWEEK.astype(int)<=int(STARTWEEK)][\"FCST\"]"
   ]
  },
  {
   "cell_type": "code",
   "execution_count": 258,
   "metadata": {},
   "outputs": [],
   "source": [
    "emptydf.loc[emptydf.YEARWEEK.astype(int)<=int(STARTWEEK), \"FCST\"] = 0"
   ]
  },
  {
   "cell_type": "code",
   "execution_count": 264,
   "metadata": {},
   "outputs": [
    {
     "data": {
      "text/html": [
       "<div>\n",
       "<style scoped>\n",
       "    .dataframe tbody tr th:only-of-type {\n",
       "        vertical-align: middle;\n",
       "    }\n",
       "\n",
       "    .dataframe tbody tr th {\n",
       "        vertical-align: top;\n",
       "    }\n",
       "\n",
       "    .dataframe thead th {\n",
       "        text-align: right;\n",
       "    }\n",
       "</style>\n",
       "<table border=\"1\" class=\"dataframe\">\n",
       "  <thead>\n",
       "    <tr style=\"text-align: right;\">\n",
       "      <th></th>\n",
       "      <th>REGIONID</th>\n",
       "      <th>PRODUCT</th>\n",
       "      <th>ITEM</th>\n",
       "      <th>YEARWEEK</th>\n",
       "      <th>QTY</th>\n",
       "      <th>FCST</th>\n",
       "      <th>AVG_QTY</th>\n",
       "      <th>AVG_SEASON</th>\n",
       "      <th>SEASONALITY</th>\n",
       "      <th>WEEK</th>\n",
       "    </tr>\n",
       "  </thead>\n",
       "  <tbody>\n",
       "    <tr>\n",
       "      <th>0</th>\n",
       "      <td>A00</td>\n",
       "      <td>PRODUCT34</td>\n",
       "      <td>ITEM01</td>\n",
       "      <td>201925</td>\n",
       "      <td>100</td>\n",
       "      <td>0.000000</td>\n",
       "      <td>115.0</td>\n",
       "      <td>0.40897</td>\n",
       "      <td>0.283085</td>\n",
       "      <td>25</td>\n",
       "    </tr>\n",
       "    <tr>\n",
       "      <th>1</th>\n",
       "      <td>A00</td>\n",
       "      <td>PRODUCT34</td>\n",
       "      <td>ITEM01</td>\n",
       "      <td>201924</td>\n",
       "      <td>110</td>\n",
       "      <td>0.000000</td>\n",
       "      <td>115.0</td>\n",
       "      <td>0.40897</td>\n",
       "      <td>0.398323</td>\n",
       "      <td>24</td>\n",
       "    </tr>\n",
       "    <tr>\n",
       "      <th>2</th>\n",
       "      <td>A00</td>\n",
       "      <td>PRODUCT34</td>\n",
       "      <td>ITEM01</td>\n",
       "      <td>201923</td>\n",
       "      <td>120</td>\n",
       "      <td>0.000000</td>\n",
       "      <td>115.0</td>\n",
       "      <td>0.40897</td>\n",
       "      <td>0.438406</td>\n",
       "      <td>23</td>\n",
       "    </tr>\n",
       "    <tr>\n",
       "      <th>3</th>\n",
       "      <td>A00</td>\n",
       "      <td>PRODUCT34</td>\n",
       "      <td>ITEM01</td>\n",
       "      <td>201922</td>\n",
       "      <td>130</td>\n",
       "      <td>0.000000</td>\n",
       "      <td>115.0</td>\n",
       "      <td>0.40897</td>\n",
       "      <td>0.516067</td>\n",
       "      <td>22</td>\n",
       "    </tr>\n",
       "    <tr>\n",
       "      <th>4</th>\n",
       "      <td>A00</td>\n",
       "      <td>PRODUCT34</td>\n",
       "      <td>ITEM01</td>\n",
       "      <td>201926</td>\n",
       "      <td>0</td>\n",
       "      <td>70.444104</td>\n",
       "      <td>115.0</td>\n",
       "      <td>0.40897</td>\n",
       "      <td>0.250518</td>\n",
       "      <td>26</td>\n",
       "    </tr>\n",
       "    <tr>\n",
       "      <th>5</th>\n",
       "      <td>A00</td>\n",
       "      <td>PRODUCT34</td>\n",
       "      <td>ITEM01</td>\n",
       "      <td>201927</td>\n",
       "      <td>0</td>\n",
       "      <td>86.646248</td>\n",
       "      <td>115.0</td>\n",
       "      <td>0.40897</td>\n",
       "      <td>0.308137</td>\n",
       "      <td>27</td>\n",
       "    </tr>\n",
       "    <tr>\n",
       "      <th>6</th>\n",
       "      <td>A00</td>\n",
       "      <td>PRODUCT34</td>\n",
       "      <td>ITEM01</td>\n",
       "      <td>201928</td>\n",
       "      <td>0</td>\n",
       "      <td>138.774885</td>\n",
       "      <td>115.0</td>\n",
       "      <td>0.40897</td>\n",
       "      <td>0.493520</td>\n",
       "      <td>28</td>\n",
       "    </tr>\n",
       "    <tr>\n",
       "      <th>7</th>\n",
       "      <td>A00</td>\n",
       "      <td>PRODUCT34</td>\n",
       "      <td>ITEM01</td>\n",
       "      <td>201929</td>\n",
       "      <td>0</td>\n",
       "      <td>505.084227</td>\n",
       "      <td>115.0</td>\n",
       "      <td>0.40897</td>\n",
       "      <td>1.796213</td>\n",
       "      <td>29</td>\n",
       "    </tr>\n",
       "    <tr>\n",
       "      <th>8</th>\n",
       "      <td>A00</td>\n",
       "      <td>PRODUCT34</td>\n",
       "      <td>ITEM01</td>\n",
       "      <td>201930</td>\n",
       "      <td>0</td>\n",
       "      <td>395.895865</td>\n",
       "      <td>115.0</td>\n",
       "      <td>0.40897</td>\n",
       "      <td>1.407911</td>\n",
       "      <td>30</td>\n",
       "    </tr>\n",
       "  </tbody>\n",
       "</table>\n",
       "</div>"
      ],
      "text/plain": [
       "  REGIONID    PRODUCT    ITEM YEARWEEK  QTY        FCST  AVG_QTY  AVG_SEASON  \\\n",
       "0      A00  PRODUCT34  ITEM01   201925  100    0.000000    115.0     0.40897   \n",
       "1      A00  PRODUCT34  ITEM01   201924  110    0.000000    115.0     0.40897   \n",
       "2      A00  PRODUCT34  ITEM01   201923  120    0.000000    115.0     0.40897   \n",
       "3      A00  PRODUCT34  ITEM01   201922  130    0.000000    115.0     0.40897   \n",
       "4      A00  PRODUCT34  ITEM01   201926    0   70.444104    115.0     0.40897   \n",
       "5      A00  PRODUCT34  ITEM01   201927    0   86.646248    115.0     0.40897   \n",
       "6      A00  PRODUCT34  ITEM01   201928    0  138.774885    115.0     0.40897   \n",
       "7      A00  PRODUCT34  ITEM01   201929    0  505.084227    115.0     0.40897   \n",
       "8      A00  PRODUCT34  ITEM01   201930    0  395.895865    115.0     0.40897   \n",
       "\n",
       "   SEASONALITY WEEK  \n",
       "0     0.283085   25  \n",
       "1     0.398323   24  \n",
       "2     0.438406   23  \n",
       "3     0.516067   22  \n",
       "4     0.250518   26  \n",
       "5     0.308137   27  \n",
       "6     0.493520   28  \n",
       "7     1.796213   29  \n",
       "8     1.407911   30  "
      ]
     },
     "execution_count": 264,
     "metadata": {},
     "output_type": "execute_result"
    }
   ],
   "source": [
    "emptydf"
   ]
  },
  {
   "cell_type": "code",
   "execution_count": 277,
   "metadata": {},
   "outputs": [],
   "source": [
    "def allFunction(columns):\n",
    "    result = columns[4:6]\n",
    "    return result"
   ]
  },
  {
   "cell_type": "code",
   "execution_count": 278,
   "metadata": {},
   "outputs": [
    {
     "data": {
      "text/plain": [
       "0    25\n",
       "1    24\n",
       "2    23\n",
       "3    22\n",
       "4    26\n",
       "5    27\n",
       "6    28\n",
       "7    29\n",
       "8    30\n",
       "Name: YEARWEEK, dtype: object"
      ]
     },
     "execution_count": 278,
     "metadata": {},
     "output_type": "execute_result"
    }
   ],
   "source": [
    "emptydf[\"YEARWEEK\"].apply(allFunction)"
   ]
  },
  {
   "cell_type": "code",
   "execution_count": 279,
   "metadata": {},
   "outputs": [],
   "source": [
    "def allFunction(df):\n",
    "    avg_qty = df.AVG_QTY \n",
    "    qty =  df.QTY\n",
    "    seasonality = seasonMap[REGIONID,PRODUCT,\"01\"]\n",
    "    df[\"aaa\"] = avg_qty*qty+seasonality\n",
    "    return df"
   ]
  },
  {
   "cell_type": "code",
   "execution_count": 280,
   "metadata": {},
   "outputs": [
    {
     "data": {
      "text/html": [
       "<div>\n",
       "<style scoped>\n",
       "    .dataframe tbody tr th:only-of-type {\n",
       "        vertical-align: middle;\n",
       "    }\n",
       "\n",
       "    .dataframe tbody tr th {\n",
       "        vertical-align: top;\n",
       "    }\n",
       "\n",
       "    .dataframe thead th {\n",
       "        text-align: right;\n",
       "    }\n",
       "</style>\n",
       "<table border=\"1\" class=\"dataframe\">\n",
       "  <thead>\n",
       "    <tr style=\"text-align: right;\">\n",
       "      <th></th>\n",
       "      <th>REGIONID</th>\n",
       "      <th>PRODUCT</th>\n",
       "      <th>ITEM</th>\n",
       "      <th>YEARWEEK</th>\n",
       "      <th>QTY</th>\n",
       "      <th>FCST</th>\n",
       "      <th>AVG_QTY</th>\n",
       "      <th>AVG_SEASON</th>\n",
       "      <th>SEASONALITY</th>\n",
       "      <th>WEEK</th>\n",
       "      <th>aaa</th>\n",
       "    </tr>\n",
       "  </thead>\n",
       "  <tbody>\n",
       "    <tr>\n",
       "      <th>0</th>\n",
       "      <td>A00</td>\n",
       "      <td>PRODUCT34</td>\n",
       "      <td>ITEM01</td>\n",
       "      <td>201925</td>\n",
       "      <td>100</td>\n",
       "      <td>0.000000</td>\n",
       "      <td>115.0</td>\n",
       "      <td>0.40897</td>\n",
       "      <td>0.283085</td>\n",
       "      <td>25</td>\n",
       "      <td>11502.086814</td>\n",
       "    </tr>\n",
       "    <tr>\n",
       "      <th>1</th>\n",
       "      <td>A00</td>\n",
       "      <td>PRODUCT34</td>\n",
       "      <td>ITEM01</td>\n",
       "      <td>201924</td>\n",
       "      <td>110</td>\n",
       "      <td>0.000000</td>\n",
       "      <td>115.0</td>\n",
       "      <td>0.40897</td>\n",
       "      <td>0.398323</td>\n",
       "      <td>24</td>\n",
       "      <td>12652.086814</td>\n",
       "    </tr>\n",
       "    <tr>\n",
       "      <th>2</th>\n",
       "      <td>A00</td>\n",
       "      <td>PRODUCT34</td>\n",
       "      <td>ITEM01</td>\n",
       "      <td>201923</td>\n",
       "      <td>120</td>\n",
       "      <td>0.000000</td>\n",
       "      <td>115.0</td>\n",
       "      <td>0.40897</td>\n",
       "      <td>0.438406</td>\n",
       "      <td>23</td>\n",
       "      <td>13802.086814</td>\n",
       "    </tr>\n",
       "    <tr>\n",
       "      <th>3</th>\n",
       "      <td>A00</td>\n",
       "      <td>PRODUCT34</td>\n",
       "      <td>ITEM01</td>\n",
       "      <td>201922</td>\n",
       "      <td>130</td>\n",
       "      <td>0.000000</td>\n",
       "      <td>115.0</td>\n",
       "      <td>0.40897</td>\n",
       "      <td>0.516067</td>\n",
       "      <td>22</td>\n",
       "      <td>14952.086814</td>\n",
       "    </tr>\n",
       "    <tr>\n",
       "      <th>4</th>\n",
       "      <td>A00</td>\n",
       "      <td>PRODUCT34</td>\n",
       "      <td>ITEM01</td>\n",
       "      <td>201926</td>\n",
       "      <td>0</td>\n",
       "      <td>70.444104</td>\n",
       "      <td>115.0</td>\n",
       "      <td>0.40897</td>\n",
       "      <td>0.250518</td>\n",
       "      <td>26</td>\n",
       "      <td>2.086814</td>\n",
       "    </tr>\n",
       "    <tr>\n",
       "      <th>5</th>\n",
       "      <td>A00</td>\n",
       "      <td>PRODUCT34</td>\n",
       "      <td>ITEM01</td>\n",
       "      <td>201927</td>\n",
       "      <td>0</td>\n",
       "      <td>86.646248</td>\n",
       "      <td>115.0</td>\n",
       "      <td>0.40897</td>\n",
       "      <td>0.308137</td>\n",
       "      <td>27</td>\n",
       "      <td>2.086814</td>\n",
       "    </tr>\n",
       "    <tr>\n",
       "      <th>6</th>\n",
       "      <td>A00</td>\n",
       "      <td>PRODUCT34</td>\n",
       "      <td>ITEM01</td>\n",
       "      <td>201928</td>\n",
       "      <td>0</td>\n",
       "      <td>138.774885</td>\n",
       "      <td>115.0</td>\n",
       "      <td>0.40897</td>\n",
       "      <td>0.493520</td>\n",
       "      <td>28</td>\n",
       "      <td>2.086814</td>\n",
       "    </tr>\n",
       "    <tr>\n",
       "      <th>7</th>\n",
       "      <td>A00</td>\n",
       "      <td>PRODUCT34</td>\n",
       "      <td>ITEM01</td>\n",
       "      <td>201929</td>\n",
       "      <td>0</td>\n",
       "      <td>505.084227</td>\n",
       "      <td>115.0</td>\n",
       "      <td>0.40897</td>\n",
       "      <td>1.796213</td>\n",
       "      <td>29</td>\n",
       "      <td>2.086814</td>\n",
       "    </tr>\n",
       "    <tr>\n",
       "      <th>8</th>\n",
       "      <td>A00</td>\n",
       "      <td>PRODUCT34</td>\n",
       "      <td>ITEM01</td>\n",
       "      <td>201930</td>\n",
       "      <td>0</td>\n",
       "      <td>395.895865</td>\n",
       "      <td>115.0</td>\n",
       "      <td>0.40897</td>\n",
       "      <td>1.407911</td>\n",
       "      <td>30</td>\n",
       "      <td>2.086814</td>\n",
       "    </tr>\n",
       "  </tbody>\n",
       "</table>\n",
       "</div>"
      ],
      "text/plain": [
       "  REGIONID    PRODUCT    ITEM YEARWEEK  QTY        FCST  AVG_QTY  AVG_SEASON  \\\n",
       "0      A00  PRODUCT34  ITEM01   201925  100    0.000000    115.0     0.40897   \n",
       "1      A00  PRODUCT34  ITEM01   201924  110    0.000000    115.0     0.40897   \n",
       "2      A00  PRODUCT34  ITEM01   201923  120    0.000000    115.0     0.40897   \n",
       "3      A00  PRODUCT34  ITEM01   201922  130    0.000000    115.0     0.40897   \n",
       "4      A00  PRODUCT34  ITEM01   201926    0   70.444104    115.0     0.40897   \n",
       "5      A00  PRODUCT34  ITEM01   201927    0   86.646248    115.0     0.40897   \n",
       "6      A00  PRODUCT34  ITEM01   201928    0  138.774885    115.0     0.40897   \n",
       "7      A00  PRODUCT34  ITEM01   201929    0  505.084227    115.0     0.40897   \n",
       "8      A00  PRODUCT34  ITEM01   201930    0  395.895865    115.0     0.40897   \n",
       "\n",
       "   SEASONALITY WEEK           aaa  \n",
       "0     0.283085   25  11502.086814  \n",
       "1     0.398323   24  12652.086814  \n",
       "2     0.438406   23  13802.086814  \n",
       "3     0.516067   22  14952.086814  \n",
       "4     0.250518   26      2.086814  \n",
       "5     0.308137   27      2.086814  \n",
       "6     0.493520   28      2.086814  \n",
       "7     1.796213   29      2.086814  \n",
       "8     1.407911   30      2.086814  "
      ]
     },
     "execution_count": 280,
     "metadata": {},
     "output_type": "execute_result"
    }
   ],
   "source": [
    "emptydf.apply(allFunction, axis = 1)"
   ]
  },
  {
   "cell_type": "code",
   "execution_count": null,
   "metadata": {},
   "outputs": [],
   "source": []
  },
  {
   "cell_type": "code",
   "execution_count": null,
   "metadata": {},
   "outputs": [],
   "source": []
  },
  {
   "cell_type": "code",
   "execution_count": 227,
   "metadata": {},
   "outputs": [],
   "source": [
    "def seasonmapping(incol):\n",
    "    week = incol[4:6]\n",
    "    seasonality = seasonMap[REGIONID,PRODUCT,week]\n",
    "    return seasonality"
   ]
  },
  {
   "cell_type": "code",
   "execution_count": 230,
   "metadata": {},
   "outputs": [],
   "source": [
    "emptydf[\"SEASONALITY\"] = emptydf[\"YEARWEEK\"].apply(seasonmapping)"
   ]
  },
  {
   "cell_type": "code",
   "execution_count": 231,
   "metadata": {},
   "outputs": [
    {
     "data": {
      "text/html": [
       "<div>\n",
       "<style scoped>\n",
       "    .dataframe tbody tr th:only-of-type {\n",
       "        vertical-align: middle;\n",
       "    }\n",
       "\n",
       "    .dataframe tbody tr th {\n",
       "        vertical-align: top;\n",
       "    }\n",
       "\n",
       "    .dataframe thead th {\n",
       "        text-align: right;\n",
       "    }\n",
       "</style>\n",
       "<table border=\"1\" class=\"dataframe\">\n",
       "  <thead>\n",
       "    <tr style=\"text-align: right;\">\n",
       "      <th></th>\n",
       "      <th>REGIONID</th>\n",
       "      <th>PRODUCT</th>\n",
       "      <th>ITEM</th>\n",
       "      <th>YEARWEEK</th>\n",
       "      <th>QTY</th>\n",
       "      <th>FCST</th>\n",
       "      <th>AVG_QTY</th>\n",
       "      <th>AVG_SEASON</th>\n",
       "      <th>SEASONALITY</th>\n",
       "    </tr>\n",
       "  </thead>\n",
       "  <tbody>\n",
       "    <tr>\n",
       "      <th>0</th>\n",
       "      <td>A00</td>\n",
       "      <td>PRODUCT34</td>\n",
       "      <td>ITEM01</td>\n",
       "      <td>201925</td>\n",
       "      <td>100</td>\n",
       "      <td>0</td>\n",
       "      <td>115.0</td>\n",
       "      <td>0.40897</td>\n",
       "      <td>0.283085</td>\n",
       "    </tr>\n",
       "    <tr>\n",
       "      <th>1</th>\n",
       "      <td>A00</td>\n",
       "      <td>PRODUCT34</td>\n",
       "      <td>ITEM01</td>\n",
       "      <td>201924</td>\n",
       "      <td>110</td>\n",
       "      <td>0</td>\n",
       "      <td>115.0</td>\n",
       "      <td>0.40897</td>\n",
       "      <td>0.398323</td>\n",
       "    </tr>\n",
       "    <tr>\n",
       "      <th>2</th>\n",
       "      <td>A00</td>\n",
       "      <td>PRODUCT34</td>\n",
       "      <td>ITEM01</td>\n",
       "      <td>201923</td>\n",
       "      <td>120</td>\n",
       "      <td>0</td>\n",
       "      <td>115.0</td>\n",
       "      <td>0.40897</td>\n",
       "      <td>0.438406</td>\n",
       "    </tr>\n",
       "    <tr>\n",
       "      <th>3</th>\n",
       "      <td>A00</td>\n",
       "      <td>PRODUCT34</td>\n",
       "      <td>ITEM01</td>\n",
       "      <td>201922</td>\n",
       "      <td>130</td>\n",
       "      <td>0</td>\n",
       "      <td>115.0</td>\n",
       "      <td>0.40897</td>\n",
       "      <td>0.516067</td>\n",
       "    </tr>\n",
       "    <tr>\n",
       "      <th>4</th>\n",
       "      <td>A00</td>\n",
       "      <td>PRODUCT34</td>\n",
       "      <td>ITEM01</td>\n",
       "      <td>201926</td>\n",
       "      <td>0</td>\n",
       "      <td>0</td>\n",
       "      <td>115.0</td>\n",
       "      <td>0.40897</td>\n",
       "      <td>0.250518</td>\n",
       "    </tr>\n",
       "    <tr>\n",
       "      <th>5</th>\n",
       "      <td>A00</td>\n",
       "      <td>PRODUCT34</td>\n",
       "      <td>ITEM01</td>\n",
       "      <td>201927</td>\n",
       "      <td>0</td>\n",
       "      <td>0</td>\n",
       "      <td>115.0</td>\n",
       "      <td>0.40897</td>\n",
       "      <td>0.308137</td>\n",
       "    </tr>\n",
       "    <tr>\n",
       "      <th>6</th>\n",
       "      <td>A00</td>\n",
       "      <td>PRODUCT34</td>\n",
       "      <td>ITEM01</td>\n",
       "      <td>201928</td>\n",
       "      <td>0</td>\n",
       "      <td>0</td>\n",
       "      <td>115.0</td>\n",
       "      <td>0.40897</td>\n",
       "      <td>0.493520</td>\n",
       "    </tr>\n",
       "    <tr>\n",
       "      <th>7</th>\n",
       "      <td>A00</td>\n",
       "      <td>PRODUCT34</td>\n",
       "      <td>ITEM01</td>\n",
       "      <td>201929</td>\n",
       "      <td>0</td>\n",
       "      <td>0</td>\n",
       "      <td>115.0</td>\n",
       "      <td>0.40897</td>\n",
       "      <td>1.796213</td>\n",
       "    </tr>\n",
       "    <tr>\n",
       "      <th>8</th>\n",
       "      <td>A00</td>\n",
       "      <td>PRODUCT34</td>\n",
       "      <td>ITEM01</td>\n",
       "      <td>201930</td>\n",
       "      <td>0</td>\n",
       "      <td>0</td>\n",
       "      <td>115.0</td>\n",
       "      <td>0.40897</td>\n",
       "      <td>1.407911</td>\n",
       "    </tr>\n",
       "  </tbody>\n",
       "</table>\n",
       "</div>"
      ],
      "text/plain": [
       "  REGIONID    PRODUCT    ITEM YEARWEEK  QTY  FCST  AVG_QTY  AVG_SEASON  \\\n",
       "0      A00  PRODUCT34  ITEM01   201925  100     0    115.0     0.40897   \n",
       "1      A00  PRODUCT34  ITEM01   201924  110     0    115.0     0.40897   \n",
       "2      A00  PRODUCT34  ITEM01   201923  120     0    115.0     0.40897   \n",
       "3      A00  PRODUCT34  ITEM01   201922  130     0    115.0     0.40897   \n",
       "4      A00  PRODUCT34  ITEM01   201926    0     0    115.0     0.40897   \n",
       "5      A00  PRODUCT34  ITEM01   201927    0     0    115.0     0.40897   \n",
       "6      A00  PRODUCT34  ITEM01   201928    0     0    115.0     0.40897   \n",
       "7      A00  PRODUCT34  ITEM01   201929    0     0    115.0     0.40897   \n",
       "8      A00  PRODUCT34  ITEM01   201930    0     0    115.0     0.40897   \n",
       "\n",
       "   SEASONALITY  \n",
       "0     0.283085  \n",
       "1     0.398323  \n",
       "2     0.438406  \n",
       "3     0.516067  \n",
       "4     0.250518  \n",
       "5     0.308137  \n",
       "6     0.493520  \n",
       "7     1.796213  \n",
       "8     1.407911  "
      ]
     },
     "execution_count": 231,
     "metadata": {},
     "output_type": "execute_result"
    }
   ],
   "source": [
    "emptydf"
   ]
  },
  {
   "cell_type": "code",
   "execution_count": null,
   "metadata": {},
   "outputs": [],
   "source": []
  },
  {
   "cell_type": "code",
   "execution_count": 150,
   "metadata": {},
   "outputs": [
    {
     "data": {
      "text/plain": [
       "'201924'"
      ]
     },
     "execution_count": 150,
     "metadata": {},
     "output_type": "execute_result"
    }
   ],
   "source": [
    "cf.preWeek(\"201925\",1)"
   ]
  },
  {
   "cell_type": "code",
   "execution_count": null,
   "metadata": {},
   "outputs": [],
   "source": [
    "print(seasonMap[\"A00\",\"PRODUCT34\",\"22\"])"
   ]
  },
  {
   "cell_type": "code",
   "execution_count": null,
   "metadata": {},
   "outputs": [],
   "source": []
  },
  {
   "cell_type": "code",
   "execution_count": null,
   "metadata": {},
   "outputs": [],
   "source": []
  },
  {
   "cell_type": "code",
   "execution_count": null,
   "metadata": {},
   "outputs": [],
   "source": []
  },
  {
   "cell_type": "code",
   "execution_count": null,
   "metadata": {},
   "outputs": [],
   "source": []
  },
  {
   "cell_type": "code",
   "execution_count": null,
   "metadata": {},
   "outputs": [],
   "source": []
  },
  {
   "cell_type": "code",
   "execution_count": null,
   "metadata": {},
   "outputs": [],
   "source": []
  },
  {
   "cell_type": "code",
   "execution_count": null,
   "metadata": {},
   "outputs": [],
   "source": []
  },
  {
   "cell_type": "code",
   "execution_count": null,
   "metadata": {},
   "outputs": [],
   "source": []
  },
  {
   "cell_type": "code",
   "execution_count": null,
   "metadata": {},
   "outputs": [],
   "source": []
  },
  {
   "cell_type": "code",
   "execution_count": null,
   "metadata": {},
   "outputs": [],
   "source": []
  },
  {
   "cell_type": "code",
   "execution_count": null,
   "metadata": {},
   "outputs": [],
   "source": []
  },
  {
   "cell_type": "code",
   "execution_count": null,
   "metadata": {},
   "outputs": [],
   "source": []
  },
  {
   "cell_type": "code",
   "execution_count": null,
   "metadata": {},
   "outputs": [],
   "source": []
  },
  {
   "cell_type": "code",
   "execution_count": null,
   "metadata": {},
   "outputs": [],
   "source": []
  },
  {
   "cell_type": "code",
   "execution_count": null,
   "metadata": {},
   "outputs": [],
   "source": []
  },
  {
   "cell_type": "code",
   "execution_count": null,
   "metadata": {},
   "outputs": [],
   "source": []
  },
  {
   "cell_type": "code",
   "execution_count": null,
   "metadata": {},
   "outputs": [],
   "source": []
  },
  {
   "cell_type": "code",
   "execution_count": null,
   "metadata": {},
   "outputs": [],
   "source": []
  },
  {
   "cell_type": "code",
   "execution_count": null,
   "metadata": {},
   "outputs": [],
   "source": []
  },
  {
   "cell_type": "code",
   "execution_count": null,
   "metadata": {},
   "outputs": [],
   "source": []
  },
  {
   "cell_type": "code",
   "execution_count": null,
   "metadata": {},
   "outputs": [],
   "source": []
  },
  {
   "cell_type": "code",
   "execution_count": 99,
   "metadata": {},
   "outputs": [],
   "source": [
    "seasonMap = finalReuslt.groupby(finalgroupKey)[\"SEASONALITY\"].agg(\"mean\").to_dict()\n",
    "\n",
    "seasonMap[\"A00\",\"PRODUCT34\",\"01\"]\n",
    "\n",
    "(\"A00\",\"PRODUCT34\",\"00\") in seasonMap.keys()"
   ]
  },
  {
   "cell_type": "code",
   "execution_count": null,
   "metadata": {},
   "outputs": [],
   "source": []
  },
  {
   "cell_type": "code",
   "execution_count": null,
   "metadata": {},
   "outputs": [],
   "source": []
  },
  {
   "cell_type": "code",
   "execution_count": null,
   "metadata": {},
   "outputs": [],
   "source": []
  },
  {
   "cell_type": "code",
   "execution_count": 95,
   "metadata": {},
   "outputs": [
    {
     "ename": "TypeError",
     "evalue": "'dict' object is not callable",
     "output_type": "error",
     "traceback": [
      "\u001b[1;31m---------------------------------------------------------------------------\u001b[0m",
      "\u001b[1;31mTypeError\u001b[0m                                 Traceback (most recent call last)",
      "\u001b[1;32m<ipython-input-95-57d3464c66bf>\u001b[0m in \u001b[0;36m<module>\u001b[1;34m\u001b[0m\n\u001b[1;32m----> 1\u001b[1;33m \u001b[0mseasonMap\u001b[0m\u001b[1;33m(\u001b[0m\u001b[1;34m\"A00\"\u001b[0m\u001b[1;33m,\u001b[0m\u001b[1;34m\"PRODUCT34\"\u001b[0m\u001b[1;33m,\u001b[0m\u001b[1;34m\"01\"\u001b[0m\u001b[1;33m)\u001b[0m\u001b[1;33m\u001b[0m\u001b[1;33m\u001b[0m\u001b[0m\n\u001b[0m",
      "\u001b[1;31mTypeError\u001b[0m: 'dict' object is not callable"
     ]
    }
   ],
   "source": [
    "seasonMap(\"A00\",\"PRODUCT34\",\"01\")"
   ]
  },
  {
   "cell_type": "code",
   "execution_count": null,
   "metadata": {},
   "outputs": [],
   "source": []
  },
  {
   "cell_type": "code",
   "execution_count": null,
   "metadata": {},
   "outputs": [],
   "source": []
  },
  {
   "cell_type": "code",
   "execution_count": null,
   "metadata": {},
   "outputs": [],
   "source": []
  },
  {
   "cell_type": "code",
   "execution_count": null,
   "metadata": {},
   "outputs": [],
   "source": []
  },
  {
   "cell_type": "code",
   "execution_count": null,
   "metadata": {},
   "outputs": [],
   "source": []
  },
  {
   "cell_type": "code",
   "execution_count": null,
   "metadata": {},
   "outputs": [],
   "source": []
  },
  {
   "cell_type": "code",
   "execution_count": null,
   "metadata": {},
   "outputs": [],
   "source": []
  },
  {
   "cell_type": "code",
   "execution_count": null,
   "metadata": {},
   "outputs": [],
   "source": []
  },
  {
   "cell_type": "code",
   "execution_count": 86,
   "metadata": {},
   "outputs": [],
   "source": [
    "seasonMap = finalReuslt.groupby(finalgroupKey)[\"SEASONALITY\"].agg(\"mean\").to_dict()"
   ]
  },
  {
   "cell_type": "code",
   "execution_count": 89,
   "metadata": {},
   "outputs": [
    {
     "data": {
      "text/plain": [
       "True"
      ]
     },
     "execution_count": 89,
     "metadata": {},
     "output_type": "execute_result"
    }
   ],
   "source": [
    "(\"A00\",\"PRODUCT34\",\"01\") in seasonMap.keys()"
   ]
  },
  {
   "cell_type": "code",
   "execution_count": null,
   "metadata": {},
   "outputs": [],
   "source": []
  },
  {
   "cell_type": "code",
   "execution_count": 34,
   "metadata": {},
   "outputs": [
    {
     "data": {
      "text/plain": [
       "REGIONID         A00\n",
       "PRODUCT     PRODUCT1\n",
       "YEARWEEK      201401\n",
       "QTY             -364\n",
       "NEW_QTY            0\n",
       "YEAR            2014\n",
       "WEEK              01\n",
       "dtype: object"
      ]
     },
     "execution_count": 34,
     "metadata": {},
     "output_type": "execute_result"
    }
   ],
   "source": [
    "selloutData.min()"
   ]
  },
  {
   "cell_type": "code",
   "execution_count": null,
   "metadata": {},
   "outputs": [],
   "source": []
  }
 ],
 "metadata": {
  "kernelspec": {
   "display_name": "Python 3",
   "language": "python",
   "name": "python3"
  },
  "language_info": {
   "codemirror_mode": {
    "name": "ipython",
    "version": 3
   },
   "file_extension": ".py",
   "mimetype": "text/x-python",
   "name": "python",
   "nbconvert_exporter": "python",
   "pygments_lexer": "ipython3",
   "version": "3.7.3"
  }
 },
 "nbformat": 4,
 "nbformat_minor": 2
}
